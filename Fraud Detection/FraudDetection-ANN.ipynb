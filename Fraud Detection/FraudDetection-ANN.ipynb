{
 "cells": [
  {
   "cell_type": "code",
   "execution_count": 1,
   "metadata": {},
   "outputs": [],
   "source": [
    "import pandas as pd\n",
    "import numpy as np\n",
    "import seaborn as sns\n",
    "\n",
    "import matplotlib.pyplot as plt\n",
    "%matplotlib inline\n",
    "\n",
    "\n",
    "import warnings\n",
    "warnings.filterwarnings(\"ignore\")"
   ]
  },
  {
   "cell_type": "code",
   "execution_count": 2,
   "metadata": {},
   "outputs": [],
   "source": [
    "from sklearn.model_selection import train_test_split\n",
    "from sklearn.preprocessing import MinMaxScaler\n",
    "\n",
    "from tensorflow.keras.models import Sequential\n",
    "from tensorflow.keras.layers import Dense\n",
    "\n",
    "from tensorflow.keras import backend as K\n",
    "import sklearn\n",
    "from sklearn.metrics import confusion_matrix, roc_auc_score, classification_report, roc_curve"
   ]
  },
  {
   "cell_type": "markdown",
   "metadata": {},
   "source": [
    "## Import Data"
   ]
  },
  {
   "cell_type": "code",
   "execution_count": 3,
   "metadata": {},
   "outputs": [
    {
     "data": {
      "text/html": [
       "<div>\n",
       "<style scoped>\n",
       "    .dataframe tbody tr th:only-of-type {\n",
       "        vertical-align: middle;\n",
       "    }\n",
       "\n",
       "    .dataframe tbody tr th {\n",
       "        vertical-align: top;\n",
       "    }\n",
       "\n",
       "    .dataframe thead th {\n",
       "        text-align: right;\n",
       "    }\n",
       "</style>\n",
       "<table border=\"1\" class=\"dataframe\">\n",
       "  <thead>\n",
       "    <tr style=\"text-align: right;\">\n",
       "      <th></th>\n",
       "      <th>Time</th>\n",
       "      <th>V1</th>\n",
       "      <th>V2</th>\n",
       "      <th>V3</th>\n",
       "      <th>V4</th>\n",
       "      <th>V5</th>\n",
       "      <th>V6</th>\n",
       "      <th>V7</th>\n",
       "      <th>V8</th>\n",
       "      <th>V9</th>\n",
       "      <th>...</th>\n",
       "      <th>V21</th>\n",
       "      <th>V22</th>\n",
       "      <th>V23</th>\n",
       "      <th>V24</th>\n",
       "      <th>V25</th>\n",
       "      <th>V26</th>\n",
       "      <th>V27</th>\n",
       "      <th>V28</th>\n",
       "      <th>Amount</th>\n",
       "      <th>Class</th>\n",
       "    </tr>\n",
       "  </thead>\n",
       "  <tbody>\n",
       "    <tr>\n",
       "      <th>0</th>\n",
       "      <td>0.0</td>\n",
       "      <td>-1.359807</td>\n",
       "      <td>-0.072781</td>\n",
       "      <td>2.536347</td>\n",
       "      <td>1.378155</td>\n",
       "      <td>-0.338321</td>\n",
       "      <td>0.462388</td>\n",
       "      <td>0.239599</td>\n",
       "      <td>0.098698</td>\n",
       "      <td>0.363787</td>\n",
       "      <td>...</td>\n",
       "      <td>-0.018307</td>\n",
       "      <td>0.277838</td>\n",
       "      <td>-0.110474</td>\n",
       "      <td>0.066928</td>\n",
       "      <td>0.128539</td>\n",
       "      <td>-0.189115</td>\n",
       "      <td>0.133558</td>\n",
       "      <td>-0.021053</td>\n",
       "      <td>149.62</td>\n",
       "      <td>0</td>\n",
       "    </tr>\n",
       "    <tr>\n",
       "      <th>1</th>\n",
       "      <td>0.0</td>\n",
       "      <td>1.191857</td>\n",
       "      <td>0.266151</td>\n",
       "      <td>0.166480</td>\n",
       "      <td>0.448154</td>\n",
       "      <td>0.060018</td>\n",
       "      <td>-0.082361</td>\n",
       "      <td>-0.078803</td>\n",
       "      <td>0.085102</td>\n",
       "      <td>-0.255425</td>\n",
       "      <td>...</td>\n",
       "      <td>-0.225775</td>\n",
       "      <td>-0.638672</td>\n",
       "      <td>0.101288</td>\n",
       "      <td>-0.339846</td>\n",
       "      <td>0.167170</td>\n",
       "      <td>0.125895</td>\n",
       "      <td>-0.008983</td>\n",
       "      <td>0.014724</td>\n",
       "      <td>2.69</td>\n",
       "      <td>0</td>\n",
       "    </tr>\n",
       "    <tr>\n",
       "      <th>2</th>\n",
       "      <td>1.0</td>\n",
       "      <td>-1.358354</td>\n",
       "      <td>-1.340163</td>\n",
       "      <td>1.773209</td>\n",
       "      <td>0.379780</td>\n",
       "      <td>-0.503198</td>\n",
       "      <td>1.800499</td>\n",
       "      <td>0.791461</td>\n",
       "      <td>0.247676</td>\n",
       "      <td>-1.514654</td>\n",
       "      <td>...</td>\n",
       "      <td>0.247998</td>\n",
       "      <td>0.771679</td>\n",
       "      <td>0.909412</td>\n",
       "      <td>-0.689281</td>\n",
       "      <td>-0.327642</td>\n",
       "      <td>-0.139097</td>\n",
       "      <td>-0.055353</td>\n",
       "      <td>-0.059752</td>\n",
       "      <td>378.66</td>\n",
       "      <td>0</td>\n",
       "    </tr>\n",
       "    <tr>\n",
       "      <th>3</th>\n",
       "      <td>1.0</td>\n",
       "      <td>-0.966272</td>\n",
       "      <td>-0.185226</td>\n",
       "      <td>1.792993</td>\n",
       "      <td>-0.863291</td>\n",
       "      <td>-0.010309</td>\n",
       "      <td>1.247203</td>\n",
       "      <td>0.237609</td>\n",
       "      <td>0.377436</td>\n",
       "      <td>-1.387024</td>\n",
       "      <td>...</td>\n",
       "      <td>-0.108300</td>\n",
       "      <td>0.005274</td>\n",
       "      <td>-0.190321</td>\n",
       "      <td>-1.175575</td>\n",
       "      <td>0.647376</td>\n",
       "      <td>-0.221929</td>\n",
       "      <td>0.062723</td>\n",
       "      <td>0.061458</td>\n",
       "      <td>123.50</td>\n",
       "      <td>0</td>\n",
       "    </tr>\n",
       "    <tr>\n",
       "      <th>4</th>\n",
       "      <td>2.0</td>\n",
       "      <td>-1.158233</td>\n",
       "      <td>0.877737</td>\n",
       "      <td>1.548718</td>\n",
       "      <td>0.403034</td>\n",
       "      <td>-0.407193</td>\n",
       "      <td>0.095921</td>\n",
       "      <td>0.592941</td>\n",
       "      <td>-0.270533</td>\n",
       "      <td>0.817739</td>\n",
       "      <td>...</td>\n",
       "      <td>-0.009431</td>\n",
       "      <td>0.798278</td>\n",
       "      <td>-0.137458</td>\n",
       "      <td>0.141267</td>\n",
       "      <td>-0.206010</td>\n",
       "      <td>0.502292</td>\n",
       "      <td>0.219422</td>\n",
       "      <td>0.215153</td>\n",
       "      <td>69.99</td>\n",
       "      <td>0</td>\n",
       "    </tr>\n",
       "  </tbody>\n",
       "</table>\n",
       "<p>5 rows × 31 columns</p>\n",
       "</div>"
      ],
      "text/plain": [
       "   Time        V1        V2        V3        V4        V5        V6        V7  \\\n",
       "0   0.0 -1.359807 -0.072781  2.536347  1.378155 -0.338321  0.462388  0.239599   \n",
       "1   0.0  1.191857  0.266151  0.166480  0.448154  0.060018 -0.082361 -0.078803   \n",
       "2   1.0 -1.358354 -1.340163  1.773209  0.379780 -0.503198  1.800499  0.791461   \n",
       "3   1.0 -0.966272 -0.185226  1.792993 -0.863291 -0.010309  1.247203  0.237609   \n",
       "4   2.0 -1.158233  0.877737  1.548718  0.403034 -0.407193  0.095921  0.592941   \n",
       "\n",
       "         V8        V9  ...       V21       V22       V23       V24       V25  \\\n",
       "0  0.098698  0.363787  ... -0.018307  0.277838 -0.110474  0.066928  0.128539   \n",
       "1  0.085102 -0.255425  ... -0.225775 -0.638672  0.101288 -0.339846  0.167170   \n",
       "2  0.247676 -1.514654  ...  0.247998  0.771679  0.909412 -0.689281 -0.327642   \n",
       "3  0.377436 -1.387024  ... -0.108300  0.005274 -0.190321 -1.175575  0.647376   \n",
       "4 -0.270533  0.817739  ... -0.009431  0.798278 -0.137458  0.141267 -0.206010   \n",
       "\n",
       "        V26       V27       V28  Amount  Class  \n",
       "0 -0.189115  0.133558 -0.021053  149.62      0  \n",
       "1  0.125895 -0.008983  0.014724    2.69      0  \n",
       "2 -0.139097 -0.055353 -0.059752  378.66      0  \n",
       "3 -0.221929  0.062723  0.061458  123.50      0  \n",
       "4  0.502292  0.219422  0.215153   69.99      0  \n",
       "\n",
       "[5 rows x 31 columns]"
      ]
     },
     "execution_count": 3,
     "metadata": {},
     "output_type": "execute_result"
    }
   ],
   "source": [
    "df=pd.read_csv('creditcard.csv')\n",
    "df.head()"
   ]
  },
  {
   "cell_type": "code",
   "execution_count": 4,
   "metadata": {},
   "outputs": [
    {
     "data": {
      "text/html": [
       "<div>\n",
       "<style scoped>\n",
       "    .dataframe tbody tr th:only-of-type {\n",
       "        vertical-align: middle;\n",
       "    }\n",
       "\n",
       "    .dataframe tbody tr th {\n",
       "        vertical-align: top;\n",
       "    }\n",
       "\n",
       "    .dataframe thead th {\n",
       "        text-align: right;\n",
       "    }\n",
       "</style>\n",
       "<table border=\"1\" class=\"dataframe\">\n",
       "  <thead>\n",
       "    <tr style=\"text-align: right;\">\n",
       "      <th></th>\n",
       "      <th>Time</th>\n",
       "      <th>V1</th>\n",
       "      <th>V2</th>\n",
       "      <th>V3</th>\n",
       "      <th>V4</th>\n",
       "      <th>V5</th>\n",
       "      <th>V6</th>\n",
       "      <th>V7</th>\n",
       "      <th>V8</th>\n",
       "      <th>V9</th>\n",
       "      <th>...</th>\n",
       "      <th>V21</th>\n",
       "      <th>V22</th>\n",
       "      <th>V23</th>\n",
       "      <th>V24</th>\n",
       "      <th>V25</th>\n",
       "      <th>V26</th>\n",
       "      <th>V27</th>\n",
       "      <th>V28</th>\n",
       "      <th>Amount</th>\n",
       "      <th>Class</th>\n",
       "    </tr>\n",
       "  </thead>\n",
       "  <tbody>\n",
       "    <tr>\n",
       "      <th>count</th>\n",
       "      <td>284807.000000</td>\n",
       "      <td>2.848070e+05</td>\n",
       "      <td>2.848070e+05</td>\n",
       "      <td>2.848070e+05</td>\n",
       "      <td>2.848070e+05</td>\n",
       "      <td>2.848070e+05</td>\n",
       "      <td>2.848070e+05</td>\n",
       "      <td>2.848070e+05</td>\n",
       "      <td>2.848070e+05</td>\n",
       "      <td>2.848070e+05</td>\n",
       "      <td>...</td>\n",
       "      <td>2.848070e+05</td>\n",
       "      <td>2.848070e+05</td>\n",
       "      <td>2.848070e+05</td>\n",
       "      <td>2.848070e+05</td>\n",
       "      <td>2.848070e+05</td>\n",
       "      <td>2.848070e+05</td>\n",
       "      <td>2.848070e+05</td>\n",
       "      <td>2.848070e+05</td>\n",
       "      <td>284807.000000</td>\n",
       "      <td>284807.000000</td>\n",
       "    </tr>\n",
       "    <tr>\n",
       "      <th>mean</th>\n",
       "      <td>94813.859575</td>\n",
       "      <td>1.165980e-15</td>\n",
       "      <td>3.416908e-16</td>\n",
       "      <td>-1.373150e-15</td>\n",
       "      <td>2.086869e-15</td>\n",
       "      <td>9.604066e-16</td>\n",
       "      <td>1.490107e-15</td>\n",
       "      <td>-5.556467e-16</td>\n",
       "      <td>1.177556e-16</td>\n",
       "      <td>-2.406455e-15</td>\n",
       "      <td>...</td>\n",
       "      <td>1.656562e-16</td>\n",
       "      <td>-3.444850e-16</td>\n",
       "      <td>2.578648e-16</td>\n",
       "      <td>4.471968e-15</td>\n",
       "      <td>5.340915e-16</td>\n",
       "      <td>1.687098e-15</td>\n",
       "      <td>-3.666453e-16</td>\n",
       "      <td>-1.220404e-16</td>\n",
       "      <td>88.349619</td>\n",
       "      <td>0.001727</td>\n",
       "    </tr>\n",
       "    <tr>\n",
       "      <th>std</th>\n",
       "      <td>47488.145955</td>\n",
       "      <td>1.958696e+00</td>\n",
       "      <td>1.651309e+00</td>\n",
       "      <td>1.516255e+00</td>\n",
       "      <td>1.415869e+00</td>\n",
       "      <td>1.380247e+00</td>\n",
       "      <td>1.332271e+00</td>\n",
       "      <td>1.237094e+00</td>\n",
       "      <td>1.194353e+00</td>\n",
       "      <td>1.098632e+00</td>\n",
       "      <td>...</td>\n",
       "      <td>7.345240e-01</td>\n",
       "      <td>7.257016e-01</td>\n",
       "      <td>6.244603e-01</td>\n",
       "      <td>6.056471e-01</td>\n",
       "      <td>5.212781e-01</td>\n",
       "      <td>4.822270e-01</td>\n",
       "      <td>4.036325e-01</td>\n",
       "      <td>3.300833e-01</td>\n",
       "      <td>250.120109</td>\n",
       "      <td>0.041527</td>\n",
       "    </tr>\n",
       "    <tr>\n",
       "      <th>min</th>\n",
       "      <td>0.000000</td>\n",
       "      <td>-5.640751e+01</td>\n",
       "      <td>-7.271573e+01</td>\n",
       "      <td>-4.832559e+01</td>\n",
       "      <td>-5.683171e+00</td>\n",
       "      <td>-1.137433e+02</td>\n",
       "      <td>-2.616051e+01</td>\n",
       "      <td>-4.355724e+01</td>\n",
       "      <td>-7.321672e+01</td>\n",
       "      <td>-1.343407e+01</td>\n",
       "      <td>...</td>\n",
       "      <td>-3.483038e+01</td>\n",
       "      <td>-1.093314e+01</td>\n",
       "      <td>-4.480774e+01</td>\n",
       "      <td>-2.836627e+00</td>\n",
       "      <td>-1.029540e+01</td>\n",
       "      <td>-2.604551e+00</td>\n",
       "      <td>-2.256568e+01</td>\n",
       "      <td>-1.543008e+01</td>\n",
       "      <td>0.000000</td>\n",
       "      <td>0.000000</td>\n",
       "    </tr>\n",
       "    <tr>\n",
       "      <th>25%</th>\n",
       "      <td>54201.500000</td>\n",
       "      <td>-9.203734e-01</td>\n",
       "      <td>-5.985499e-01</td>\n",
       "      <td>-8.903648e-01</td>\n",
       "      <td>-8.486401e-01</td>\n",
       "      <td>-6.915971e-01</td>\n",
       "      <td>-7.682956e-01</td>\n",
       "      <td>-5.540759e-01</td>\n",
       "      <td>-2.086297e-01</td>\n",
       "      <td>-6.430976e-01</td>\n",
       "      <td>...</td>\n",
       "      <td>-2.283949e-01</td>\n",
       "      <td>-5.423504e-01</td>\n",
       "      <td>-1.618463e-01</td>\n",
       "      <td>-3.545861e-01</td>\n",
       "      <td>-3.171451e-01</td>\n",
       "      <td>-3.269839e-01</td>\n",
       "      <td>-7.083953e-02</td>\n",
       "      <td>-5.295979e-02</td>\n",
       "      <td>5.600000</td>\n",
       "      <td>0.000000</td>\n",
       "    </tr>\n",
       "    <tr>\n",
       "      <th>50%</th>\n",
       "      <td>84692.000000</td>\n",
       "      <td>1.810880e-02</td>\n",
       "      <td>6.548556e-02</td>\n",
       "      <td>1.798463e-01</td>\n",
       "      <td>-1.984653e-02</td>\n",
       "      <td>-5.433583e-02</td>\n",
       "      <td>-2.741871e-01</td>\n",
       "      <td>4.010308e-02</td>\n",
       "      <td>2.235804e-02</td>\n",
       "      <td>-5.142873e-02</td>\n",
       "      <td>...</td>\n",
       "      <td>-2.945017e-02</td>\n",
       "      <td>6.781943e-03</td>\n",
       "      <td>-1.119293e-02</td>\n",
       "      <td>4.097606e-02</td>\n",
       "      <td>1.659350e-02</td>\n",
       "      <td>-5.213911e-02</td>\n",
       "      <td>1.342146e-03</td>\n",
       "      <td>1.124383e-02</td>\n",
       "      <td>22.000000</td>\n",
       "      <td>0.000000</td>\n",
       "    </tr>\n",
       "    <tr>\n",
       "      <th>75%</th>\n",
       "      <td>139320.500000</td>\n",
       "      <td>1.315642e+00</td>\n",
       "      <td>8.037239e-01</td>\n",
       "      <td>1.027196e+00</td>\n",
       "      <td>7.433413e-01</td>\n",
       "      <td>6.119264e-01</td>\n",
       "      <td>3.985649e-01</td>\n",
       "      <td>5.704361e-01</td>\n",
       "      <td>3.273459e-01</td>\n",
       "      <td>5.971390e-01</td>\n",
       "      <td>...</td>\n",
       "      <td>1.863772e-01</td>\n",
       "      <td>5.285536e-01</td>\n",
       "      <td>1.476421e-01</td>\n",
       "      <td>4.395266e-01</td>\n",
       "      <td>3.507156e-01</td>\n",
       "      <td>2.409522e-01</td>\n",
       "      <td>9.104512e-02</td>\n",
       "      <td>7.827995e-02</td>\n",
       "      <td>77.165000</td>\n",
       "      <td>0.000000</td>\n",
       "    </tr>\n",
       "    <tr>\n",
       "      <th>max</th>\n",
       "      <td>172792.000000</td>\n",
       "      <td>2.454930e+00</td>\n",
       "      <td>2.205773e+01</td>\n",
       "      <td>9.382558e+00</td>\n",
       "      <td>1.687534e+01</td>\n",
       "      <td>3.480167e+01</td>\n",
       "      <td>7.330163e+01</td>\n",
       "      <td>1.205895e+02</td>\n",
       "      <td>2.000721e+01</td>\n",
       "      <td>1.559499e+01</td>\n",
       "      <td>...</td>\n",
       "      <td>2.720284e+01</td>\n",
       "      <td>1.050309e+01</td>\n",
       "      <td>2.252841e+01</td>\n",
       "      <td>4.584549e+00</td>\n",
       "      <td>7.519589e+00</td>\n",
       "      <td>3.517346e+00</td>\n",
       "      <td>3.161220e+01</td>\n",
       "      <td>3.384781e+01</td>\n",
       "      <td>25691.160000</td>\n",
       "      <td>1.000000</td>\n",
       "    </tr>\n",
       "  </tbody>\n",
       "</table>\n",
       "<p>8 rows × 31 columns</p>\n",
       "</div>"
      ],
      "text/plain": [
       "                Time            V1            V2            V3            V4  \\\n",
       "count  284807.000000  2.848070e+05  2.848070e+05  2.848070e+05  2.848070e+05   \n",
       "mean    94813.859575  1.165980e-15  3.416908e-16 -1.373150e-15  2.086869e-15   \n",
       "std     47488.145955  1.958696e+00  1.651309e+00  1.516255e+00  1.415869e+00   \n",
       "min         0.000000 -5.640751e+01 -7.271573e+01 -4.832559e+01 -5.683171e+00   \n",
       "25%     54201.500000 -9.203734e-01 -5.985499e-01 -8.903648e-01 -8.486401e-01   \n",
       "50%     84692.000000  1.810880e-02  6.548556e-02  1.798463e-01 -1.984653e-02   \n",
       "75%    139320.500000  1.315642e+00  8.037239e-01  1.027196e+00  7.433413e-01   \n",
       "max    172792.000000  2.454930e+00  2.205773e+01  9.382558e+00  1.687534e+01   \n",
       "\n",
       "                 V5            V6            V7            V8            V9  \\\n",
       "count  2.848070e+05  2.848070e+05  2.848070e+05  2.848070e+05  2.848070e+05   \n",
       "mean   9.604066e-16  1.490107e-15 -5.556467e-16  1.177556e-16 -2.406455e-15   \n",
       "std    1.380247e+00  1.332271e+00  1.237094e+00  1.194353e+00  1.098632e+00   \n",
       "min   -1.137433e+02 -2.616051e+01 -4.355724e+01 -7.321672e+01 -1.343407e+01   \n",
       "25%   -6.915971e-01 -7.682956e-01 -5.540759e-01 -2.086297e-01 -6.430976e-01   \n",
       "50%   -5.433583e-02 -2.741871e-01  4.010308e-02  2.235804e-02 -5.142873e-02   \n",
       "75%    6.119264e-01  3.985649e-01  5.704361e-01  3.273459e-01  5.971390e-01   \n",
       "max    3.480167e+01  7.330163e+01  1.205895e+02  2.000721e+01  1.559499e+01   \n",
       "\n",
       "       ...           V21           V22           V23           V24  \\\n",
       "count  ...  2.848070e+05  2.848070e+05  2.848070e+05  2.848070e+05   \n",
       "mean   ...  1.656562e-16 -3.444850e-16  2.578648e-16  4.471968e-15   \n",
       "std    ...  7.345240e-01  7.257016e-01  6.244603e-01  6.056471e-01   \n",
       "min    ... -3.483038e+01 -1.093314e+01 -4.480774e+01 -2.836627e+00   \n",
       "25%    ... -2.283949e-01 -5.423504e-01 -1.618463e-01 -3.545861e-01   \n",
       "50%    ... -2.945017e-02  6.781943e-03 -1.119293e-02  4.097606e-02   \n",
       "75%    ...  1.863772e-01  5.285536e-01  1.476421e-01  4.395266e-01   \n",
       "max    ...  2.720284e+01  1.050309e+01  2.252841e+01  4.584549e+00   \n",
       "\n",
       "                V25           V26           V27           V28         Amount  \\\n",
       "count  2.848070e+05  2.848070e+05  2.848070e+05  2.848070e+05  284807.000000   \n",
       "mean   5.340915e-16  1.687098e-15 -3.666453e-16 -1.220404e-16      88.349619   \n",
       "std    5.212781e-01  4.822270e-01  4.036325e-01  3.300833e-01     250.120109   \n",
       "min   -1.029540e+01 -2.604551e+00 -2.256568e+01 -1.543008e+01       0.000000   \n",
       "25%   -3.171451e-01 -3.269839e-01 -7.083953e-02 -5.295979e-02       5.600000   \n",
       "50%    1.659350e-02 -5.213911e-02  1.342146e-03  1.124383e-02      22.000000   \n",
       "75%    3.507156e-01  2.409522e-01  9.104512e-02  7.827995e-02      77.165000   \n",
       "max    7.519589e+00  3.517346e+00  3.161220e+01  3.384781e+01   25691.160000   \n",
       "\n",
       "               Class  \n",
       "count  284807.000000  \n",
       "mean        0.001727  \n",
       "std         0.041527  \n",
       "min         0.000000  \n",
       "25%         0.000000  \n",
       "50%         0.000000  \n",
       "75%         0.000000  \n",
       "max         1.000000  \n",
       "\n",
       "[8 rows x 31 columns]"
      ]
     },
     "execution_count": 4,
     "metadata": {},
     "output_type": "execute_result"
    }
   ],
   "source": [
    "df.describe()"
   ]
  },
  {
   "cell_type": "markdown",
   "metadata": {},
   "source": [
    "### Check the balance of Data"
   ]
  },
  {
   "cell_type": "code",
   "execution_count": 5,
   "metadata": {},
   "outputs": [
    {
     "data": {
      "text/plain": [
       "0    284315\n",
       "1       492\n",
       "Name: Class, dtype: int64"
      ]
     },
     "execution_count": 5,
     "metadata": {},
     "output_type": "execute_result"
    }
   ],
   "source": [
    "df['Class'].value_counts()"
   ]
  },
  {
   "cell_type": "markdown",
   "metadata": {},
   "source": [
    "## Split Data to Train and Test"
   ]
  },
  {
   "cell_type": "code",
   "execution_count": 6,
   "metadata": {},
   "outputs": [],
   "source": [
    "features=df.iloc[:,:-1]\n",
    "labels=df.iloc[:,-1]"
   ]
  },
  {
   "cell_type": "code",
   "execution_count": 7,
   "metadata": {},
   "outputs": [],
   "source": [
    "X_train, X_test, y_train, y_test = train_test_split(features,labels, test_size=0.2,random_state=100, stratify=labels)"
   ]
  },
  {
   "cell_type": "code",
   "execution_count": 8,
   "metadata": {},
   "outputs": [
    {
     "name": "stdout",
     "output_type": "stream",
     "text": [
      "0.8\n",
      "0    227451\n",
      "1       394\n",
      "Name: Class, dtype: int64\n",
      "0.2\n",
      "0    56864\n",
      "1       98\n",
      "Name: Class, dtype: int64\n"
     ]
    }
   ],
   "source": [
    "for dataset in [y_train, y_test]:\n",
    "    print(round(len(dataset)/len(labels),2))\n",
    "    print(dataset.value_counts())"
   ]
  },
  {
   "cell_type": "markdown",
   "metadata": {},
   "source": [
    "## Normalized Data"
   ]
  },
  {
   "cell_type": "code",
   "execution_count": 9,
   "metadata": {},
   "outputs": [],
   "source": [
    "Scaled=MinMaxScaler(feature_range = (0, 1))\n",
    "#it makes more scence to fit on train data and then transform for all train, test, validation data."
   ]
  },
  {
   "cell_type": "code",
   "execution_count": 10,
   "metadata": {},
   "outputs": [],
   "source": [
    "X_train=Scaled.fit(X_train).transform(X_train)"
   ]
  },
  {
   "cell_type": "code",
   "execution_count": 11,
   "metadata": {},
   "outputs": [],
   "source": [
    "X_test=Scaled.transform(X_test)"
   ]
  },
  {
   "cell_type": "markdown",
   "metadata": {},
   "source": [
    "# Create ANN Model"
   ]
  },
  {
   "cell_type": "code",
   "execution_count": 42,
   "metadata": {},
   "outputs": [],
   "source": [
    "def define_model():\n",
    "    model = Sequential()\n",
    "    model.add(Dense(32,input_dim=X_train.shape[1], activation='relu'))\n",
    "    model.add(Dense(16, activation='relu'))\n",
    "    model.add(Dense(8, activation='relu'))\n",
    "    model.add(Dense(1, activation='sigmoid'))\n",
    "    print(model.summary())\n",
    "    return model"
   ]
  },
  {
   "cell_type": "code",
   "execution_count": 43,
   "metadata": {},
   "outputs": [
    {
     "name": "stdout",
     "output_type": "stream",
     "text": [
      "Model: \"sequential_3\"\n",
      "_________________________________________________________________\n",
      "Layer (type)                 Output Shape              Param #   \n",
      "=================================================================\n",
      "dense_12 (Dense)             (None, 32)                992       \n",
      "_________________________________________________________________\n",
      "dense_13 (Dense)             (None, 16)                528       \n",
      "_________________________________________________________________\n",
      "dense_14 (Dense)             (None, 8)                 136       \n",
      "_________________________________________________________________\n",
      "dense_15 (Dense)             (None, 1)                 9         \n",
      "=================================================================\n",
      "Total params: 1,665\n",
      "Trainable params: 1,665\n",
      "Non-trainable params: 0\n",
      "_________________________________________________________________\n",
      "None\n"
     ]
    }
   ],
   "source": [
    "def recall_m(y_true, y_pred):\n",
    "    true_positives = K.sum(K.round(K.clip(y_true * y_pred, 0, 1)))\n",
    "    possible_positives = K.sum(K.round(K.clip(y_true, 0, 1)))\n",
    "    recall = true_positives / (possible_positives + K.epsilon())\n",
    "    return recall\n",
    "\n",
    "def precision_m(y_true, y_pred):\n",
    "    true_positives = K.sum(K.round(K.clip(y_true * y_pred, 0, 1)))\n",
    "    predicted_positives = K.sum(K.round(K.clip(y_pred, 0, 1)))\n",
    "    precision = true_positives / (predicted_positives + K.epsilon())\n",
    "    return precision\n",
    "\n",
    "def f1_m(y_true, y_pred):\n",
    "    precision = precision_m(y_true, y_pred)\n",
    "    recall = recall_m(y_true, y_pred)\n",
    "    return 2*((precision*recall)/(precision+recall+K.epsilon()))\n",
    "\n",
    "# get the model\n",
    "model = define_model()\n",
    "\n",
    "# compile the model\n",
    "model.compile(optimizer='RMSProp', loss='binary_crossentropy', metrics=['acc',f1_m,precision_m, recall_m])"
   ]
  },
  {
   "cell_type": "markdown",
   "metadata": {},
   "source": [
    "# Train Model"
   ]
  },
  {
   "cell_type": "code",
   "execution_count": 44,
   "metadata": {},
   "outputs": [
    {
     "name": "stdout",
     "output_type": "stream",
     "text": [
      "Train on 205060 samples, validate on 22785 samples\n",
      "Epoch 1/50\n",
      "205060/205060 [==============================] - 1s 6us/sample - loss: 0.0354 - acc: 0.9982 - f1_m: 0.0000e+00 - precision_m: 0.0000e+00 - recall_m: 0.0000e+00 - val_loss: 0.0095 - val_acc: 0.9983 - val_f1_m: 0.0000e+00 - val_precision_m: 0.0000e+00 - val_recall_m: 0.0000e+00\n",
      "Epoch 2/50\n",
      "205060/205060 [==============================] - 1s 4us/sample - loss: 0.0077 - acc: 0.9984 - f1_m: 0.0721 - precision_m: 0.0885 - recall_m: 0.0655 - val_loss: 0.0052 - val_acc: 0.9989 - val_f1_m: 0.2111 - val_precision_m: 0.2444 - val_recall_m: 0.1963\n",
      "Epoch 3/50\n",
      "205060/205060 [==============================] - 1s 4us/sample - loss: 0.0043 - acc: 0.9990 - f1_m: 0.3228 - precision_m: 0.3537 - recall_m: 0.3144 - val_loss: 0.0035 - val_acc: 0.9993 - val_f1_m: 0.4104 - val_precision_m: 0.4333 - val_recall_m: 0.4111\n",
      "Epoch 4/50\n",
      "205060/205060 [==============================] - 1s 4us/sample - loss: 0.0035 - acc: 0.9993 - f1_m: 0.4155 - precision_m: 0.4426 - recall_m: 0.4097 - val_loss: 0.0042 - val_acc: 0.9993 - val_f1_m: 0.3778 - val_precision_m: 0.4000 - val_recall_m: 0.3667\n",
      "Epoch 5/50\n",
      "205060/205060 [==============================] - 1s 4us/sample - loss: 0.0035 - acc: 0.9993 - f1_m: 0.4373 - precision_m: 0.4589 - recall_m: 0.4366 - val_loss: 0.0036 - val_acc: 0.9994 - val_f1_m: 0.4176 - val_precision_m: 0.4444 - val_recall_m: 0.4019\n",
      "Epoch 6/50\n",
      "205060/205060 [==============================] - 1s 4us/sample - loss: 0.0034 - acc: 0.9993 - f1_m: 0.4364 - precision_m: 0.4616 - recall_m: 0.4293 - val_loss: 0.0032 - val_acc: 0.9995 - val_f1_m: 0.4578 - val_precision_m: 0.4815 - val_recall_m: 0.4481\n",
      "Epoch 7/50\n",
      "205060/205060 [==============================] - 1s 4us/sample - loss: 0.0033 - acc: 0.9994 - f1_m: 0.4705 - precision_m: 0.4915 - recall_m: 0.4689 - val_loss: 0.0033 - val_acc: 0.9994 - val_f1_m: 0.4400 - val_precision_m: 0.4556 - val_recall_m: 0.4370\n",
      "Epoch 8/50\n",
      "205060/205060 [==============================] - 1s 4us/sample - loss: 0.0034 - acc: 0.9994 - f1_m: 0.4362 - precision_m: 0.4568 - recall_m: 0.4373 - val_loss: 0.0032 - val_acc: 0.9995 - val_f1_m: 0.4844 - val_precision_m: 0.5000 - val_recall_m: 0.4815\n",
      "Epoch 9/50\n",
      "205060/205060 [==============================] - 1s 4us/sample - loss: 0.0034 - acc: 0.9994 - f1_m: 0.4441 - precision_m: 0.4554 - recall_m: 0.4518 - val_loss: 0.0033 - val_acc: 0.9995 - val_f1_m: 0.4356 - val_precision_m: 0.4593 - val_recall_m: 0.4259\n",
      "Epoch 10/50\n",
      "205060/205060 [==============================] - 1s 4us/sample - loss: 0.0033 - acc: 0.9994 - f1_m: 0.4734 - precision_m: 0.4913 - recall_m: 0.4734 - val_loss: 0.0032 - val_acc: 0.9995 - val_f1_m: 0.4667 - val_precision_m: 0.4778 - val_recall_m: 0.4667\n",
      "Epoch 11/50\n",
      "205060/205060 [==============================] - 1s 4us/sample - loss: 0.0033 - acc: 0.9994 - f1_m: 0.4591 - precision_m: 0.4810 - recall_m: 0.4566 - val_loss: 0.0036 - val_acc: 0.9994 - val_f1_m: 0.4815 - val_precision_m: 0.5000 - val_recall_m: 0.4778\n",
      "Epoch 12/50\n",
      "205060/205060 [==============================] - 1s 4us/sample - loss: 0.0033 - acc: 0.9994 - f1_m: 0.4601 - precision_m: 0.4786 - recall_m: 0.4606 - val_loss: 0.0033 - val_acc: 0.9994 - val_f1_m: 0.5307 - val_precision_m: 0.5467 - val_recall_m: 0.5370\n",
      "Epoch 13/50\n",
      "205060/205060 [==============================] - 1s 4us/sample - loss: 0.0033 - acc: 0.9994 - f1_m: 0.4616 - precision_m: 0.4738 - recall_m: 0.4675 - val_loss: 0.0032 - val_acc: 0.9994 - val_f1_m: 0.4852 - val_precision_m: 0.5000 - val_recall_m: 0.4778\n",
      "Epoch 14/50\n",
      "205060/205060 [==============================] - 1s 4us/sample - loss: 0.0032 - acc: 0.9994 - f1_m: 0.4456 - precision_m: 0.4615 - recall_m: 0.4468 - val_loss: 0.0034 - val_acc: 0.9993 - val_f1_m: 0.4857 - val_precision_m: 0.4944 - val_recall_m: 0.5000\n",
      "Epoch 15/50\n",
      "205060/205060 [==============================] - 1s 4us/sample - loss: 0.0032 - acc: 0.9994 - f1_m: 0.4382 - precision_m: 0.4532 - recall_m: 0.4421 - val_loss: 0.0037 - val_acc: 0.9994 - val_f1_m: 0.4516 - val_precision_m: 0.4667 - val_recall_m: 0.4426\n",
      "Epoch 16/50\n",
      "205060/205060 [==============================] - 1s 4us/sample - loss: 0.0032 - acc: 0.9994 - f1_m: 0.4495 - precision_m: 0.4636 - recall_m: 0.4557 - val_loss: 0.0035 - val_acc: 0.9996 - val_f1_m: 0.4042 - val_precision_m: 0.4167 - val_recall_m: 0.4000\n",
      "Epoch 17/50\n",
      "205060/205060 [==============================] - 1s 4us/sample - loss: 0.0032 - acc: 0.9994 - f1_m: 0.4775 - precision_m: 0.4936 - recall_m: 0.4794 - val_loss: 0.0034 - val_acc: 0.9996 - val_f1_m: 0.5067 - val_precision_m: 0.5148 - val_recall_m: 0.5074\n",
      "Epoch 18/50\n",
      "205060/205060 [==============================] - 1s 4us/sample - loss: 0.0032 - acc: 0.9994 - f1_m: 0.4518 - precision_m: 0.4688 - recall_m: 0.4520 - val_loss: 0.0033 - val_acc: 0.9996 - val_f1_m: 0.5222 - val_precision_m: 0.5444 - val_recall_m: 0.5222\n",
      "Epoch 19/50\n",
      "205060/205060 [==============================] - 1s 4us/sample - loss: 0.0032 - acc: 0.9994 - f1_m: 0.4713 - precision_m: 0.4904 - recall_m: 0.4715 - val_loss: 0.0032 - val_acc: 0.9995 - val_f1_m: 0.4311 - val_precision_m: 0.4444 - val_recall_m: 0.4296\n",
      "Epoch 20/50\n",
      "205060/205060 [==============================] - 1s 4us/sample - loss: 0.0031 - acc: 0.9994 - f1_m: 0.4610 - precision_m: 0.4746 - recall_m: 0.4638 - val_loss: 0.0031 - val_acc: 0.9996 - val_f1_m: 0.5111 - val_precision_m: 0.5444 - val_recall_m: 0.4963\n",
      "Epoch 21/50\n",
      "205060/205060 [==============================] - 1s 4us/sample - loss: 0.0031 - acc: 0.9994 - f1_m: 0.4573 - precision_m: 0.4742 - recall_m: 0.4578 - val_loss: 0.0034 - val_acc: 0.9993 - val_f1_m: 0.4472 - val_precision_m: 0.4352 - val_recall_m: 0.4667\n",
      "Epoch 22/50\n",
      "205060/205060 [==============================] - 1s 5us/sample - loss: 0.0032 - acc: 0.9994 - f1_m: 0.4701 - precision_m: 0.4861 - recall_m: 0.4738 - val_loss: 0.0033 - val_acc: 0.9995 - val_f1_m: 0.4407 - val_precision_m: 0.4778 - val_recall_m: 0.4222\n",
      "Epoch 23/50\n",
      "205060/205060 [==============================] - 1s 5us/sample - loss: 0.0032 - acc: 0.9994 - f1_m: 0.4837 - precision_m: 0.4998 - recall_m: 0.4869 - val_loss: 0.0033 - val_acc: 0.9996 - val_f1_m: 0.5104 - val_precision_m: 0.5296 - val_recall_m: 0.5148\n",
      "Epoch 24/50\n",
      "205060/205060 [==============================] - 1s 5us/sample - loss: 0.0031 - acc: 0.9994 - f1_m: 0.4793 - precision_m: 0.5002 - recall_m: 0.4798 - val_loss: 0.0031 - val_acc: 0.9995 - val_f1_m: 0.4948 - val_precision_m: 0.5111 - val_recall_m: 0.4963\n",
      "Epoch 25/50\n",
      "205060/205060 [==============================] - 1s 5us/sample - loss: 0.0031 - acc: 0.9994 - f1_m: 0.4593 - precision_m: 0.4740 - recall_m: 0.4634 - val_loss: 0.0031 - val_acc: 0.9995 - val_f1_m: 0.4979 - val_precision_m: 0.5111 - val_recall_m: 0.4981\n",
      "Epoch 26/50\n",
      "205060/205060 [==============================] - 1s 4us/sample - loss: 0.0031 - acc: 0.9994 - f1_m: 0.4681 - precision_m: 0.4882 - recall_m: 0.4660 - val_loss: 0.0033 - val_acc: 0.9996 - val_f1_m: 0.4190 - val_precision_m: 0.4333 - val_recall_m: 0.4167\n",
      "Epoch 27/50\n",
      "205060/205060 [==============================] - 1s 4us/sample - loss: 0.0031 - acc: 0.9994 - f1_m: 0.4565 - precision_m: 0.4726 - recall_m: 0.4580 - val_loss: 0.0032 - val_acc: 0.9996 - val_f1_m: 0.4176 - val_precision_m: 0.4296 - val_recall_m: 0.4167\n",
      "Epoch 28/50\n",
      "205060/205060 [==============================] - 1s 4us/sample - loss: 0.0031 - acc: 0.9994 - f1_m: 0.4765 - precision_m: 0.4946 - recall_m: 0.4761 - val_loss: 0.0032 - val_acc: 0.9996 - val_f1_m: 0.4625 - val_precision_m: 0.4630 - val_recall_m: 0.4667\n",
      "Epoch 29/50\n",
      "205060/205060 [==============================] - 1s 4us/sample - loss: 0.0031 - acc: 0.9994 - f1_m: 0.4765 - precision_m: 0.4875 - recall_m: 0.4805 - val_loss: 0.0035 - val_acc: 0.9995 - val_f1_m: 0.5139 - val_precision_m: 0.5370 - val_recall_m: 0.5093\n",
      "Epoch 30/50\n",
      "205060/205060 [==============================] - 1s 4us/sample - loss: 0.0031 - acc: 0.9994 - f1_m: 0.4768 - precision_m: 0.4941 - recall_m: 0.4784 - val_loss: 0.0032 - val_acc: 0.9996 - val_f1_m: 0.5096 - val_precision_m: 0.5259 - val_recall_m: 0.5037\n",
      "Epoch 31/50\n",
      "205060/205060 [==============================] - 1s 5us/sample - loss: 0.0031 - acc: 0.9994 - f1_m: 0.4647 - precision_m: 0.4828 - recall_m: 0.4648 - val_loss: 0.0032 - val_acc: 0.9993 - val_f1_m: 0.5228 - val_precision_m: 0.5204 - val_recall_m: 0.5370\n"
     ]
    },
    {
     "name": "stdout",
     "output_type": "stream",
     "text": [
      "Epoch 32/50\n",
      "205060/205060 [==============================] - 1s 4us/sample - loss: 0.0031 - acc: 0.9994 - f1_m: 0.4764 - precision_m: 0.4971 - recall_m: 0.4750 - val_loss: 0.0031 - val_acc: 0.9995 - val_f1_m: 0.4630 - val_precision_m: 0.4778 - val_recall_m: 0.4667\n",
      "Epoch 33/50\n",
      "205060/205060 [==============================] - 1s 4us/sample - loss: 0.0031 - acc: 0.9994 - f1_m: 0.4706 - precision_m: 0.4859 - recall_m: 0.4732 - val_loss: 0.0033 - val_acc: 0.9996 - val_f1_m: 0.4948 - val_precision_m: 0.5111 - val_recall_m: 0.4963\n",
      "Epoch 34/50\n",
      "205060/205060 [==============================] - 1s 4us/sample - loss: 0.0030 - acc: 0.9994 - f1_m: 0.4652 - precision_m: 0.4833 - recall_m: 0.4633 - val_loss: 0.0034 - val_acc: 0.9996 - val_f1_m: 0.4630 - val_precision_m: 0.4667 - val_recall_m: 0.4667\n",
      "Epoch 35/50\n",
      "205060/205060 [==============================] - 1s 4us/sample - loss: 0.0030 - acc: 0.9994 - f1_m: 0.4691 - precision_m: 0.4820 - recall_m: 0.4678 - val_loss: 0.0031 - val_acc: 0.9995 - val_f1_m: 0.4726 - val_precision_m: 0.4778 - val_recall_m: 0.4852\n",
      "Epoch 36/50\n",
      "205060/205060 [==============================] - 1s 4us/sample - loss: 0.0031 - acc: 0.9994 - f1_m: 0.4592 - precision_m: 0.4717 - recall_m: 0.4651 - val_loss: 0.0031 - val_acc: 0.9996 - val_f1_m: 0.4774 - val_precision_m: 0.4944 - val_recall_m: 0.4778\n",
      "Epoch 37/50\n",
      "205060/205060 [==============================] - 1s 4us/sample - loss: 0.0031 - acc: 0.9994 - f1_m: 0.4739 - precision_m: 0.4942 - recall_m: 0.4734 - val_loss: 0.0033 - val_acc: 0.9995 - val_f1_m: 0.4222 - val_precision_m: 0.4444 - val_recall_m: 0.4111\n",
      "Epoch 38/50\n",
      "205060/205060 [==============================] - 1s 5us/sample - loss: 0.0031 - acc: 0.9994 - f1_m: 0.4691 - precision_m: 0.4832 - recall_m: 0.4713 - val_loss: 0.0031 - val_acc: 0.9995 - val_f1_m: 0.5122 - val_precision_m: 0.5167 - val_recall_m: 0.5167\n",
      "Epoch 39/50\n",
      "205060/205060 [==============================] - 1s 5us/sample - loss: 0.0030 - acc: 0.9994 - f1_m: 0.4707 - precision_m: 0.4836 - recall_m: 0.4723 - val_loss: 0.0032 - val_acc: 0.9995 - val_f1_m: 0.4333 - val_precision_m: 0.4556 - val_recall_m: 0.4333\n",
      "Epoch 40/50\n",
      "205060/205060 [==============================] - 1s 5us/sample - loss: 0.0031 - acc: 0.9994 - f1_m: 0.4665 - precision_m: 0.4817 - recall_m: 0.4666 - val_loss: 0.0043 - val_acc: 0.9994 - val_f1_m: 0.4259 - val_precision_m: 0.4333 - val_recall_m: 0.4333\n",
      "Epoch 41/50\n",
      "205060/205060 [==============================] - 1s 4us/sample - loss: 0.0030 - acc: 0.9994 - f1_m: 0.4582 - precision_m: 0.4746 - recall_m: 0.4568 - val_loss: 0.0035 - val_acc: 0.9995 - val_f1_m: 0.4889 - val_precision_m: 0.4889 - val_recall_m: 0.5000\n",
      "Epoch 42/50\n",
      "205060/205060 [==============================] - 1s 4us/sample - loss: 0.0030 - acc: 0.9994 - f1_m: 0.4428 - precision_m: 0.4607 - recall_m: 0.4439 - val_loss: 0.0031 - val_acc: 0.9996 - val_f1_m: 0.4704 - val_precision_m: 0.4852 - val_recall_m: 0.4667\n",
      "Epoch 43/50\n",
      "205060/205060 [==============================] - 1s 5us/sample - loss: 0.0030 - acc: 0.9995 - f1_m: 0.4766 - precision_m: 0.4900 - recall_m: 0.4786 - val_loss: 0.0031 - val_acc: 0.9996 - val_f1_m: 0.4368 - val_precision_m: 0.4500 - val_recall_m: 0.4370\n",
      "Epoch 44/50\n",
      "205060/205060 [==============================] - 1s 5us/sample - loss: 0.0030 - acc: 0.9994 - f1_m: 0.4731 - precision_m: 0.4877 - recall_m: 0.4759 - val_loss: 0.0031 - val_acc: 0.9995 - val_f1_m: 0.4739 - val_precision_m: 0.4815 - val_recall_m: 0.4833\n",
      "Epoch 45/50\n",
      "205060/205060 [==============================] - 1s 5us/sample - loss: 0.0030 - acc: 0.9994 - f1_m: 0.4549 - precision_m: 0.4665 - recall_m: 0.4599 - val_loss: 0.0030 - val_acc: 0.9995 - val_f1_m: 0.4815 - val_precision_m: 0.5000 - val_recall_m: 0.4778\n",
      "Epoch 46/50\n",
      "205060/205060 [==============================] - 1s 4us/sample - loss: 0.0030 - acc: 0.9994 - f1_m: 0.4641 - precision_m: 0.4753 - recall_m: 0.4688 - val_loss: 0.0030 - val_acc: 0.9996 - val_f1_m: 0.4963 - val_precision_m: 0.5111 - val_recall_m: 0.4889\n",
      "Epoch 47/50\n",
      "205060/205060 [==============================] - 1s 4us/sample - loss: 0.0030 - acc: 0.9994 - f1_m: 0.4623 - precision_m: 0.4790 - recall_m: 0.4613 - val_loss: 0.0031 - val_acc: 0.9995 - val_f1_m: 0.5148 - val_precision_m: 0.5222 - val_recall_m: 0.5222\n",
      "Epoch 48/50\n",
      "205060/205060 [==============================] - 1s 4us/sample - loss: 0.0030 - acc: 0.9994 - f1_m: 0.4668 - precision_m: 0.4798 - recall_m: 0.4712 - val_loss: 0.0031 - val_acc: 0.9996 - val_f1_m: 0.4924 - val_precision_m: 0.5222 - val_recall_m: 0.4833\n",
      "Epoch 49/50\n",
      "205060/205060 [==============================] - 1s 4us/sample - loss: 0.0030 - acc: 0.9995 - f1_m: 0.4740 - precision_m: 0.4832 - recall_m: 0.4785 - val_loss: 0.0030 - val_acc: 0.9996 - val_f1_m: 0.5437 - val_precision_m: 0.5556 - val_recall_m: 0.5370\n",
      "Epoch 50/50\n",
      "205060/205060 [==============================] - 1s 5us/sample - loss: 0.0030 - acc: 0.9994 - f1_m: 0.4520 - precision_m: 0.4651 - recall_m: 0.4543 - val_loss: 0.0031 - val_acc: 0.9995 - val_f1_m: 0.4232 - val_precision_m: 0.4370 - val_recall_m: 0.4233\n"
     ]
    }
   ],
   "source": [
    "# fit the model\n",
    "history=model.fit(x=X_train, y=y_train,\n",
    "          validation_split=0.1,\n",
    "          batch_size=512,  #power 2\n",
    "          shuffle = True,\n",
    "          epochs=50,\n",
    "          verbose = 1,\n",
    "          )\n",
    "\n",
    "# evaluate the model\n",
    "loss, accuracy, f1_score, precision, recall = model.evaluate(X_test, y_test, verbose=0)"
   ]
  },
  {
   "cell_type": "code",
   "execution_count": 45,
   "metadata": {},
   "outputs": [
    {
     "name": "stdout",
     "output_type": "stream",
     "text": [
      "56962/56962 - 1s - loss: 0.0038 - acc: 0.9993 - f1_m: 0.0411 - precision_m: 0.0408 - recall_m: 0.0415\n",
      "evaluate test [0.0037894020865539223, 0.9993153, 0.04106307, 0.04080105, 0.041549686]\n"
     ]
    }
   ],
   "source": [
    "# evaluate the model\n",
    "print('evaluate test', model.evaluate(X_test, y_test, verbose=2)) #verbose"
   ]
  },
  {
   "cell_type": "code",
   "execution_count": 46,
   "metadata": {},
   "outputs": [
    {
     "data": {
      "image/png": "[encoded data removed]",
      "text/plain": [
       "<Figure size 432x288 with 1 Axes>"
      ]
     },
     "metadata": {
      "needs_background": "light"
     },
     "output_type": "display_data"
    }
   ],
   "source": [
    "# Plot training & validation loss values\n",
    "plt.plot(history.history['loss'])\n",
    "plt.plot(history.history['val_loss'])\n",
    "plt.title('Model loss')\n",
    "plt.ylabel('Loss')\n",
    "plt.xlabel('Epoch')\n",
    "plt.legend(['Train', 'Test'], loc='upper left')\n",
    "plt.show()"
   ]
  },
  {
   "cell_type": "code",
   "execution_count": 47,
   "metadata": {},
   "outputs": [
    {
     "name": "stdout",
     "output_type": "stream",
     "text": [
      "Model: \"sequential_3\"\n",
      "_________________________________________________________________\n",
      "Layer (type)                 Output Shape              Param #   \n",
      "=================================================================\n",
      "dense_12 (Dense)             (None, 32)                992       \n",
      "_________________________________________________________________\n",
      "dense_13 (Dense)             (None, 16)                528       \n",
      "_________________________________________________________________\n",
      "dense_14 (Dense)             (None, 8)                 136       \n",
      "_________________________________________________________________\n",
      "dense_15 (Dense)             (None, 1)                 9         \n",
      "=================================================================\n",
      "Total params: 1,665\n",
      "Trainable params: 1,665\n",
      "Non-trainable params: 0\n",
      "_________________________________________________________________\n"
     ]
    }
   ],
   "source": [
    "model.summary()"
   ]
  },
  {
   "cell_type": "code",
   "execution_count": 48,
   "metadata": {},
   "outputs": [],
   "source": [
    "train_predictions_baseline = model.predict(X_train, batch_size=1000)\n",
    "test_predictions_baseline = model.predict(X_test, batch_size=1000)"
   ]
  },
  {
   "cell_type": "code",
   "execution_count": 49,
   "metadata": {},
   "outputs": [],
   "source": [
    "def plot_confusion(labels, predictions, p=0.5):\n",
    "  cm = confusion_matrix(labels, predictions > p)\n",
    "  plt.figure(figsize=(5,5))\n",
    "  sns.heatmap(cm, annot=True)\n",
    "  plt.title('Confusion matrix @{:.2f}'.format(p))\n",
    "  plt.ylabel('Actual label')\n",
    "  plt.xlabel('Predicted label')\n",
    "\n",
    "  print('Legitimate Transactions Detected (True Negatives): ', cm[0][0])\n",
    "  print('Legitimate Transactions Incorrectly Detected (False Positives): ', cm[0][1])\n",
    "  print('Fraudulent Transactions Missed (False Negatives): ', cm[1][0])\n",
    "  print('Fraudulent Transactions Detected (True Positives): ', cm[1][1])\n",
    "  print('Total Fraudulent Transactions: ', np.sum(cm[1]))"
   ]
  },
  {
   "cell_type": "code",
   "execution_count": 50,
   "metadata": {},
   "outputs": [
    {
     "name": "stdout",
     "output_type": "stream",
     "text": [
      "Legitimate Transactions Detected (True Negatives):  56847\n",
      "Legitimate Transactions Incorrectly Detected (False Positives):  17\n",
      "Fraudulent Transactions Missed (False Negatives):  22\n",
      "Fraudulent Transactions Detected (True Positives):  76\n",
      "Total Fraudulent Transactions:  98\n"
     ]
    },
    {
     "data": {
      "image/png": "[encoded data removed]",
      "text/plain": [
       "<Figure size 360x360 with 2 Axes>"
      ]
     },
     "metadata": {
      "needs_background": "light"
     },
     "output_type": "display_data"
    }
   ],
   "source": [
    " plot_confusion(y_test, test_predictions_baseline)"
   ]
  },
  {
   "cell_type": "markdown",
   "metadata": {},
   "source": [
    "It is okay to have some False positive which are detected as Fraud, because we can undo them. But we would like to minimize false negative! so we have to improve recall!\n"
   ]
  },
  {
   "cell_type": "code",
   "execution_count": 51,
   "metadata": {},
   "outputs": [
    {
     "name": "stdout",
     "output_type": "stream",
     "text": [
      "              precision    recall  f1-score   support\n",
      "\n",
      "           0       1.00      1.00      1.00     56864\n",
      "           1       0.82      0.78      0.80        98\n",
      "\n",
      "    accuracy                           1.00     56962\n",
      "   macro avg       0.91      0.89      0.90     56962\n",
      "weighted avg       1.00      1.00      1.00     56962\n",
      "\n"
     ]
    }
   ],
   "source": [
    "print(classification_report(y_test,test_predictions_baseline>0.5))"
   ]
  },
  {
   "cell_type": "code",
   "execution_count": 52,
   "metadata": {},
   "outputs": [
    {
     "name": "stdout",
     "output_type": "stream",
     "text": [
      "0.8876056225810527\n"
     ]
    }
   ],
   "source": [
    "print(roc_auc_score(y_test,test_predictions_baseline>0.5))"
   ]
  },
  {
   "cell_type": "markdown",
   "metadata": {},
   "source": [
    "# Handling Imbalance Data by Increasing class weight of Class=1"
   ]
  },
  {
   "cell_type": "markdown",
   "metadata": {},
   "source": [
    "### Increase class weight of positive instances"
   ]
  },
  {
   "cell_type": "code",
   "execution_count": 53,
   "metadata": {},
   "outputs": [
    {
     "name": "stdout",
     "output_type": "stream",
     "text": [
      "Weight for class 0: 0.50\n",
      "Weight for class 1: 289.44\n"
     ]
    }
   ],
   "source": [
    "# Scaling by total/2 helps keep the loss to a similar magnitude.\n",
    "# The sum of the weights of all examples stays the same.\n",
    "\n",
    "neg, pos = np.bincount(df['Class'])\n",
    "total = neg + pos\n",
    "\n",
    "weight_for_0 = (1 / neg)*(total)/2.0 \n",
    "weight_for_1 = (1 / pos)*(total)/2.0\n",
    "\n",
    "class_weight = {0: weight_for_0, 1: weight_for_1}\n",
    "\n",
    "print('Weight for class 0: {:.2f}'.format(weight_for_0))\n",
    "print('Weight for class 1: {:.2f}'.format(weight_for_1))"
   ]
  },
  {
   "cell_type": "code",
   "execution_count": 54,
   "metadata": {},
   "outputs": [
    {
     "name": "stdout",
     "output_type": "stream",
     "text": [
      "Model: \"sequential_4\"\n",
      "_________________________________________________________________\n",
      "Layer (type)                 Output Shape              Param #   \n",
      "=================================================================\n",
      "dense_16 (Dense)             (None, 32)                992       \n",
      "_________________________________________________________________\n",
      "dense_17 (Dense)             (None, 16)                528       \n",
      "_________________________________________________________________\n",
      "dense_18 (Dense)             (None, 8)                 136       \n",
      "_________________________________________________________________\n",
      "dense_19 (Dense)             (None, 1)                 9         \n",
      "=================================================================\n",
      "Total params: 1,665\n",
      "Trainable params: 1,665\n",
      "Non-trainable params: 0\n",
      "_________________________________________________________________\n",
      "None\n",
      "Train on 205060 samples, validate on 22785 samples\n",
      "Epoch 1/50\n",
      "205060/205060 [==============================] - 1s 5us/sample - loss: 0.6123 - acc: 0.9987 - f1_m: 0.3494 - precision_m: 0.4092 - recall_m: 0.3313 - val_loss: 0.5321 - val_acc: 0.9989 - val_f1_m: 0.4178 - val_precision_m: 0.5435 - val_recall_m: 0.3609\n",
      "Epoch 2/50\n",
      "205060/205060 [==============================] - ETA: 0s - loss: 0.4538 - acc: 0.9953 - f1_m: 0.5220 - precision_m: 0.5352 - recall_m: 0.6207 - 1s 3us/sample - loss: 0.4457 - acc: 0.9955 - f1_m: 0.5155 - precision_m: 0.5297 - recall_m: 0.6117 - val_loss: 0.3645 - val_acc: 0.9989 - val_f1_m: 0.5749 - val_precision_m: 0.5616 - val_recall_m: 0.6341\n",
      "Epoch 3/50\n",
      "205060/205060 [==============================] - 1s 3us/sample - loss: 0.3250 - acc: 0.9926 - f1_m: 0.4485 - precision_m: 0.4088 - recall_m: 0.6300 - val_loss: 0.3044 - val_acc: 0.9991 - val_f1_m: 0.6144 - val_precision_m: 0.6087 - val_recall_m: 0.6790\n",
      "Epoch 4/50\n",
      "205060/205060 [==============================] - 1s 3us/sample - loss: 0.2687 - acc: 0.9919 - f1_m: 0.4088 - precision_m: 0.3558 - recall_m: 0.6738 - val_loss: 0.2466 - val_acc: 0.9962 - val_f1_m: 0.3664 - val_precision_m: 0.2680 - val_recall_m: 0.6399\n",
      "Epoch 5/50\n",
      "205060/205060 [==============================] - 1s 3us/sample - loss: 0.2410 - acc: 0.9862 - f1_m: 0.3303 - precision_m: 0.2574 - recall_m: 0.6982 - val_loss: 0.2591 - val_acc: 0.9984 - val_f1_m: 0.4821 - val_precision_m: 0.4239 - val_recall_m: 0.6036\n",
      "Epoch 6/50\n",
      "205060/205060 [==============================] - 1s 3us/sample - loss: 0.2277 - acc: 0.9819 - f1_m: 0.2679 - precision_m: 0.1983 - recall_m: 0.6641 - val_loss: 0.2936 - val_acc: 0.9986 - val_f1_m: 0.5222 - val_precision_m: 0.5076 - val_recall_m: 0.6341\n",
      "Epoch 7/50\n",
      "205060/205060 [==============================] - 1s 3us/sample - loss: 0.2184 - acc: 0.9814 - f1_m: 0.2691 - precision_m: 0.2026 - recall_m: 0.7050 - val_loss: 0.2194 - val_acc: 0.9922 - val_f1_m: 0.2543 - val_precision_m: 0.1664 - val_recall_m: 0.6232\n",
      "Epoch 8/50\n",
      "205060/205060 [==============================] - 1s 3us/sample - loss: 0.2102 - acc: 0.9809 - f1_m: 0.2430 - precision_m: 0.1691 - recall_m: 0.6868 - val_loss: 0.2495 - val_acc: 0.9968 - val_f1_m: 0.4147 - val_precision_m: 0.3320 - val_recall_m: 0.6746\n",
      "Epoch 9/50\n",
      "205060/205060 [==============================] - 1s 3us/sample - loss: 0.2054 - acc: 0.9805 - f1_m: 0.2381 - precision_m: 0.1720 - recall_m: 0.7174 - val_loss: 0.2280 - val_acc: 0.9939 - val_f1_m: 0.2835 - val_precision_m: 0.1901 - val_recall_m: 0.6341\n",
      "Epoch 10/50\n",
      "205060/205060 [==============================] - 1s 3us/sample - loss: 0.2000 - acc: 0.9783 - f1_m: 0.2380 - precision_m: 0.1679 - recall_m: 0.7267 - val_loss: 0.2677 - val_acc: 0.9975 - val_f1_m: 0.4384 - val_precision_m: 0.3675 - val_recall_m: 0.5906\n",
      "Epoch 11/50\n",
      "205060/205060 [==============================] - 1s 3us/sample - loss: 0.1986 - acc: 0.9759 - f1_m: 0.2181 - precision_m: 0.1542 - recall_m: 0.7237 - val_loss: 0.2119 - val_acc: 0.9857 - val_f1_m: 0.1668 - val_precision_m: 0.0987 - val_recall_m: 0.7268\n",
      "Epoch 12/50\n",
      "205060/205060 [==============================] - 1s 4us/sample - loss: 0.1901 - acc: 0.9745 - f1_m: 0.2147 - precision_m: 0.1513 - recall_m: 0.7231 - val_loss: 0.2599 - val_acc: 0.9961 - val_f1_m: 0.3919 - val_precision_m: 0.2825 - val_recall_m: 0.7014\n",
      "Epoch 13/50\n",
      "205060/205060 [==============================] - 1s 3us/sample - loss: 0.1951 - acc: 0.9756 - f1_m: 0.1865 - precision_m: 0.1215 - recall_m: 0.7470 - val_loss: 0.2377 - val_acc: 0.9931 - val_f1_m: 0.2525 - val_precision_m: 0.1612 - val_recall_m: 0.6493\n",
      "Epoch 14/50\n",
      "205060/205060 [==============================] - 1s 3us/sample - loss: 0.1826 - acc: 0.9666 - f1_m: 0.1829 - precision_m: 0.1174 - recall_m: 0.7667 - val_loss: 0.2687 - val_acc: 0.9958 - val_f1_m: 0.3549 - val_precision_m: 0.2502 - val_recall_m: 0.6906\n",
      "Epoch 15/50\n",
      "205060/205060 [==============================] - 1s 3us/sample - loss: 0.1848 - acc: 0.9683 - f1_m: 0.2015 - precision_m: 0.1374 - recall_m: 0.7466 - val_loss: 0.2389 - val_acc: 0.9935 - val_f1_m: 0.2620 - val_precision_m: 0.1821 - val_recall_m: 0.5870\n",
      "Epoch 16/50\n",
      "205060/205060 [==============================] - 1s 3us/sample - loss: 0.1863 - acc: 0.9745 - f1_m: 0.1943 - precision_m: 0.1310 - recall_m: 0.7436 - val_loss: 0.2301 - val_acc: 0.9921 - val_f1_m: 0.2584 - val_precision_m: 0.1653 - val_recall_m: 0.7464\n",
      "Epoch 17/50\n",
      "205060/205060 [==============================] - 1s 3us/sample - loss: 0.1858 - acc: 0.9723 - f1_m: 0.1670 - precision_m: 0.1042 - recall_m: 0.7430 - val_loss: 0.2314 - val_acc: 0.9911 - val_f1_m: 0.2194 - val_precision_m: 0.1361 - val_recall_m: 0.6667\n",
      "Epoch 18/50\n",
      "205060/205060 [==============================] - 1s 3us/sample - loss: 0.1775 - acc: 0.9660 - f1_m: 0.1902 - precision_m: 0.1225 - recall_m: 0.7738 - val_loss: 0.1986 - val_acc: 0.9599 - val_f1_m: 0.0715 - val_precision_m: 0.0380 - val_recall_m: 0.8116\n",
      "Epoch 19/50\n",
      "205060/205060 [==============================] - 1s 3us/sample - loss: 0.1828 - acc: 0.9715 - f1_m: 0.1628 - precision_m: 0.1008 - recall_m: 0.7798 - val_loss: 0.2213 - val_acc: 0.9926 - val_f1_m: 0.2615 - val_precision_m: 0.1734 - val_recall_m: 0.7101\n",
      "Epoch 20/50\n",
      "205060/205060 [==============================] - 1s 3us/sample - loss: 0.1804 - acc: 0.9712 - f1_m: 0.1827 - precision_m: 0.1211 - recall_m: 0.7270 - val_loss: 0.2439 - val_acc: 0.9939 - val_f1_m: 0.2877 - val_precision_m: 0.1890 - val_recall_m: 0.6725\n",
      "Epoch 21/50\n",
      "205060/205060 [==============================] - 1s 3us/sample - loss: 0.1722 - acc: 0.9706 - f1_m: 0.1949 - precision_m: 0.1312 - recall_m: 0.7106 - val_loss: 0.2566 - val_acc: 0.9951 - val_f1_m: 0.3493 - val_precision_m: 0.2440 - val_recall_m: 0.7029\n",
      "Epoch 22/50\n",
      "205060/205060 [==============================] - 1s 3us/sample - loss: 0.1883 - acc: 0.9700 - f1_m: 0.1449 - precision_m: 0.0870 - recall_m: 0.7873 - val_loss: 0.2100 - val_acc: 0.9831 - val_f1_m: 0.1510 - val_precision_m: 0.0845 - val_recall_m: 0.7826\n",
      "Epoch 23/50\n",
      "205060/205060 [==============================] - 1s 3us/sample - loss: 0.1787 - acc: 0.9722 - f1_m: 0.1776 - precision_m: 0.1151 - recall_m: 0.7470 - val_loss: 0.2109 - val_acc: 0.9882 - val_f1_m: 0.1565 - val_precision_m: 0.0952 - val_recall_m: 0.6014\n",
      "Epoch 24/50\n",
      "205060/205060 [==============================] - 1s 3us/sample - loss: 0.1760 - acc: 0.9751 - f1_m: 0.1906 - precision_m: 0.1255 - recall_m: 0.7399 - val_loss: 0.1982 - val_acc: 0.9601 - val_f1_m: 0.0670 - val_precision_m: 0.0356 - val_recall_m: 0.6884\n",
      "Epoch 25/50\n",
      "205060/205060 [==============================] - 1s 3us/sample - loss: 0.1796 - acc: 0.9699 - f1_m: 0.1536 - precision_m: 0.0953 - recall_m: 0.7401 - val_loss: 0.2073 - val_acc: 0.9885 - val_f1_m: 0.1944 - val_precision_m: 0.1154 - val_recall_m: 0.7210\n",
      "Epoch 26/50\n",
      "205060/205060 [==============================] - 1s 3us/sample - loss: 0.1789 - acc: 0.9781 - f1_m: 0.2039 - precision_m: 0.1351 - recall_m: 0.7253 - val_loss: 0.1970 - val_acc: 0.9637 - val_f1_m: 0.0715 - val_precision_m: 0.0385 - val_recall_m: 0.6377\n",
      "Epoch 27/50\n",
      "205060/205060 [==============================] - 1s 3us/sample - loss: 0.1750 - acc: 0.9769 - f1_m: 0.2104 - precision_m: 0.1402 - recall_m: 0.7336 - val_loss: 0.2043 - val_acc: 0.9888 - val_f1_m: 0.1896 - val_precision_m: 0.1130 - val_recall_m: 0.6775\n",
      "Epoch 28/50\n",
      "205060/205060 [==============================] - 1s 3us/sample - loss: 0.1733 - acc: 0.9771 - f1_m: 0.2181 - precision_m: 0.1533 - recall_m: 0.7191 - val_loss: 0.2000 - val_acc: 0.9837 - val_f1_m: 0.1502 - val_precision_m: 0.0841 - val_recall_m: 0.8551\n",
      "Epoch 29/50\n",
      "205060/205060 [==============================] - 1s 3us/sample - loss: 0.1787 - acc: 0.9793 - f1_m: 0.1943 - precision_m: 0.1292 - recall_m: 0.7234 - val_loss: 0.2394 - val_acc: 0.9971 - val_f1_m: 0.4289 - val_precision_m: 0.3381 - val_recall_m: 0.6855\n",
      "Epoch 30/50\n",
      "205060/205060 [==============================] - 1s 3us/sample - loss: 0.1758 - acc: 0.9823 - f1_m: 0.2444 - precision_m: 0.1737 - recall_m: 0.7333 - val_loss: 0.1964 - val_acc: 0.9860 - val_f1_m: 0.1808 - val_precision_m: 0.1104 - val_recall_m: 0.7246\n",
      "Epoch 31/50\n",
      "205060/205060 [==============================] - 1s 3us/sample - loss: 0.1752 - acc: 0.9790 - f1_m: 0.2194 - precision_m: 0.1543 - recall_m: 0.7362 - val_loss: 0.2178 - val_acc: 0.9923 - val_f1_m: 0.2506 - val_precision_m: 0.1533 - val_recall_m: 0.7536\n",
      "Epoch 32/50\n",
      "205060/205060 [==============================] - 1s 3us/sample - loss: 0.1716 - acc: 0.9762 - f1_m: 0.2122 - precision_m: 0.1420 - recall_m: 0.7478 - val_loss: 0.2240 - val_acc: 0.9946 - val_f1_m: 0.3141 - val_precision_m: 0.2111 - val_recall_m: 0.7029\n",
      "Epoch 33/50\n",
      "205060/205060 [==============================] - 1s 3us/sample - loss: 0.1732 - acc: 0.9777 - f1_m: 0.2010 - precision_m: 0.1344 - recall_m: 0.7614 - val_loss: 0.2216 - val_acc: 0.9949 - val_f1_m: 0.3338 - val_precision_m: 0.2295 - val_recall_m: 0.7536\n",
      "Epoch 34/50\n",
      "205060/205060 [==============================] - 1s 3us/sample - loss: 0.1733 - acc: 0.9781 - f1_m: 0.2220 - precision_m: 0.1555 - recall_m: 0.7464 - val_loss: 0.1929 - val_acc: 0.9722 - val_f1_m: 0.0903 - val_precision_m: 0.0491 - val_recall_m: 0.6667\n",
      "Epoch 35/50\n",
      "205060/205060 [==============================] - 1s 3us/sample - loss: 0.1707 - acc: 0.9766 - f1_m: 0.1852 - precision_m: 0.1267 - recall_m: 0.7241 - val_loss: 0.2562 - val_acc: 0.9957 - val_f1_m: 0.3758 - val_precision_m: 0.2715 - val_recall_m: 0.6957\n",
      "Epoch 36/50\n",
      "205060/205060 [==============================] - 1s 3us/sample - loss: 0.1715 - acc: 0.9757 - f1_m: 0.1855 - precision_m: 0.1212 - recall_m: 0.7432 - val_loss: 0.2346 - val_acc: 0.9026 - val_f1_m: 0.0295 - val_precision_m: 0.0151 - val_recall_m: 0.7536\n",
      "Epoch 37/50\n",
      "205060/205060 [==============================] - 1s 3us/sample - loss: 0.1679 - acc: 0.9738 - f1_m: 0.2023 - precision_m: 0.1359 - recall_m: 0.7549 - val_loss: 0.2673 - val_acc: 0.9973 - val_f1_m: 0.4062 - val_precision_m: 0.3206 - val_recall_m: 0.6087\n",
      "Epoch 38/50\n",
      "205060/205060 [==============================] - 1s 3us/sample - loss: 0.1732 - acc: 0.9772 - f1_m: 0.2019 - precision_m: 0.1353 - recall_m: 0.7672 - val_loss: 0.2016 - val_acc: 0.9858 - val_f1_m: 0.1667 - val_precision_m: 0.0970 - val_recall_m: 0.8043\n",
      "Epoch 39/50\n",
      "205060/205060 [==============================] - 1s 3us/sample - loss: 0.1716 - acc: 0.9744 - f1_m: 0.1929 - precision_m: 0.1281 - recall_m: 0.7608 - val_loss: 0.1961 - val_acc: 0.9782 - val_f1_m: 0.1179 - val_precision_m: 0.0669 - val_recall_m: 0.6232\n",
      "Epoch 40/50\n",
      "205060/205060 [==============================] - 1s 3us/sample - loss: 0.1706 - acc: 0.9749 - f1_m: 0.1860 - precision_m: 0.1238 - recall_m: 0.7368 - val_loss: 0.1962 - val_acc: 0.9779 - val_f1_m: 0.1187 - val_precision_m: 0.0662 - val_recall_m: 0.7232\n",
      "Epoch 41/50\n",
      "205060/205060 [==============================] - 1s 3us/sample - loss: 0.1719 - acc: 0.9783 - f1_m: 0.2204 - precision_m: 0.1545 - recall_m: 0.7410 - val_loss: 0.1954 - val_acc: 0.9861 - val_f1_m: 0.1684 - val_precision_m: 0.0988 - val_recall_m: 0.7464\n",
      "Epoch 42/50\n",
      "205060/205060 [==============================] - 1s 3us/sample - loss: 0.1598 - acc: 0.9732 - f1_m: 0.2177 - precision_m: 0.1484 - recall_m: 0.7758 - val_loss: 0.2502 - val_acc: 0.9965 - val_f1_m: 0.4191 - val_precision_m: 0.3281 - val_recall_m: 0.7101\n",
      "Epoch 43/50\n",
      "205060/205060 [==============================] - 1s 3us/sample - loss: 0.1700 - acc: 0.9741 - f1_m: 0.1920 - precision_m: 0.1304 - recall_m: 0.7200 - val_loss: 0.2170 - val_acc: 0.9886 - val_f1_m: 0.1831 - val_precision_m: 0.1092 - val_recall_m: 0.6812\n",
      "Epoch 44/50\n",
      "205060/205060 [==============================] - 1s 3us/sample - loss: 0.1679 - acc: 0.9733 - f1_m: 0.1840 - precision_m: 0.1170 - recall_m: 0.7631 - val_loss: 0.2568 - val_acc: 0.9967 - val_f1_m: 0.3900 - val_precision_m: 0.3013 - val_recall_m: 0.6268\n",
      "Epoch 45/50\n",
      "205060/205060 [==============================] - 1s 3us/sample - loss: 0.1736 - acc: 0.9787 - f1_m: 0.1969 - precision_m: 0.1351 - recall_m: 0.7087 - val_loss: 0.2175 - val_acc: 0.9930 - val_f1_m: 0.2544 - val_precision_m: 0.1745 - val_recall_m: 0.6594\n",
      "Epoch 46/50\n",
      "205060/205060 [==============================] - 1s 3us/sample - loss: 0.1629 - acc: 0.9751 - f1_m: 0.1886 - precision_m: 0.1276 - recall_m: 0.7167 - val_loss: 0.2539 - val_acc: 0.9958 - val_f1_m: 0.3212 - val_precision_m: 0.2369 - val_recall_m: 0.6268\n",
      "Epoch 47/50\n",
      "205060/205060 [==============================] - 1s 3us/sample - loss: 0.1733 - acc: 0.9753 - f1_m: 0.1834 - precision_m: 0.1223 - recall_m: 0.7330 - val_loss: 0.2167 - val_acc: 0.9946 - val_f1_m: 0.3526 - val_precision_m: 0.2352 - val_recall_m: 0.8225\n",
      "Epoch 48/50\n",
      "205060/205060 [==============================] - 1s 3us/sample - loss: 0.1706 - acc: 0.9751 - f1_m: 0.1974 - precision_m: 0.1317 - recall_m: 0.7472 - val_loss: 0.2284 - val_acc: 0.9952 - val_f1_m: 0.3382 - val_precision_m: 0.2332 - val_recall_m: 0.7065\n",
      "Epoch 49/50\n",
      "205060/205060 [==============================] - 1s 4us/sample - loss: 0.1726 - acc: 0.9764 - f1_m: 0.1950 - precision_m: 0.1329 - recall_m: 0.7392 - val_loss: 0.2567 - val_acc: 0.9967 - val_f1_m: 0.3884 - val_precision_m: 0.2872 - val_recall_m: 0.6891\n",
      "Epoch 50/50\n",
      "205060/205060 [==============================] - 1s 3us/sample - loss: 0.1711 - acc: 0.9788 - f1_m: 0.2059 - precision_m: 0.1438 - recall_m: 0.7315 - val_loss: 0.1948 - val_acc: 0.9812 - val_f1_m: 0.1373 - val_precision_m: 0.0770 - val_recall_m: 0.8007\n"
     ]
    }
   ],
   "source": [
    "weighted_model = define_model()\n",
    "\n",
    "# compile the model\n",
    "weighted_model.compile(optimizer='RMSProp', \n",
    "                       loss='binary_crossentropy', \n",
    "                       metrics=['acc',f1_m,precision_m, recall_m]\n",
    "                      )\n",
    "\n",
    "# fit the model\n",
    "history = weighted_model.fit(X_train, y_train, \n",
    "                             validation_split=0.1, \n",
    "                             epochs=50, \n",
    "                             verbose=1,\n",
    "                             batch_size=1000, \n",
    "                             class_weight=class_weight\n",
    "                            )\n",
    "\n",
    "# evaluate the model\n",
    "loss, accuracy, f1_score, precision, recall = model.evaluate(X_test, y_test, verbose=0)"
   ]
  },
  {
   "cell_type": "markdown",
   "metadata": {},
   "source": [
    "# Evaluate the Final Model"
   ]
  },
  {
   "cell_type": "code",
   "execution_count": 55,
   "metadata": {},
   "outputs": [
    {
     "data": {
      "image/png": "[encoded data removed]",
      "text/plain": [
       "<Figure size 432x288 with 1 Axes>"
      ]
     },
     "metadata": {
      "needs_background": "light"
     },
     "output_type": "display_data"
    }
   ],
   "source": [
    "# Plot training & validation loss values\n",
    "plt.plot(history.history['loss'])\n",
    "plt.plot(history.history['val_loss'])\n",
    "plt.title('Model loss')\n",
    "plt.ylabel('Loss')\n",
    "plt.xlabel('Epoch')\n",
    "plt.legend(['Train', 'Test'], loc='upper left')\n",
    "plt.show()"
   ]
  },
  {
   "cell_type": "code",
   "execution_count": 56,
   "metadata": {},
   "outputs": [],
   "source": [
    "train_predictions_baseline = weighted_model.predict(X_train, batch_size=1000)\n",
    "test_predictions_baseline = weighted_model.predict(X_test, batch_size=1000)"
   ]
  },
  {
   "cell_type": "code",
   "execution_count": 57,
   "metadata": {},
   "outputs": [
    {
     "name": "stdout",
     "output_type": "stream",
     "text": [
      "              precision    recall  f1-score   support\n",
      "\n",
      "           0       1.00      0.98      0.99     56864\n",
      "           1       0.07      0.85      0.13        98\n",
      "\n",
      "    accuracy                           0.98     56962\n",
      "   macro avg       0.53      0.91      0.56     56962\n",
      "weighted avg       1.00      0.98      0.99     56962\n",
      "\n"
     ]
    }
   ],
   "source": [
    "print(classification_report(y_test,test_predictions_baseline>0.5))"
   ]
  },
  {
   "cell_type": "code",
   "execution_count": 58,
   "metadata": {},
   "outputs": [
    {
     "name": "stdout",
     "output_type": "stream",
     "text": [
      "Legitimate Transactions Detected (True Negatives):  55747\n",
      "Legitimate Transactions Incorrectly Detected (False Positives):  1117\n",
      "Fraudulent Transactions Missed (False Negatives):  15\n",
      "Fraudulent Transactions Detected (True Positives):  83\n",
      "Total Fraudulent Transactions:  98\n"
     ]
    },
    {
     "data": {
      "image/png": "[encoded data removed]",
      "text/plain": [
       "<Figure size 360x360 with 2 Axes>"
      ]
     },
     "metadata": {
      "needs_background": "light"
     },
     "output_type": "display_data"
    }
   ],
   "source": [
    " plot_confusion(y_test, test_predictions_baseline)"
   ]
  },
  {
   "cell_type": "markdown",
   "metadata": {},
   "source": [
    "# Find Optimal Cutoff"
   ]
  },
  {
   "cell_type": "code",
   "execution_count": 59,
   "metadata": {},
   "outputs": [],
   "source": [
    "def find_optimal_cutoff(target, predicted):\n",
    "    \"\"\" Find the optimal probability cutoff point for a classification model related to event rate\n",
    "    Parameters\n",
    "    ----------\n",
    "    target : Matrix with dependent or target data, where rows are observations\n",
    "\n",
    "    predicted : Matrix with predicted data, where rows are observations\n",
    "\n",
    "    Returns\n",
    "    -------     \n",
    "    list type, with optimal cutoff value\n",
    "\n",
    "    \"\"\"\n",
    "    #false positive rate, True positive rate\n",
    "    fpr, tpr, threshold = roc_curve(target, predicted)\n",
    "    i = np.arange(len(tpr)) \n",
    "    roc = pd.DataFrame({'tf' : pd.Series(tpr-(1-fpr), index=i), 'threshold' : pd.Series(threshold, index=i)})\n",
    "    roc_t = roc.iloc[(roc.tf-0).abs().argsort()[:1]]\n",
    "    \n",
    "    # Plot tpr vs 1-fpr\n",
    "    fig, ax = plt.subplots()\n",
    "    plt.plot(tpr)\n",
    "    plt.plot(1-fpr, color = 'red')\n",
    "    plt.xlabel('1-False Positive Rate')\n",
    "    plt.ylabel('True Positive Rate')\n",
    "    plt.title('Receiver operating characteristic')\n",
    "    ax.set_xticklabels([])\n",
    "    return list(roc_t['threshold']) "
   ]
  },
  {
   "cell_type": "code",
   "execution_count": 60,
   "metadata": {},
   "outputs": [],
   "source": [
    "test_predictions_weighted = weighted_model.predict(X_test, batch_size=1000)"
   ]
  },
  {
   "cell_type": "code",
   "execution_count": 61,
   "metadata": {},
   "outputs": [
    {
     "data": {
      "text/plain": [
       "[0.19890174269676208]"
      ]
     },
     "execution_count": 61,
     "metadata": {},
     "output_type": "execute_result"
    },
    {
     "data": {
      "image/png": "[encoded data removed]",
      "text/plain": [
       "<Figure size 432x288 with 1 Axes>"
      ]
     },
     "metadata": {
      "needs_background": "light"
     },
     "output_type": "display_data"
    }
   ],
   "source": [
    "find_optimal_cutoff(y_test, test_predictions_weighted)"
   ]
  },
  {
   "cell_type": "code",
   "execution_count": 67,
   "metadata": {},
   "outputs": [
    {
     "name": "stdout",
     "output_type": "stream",
     "text": [
      "Legitimate Transactions Detected (True Negatives):  51005\n",
      "Legitimate Transactions Incorrectly Detected (False Positives):  5859\n",
      "Fraudulent Transactions Missed (False Negatives):  10\n",
      "Fraudulent Transactions Detected (True Positives):  88\n",
      "Total Fraudulent Transactions:  98\n"
     ]
    },
    {
     "data": {
      "image/png": "[encoded data removed]",
      "text/plain": [
       "<Figure size 360x360 with 2 Axes>"
      ]
     },
     "metadata": {
      "needs_background": "light"
     },
     "output_type": "display_data"
    }
   ],
   "source": [
    "plot_confusion(y_test, test_predictions_weighted, p=0.20)"
   ]
  },
  {
   "cell_type": "code",
   "execution_count": 68,
   "metadata": {},
   "outputs": [
    {
     "name": "stdout",
     "output_type": "stream",
     "text": [
      "              precision    recall  f1-score   support\n",
      "\n",
      "           0       1.00      0.90      0.95     56864\n",
      "           1       0.01      0.90      0.03        98\n",
      "\n",
      "    accuracy                           0.90     56962\n",
      "   macro avg       0.51      0.90      0.49     56962\n",
      "weighted avg       1.00      0.90      0.94     56962\n",
      "\n"
     ]
    }
   ],
   "source": [
    "print(classification_report(y_test, test_predictions_weighted>0.20))"
   ]
  },
  {
   "cell_type": "code",
   "execution_count": 69,
   "metadata": {},
   "outputs": [
    {
     "data": {
      "text/plain": [
       "0.8974619356746637"
      ]
     },
     "execution_count": 69,
     "metadata": {},
     "output_type": "execute_result"
    }
   ],
   "source": [
    "roc_auc_score(y_test, test_predictions_weighted>0.20)"
   ]
  },
  {
   "cell_type": "code",
   "execution_count": null,
   "metadata": {},
   "outputs": [],
   "source": []
  }
 ],
 "metadata": {
  "kernelspec": {
   "display_name": "Python 3",
   "language": "python",
   "name": "python3"
  },
  "language_info": {
   "codemirror_mode": {
    "name": "ipython",
    "version": 3
   },
   "file_extension": ".py",
   "mimetype": "text/x-python",
   "name": "python",
   "nbconvert_exporter": "python",
   "pygments_lexer": "ipython3",
   "version": "3.6.8"
  }
 },
 "nbformat": 4,
 "nbformat_minor": 4
}
