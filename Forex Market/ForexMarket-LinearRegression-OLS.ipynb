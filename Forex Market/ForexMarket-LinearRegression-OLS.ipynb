{
 "cells": [
  {
   "cell_type": "markdown",
   "metadata": {},
   "source": [
    "### *Forex* markets are exchanges to trade in different currencies"
   ]
  },
  {
   "cell_type": "markdown",
   "metadata": {},
   "source": [
    "Hedging is a way to minimize or eliminate foreugn exchange risk\n",
    "\n",
    "Two common hedges: \n",
    "\n",
    "-forward contracts: lock in an exchange rate (ER) today at which the currency transaction will occur at a future date. forexample, I lock to buy the USD for 70 CAD, when it becomes 100, I benefit 30! (risk: it can go other way)\n",
    "\n",
    "-options: Set an exchange rate at which the ocmpany may choose to exchange currencies, if the current ER is more favorable, then the company will not exercise this option. wee need to pay premoum that is the insuarnce to pay risk"
   ]
  },
  {
   "cell_type": "code",
   "execution_count": 2,
   "metadata": {},
   "outputs": [],
   "source": [
    "import pandas as pd\n",
    "import numpy as np\n",
    "import statsmodels.tsa.api as smt\n",
    "from sklearn.model_selection import train_test_split\n",
    "from sklearn.model_selection import train_test_split\n",
    "import statsmodels as sm\n",
    "from statsmodels.regression.linear_model import OLS\n",
    "from sklearn.metrics import r2_score\n",
    "import seaborn as sns\n",
    "import matplotlib.pyplot as plt\n",
    "plt.style.use('ggplot')"
   ]
  },
  {
   "cell_type": "markdown",
   "metadata": {},
   "source": [
    "# FOREX currency data for model input"
   ]
  },
  {
   "cell_type": "code",
   "execution_count": 3,
   "metadata": {},
   "outputs": [
    {
     "data": {
      "text/html": [
       "<div>\n",
       "<style scoped>\n",
       "    .dataframe tbody tr th:only-of-type {\n",
       "        vertical-align: middle;\n",
       "    }\n",
       "\n",
       "    .dataframe tbody tr th {\n",
       "        vertical-align: top;\n",
       "    }\n",
       "\n",
       "    .dataframe thead th {\n",
       "        text-align: right;\n",
       "    }\n",
       "</style>\n",
       "<table border=\"1\" class=\"dataframe\">\n",
       "  <thead>\n",
       "    <tr style=\"text-align: right;\">\n",
       "      <th></th>\n",
       "      <th>0</th>\n",
       "      <th>1</th>\n",
       "      <th>2</th>\n",
       "      <th>3</th>\n",
       "      <th>4</th>\n",
       "      <th>5</th>\n",
       "    </tr>\n",
       "  </thead>\n",
       "  <tbody>\n",
       "    <tr>\n",
       "      <th>0</th>\n",
       "      <td>2017.01.02</td>\n",
       "      <td>2:00</td>\n",
       "      <td>116.858</td>\n",
       "      <td>116.870</td>\n",
       "      <td>116.858</td>\n",
       "      <td>116.870</td>\n",
       "    </tr>\n",
       "    <tr>\n",
       "      <th>1</th>\n",
       "      <td>2017.01.02</td>\n",
       "      <td>2:01</td>\n",
       "      <td>116.875</td>\n",
       "      <td>116.915</td>\n",
       "      <td>116.875</td>\n",
       "      <td>116.901</td>\n",
       "    </tr>\n",
       "    <tr>\n",
       "      <th>2</th>\n",
       "      <td>2017.01.02</td>\n",
       "      <td>2:02</td>\n",
       "      <td>116.901</td>\n",
       "      <td>116.901</td>\n",
       "      <td>116.901</td>\n",
       "      <td>116.901</td>\n",
       "    </tr>\n",
       "    <tr>\n",
       "      <th>3</th>\n",
       "      <td>2017.01.02</td>\n",
       "      <td>2:03</td>\n",
       "      <td>116.901</td>\n",
       "      <td>116.906</td>\n",
       "      <td>116.897</td>\n",
       "      <td>116.900</td>\n",
       "    </tr>\n",
       "    <tr>\n",
       "      <th>4</th>\n",
       "      <td>2017.01.02</td>\n",
       "      <td>2:04</td>\n",
       "      <td>116.900</td>\n",
       "      <td>116.903</td>\n",
       "      <td>116.900</td>\n",
       "      <td>116.903</td>\n",
       "    </tr>\n",
       "  </tbody>\n",
       "</table>\n",
       "</div>"
      ],
      "text/plain": [
       "            0     1        2        3        4        5\n",
       "0  2017.01.02  2:00  116.858  116.870  116.858  116.870\n",
       "1  2017.01.02  2:01  116.875  116.915  116.875  116.901\n",
       "2  2017.01.02  2:02  116.901  116.901  116.901  116.901\n",
       "3  2017.01.02  2:03  116.901  116.906  116.897  116.900\n",
       "4  2017.01.02  2:04  116.900  116.903  116.900  116.903"
      ]
     },
     "execution_count": 3,
     "metadata": {},
     "output_type": "execute_result"
    }
   ],
   "source": [
    "forex_data = pd.read_csv(\"ForexMarket.csv\", header=None)\n",
    "forex_data.head()"
   ]
  },
  {
   "cell_type": "code",
   "execution_count": 4,
   "metadata": {},
   "outputs": [],
   "source": [
    "forex_data.columns = ['Date','Time','Open','High','Low','Close']"
   ]
  },
  {
   "cell_type": "code",
   "execution_count": 5,
   "metadata": {},
   "outputs": [
    {
     "data": {
      "text/html": [
       "<div>\n",
       "<style scoped>\n",
       "    .dataframe tbody tr th:only-of-type {\n",
       "        vertical-align: middle;\n",
       "    }\n",
       "\n",
       "    .dataframe tbody tr th {\n",
       "        vertical-align: top;\n",
       "    }\n",
       "\n",
       "    .dataframe thead th {\n",
       "        text-align: right;\n",
       "    }\n",
       "</style>\n",
       "<table border=\"1\" class=\"dataframe\">\n",
       "  <thead>\n",
       "    <tr style=\"text-align: right;\">\n",
       "      <th></th>\n",
       "      <th>Date</th>\n",
       "      <th>Time</th>\n",
       "      <th>Open</th>\n",
       "      <th>High</th>\n",
       "      <th>Low</th>\n",
       "      <th>Close</th>\n",
       "    </tr>\n",
       "  </thead>\n",
       "  <tbody>\n",
       "    <tr>\n",
       "      <th>0</th>\n",
       "      <td>2017.01.02</td>\n",
       "      <td>2:00</td>\n",
       "      <td>116.858</td>\n",
       "      <td>116.870</td>\n",
       "      <td>116.858</td>\n",
       "      <td>116.870</td>\n",
       "    </tr>\n",
       "    <tr>\n",
       "      <th>1</th>\n",
       "      <td>2017.01.02</td>\n",
       "      <td>2:01</td>\n",
       "      <td>116.875</td>\n",
       "      <td>116.915</td>\n",
       "      <td>116.875</td>\n",
       "      <td>116.901</td>\n",
       "    </tr>\n",
       "    <tr>\n",
       "      <th>2</th>\n",
       "      <td>2017.01.02</td>\n",
       "      <td>2:02</td>\n",
       "      <td>116.901</td>\n",
       "      <td>116.901</td>\n",
       "      <td>116.901</td>\n",
       "      <td>116.901</td>\n",
       "    </tr>\n",
       "    <tr>\n",
       "      <th>3</th>\n",
       "      <td>2017.01.02</td>\n",
       "      <td>2:03</td>\n",
       "      <td>116.901</td>\n",
       "      <td>116.906</td>\n",
       "      <td>116.897</td>\n",
       "      <td>116.900</td>\n",
       "    </tr>\n",
       "    <tr>\n",
       "      <th>4</th>\n",
       "      <td>2017.01.02</td>\n",
       "      <td>2:04</td>\n",
       "      <td>116.900</td>\n",
       "      <td>116.903</td>\n",
       "      <td>116.900</td>\n",
       "      <td>116.903</td>\n",
       "    </tr>\n",
       "  </tbody>\n",
       "</table>\n",
       "</div>"
      ],
      "text/plain": [
       "         Date  Time     Open     High      Low    Close\n",
       "0  2017.01.02  2:00  116.858  116.870  116.858  116.870\n",
       "1  2017.01.02  2:01  116.875  116.915  116.875  116.901\n",
       "2  2017.01.02  2:02  116.901  116.901  116.901  116.901\n",
       "3  2017.01.02  2:03  116.901  116.906  116.897  116.900\n",
       "4  2017.01.02  2:04  116.900  116.903  116.900  116.903"
      ]
     },
     "execution_count": 5,
     "metadata": {},
     "output_type": "execute_result"
    }
   ],
   "source": [
    "forex_data.head()"
   ]
  },
  {
   "cell_type": "code",
   "execution_count": 6,
   "metadata": {
    "scrolled": true
   },
   "outputs": [
    {
     "data": {
      "text/html": [
       "<div>\n",
       "<style scoped>\n",
       "    .dataframe tbody tr th:only-of-type {\n",
       "        vertical-align: middle;\n",
       "    }\n",
       "\n",
       "    .dataframe tbody tr th {\n",
       "        vertical-align: top;\n",
       "    }\n",
       "\n",
       "    .dataframe thead th {\n",
       "        text-align: right;\n",
       "    }\n",
       "</style>\n",
       "<table border=\"1\" class=\"dataframe\">\n",
       "  <thead>\n",
       "    <tr style=\"text-align: right;\">\n",
       "      <th></th>\n",
       "      <th>Date</th>\n",
       "      <th>Time</th>\n",
       "      <th>Open</th>\n",
       "      <th>High</th>\n",
       "      <th>Low</th>\n",
       "      <th>Close</th>\n",
       "      <th>Hour</th>\n",
       "    </tr>\n",
       "  </thead>\n",
       "  <tbody>\n",
       "    <tr>\n",
       "      <th>0</th>\n",
       "      <td>2017.01.02</td>\n",
       "      <td>2:00</td>\n",
       "      <td>116.858</td>\n",
       "      <td>116.870</td>\n",
       "      <td>116.858</td>\n",
       "      <td>116.870</td>\n",
       "      <td>2</td>\n",
       "    </tr>\n",
       "    <tr>\n",
       "      <th>1</th>\n",
       "      <td>2017.01.02</td>\n",
       "      <td>2:01</td>\n",
       "      <td>116.875</td>\n",
       "      <td>116.915</td>\n",
       "      <td>116.875</td>\n",
       "      <td>116.901</td>\n",
       "      <td>2</td>\n",
       "    </tr>\n",
       "    <tr>\n",
       "      <th>2</th>\n",
       "      <td>2017.01.02</td>\n",
       "      <td>2:02</td>\n",
       "      <td>116.901</td>\n",
       "      <td>116.901</td>\n",
       "      <td>116.901</td>\n",
       "      <td>116.901</td>\n",
       "      <td>2</td>\n",
       "    </tr>\n",
       "    <tr>\n",
       "      <th>3</th>\n",
       "      <td>2017.01.02</td>\n",
       "      <td>2:03</td>\n",
       "      <td>116.901</td>\n",
       "      <td>116.906</td>\n",
       "      <td>116.897</td>\n",
       "      <td>116.900</td>\n",
       "      <td>2</td>\n",
       "    </tr>\n",
       "    <tr>\n",
       "      <th>4</th>\n",
       "      <td>2017.01.02</td>\n",
       "      <td>2:04</td>\n",
       "      <td>116.900</td>\n",
       "      <td>116.903</td>\n",
       "      <td>116.900</td>\n",
       "      <td>116.903</td>\n",
       "      <td>2</td>\n",
       "    </tr>\n",
       "  </tbody>\n",
       "</table>\n",
       "</div>"
      ],
      "text/plain": [
       "         Date  Time     Open     High      Low    Close  Hour\n",
       "0  2017.01.02  2:00  116.858  116.870  116.858  116.870     2\n",
       "1  2017.01.02  2:01  116.875  116.915  116.875  116.901     2\n",
       "2  2017.01.02  2:02  116.901  116.901  116.901  116.901     2\n",
       "3  2017.01.02  2:03  116.901  116.906  116.897  116.900     2\n",
       "4  2017.01.02  2:04  116.900  116.903  116.900  116.903     2"
      ]
     },
     "execution_count": 6,
     "metadata": {},
     "output_type": "execute_result"
    }
   ],
   "source": [
    "forex_data[\"Hour\"] = forex_data[\"Time\"].apply(lambda t: t.split(\":\")[0])\n",
    "forex_data[\"Hour\"] = forex_data[\"Hour\"].astype(int)\n",
    "forex_data.head()"
   ]
  },
  {
   "cell_type": "markdown",
   "metadata": {},
   "source": [
    "#### Take the mean of closing price for every hour"
   ]
  },
  {
   "cell_type": "code",
   "execution_count": 7,
   "metadata": {},
   "outputs": [],
   "source": [
    "forex_agg = forex_data.groupby([\"Date\",\"Hour\"])[\"Close\"].mean()\n",
    "forex_agg = forex_agg.reset_index().sort_values(by=[\"Date\",\"Hour\"],ascending=True)"
   ]
  },
  {
   "cell_type": "code",
   "execution_count": 8,
   "metadata": {},
   "outputs": [
    {
     "data": {
      "text/html": [
       "<div>\n",
       "<style scoped>\n",
       "    .dataframe tbody tr th:only-of-type {\n",
       "        vertical-align: middle;\n",
       "    }\n",
       "\n",
       "    .dataframe tbody tr th {\n",
       "        vertical-align: top;\n",
       "    }\n",
       "\n",
       "    .dataframe thead th {\n",
       "        text-align: right;\n",
       "    }\n",
       "</style>\n",
       "<table border=\"1\" class=\"dataframe\">\n",
       "  <thead>\n",
       "    <tr style=\"text-align: right;\">\n",
       "      <th></th>\n",
       "      <th>Date</th>\n",
       "      <th>Hour</th>\n",
       "      <th>Close</th>\n",
       "    </tr>\n",
       "  </thead>\n",
       "  <tbody>\n",
       "    <tr>\n",
       "      <th>0</th>\n",
       "      <td>2017.01.02</td>\n",
       "      <td>2</td>\n",
       "      <td>116.997768</td>\n",
       "    </tr>\n",
       "    <tr>\n",
       "      <th>1</th>\n",
       "      <td>2017.01.02</td>\n",
       "      <td>3</td>\n",
       "      <td>117.325172</td>\n",
       "    </tr>\n",
       "    <tr>\n",
       "      <th>2</th>\n",
       "      <td>2017.01.02</td>\n",
       "      <td>4</td>\n",
       "      <td>117.401138</td>\n",
       "    </tr>\n",
       "    <tr>\n",
       "      <th>3</th>\n",
       "      <td>2017.01.02</td>\n",
       "      <td>5</td>\n",
       "      <td>117.403000</td>\n",
       "    </tr>\n",
       "    <tr>\n",
       "      <th>4</th>\n",
       "      <td>2017.01.02</td>\n",
       "      <td>6</td>\n",
       "      <td>117.356714</td>\n",
       "    </tr>\n",
       "  </tbody>\n",
       "</table>\n",
       "</div>"
      ],
      "text/plain": [
       "         Date  Hour       Close\n",
       "0  2017.01.02     2  116.997768\n",
       "1  2017.01.02     3  117.325172\n",
       "2  2017.01.02     4  117.401138\n",
       "3  2017.01.02     5  117.403000\n",
       "4  2017.01.02     6  117.356714"
      ]
     },
     "execution_count": 8,
     "metadata": {},
     "output_type": "execute_result"
    }
   ],
   "source": [
    "forex_agg.head()"
   ]
  },
  {
   "cell_type": "code",
   "execution_count": 9,
   "metadata": {},
   "outputs": [
    {
     "data": {
      "text/plain": [
       "525"
      ]
     },
     "execution_count": 9,
     "metadata": {},
     "output_type": "execute_result"
    }
   ],
   "source": [
    "len(forex_agg)"
   ]
  },
  {
   "cell_type": "code",
   "execution_count": 10,
   "metadata": {},
   "outputs": [
    {
     "data": {
      "text/plain": [
       "Index(['Date', 'Hour', 'Close'], dtype='object')"
      ]
     },
     "execution_count": 10,
     "metadata": {},
     "output_type": "execute_result"
    }
   ],
   "source": [
    "forex_agg.columns"
   ]
  },
  {
   "cell_type": "code",
   "execution_count": 11,
   "metadata": {},
   "outputs": [
    {
     "data": {
      "text/plain": [
       "[<matplotlib.lines.Line2D at 0x226f4d48a90>]"
      ]
     },
     "execution_count": 11,
     "metadata": {},
     "output_type": "execute_result"
    },
    {
     "data": {
      "image/png": "[encoded data removed]",
      "text/plain": [
       "<Figure size 432x288 with 1 Axes>"
      ]
     },
     "metadata": {},
     "output_type": "display_data"
    }
   ],
   "source": [
    "plt.xlabel('time')\n",
    "plt.ylabel('USD-to-JPY')\n",
    "plt.plot(forex_agg['Close'])"
   ]
  },
  {
   "cell_type": "markdown",
   "metadata": {},
   "source": [
    "There is a downtrend"
   ]
  },
  {
   "cell_type": "markdown",
   "metadata": {},
   "source": [
    "### Moving Average and RSI based Features"
   ]
  },
  {
   "cell_type": "code",
   "execution_count": 12,
   "metadata": {},
   "outputs": [],
   "source": [
    "for i in range(1,7):\n",
    "    forex_agg['close_lag' + str(i)] = forex_agg['Close'].shift(i)"
   ]
  },
  {
   "cell_type": "code",
   "execution_count": 13,
   "metadata": {},
   "outputs": [],
   "source": [
    "#talib doesnt work\n",
    "\n",
    "# import talib\n",
    "\n",
    "# for n in [6,12,18,24]:\n",
    "\n",
    "#     # Create the moving average and divide by the close price to average it out\n",
    "#     forex_agg['ma_' + str(n)] = talib.SMA(forex_agg['Close'].values,\n",
    "#                               timeperiod=n) / forex_agg['Close']\n",
    "#     # Create the RSI indicator\n",
    "#     forex_agg['rsi_' + str(n)] = talib.RSI(forex_agg['Close'].values, timeperiod=n)\n",
    "# forex_agg.head(10)"
   ]
  },
  {
   "cell_type": "markdown",
   "metadata": {},
   "source": [
    "Formula for RS = average gain over n periods/average loss over n periods\n",
    "\n",
    "RSI = 100 - (100/(1 + RS)) RSI: Relative Strenght indicator"
   ]
  },
  {
   "cell_type": "code",
   "execution_count": 14,
   "metadata": {},
   "outputs": [],
   "source": [
    "def rsiFunc(prices, n):\n",
    "    deltas = np.diff(prices)\n",
    "    seed = deltas[:n+1]\n",
    "    up = seed[seed>=0].sum()/n\n",
    "    down = -seed[seed<0].sum()/n\n",
    "    rs = up/down\n",
    "    rsi = np.zeros_like(prices)\n",
    "    rsi[:n] = 100 - 100/(1+rs)\n",
    "\n",
    "    for i in range(n, len(prices)):\n",
    "        delta = deltas[i-1] # cause the diff is 1 shorter\n",
    "\n",
    "        if delta>0:\n",
    "            upval = delta\n",
    "            downval = 0\n",
    "        else:\n",
    "            upval = 0\n",
    "            downval = -delta\n",
    "\n",
    "        up = (up*(n-1) + upval)/n\n",
    "        down = (down*(n-1) + downval)/n\n",
    "\n",
    "        rs = up/down\n",
    "        rsi[i] = 100 - 100/(1+rs)\n",
    "\n",
    "    return rsi"
   ]
  },
  {
   "cell_type": "code",
   "execution_count": 15,
   "metadata": {},
   "outputs": [],
   "source": [
    "for n in [6,12,18,24]:\n",
    "    # Create the moving average and divide by the close price to average it out\n",
    "    #SMA simple moving average\n",
    "    forex_agg['ma_' + str(n)] = forex_agg['Close'].rolling(window=n).mean() / forex_agg['Close']  #divuide by close for normalization\n",
    "    forex_agg['rsi_' + str(n)]=rsiFunc(forex_agg['Close'], n)"
   ]
  },
  {
   "cell_type": "code",
   "execution_count": 16,
   "metadata": {},
   "outputs": [
    {
     "data": {
      "text/html": [
       "<div>\n",
       "<style scoped>\n",
       "    .dataframe tbody tr th:only-of-type {\n",
       "        vertical-align: middle;\n",
       "    }\n",
       "\n",
       "    .dataframe tbody tr th {\n",
       "        vertical-align: top;\n",
       "    }\n",
       "\n",
       "    .dataframe thead th {\n",
       "        text-align: right;\n",
       "    }\n",
       "</style>\n",
       "<table border=\"1\" class=\"dataframe\">\n",
       "  <thead>\n",
       "    <tr style=\"text-align: right;\">\n",
       "      <th></th>\n",
       "      <th>Date</th>\n",
       "      <th>Hour</th>\n",
       "      <th>Close</th>\n",
       "      <th>close_lag1</th>\n",
       "      <th>close_lag2</th>\n",
       "      <th>close_lag3</th>\n",
       "      <th>close_lag4</th>\n",
       "      <th>close_lag5</th>\n",
       "      <th>close_lag6</th>\n",
       "      <th>ma_6</th>\n",
       "      <th>rsi_6</th>\n",
       "      <th>ma_12</th>\n",
       "      <th>rsi_12</th>\n",
       "      <th>ma_18</th>\n",
       "      <th>rsi_18</th>\n",
       "      <th>ma_24</th>\n",
       "      <th>rsi_24</th>\n",
       "    </tr>\n",
       "  </thead>\n",
       "  <tbody>\n",
       "    <tr>\n",
       "      <th>0</th>\n",
       "      <td>2017.01.02</td>\n",
       "      <td>2</td>\n",
       "      <td>116.997768</td>\n",
       "      <td>NaN</td>\n",
       "      <td>NaN</td>\n",
       "      <td>NaN</td>\n",
       "      <td>NaN</td>\n",
       "      <td>NaN</td>\n",
       "      <td>NaN</td>\n",
       "      <td>NaN</td>\n",
       "      <td>83.108055</td>\n",
       "      <td>NaN</td>\n",
       "      <td>83.979669</td>\n",
       "      <td>NaN</td>\n",
       "      <td>66.416980</td>\n",
       "      <td>NaN</td>\n",
       "      <td>75.20552</td>\n",
       "    </tr>\n",
       "    <tr>\n",
       "      <th>1</th>\n",
       "      <td>2017.01.02</td>\n",
       "      <td>3</td>\n",
       "      <td>117.325172</td>\n",
       "      <td>116.997768</td>\n",
       "      <td>NaN</td>\n",
       "      <td>NaN</td>\n",
       "      <td>NaN</td>\n",
       "      <td>NaN</td>\n",
       "      <td>NaN</td>\n",
       "      <td>NaN</td>\n",
       "      <td>83.108055</td>\n",
       "      <td>NaN</td>\n",
       "      <td>83.979669</td>\n",
       "      <td>NaN</td>\n",
       "      <td>66.416980</td>\n",
       "      <td>NaN</td>\n",
       "      <td>75.20552</td>\n",
       "    </tr>\n",
       "    <tr>\n",
       "      <th>2</th>\n",
       "      <td>2017.01.02</td>\n",
       "      <td>4</td>\n",
       "      <td>117.401138</td>\n",
       "      <td>117.325172</td>\n",
       "      <td>116.997768</td>\n",
       "      <td>NaN</td>\n",
       "      <td>NaN</td>\n",
       "      <td>NaN</td>\n",
       "      <td>NaN</td>\n",
       "      <td>NaN</td>\n",
       "      <td>83.108055</td>\n",
       "      <td>NaN</td>\n",
       "      <td>83.979669</td>\n",
       "      <td>NaN</td>\n",
       "      <td>66.416980</td>\n",
       "      <td>NaN</td>\n",
       "      <td>75.20552</td>\n",
       "    </tr>\n",
       "    <tr>\n",
       "      <th>3</th>\n",
       "      <td>2017.01.02</td>\n",
       "      <td>5</td>\n",
       "      <td>117.403000</td>\n",
       "      <td>117.401138</td>\n",
       "      <td>117.325172</td>\n",
       "      <td>116.997768</td>\n",
       "      <td>NaN</td>\n",
       "      <td>NaN</td>\n",
       "      <td>NaN</td>\n",
       "      <td>NaN</td>\n",
       "      <td>83.108055</td>\n",
       "      <td>NaN</td>\n",
       "      <td>83.979669</td>\n",
       "      <td>NaN</td>\n",
       "      <td>66.416980</td>\n",
       "      <td>NaN</td>\n",
       "      <td>75.20552</td>\n",
       "    </tr>\n",
       "    <tr>\n",
       "      <th>4</th>\n",
       "      <td>2017.01.02</td>\n",
       "      <td>6</td>\n",
       "      <td>117.356714</td>\n",
       "      <td>117.403000</td>\n",
       "      <td>117.401138</td>\n",
       "      <td>117.325172</td>\n",
       "      <td>116.997768</td>\n",
       "      <td>NaN</td>\n",
       "      <td>NaN</td>\n",
       "      <td>NaN</td>\n",
       "      <td>83.108055</td>\n",
       "      <td>NaN</td>\n",
       "      <td>83.979669</td>\n",
       "      <td>NaN</td>\n",
       "      <td>66.416980</td>\n",
       "      <td>NaN</td>\n",
       "      <td>75.20552</td>\n",
       "    </tr>\n",
       "    <tr>\n",
       "      <th>5</th>\n",
       "      <td>2017.01.02</td>\n",
       "      <td>7</td>\n",
       "      <td>117.408610</td>\n",
       "      <td>117.356714</td>\n",
       "      <td>117.403000</td>\n",
       "      <td>117.401138</td>\n",
       "      <td>117.325172</td>\n",
       "      <td>116.997768</td>\n",
       "      <td>NaN</td>\n",
       "      <td>0.999206</td>\n",
       "      <td>83.108055</td>\n",
       "      <td>NaN</td>\n",
       "      <td>83.979669</td>\n",
       "      <td>NaN</td>\n",
       "      <td>66.416980</td>\n",
       "      <td>NaN</td>\n",
       "      <td>75.20552</td>\n",
       "    </tr>\n",
       "    <tr>\n",
       "      <th>6</th>\n",
       "      <td>2017.01.02</td>\n",
       "      <td>8</td>\n",
       "      <td>117.391678</td>\n",
       "      <td>117.408610</td>\n",
       "      <td>117.356714</td>\n",
       "      <td>117.403000</td>\n",
       "      <td>117.401138</td>\n",
       "      <td>117.325172</td>\n",
       "      <td>116.997768</td>\n",
       "      <td>0.999909</td>\n",
       "      <td>80.147390</td>\n",
       "      <td>NaN</td>\n",
       "      <td>83.979669</td>\n",
       "      <td>NaN</td>\n",
       "      <td>66.416980</td>\n",
       "      <td>NaN</td>\n",
       "      <td>75.20552</td>\n",
       "    </tr>\n",
       "    <tr>\n",
       "      <th>7</th>\n",
       "      <td>2017.01.02</td>\n",
       "      <td>9</td>\n",
       "      <td>117.361983</td>\n",
       "      <td>117.391678</td>\n",
       "      <td>117.408610</td>\n",
       "      <td>117.356714</td>\n",
       "      <td>117.403000</td>\n",
       "      <td>117.401138</td>\n",
       "      <td>117.325172</td>\n",
       "      <td>1.000215</td>\n",
       "      <td>74.557738</td>\n",
       "      <td>NaN</td>\n",
       "      <td>83.979669</td>\n",
       "      <td>NaN</td>\n",
       "      <td>66.416980</td>\n",
       "      <td>NaN</td>\n",
       "      <td>75.20552</td>\n",
       "    </tr>\n",
       "    <tr>\n",
       "      <th>8</th>\n",
       "      <td>2017.01.02</td>\n",
       "      <td>10</td>\n",
       "      <td>117.384917</td>\n",
       "      <td>117.361983</td>\n",
       "      <td>117.391678</td>\n",
       "      <td>117.408610</td>\n",
       "      <td>117.356714</td>\n",
       "      <td>117.403000</td>\n",
       "      <td>117.401138</td>\n",
       "      <td>0.999996</td>\n",
       "      <td>76.102356</td>\n",
       "      <td>NaN</td>\n",
       "      <td>83.979669</td>\n",
       "      <td>NaN</td>\n",
       "      <td>66.416980</td>\n",
       "      <td>NaN</td>\n",
       "      <td>75.20552</td>\n",
       "    </tr>\n",
       "    <tr>\n",
       "      <th>9</th>\n",
       "      <td>2017.01.02</td>\n",
       "      <td>11</td>\n",
       "      <td>117.339186</td>\n",
       "      <td>117.384917</td>\n",
       "      <td>117.361983</td>\n",
       "      <td>117.391678</td>\n",
       "      <td>117.408610</td>\n",
       "      <td>117.356714</td>\n",
       "      <td>117.403000</td>\n",
       "      <td>1.000295</td>\n",
       "      <td>66.449141</td>\n",
       "      <td>NaN</td>\n",
       "      <td>83.979669</td>\n",
       "      <td>NaN</td>\n",
       "      <td>66.416980</td>\n",
       "      <td>NaN</td>\n",
       "      <td>75.20552</td>\n",
       "    </tr>\n",
       "    <tr>\n",
       "      <th>10</th>\n",
       "      <td>2017.01.02</td>\n",
       "      <td>12</td>\n",
       "      <td>117.362421</td>\n",
       "      <td>117.339186</td>\n",
       "      <td>117.384917</td>\n",
       "      <td>117.361983</td>\n",
       "      <td>117.391678</td>\n",
       "      <td>117.408610</td>\n",
       "      <td>117.356714</td>\n",
       "      <td>1.000105</td>\n",
       "      <td>68.857600</td>\n",
       "      <td>NaN</td>\n",
       "      <td>83.979669</td>\n",
       "      <td>NaN</td>\n",
       "      <td>66.416980</td>\n",
       "      <td>NaN</td>\n",
       "      <td>75.20552</td>\n",
       "    </tr>\n",
       "    <tr>\n",
       "      <th>11</th>\n",
       "      <td>2017.01.02</td>\n",
       "      <td>13</td>\n",
       "      <td>117.423286</td>\n",
       "      <td>117.362421</td>\n",
       "      <td>117.339186</td>\n",
       "      <td>117.384917</td>\n",
       "      <td>117.361983</td>\n",
       "      <td>117.391678</td>\n",
       "      <td>117.408610</td>\n",
       "      <td>0.999608</td>\n",
       "      <td>74.591237</td>\n",
       "      <td>0.999345</td>\n",
       "      <td>83.979669</td>\n",
       "      <td>NaN</td>\n",
       "      <td>66.416980</td>\n",
       "      <td>NaN</td>\n",
       "      <td>75.20552</td>\n",
       "    </tr>\n",
       "    <tr>\n",
       "      <th>12</th>\n",
       "      <td>2017.01.02</td>\n",
       "      <td>14</td>\n",
       "      <td>117.495288</td>\n",
       "      <td>117.423286</td>\n",
       "      <td>117.362421</td>\n",
       "      <td>117.339186</td>\n",
       "      <td>117.384917</td>\n",
       "      <td>117.361983</td>\n",
       "      <td>117.391678</td>\n",
       "      <td>0.999142</td>\n",
       "      <td>79.856078</td>\n",
       "      <td>0.999085</td>\n",
       "      <td>85.312733</td>\n",
       "      <td>NaN</td>\n",
       "      <td>66.416980</td>\n",
       "      <td>NaN</td>\n",
       "      <td>75.20552</td>\n",
       "    </tr>\n",
       "    <tr>\n",
       "      <th>13</th>\n",
       "      <td>2017.01.02</td>\n",
       "      <td>15</td>\n",
       "      <td>117.585900</td>\n",
       "      <td>117.495288</td>\n",
       "      <td>117.423286</td>\n",
       "      <td>117.362421</td>\n",
       "      <td>117.339186</td>\n",
       "      <td>117.384917</td>\n",
       "      <td>117.361983</td>\n",
       "      <td>0.998690</td>\n",
       "      <td>84.657055</td>\n",
       "      <td>0.998500</td>\n",
       "      <td>86.818540</td>\n",
       "      <td>NaN</td>\n",
       "      <td>66.416980</td>\n",
       "      <td>NaN</td>\n",
       "      <td>75.20552</td>\n",
       "    </tr>\n",
       "    <tr>\n",
       "      <th>14</th>\n",
       "      <td>2017.01.02</td>\n",
       "      <td>16</td>\n",
       "      <td>117.593741</td>\n",
       "      <td>117.585900</td>\n",
       "      <td>117.495288</td>\n",
       "      <td>117.423286</td>\n",
       "      <td>117.362421</td>\n",
       "      <td>117.339186</td>\n",
       "      <td>117.384917</td>\n",
       "      <td>0.998919</td>\n",
       "      <td>85.027621</td>\n",
       "      <td>0.998570</td>\n",
       "      <td>86.944899</td>\n",
       "      <td>NaN</td>\n",
       "      <td>66.416980</td>\n",
       "      <td>NaN</td>\n",
       "      <td>75.20552</td>\n",
       "    </tr>\n",
       "    <tr>\n",
       "      <th>15</th>\n",
       "      <td>2017.01.02</td>\n",
       "      <td>17</td>\n",
       "      <td>117.394900</td>\n",
       "      <td>117.593741</td>\n",
       "      <td>117.585900</td>\n",
       "      <td>117.495288</td>\n",
       "      <td>117.423286</td>\n",
       "      <td>117.362421</td>\n",
       "      <td>117.339186</td>\n",
       "      <td>1.000690</td>\n",
       "      <td>49.008967</td>\n",
       "      <td>1.000255</td>\n",
       "      <td>68.721260</td>\n",
       "      <td>NaN</td>\n",
       "      <td>66.416980</td>\n",
       "      <td>NaN</td>\n",
       "      <td>75.20552</td>\n",
       "    </tr>\n",
       "    <tr>\n",
       "      <th>16</th>\n",
       "      <td>2017.01.02</td>\n",
       "      <td>18</td>\n",
       "      <td>117.389100</td>\n",
       "      <td>117.394900</td>\n",
       "      <td>117.593741</td>\n",
       "      <td>117.585900</td>\n",
       "      <td>117.495288</td>\n",
       "      <td>117.423286</td>\n",
       "      <td>117.362421</td>\n",
       "      <td>1.000777</td>\n",
       "      <td>48.292901</td>\n",
       "      <td>1.000328</td>\n",
       "      <td>68.265952</td>\n",
       "      <td>NaN</td>\n",
       "      <td>66.416980</td>\n",
       "      <td>NaN</td>\n",
       "      <td>75.20552</td>\n",
       "    </tr>\n",
       "    <tr>\n",
       "      <th>17</th>\n",
       "      <td>2017.01.02</td>\n",
       "      <td>19</td>\n",
       "      <td>117.400550</td>\n",
       "      <td>117.389100</td>\n",
       "      <td>117.394900</td>\n",
       "      <td>117.593741</td>\n",
       "      <td>117.585900</td>\n",
       "      <td>117.495288</td>\n",
       "      <td>117.423286</td>\n",
       "      <td>1.000648</td>\n",
       "      <td>50.022752</td>\n",
       "      <td>1.000225</td>\n",
       "      <td>68.712381</td>\n",
       "      <td>0.999908</td>\n",
       "      <td>66.416980</td>\n",
       "      <td>NaN</td>\n",
       "      <td>75.20552</td>\n",
       "    </tr>\n",
       "    <tr>\n",
       "      <th>18</th>\n",
       "      <td>2017.01.02</td>\n",
       "      <td>20</td>\n",
       "      <td>117.346967</td>\n",
       "      <td>117.400550</td>\n",
       "      <td>117.389100</td>\n",
       "      <td>117.394900</td>\n",
       "      <td>117.593741</td>\n",
       "      <td>117.585900</td>\n",
       "      <td>117.495288</td>\n",
       "      <td>1.000894</td>\n",
       "      <td>42.111200</td>\n",
       "      <td>1.000650</td>\n",
       "      <td>64.108191</td>\n",
       "      <td>1.000530</td>\n",
       "      <td>63.374404</td>\n",
       "      <td>NaN</td>\n",
       "      <td>75.20552</td>\n",
       "    </tr>\n",
       "    <tr>\n",
       "      <th>19</th>\n",
       "      <td>2017.01.02</td>\n",
       "      <td>21</td>\n",
       "      <td>117.385783</td>\n",
       "      <td>117.346967</td>\n",
       "      <td>117.400550</td>\n",
       "      <td>117.389100</td>\n",
       "      <td>117.394900</td>\n",
       "      <td>117.593741</td>\n",
       "      <td>117.585900</td>\n",
       "      <td>1.000279</td>\n",
       "      <td>49.108197</td>\n",
       "      <td>1.000336</td>\n",
       "      <td>65.913208</td>\n",
       "      <td>1.000228</td>\n",
       "      <td>64.617661</td>\n",
       "      <td>NaN</td>\n",
       "      <td>75.20552</td>\n",
       "    </tr>\n",
       "  </tbody>\n",
       "</table>\n",
       "</div>"
      ],
      "text/plain": [
       "          Date  Hour       Close  close_lag1  close_lag2  close_lag3  \\\n",
       "0   2017.01.02     2  116.997768         NaN         NaN         NaN   \n",
       "1   2017.01.02     3  117.325172  116.997768         NaN         NaN   \n",
       "2   2017.01.02     4  117.401138  117.325172  116.997768         NaN   \n",
       "3   2017.01.02     5  117.403000  117.401138  117.325172  116.997768   \n",
       "4   2017.01.02     6  117.356714  117.403000  117.401138  117.325172   \n",
       "5   2017.01.02     7  117.408610  117.356714  117.403000  117.401138   \n",
       "6   2017.01.02     8  117.391678  117.408610  117.356714  117.403000   \n",
       "7   2017.01.02     9  117.361983  117.391678  117.408610  117.356714   \n",
       "8   2017.01.02    10  117.384917  117.361983  117.391678  117.408610   \n",
       "9   2017.01.02    11  117.339186  117.384917  117.361983  117.391678   \n",
       "10  2017.01.02    12  117.362421  117.339186  117.384917  117.361983   \n",
       "11  2017.01.02    13  117.423286  117.362421  117.339186  117.384917   \n",
       "12  2017.01.02    14  117.495288  117.423286  117.362421  117.339186   \n",
       "13  2017.01.02    15  117.585900  117.495288  117.423286  117.362421   \n",
       "14  2017.01.02    16  117.593741  117.585900  117.495288  117.423286   \n",
       "15  2017.01.02    17  117.394900  117.593741  117.585900  117.495288   \n",
       "16  2017.01.02    18  117.389100  117.394900  117.593741  117.585900   \n",
       "17  2017.01.02    19  117.400550  117.389100  117.394900  117.593741   \n",
       "18  2017.01.02    20  117.346967  117.400550  117.389100  117.394900   \n",
       "19  2017.01.02    21  117.385783  117.346967  117.400550  117.389100   \n",
       "\n",
       "    close_lag4  close_lag5  close_lag6      ma_6      rsi_6     ma_12  \\\n",
       "0          NaN         NaN         NaN       NaN  83.108055       NaN   \n",
       "1          NaN         NaN         NaN       NaN  83.108055       NaN   \n",
       "2          NaN         NaN         NaN       NaN  83.108055       NaN   \n",
       "3          NaN         NaN         NaN       NaN  83.108055       NaN   \n",
       "4   116.997768         NaN         NaN       NaN  83.108055       NaN   \n",
       "5   117.325172  116.997768         NaN  0.999206  83.108055       NaN   \n",
       "6   117.401138  117.325172  116.997768  0.999909  80.147390       NaN   \n",
       "7   117.403000  117.401138  117.325172  1.000215  74.557738       NaN   \n",
       "8   117.356714  117.403000  117.401138  0.999996  76.102356       NaN   \n",
       "9   117.408610  117.356714  117.403000  1.000295  66.449141       NaN   \n",
       "10  117.391678  117.408610  117.356714  1.000105  68.857600       NaN   \n",
       "11  117.361983  117.391678  117.408610  0.999608  74.591237  0.999345   \n",
       "12  117.384917  117.361983  117.391678  0.999142  79.856078  0.999085   \n",
       "13  117.339186  117.384917  117.361983  0.998690  84.657055  0.998500   \n",
       "14  117.362421  117.339186  117.384917  0.998919  85.027621  0.998570   \n",
       "15  117.423286  117.362421  117.339186  1.000690  49.008967  1.000255   \n",
       "16  117.495288  117.423286  117.362421  1.000777  48.292901  1.000328   \n",
       "17  117.585900  117.495288  117.423286  1.000648  50.022752  1.000225   \n",
       "18  117.593741  117.585900  117.495288  1.000894  42.111200  1.000650   \n",
       "19  117.394900  117.593741  117.585900  1.000279  49.108197  1.000336   \n",
       "\n",
       "       rsi_12     ma_18     rsi_18  ma_24    rsi_24  \n",
       "0   83.979669       NaN  66.416980    NaN  75.20552  \n",
       "1   83.979669       NaN  66.416980    NaN  75.20552  \n",
       "2   83.979669       NaN  66.416980    NaN  75.20552  \n",
       "3   83.979669       NaN  66.416980    NaN  75.20552  \n",
       "4   83.979669       NaN  66.416980    NaN  75.20552  \n",
       "5   83.979669       NaN  66.416980    NaN  75.20552  \n",
       "6   83.979669       NaN  66.416980    NaN  75.20552  \n",
       "7   83.979669       NaN  66.416980    NaN  75.20552  \n",
       "8   83.979669       NaN  66.416980    NaN  75.20552  \n",
       "9   83.979669       NaN  66.416980    NaN  75.20552  \n",
       "10  83.979669       NaN  66.416980    NaN  75.20552  \n",
       "11  83.979669       NaN  66.416980    NaN  75.20552  \n",
       "12  85.312733       NaN  66.416980    NaN  75.20552  \n",
       "13  86.818540       NaN  66.416980    NaN  75.20552  \n",
       "14  86.944899       NaN  66.416980    NaN  75.20552  \n",
       "15  68.721260       NaN  66.416980    NaN  75.20552  \n",
       "16  68.265952       NaN  66.416980    NaN  75.20552  \n",
       "17  68.712381  0.999908  66.416980    NaN  75.20552  \n",
       "18  64.108191  1.000530  63.374404    NaN  75.20552  \n",
       "19  65.913208  1.000228  64.617661    NaN  75.20552  "
      ]
     },
     "execution_count": 16,
     "metadata": {},
     "output_type": "execute_result"
    }
   ],
   "source": [
    "forex_agg.head(20)"
   ]
  },
  {
   "cell_type": "code",
   "execution_count": 17,
   "metadata": {},
   "outputs": [
    {
     "data": {
      "text/plain": [
       "<matplotlib.axes._subplots.AxesSubplot at 0x226f4c696a0>"
      ]
     },
     "execution_count": 17,
     "metadata": {},
     "output_type": "execute_result"
    },
    {
     "data": {
      "image/png": "[encoded data removed]",
      "text/plain": [
       "<Figure size 1008x576 with 2 Axes>"
      ]
     },
     "metadata": {},
     "output_type": "display_data"
    }
   ],
   "source": [
    "plt.figure(figsize=(14,8))\n",
    "corr = forex_agg.drop(columns=[\"Date\",\"Hour\"]).corr()\n",
    "sns.heatmap(data=corr, annot=True, cmap=\"YlGnBu\")"
   ]
  },
  {
   "cell_type": "markdown",
   "metadata": {},
   "source": [
    "### Data Cleaning and Outlier Detection"
   ]
  },
  {
   "cell_type": "markdown",
   "metadata": {},
   "source": [
    "#### Check for null or na on columns"
   ]
  },
  {
   "cell_type": "code",
   "execution_count": 18,
   "metadata": {
    "scrolled": true
   },
   "outputs": [
    {
     "data": {
      "text/plain": [
       "Date           0\n",
       "Hour           0\n",
       "Close          0\n",
       "close_lag1     1\n",
       "close_lag2     2\n",
       "close_lag3     3\n",
       "close_lag4     4\n",
       "close_lag5     5\n",
       "close_lag6     6\n",
       "ma_6           5\n",
       "rsi_6          0\n",
       "ma_12         11\n",
       "rsi_12         0\n",
       "ma_18         17\n",
       "rsi_18         0\n",
       "ma_24         23\n",
       "rsi_24         0\n",
       "dtype: int64"
      ]
     },
     "execution_count": 18,
     "metadata": {},
     "output_type": "execute_result"
    }
   ],
   "source": [
    "forex_agg.isna().sum()"
   ]
  },
  {
   "cell_type": "code",
   "execution_count": 19,
   "metadata": {},
   "outputs": [],
   "source": [
    "forex_agg.fillna(forex_agg.mean(),inplace=True)"
   ]
  },
  {
   "cell_type": "code",
   "execution_count": 20,
   "metadata": {},
   "outputs": [
    {
     "data": {
      "text/plain": [
       "Date          0\n",
       "Hour          0\n",
       "Close         0\n",
       "close_lag1    0\n",
       "close_lag2    0\n",
       "close_lag3    0\n",
       "close_lag4    0\n",
       "close_lag5    0\n",
       "close_lag6    0\n",
       "ma_6          0\n",
       "rsi_6         0\n",
       "ma_12         0\n",
       "rsi_12        0\n",
       "ma_18         0\n",
       "rsi_18        0\n",
       "ma_24         0\n",
       "rsi_24        0\n",
       "dtype: int64"
      ]
     },
     "execution_count": 20,
     "metadata": {},
     "output_type": "execute_result"
    }
   ],
   "source": [
    "forex_agg.isna().sum()"
   ]
  },
  {
   "cell_type": "code",
   "execution_count": 21,
   "metadata": {},
   "outputs": [
    {
     "name": "stdout",
     "output_type": "stream",
     "text": [
      "Close    2.2943\n",
      "dtype: float64\n"
     ]
    }
   ],
   "source": [
    "# Computing IQR Inter Quarter Range\n",
    "Q1 = forex_agg[[\"Close\"]].quantile(0.25)\n",
    "Q3 = forex_agg[[\"Close\"]].quantile(0.75)\n",
    "IQR = Q3 - Q1\n",
    "print(IQR)"
   ]
  },
  {
   "cell_type": "code",
   "execution_count": null,
   "metadata": {},
   "outputs": [],
   "source": []
  },
  {
   "cell_type": "code",
   "execution_count": 22,
   "metadata": {},
   "outputs": [
    {
     "name": "stderr",
     "output_type": "stream",
     "text": [
      "c:\\users\\rahel\\appdata\\local\\programs\\python\\python36\\lib\\site-packages\\seaborn\\_decorators.py:43: FutureWarning: Pass the following variable as a keyword arg: x. From version 0.12, the only valid positional argument will be `data`, and passing other arguments without an explicit keyword will result in an error or misinterpretation.\n",
      "  FutureWarning\n"
     ]
    },
    {
     "data": {
      "text/plain": [
       "<matplotlib.axes._subplots.AxesSubplot at 0x226f4c72a20>"
      ]
     },
     "execution_count": 22,
     "metadata": {},
     "output_type": "execute_result"
    },
    {
     "data": {
      "image/png": "[encoded data removed]",
      "text/plain": [
       "<Figure size 432x288 with 1 Axes>"
      ]
     },
     "metadata": {},
     "output_type": "display_data"
    }
   ],
   "source": [
    "sns.boxplot(\"Close\", data=forex_agg)\n",
    "# plt.xscale(\"log\")"
   ]
  },
  {
   "cell_type": "code",
   "execution_count": 23,
   "metadata": {},
   "outputs": [
    {
     "data": {
      "text/plain": [
       "0.0"
      ]
     },
     "execution_count": 23,
     "metadata": {},
     "output_type": "execute_result"
    }
   ],
   "source": [
    "len(forex_agg[forex_agg.Close > Q3['Close'] + 1.5*IQR[0]]) * 100/len(forex_agg)"
   ]
  },
  {
   "cell_type": "code",
   "execution_count": 24,
   "metadata": {},
   "outputs": [
    {
     "data": {
      "text/plain": [
       "0.0"
      ]
     },
     "execution_count": 24,
     "metadata": {},
     "output_type": "execute_result"
    }
   ],
   "source": [
    "len(forex_agg[forex_agg.Close < Q1['Close'] - 1.5*IQR[0]]) * 100/len(forex_agg)"
   ]
  },
  {
   "cell_type": "markdown",
   "metadata": {},
   "source": [
    "There are no outliers"
   ]
  },
  {
   "cell_type": "markdown",
   "metadata": {},
   "source": [
    "# Prepare The Data For Modelling"
   ]
  },
  {
   "cell_type": "markdown",
   "metadata": {},
   "source": [
    "Dropping **time** columns as they do not have significance as a driver for closing price."
   ]
  },
  {
   "cell_type": "code",
   "execution_count": 25,
   "metadata": {},
   "outputs": [],
   "source": [
    "forex_final = forex_agg.drop(columns = [\"Date\",\"Hour\"], axis = 1)"
   ]
  },
  {
   "cell_type": "code",
   "execution_count": 26,
   "metadata": {},
   "outputs": [
    {
     "data": {
      "text/html": [
       "<div>\n",
       "<style scoped>\n",
       "    .dataframe tbody tr th:only-of-type {\n",
       "        vertical-align: middle;\n",
       "    }\n",
       "\n",
       "    .dataframe tbody tr th {\n",
       "        vertical-align: top;\n",
       "    }\n",
       "\n",
       "    .dataframe thead th {\n",
       "        text-align: right;\n",
       "    }\n",
       "</style>\n",
       "<table border=\"1\" class=\"dataframe\">\n",
       "  <thead>\n",
       "    <tr style=\"text-align: right;\">\n",
       "      <th></th>\n",
       "      <th>Close</th>\n",
       "      <th>close_lag1</th>\n",
       "      <th>close_lag2</th>\n",
       "      <th>close_lag3</th>\n",
       "      <th>close_lag4</th>\n",
       "      <th>close_lag5</th>\n",
       "      <th>close_lag6</th>\n",
       "      <th>ma_6</th>\n",
       "      <th>rsi_6</th>\n",
       "      <th>ma_12</th>\n",
       "      <th>rsi_12</th>\n",
       "      <th>ma_18</th>\n",
       "      <th>rsi_18</th>\n",
       "      <th>ma_24</th>\n",
       "      <th>rsi_24</th>\n",
       "    </tr>\n",
       "  </thead>\n",
       "  <tbody>\n",
       "    <tr>\n",
       "      <th>0</th>\n",
       "      <td>116.997768</td>\n",
       "      <td>114.959874</td>\n",
       "      <td>114.963539</td>\n",
       "      <td>114.967309</td>\n",
       "      <td>114.971227</td>\n",
       "      <td>114.975556</td>\n",
       "      <td>114.979731</td>\n",
       "      <td>1.000184</td>\n",
       "      <td>83.108055</td>\n",
       "      <td>1.00042</td>\n",
       "      <td>83.979669</td>\n",
       "      <td>1.00067</td>\n",
       "      <td>66.41698</td>\n",
       "      <td>1.000896</td>\n",
       "      <td>75.20552</td>\n",
       "    </tr>\n",
       "    <tr>\n",
       "      <th>1</th>\n",
       "      <td>117.325172</td>\n",
       "      <td>116.997768</td>\n",
       "      <td>114.963539</td>\n",
       "      <td>114.967309</td>\n",
       "      <td>114.971227</td>\n",
       "      <td>114.975556</td>\n",
       "      <td>114.979731</td>\n",
       "      <td>1.000184</td>\n",
       "      <td>83.108055</td>\n",
       "      <td>1.00042</td>\n",
       "      <td>83.979669</td>\n",
       "      <td>1.00067</td>\n",
       "      <td>66.41698</td>\n",
       "      <td>1.000896</td>\n",
       "      <td>75.20552</td>\n",
       "    </tr>\n",
       "    <tr>\n",
       "      <th>2</th>\n",
       "      <td>117.401138</td>\n",
       "      <td>117.325172</td>\n",
       "      <td>116.997768</td>\n",
       "      <td>114.967309</td>\n",
       "      <td>114.971227</td>\n",
       "      <td>114.975556</td>\n",
       "      <td>114.979731</td>\n",
       "      <td>1.000184</td>\n",
       "      <td>83.108055</td>\n",
       "      <td>1.00042</td>\n",
       "      <td>83.979669</td>\n",
       "      <td>1.00067</td>\n",
       "      <td>66.41698</td>\n",
       "      <td>1.000896</td>\n",
       "      <td>75.20552</td>\n",
       "    </tr>\n",
       "    <tr>\n",
       "      <th>3</th>\n",
       "      <td>117.403000</td>\n",
       "      <td>117.401138</td>\n",
       "      <td>117.325172</td>\n",
       "      <td>116.997768</td>\n",
       "      <td>114.971227</td>\n",
       "      <td>114.975556</td>\n",
       "      <td>114.979731</td>\n",
       "      <td>1.000184</td>\n",
       "      <td>83.108055</td>\n",
       "      <td>1.00042</td>\n",
       "      <td>83.979669</td>\n",
       "      <td>1.00067</td>\n",
       "      <td>66.41698</td>\n",
       "      <td>1.000896</td>\n",
       "      <td>75.20552</td>\n",
       "    </tr>\n",
       "    <tr>\n",
       "      <th>4</th>\n",
       "      <td>117.356714</td>\n",
       "      <td>117.403000</td>\n",
       "      <td>117.401138</td>\n",
       "      <td>117.325172</td>\n",
       "      <td>116.997768</td>\n",
       "      <td>114.975556</td>\n",
       "      <td>114.979731</td>\n",
       "      <td>1.000184</td>\n",
       "      <td>83.108055</td>\n",
       "      <td>1.00042</td>\n",
       "      <td>83.979669</td>\n",
       "      <td>1.00067</td>\n",
       "      <td>66.41698</td>\n",
       "      <td>1.000896</td>\n",
       "      <td>75.20552</td>\n",
       "    </tr>\n",
       "  </tbody>\n",
       "</table>\n",
       "</div>"
      ],
      "text/plain": [
       "        Close  close_lag1  close_lag2  close_lag3  close_lag4  close_lag5  \\\n",
       "0  116.997768  114.959874  114.963539  114.967309  114.971227  114.975556   \n",
       "1  117.325172  116.997768  114.963539  114.967309  114.971227  114.975556   \n",
       "2  117.401138  117.325172  116.997768  114.967309  114.971227  114.975556   \n",
       "3  117.403000  117.401138  117.325172  116.997768  114.971227  114.975556   \n",
       "4  117.356714  117.403000  117.401138  117.325172  116.997768  114.975556   \n",
       "\n",
       "   close_lag6      ma_6      rsi_6    ma_12     rsi_12    ma_18    rsi_18  \\\n",
       "0  114.979731  1.000184  83.108055  1.00042  83.979669  1.00067  66.41698   \n",
       "1  114.979731  1.000184  83.108055  1.00042  83.979669  1.00067  66.41698   \n",
       "2  114.979731  1.000184  83.108055  1.00042  83.979669  1.00067  66.41698   \n",
       "3  114.979731  1.000184  83.108055  1.00042  83.979669  1.00067  66.41698   \n",
       "4  114.979731  1.000184  83.108055  1.00042  83.979669  1.00067  66.41698   \n",
       "\n",
       "      ma_24    rsi_24  \n",
       "0  1.000896  75.20552  \n",
       "1  1.000896  75.20552  \n",
       "2  1.000896  75.20552  \n",
       "3  1.000896  75.20552  \n",
       "4  1.000896  75.20552  "
      ]
     },
     "execution_count": 26,
     "metadata": {},
     "output_type": "execute_result"
    }
   ],
   "source": [
    "forex_final.head()"
   ]
  },
  {
   "cell_type": "markdown",
   "metadata": {},
   "source": [
    "## Normalize the data"
   ]
  },
  {
   "cell_type": "code",
   "execution_count": 27,
   "metadata": {},
   "outputs": [],
   "source": [
    "forex_n = forex_final.loc[:, forex_final.columns != 'Close']"
   ]
  },
  {
   "cell_type": "code",
   "execution_count": 28,
   "metadata": {},
   "outputs": [],
   "source": [
    "forex_n = (forex_n - forex_n.mean()) / forex_n.std()"
   ]
  },
  {
   "cell_type": "code",
   "execution_count": 29,
   "metadata": {},
   "outputs": [],
   "source": [
    "forex_m = pd.concat([forex_n,forex_final.loc[:,'Close']],axis=1)"
   ]
  },
  {
   "cell_type": "code",
   "execution_count": 30,
   "metadata": {},
   "outputs": [
    {
     "data": {
      "text/html": [
       "<div>\n",
       "<style scoped>\n",
       "    .dataframe tbody tr th:only-of-type {\n",
       "        vertical-align: middle;\n",
       "    }\n",
       "\n",
       "    .dataframe tbody tr th {\n",
       "        vertical-align: top;\n",
       "    }\n",
       "\n",
       "    .dataframe thead th {\n",
       "        text-align: right;\n",
       "    }\n",
       "</style>\n",
       "<table border=\"1\" class=\"dataframe\">\n",
       "  <thead>\n",
       "    <tr style=\"text-align: right;\">\n",
       "      <th></th>\n",
       "      <th>close_lag1</th>\n",
       "      <th>close_lag2</th>\n",
       "      <th>close_lag3</th>\n",
       "      <th>close_lag4</th>\n",
       "      <th>close_lag5</th>\n",
       "      <th>close_lag6</th>\n",
       "      <th>ma_6</th>\n",
       "      <th>rsi_6</th>\n",
       "      <th>ma_12</th>\n",
       "      <th>rsi_12</th>\n",
       "      <th>ma_18</th>\n",
       "      <th>rsi_18</th>\n",
       "      <th>ma_24</th>\n",
       "      <th>rsi_24</th>\n",
       "      <th>Close</th>\n",
       "    </tr>\n",
       "  </thead>\n",
       "  <tbody>\n",
       "    <tr>\n",
       "      <th>0</th>\n",
       "      <td>0.000000</td>\n",
       "      <td>0.000000</td>\n",
       "      <td>-9.621360e-15</td>\n",
       "      <td>0.000000</td>\n",
       "      <td>-9.660532e-15</td>\n",
       "      <td>-9.680626e-15</td>\n",
       "      <td>0.0</td>\n",
       "      <td>1.521782</td>\n",
       "      <td>1.483158e-13</td>\n",
       "      <td>2.029095</td>\n",
       "      <td>1.176394e-13</td>\n",
       "      <td>1.342949</td>\n",
       "      <td>-1.475083e-13</td>\n",
       "      <td>2.062248</td>\n",
       "      <td>116.997768</td>\n",
       "    </tr>\n",
       "    <tr>\n",
       "      <th>1</th>\n",
       "      <td>1.375201</td>\n",
       "      <td>0.000000</td>\n",
       "      <td>-9.621360e-15</td>\n",
       "      <td>0.000000</td>\n",
       "      <td>-9.660532e-15</td>\n",
       "      <td>-9.680626e-15</td>\n",
       "      <td>0.0</td>\n",
       "      <td>1.521782</td>\n",
       "      <td>1.483158e-13</td>\n",
       "      <td>2.029095</td>\n",
       "      <td>1.176394e-13</td>\n",
       "      <td>1.342949</td>\n",
       "      <td>-1.475083e-13</td>\n",
       "      <td>2.062248</td>\n",
       "      <td>117.325172</td>\n",
       "    </tr>\n",
       "    <tr>\n",
       "      <th>2</th>\n",
       "      <td>1.596138</td>\n",
       "      <td>1.374929</td>\n",
       "      <td>-9.621360e-15</td>\n",
       "      <td>0.000000</td>\n",
       "      <td>-9.660532e-15</td>\n",
       "      <td>-9.680626e-15</td>\n",
       "      <td>0.0</td>\n",
       "      <td>1.521782</td>\n",
       "      <td>1.483158e-13</td>\n",
       "      <td>2.029095</td>\n",
       "      <td>1.176394e-13</td>\n",
       "      <td>1.342949</td>\n",
       "      <td>-1.475083e-13</td>\n",
       "      <td>2.062248</td>\n",
       "      <td>117.401138</td>\n",
       "    </tr>\n",
       "    <tr>\n",
       "      <th>3</th>\n",
       "      <td>1.647400</td>\n",
       "      <td>1.596220</td>\n",
       "      <td>1.374708e+00</td>\n",
       "      <td>0.000000</td>\n",
       "      <td>-9.660532e-15</td>\n",
       "      <td>-9.680626e-15</td>\n",
       "      <td>0.0</td>\n",
       "      <td>1.521782</td>\n",
       "      <td>1.483158e-13</td>\n",
       "      <td>2.029095</td>\n",
       "      <td>1.176394e-13</td>\n",
       "      <td>1.342949</td>\n",
       "      <td>-1.475083e-13</td>\n",
       "      <td>2.062248</td>\n",
       "      <td>117.403000</td>\n",
       "    </tr>\n",
       "    <tr>\n",
       "      <th>4</th>\n",
       "      <td>1.648657</td>\n",
       "      <td>1.647565</td>\n",
       "      <td>1.596375e+00</td>\n",
       "      <td>1.374567</td>\n",
       "      <td>-9.660532e-15</td>\n",
       "      <td>-9.680626e-15</td>\n",
       "      <td>0.0</td>\n",
       "      <td>1.521782</td>\n",
       "      <td>1.483158e-13</td>\n",
       "      <td>2.029095</td>\n",
       "      <td>1.176394e-13</td>\n",
       "      <td>1.342949</td>\n",
       "      <td>-1.475083e-13</td>\n",
       "      <td>2.062248</td>\n",
       "      <td>117.356714</td>\n",
       "    </tr>\n",
       "  </tbody>\n",
       "</table>\n",
       "</div>"
      ],
      "text/plain": [
       "   close_lag1  close_lag2    close_lag3  close_lag4    close_lag5  \\\n",
       "0    0.000000    0.000000 -9.621360e-15    0.000000 -9.660532e-15   \n",
       "1    1.375201    0.000000 -9.621360e-15    0.000000 -9.660532e-15   \n",
       "2    1.596138    1.374929 -9.621360e-15    0.000000 -9.660532e-15   \n",
       "3    1.647400    1.596220  1.374708e+00    0.000000 -9.660532e-15   \n",
       "4    1.648657    1.647565  1.596375e+00    1.374567 -9.660532e-15   \n",
       "\n",
       "     close_lag6  ma_6     rsi_6         ma_12    rsi_12         ma_18  \\\n",
       "0 -9.680626e-15   0.0  1.521782  1.483158e-13  2.029095  1.176394e-13   \n",
       "1 -9.680626e-15   0.0  1.521782  1.483158e-13  2.029095  1.176394e-13   \n",
       "2 -9.680626e-15   0.0  1.521782  1.483158e-13  2.029095  1.176394e-13   \n",
       "3 -9.680626e-15   0.0  1.521782  1.483158e-13  2.029095  1.176394e-13   \n",
       "4 -9.680626e-15   0.0  1.521782  1.483158e-13  2.029095  1.176394e-13   \n",
       "\n",
       "     rsi_18         ma_24    rsi_24       Close  \n",
       "0  1.342949 -1.475083e-13  2.062248  116.997768  \n",
       "1  1.342949 -1.475083e-13  2.062248  117.325172  \n",
       "2  1.342949 -1.475083e-13  2.062248  117.401138  \n",
       "3  1.342949 -1.475083e-13  2.062248  117.403000  \n",
       "4  1.342949 -1.475083e-13  2.062248  117.356714  "
      ]
     },
     "execution_count": 30,
     "metadata": {},
     "output_type": "execute_result"
    }
   ],
   "source": [
    "forex_m.head()"
   ]
  },
  {
   "cell_type": "code",
   "execution_count": 31,
   "metadata": {},
   "outputs": [],
   "source": [
    "X = forex_m.loc[:, forex_m.columns != 'Close']\n",
    "Y = forex_m['Close']"
   ]
  },
  {
   "cell_type": "code",
   "execution_count": 32,
   "metadata": {},
   "outputs": [],
   "source": [
    "X_train, X_test, Y_train, Y_test = train_test_split(X,Y,random_state=42, test_size=0.2)"
   ]
  },
  {
   "cell_type": "code",
   "execution_count": 33,
   "metadata": {
    "scrolled": false
   },
   "outputs": [
    {
     "name": "stdout",
     "output_type": "stream",
     "text": [
      "Length Of training data  420\n",
      "Length Of test data  105\n",
      "Length Of training Y  420\n",
      "Length Of test data Y 105\n"
     ]
    }
   ],
   "source": [
    "print(\"Length Of training data \", len(X_train))\n",
    "print(\"Length Of test data \", len(X_test))\n",
    "print(\"Length Of training Y \", len(Y_train))\n",
    "print(\"Length Of test data Y\", len(Y_test))"
   ]
  },
  {
   "cell_type": "markdown",
   "metadata": {},
   "source": [
    "# Linear regression model"
   ]
  },
  {
   "cell_type": "code",
   "execution_count": 34,
   "metadata": {},
   "outputs": [],
   "source": [
    "def linear_reg(y_train, X_train, isSummary=False):\n",
    "\n",
    "    # Add a bias column to the training dataset before fitting the model\n",
    "    X_train = sm.tools.tools.add_constant(X_train, has_constant='add')\n",
    "    lm_1 = OLS(y_train,X_train).fit()\n",
    "    \n",
    "    if isSummary:\n",
    "        #Visualise the results of the model\n",
    "        print(lm_1.summary())\n",
    "    return lm_1"
   ]
  },
  {
   "cell_type": "code",
   "execution_count": 35,
   "metadata": {
    "scrolled": false
   },
   "outputs": [
    {
     "name": "stdout",
     "output_type": "stream",
     "text": [
      "                            OLS Regression Results                            \n",
      "==============================================================================\n",
      "Dep. Variable:                  Close   R-squared:                       0.998\n",
      "Model:                            OLS   Adj. R-squared:                  0.997\n",
      "Method:                 Least Squares   F-statistic:                 1.193e+04\n",
      "Date:                Fri, 30 Oct 2020   Prob (F-statistic):               0.00\n",
      "Time:                        12:53:46   Log-Likelihood:                 506.51\n",
      "No. Observations:                 420   AIC:                            -983.0\n",
      "Df Residuals:                     405   BIC:                            -922.4\n",
      "Df Model:                          14                                         \n",
      "Covariance Type:            nonrobust                                         \n",
      "==============================================================================\n",
      "                 coef    std err          t      P>|t|      [0.025      0.975]\n",
      "------------------------------------------------------------------------------\n",
      "const        114.9534      0.004   3.18e+04      0.000     114.946     114.961\n",
      "close_lag1     0.9686      0.038     25.560      0.000       0.894       1.043\n",
      "close_lag2    -0.1795      0.047     -3.818      0.000      -0.272      -0.087\n",
      "close_lag3     0.4153      0.051      8.164      0.000       0.315       0.515\n",
      "close_lag4     0.1311      0.045      2.919      0.004       0.043       0.219\n",
      "close_lag5     0.1464      0.045      3.246      0.001       0.058       0.235\n",
      "close_lag6    -0.0124      0.034     -0.361      0.718      -0.080       0.055\n",
      "ma_6          -0.2254      0.011    -21.112      0.000      -0.246      -0.204\n",
      "rsi_6          0.0082      0.023      0.365      0.715      -0.036       0.053\n",
      "ma_12          0.0723      0.023      3.152      0.002       0.027       0.117\n",
      "rsi_12         0.0910      0.035      2.619      0.009       0.023       0.159\n",
      "ma_18         -0.0386      0.035     -1.111      0.267      -0.107       0.030\n",
      "rsi_18        -0.1626      0.038     -4.253      0.000      -0.238      -0.087\n",
      "ma_24          0.0120      0.029      0.417      0.677      -0.045       0.069\n",
      "rsi_24         0.0922      0.028      3.324      0.001       0.038       0.147\n",
      "==============================================================================\n",
      "Omnibus:                      443.406   Durbin-Watson:                   2.025\n",
      "Prob(Omnibus):                  0.000   Jarque-Bera (JB):            45688.617\n",
      "Skew:                           4.317   Prob(JB):                         0.00\n",
      "Kurtosis:                      53.361   Cond. No.                         53.3\n",
      "==============================================================================\n",
      "\n",
      "Warnings:\n",
      "[1] Standard Errors assume that the covariance matrix of the errors is correctly specified.\n"
     ]
    }
   ],
   "source": [
    "mod = linear_reg(Y_train, X_train, isSummary=True)"
   ]
  },
  {
   "cell_type": "markdown",
   "metadata": {},
   "source": [
    "# 2.6 The Testing significance of metrics by using p-value and VIF"
   ]
  },
  {
   "cell_type": "code",
   "execution_count": 36,
   "metadata": {},
   "outputs": [],
   "source": [
    "def vif_cal(input_df):\n",
    "    \"\"\"\n",
    "    Calculates VIF for the dependent variables\n",
    "\n",
    "    \"\"\"\n",
    "    vif_df = pd.DataFrame(columns = [ 'Var', 'Vif']);\n",
    "    i=0\n",
    "    for var in input_df:\n",
    "        y_vars = input_df[var]\n",
    "        x_vars = input_df.drop(var, inplace=False, axis=1)\n",
    "        r2s = OLS(y_vars, x_vars).fit().rsquared\n",
    "        vif = round(1/(1-r2s),2)\n",
    "        vif_df.loc[i] = [var,vif]\n",
    "        i+=1\n",
    "    return vif_df.sort_values(by = 'Vif', ascending = False, inplace = False)"
   ]
  },
  {
   "cell_type": "code",
   "execution_count": 37,
   "metadata": {
    "scrolled": false
   },
   "outputs": [
    {
     "data": {
      "text/html": [
       "<div>\n",
       "<style scoped>\n",
       "    .dataframe tbody tr th:only-of-type {\n",
       "        vertical-align: middle;\n",
       "    }\n",
       "\n",
       "    .dataframe tbody tr th {\n",
       "        vertical-align: top;\n",
       "    }\n",
       "\n",
       "    .dataframe thead th {\n",
       "        text-align: right;\n",
       "    }\n",
       "</style>\n",
       "<table border=\"1\" class=\"dataframe\">\n",
       "  <thead>\n",
       "    <tr style=\"text-align: right;\">\n",
       "      <th></th>\n",
       "      <th>Var</th>\n",
       "      <th>Vif</th>\n",
       "    </tr>\n",
       "  </thead>\n",
       "  <tbody>\n",
       "    <tr>\n",
       "      <th>2</th>\n",
       "      <td>close_lag3</td>\n",
       "      <td>196.84</td>\n",
       "    </tr>\n",
       "    <tr>\n",
       "      <th>1</th>\n",
       "      <td>close_lag2</td>\n",
       "      <td>167.25</td>\n",
       "    </tr>\n",
       "    <tr>\n",
       "      <th>4</th>\n",
       "      <td>close_lag5</td>\n",
       "      <td>152.92</td>\n",
       "    </tr>\n",
       "    <tr>\n",
       "      <th>3</th>\n",
       "      <td>close_lag4</td>\n",
       "      <td>151.38</td>\n",
       "    </tr>\n",
       "    <tr>\n",
       "      <th>11</th>\n",
       "      <td>rsi_18</td>\n",
       "      <td>114.69</td>\n",
       "    </tr>\n",
       "    <tr>\n",
       "      <th>0</th>\n",
       "      <td>close_lag1</td>\n",
       "      <td>108.12</td>\n",
       "    </tr>\n",
       "    <tr>\n",
       "      <th>10</th>\n",
       "      <td>ma_18</td>\n",
       "      <td>96.27</td>\n",
       "    </tr>\n",
       "    <tr>\n",
       "      <th>9</th>\n",
       "      <td>rsi_12</td>\n",
       "      <td>93.64</td>\n",
       "    </tr>\n",
       "    <tr>\n",
       "      <th>5</th>\n",
       "      <td>close_lag6</td>\n",
       "      <td>88.22</td>\n",
       "    </tr>\n",
       "    <tr>\n",
       "      <th>12</th>\n",
       "      <td>ma_24</td>\n",
       "      <td>66.46</td>\n",
       "    </tr>\n",
       "    <tr>\n",
       "      <th>13</th>\n",
       "      <td>rsi_24</td>\n",
       "      <td>58.41</td>\n",
       "    </tr>\n",
       "    <tr>\n",
       "      <th>8</th>\n",
       "      <td>ma_12</td>\n",
       "      <td>41.47</td>\n",
       "    </tr>\n",
       "    <tr>\n",
       "      <th>7</th>\n",
       "      <td>rsi_6</td>\n",
       "      <td>40.47</td>\n",
       "    </tr>\n",
       "    <tr>\n",
       "      <th>6</th>\n",
       "      <td>ma_6</td>\n",
       "      <td>8.91</td>\n",
       "    </tr>\n",
       "  </tbody>\n",
       "</table>\n",
       "</div>"
      ],
      "text/plain": [
       "           Var     Vif\n",
       "2   close_lag3  196.84\n",
       "1   close_lag2  167.25\n",
       "4   close_lag5  152.92\n",
       "3   close_lag4  151.38\n",
       "11      rsi_18  114.69\n",
       "0   close_lag1  108.12\n",
       "10       ma_18   96.27\n",
       "9       rsi_12   93.64\n",
       "5   close_lag6   88.22\n",
       "12       ma_24   66.46\n",
       "13      rsi_24   58.41\n",
       "8        ma_12   41.47\n",
       "7        rsi_6   40.47\n",
       "6         ma_6    8.91"
      ]
     },
     "execution_count": 37,
     "metadata": {},
     "output_type": "execute_result"
    }
   ],
   "source": [
    "vif_cal(X_train)"
   ]
  },
  {
   "cell_type": "markdown",
   "metadata": {},
   "source": [
    "# 2.7 Hyperparameter tuning and final model selection"
   ]
  },
  {
   "cell_type": "code",
   "execution_count": 38,
   "metadata": {},
   "outputs": [],
   "source": [
    "X_t_1 = X_train.drop(columns=[\"close_lag3\"],axis=1)"
   ]
  },
  {
   "cell_type": "code",
   "execution_count": 39,
   "metadata": {},
   "outputs": [
    {
     "name": "stdout",
     "output_type": "stream",
     "text": [
      "                            OLS Regression Results                            \n",
      "==============================================================================\n",
      "Dep. Variable:                  Close   R-squared:                       0.997\n",
      "Model:                            OLS   Adj. R-squared:                  0.997\n",
      "Method:                 Least Squares   F-statistic:                 1.106e+04\n",
      "Date:                Fri, 30 Oct 2020   Prob (F-statistic):               0.00\n",
      "Time:                        12:53:46   Log-Likelihood:                 474.52\n",
      "No. Observations:                 420   AIC:                            -921.0\n",
      "Df Residuals:                     406   BIC:                            -864.5\n",
      "Df Model:                          13                                         \n",
      "Covariance Type:            nonrobust                                         \n",
      "==============================================================================\n",
      "                 coef    std err          t      P>|t|      [0.025      0.975]\n",
      "------------------------------------------------------------------------------\n",
      "const        114.9536      0.004   2.95e+04      0.000     114.946     114.961\n",
      "close_lag1     0.9774      0.041     23.939      0.000       0.897       1.058\n",
      "close_lag2     0.0516      0.040      1.274      0.203      -0.028       0.131\n",
      "close_lag4     0.3363      0.040      8.384      0.000       0.257       0.415\n",
      "close_lag5     0.1020      0.048      2.115      0.035       0.007       0.197\n",
      "close_lag6     0.0026      0.037      0.070      0.944      -0.070       0.075\n",
      "ma_6          -0.2156      0.011    -18.855      0.000      -0.238      -0.193\n",
      "rsi_6          0.0159      0.024      0.657      0.512      -0.032       0.064\n",
      "ma_12          0.0743      0.025      3.005      0.003       0.026       0.123\n",
      "rsi_12         0.0921      0.037      2.462      0.014       0.019       0.166\n",
      "ma_18         -0.0345      0.037     -0.921      0.358      -0.108       0.039\n",
      "rsi_18        -0.1708      0.041     -4.146      0.000      -0.252      -0.090\n",
      "ma_24          0.0088      0.031      0.283      0.778      -0.052       0.070\n",
      "rsi_24         0.0991      0.030      3.317      0.001       0.040       0.158\n",
      "==============================================================================\n",
      "Omnibus:                      389.993   Durbin-Watson:                   2.017\n",
      "Prob(Omnibus):                  0.000   Jarque-Bera (JB):            24939.201\n",
      "Skew:                           3.626   Prob(JB):                         0.00\n",
      "Kurtosis:                      40.047   Cond. No.                         43.3\n",
      "==============================================================================\n",
      "\n",
      "Warnings:\n",
      "[1] Standard Errors assume that the covariance matrix of the errors is correctly specified.\n"
     ]
    },
    {
     "data": {
      "text/plain": [
       "<statsmodels.regression.linear_model.RegressionResultsWrapper at 0x226f74c4ba8>"
      ]
     },
     "execution_count": 39,
     "metadata": {},
     "output_type": "execute_result"
    }
   ],
   "source": [
    "linear_reg(Y_train,X_t_1,isSummary=True)"
   ]
  },
  {
   "cell_type": "code",
   "execution_count": 40,
   "metadata": {},
   "outputs": [
    {
     "data": {
      "text/html": [
       "<div>\n",
       "<style scoped>\n",
       "    .dataframe tbody tr th:only-of-type {\n",
       "        vertical-align: middle;\n",
       "    }\n",
       "\n",
       "    .dataframe tbody tr th {\n",
       "        vertical-align: top;\n",
       "    }\n",
       "\n",
       "    .dataframe thead th {\n",
       "        text-align: right;\n",
       "    }\n",
       "</style>\n",
       "<table border=\"1\" class=\"dataframe\">\n",
       "  <thead>\n",
       "    <tr style=\"text-align: right;\">\n",
       "      <th></th>\n",
       "      <th>Var</th>\n",
       "      <th>Vif</th>\n",
       "    </tr>\n",
       "  </thead>\n",
       "  <tbody>\n",
       "    <tr>\n",
       "      <th>3</th>\n",
       "      <td>close_lag5</td>\n",
       "      <td>150.71</td>\n",
       "    </tr>\n",
       "    <tr>\n",
       "      <th>10</th>\n",
       "      <td>rsi_18</td>\n",
       "      <td>114.61</td>\n",
       "    </tr>\n",
       "    <tr>\n",
       "      <th>0</th>\n",
       "      <td>close_lag1</td>\n",
       "      <td>108.03</td>\n",
       "    </tr>\n",
       "    <tr>\n",
       "      <th>1</th>\n",
       "      <td>close_lag2</td>\n",
       "      <td>106.64</td>\n",
       "    </tr>\n",
       "    <tr>\n",
       "      <th>2</th>\n",
       "      <td>close_lag4</td>\n",
       "      <td>103.96</td>\n",
       "    </tr>\n",
       "    <tr>\n",
       "      <th>9</th>\n",
       "      <td>ma_18</td>\n",
       "      <td>96.25</td>\n",
       "    </tr>\n",
       "    <tr>\n",
       "      <th>8</th>\n",
       "      <td>rsi_12</td>\n",
       "      <td>93.64</td>\n",
       "    </tr>\n",
       "    <tr>\n",
       "      <th>4</th>\n",
       "      <td>close_lag6</td>\n",
       "      <td>87.97</td>\n",
       "    </tr>\n",
       "    <tr>\n",
       "      <th>11</th>\n",
       "      <td>ma_24</td>\n",
       "      <td>66.44</td>\n",
       "    </tr>\n",
       "    <tr>\n",
       "      <th>12</th>\n",
       "      <td>rsi_24</td>\n",
       "      <td>58.36</td>\n",
       "    </tr>\n",
       "    <tr>\n",
       "      <th>7</th>\n",
       "      <td>ma_12</td>\n",
       "      <td>41.47</td>\n",
       "    </tr>\n",
       "    <tr>\n",
       "      <th>6</th>\n",
       "      <td>rsi_6</td>\n",
       "      <td>40.40</td>\n",
       "    </tr>\n",
       "    <tr>\n",
       "      <th>5</th>\n",
       "      <td>ma_6</td>\n",
       "      <td>8.80</td>\n",
       "    </tr>\n",
       "  </tbody>\n",
       "</table>\n",
       "</div>"
      ],
      "text/plain": [
       "           Var     Vif\n",
       "3   close_lag5  150.71\n",
       "10      rsi_18  114.61\n",
       "0   close_lag1  108.03\n",
       "1   close_lag2  106.64\n",
       "2   close_lag4  103.96\n",
       "9        ma_18   96.25\n",
       "8       rsi_12   93.64\n",
       "4   close_lag6   87.97\n",
       "11       ma_24   66.44\n",
       "12      rsi_24   58.36\n",
       "7        ma_12   41.47\n",
       "6        rsi_6   40.40\n",
       "5         ma_6    8.80"
      ]
     },
     "execution_count": 40,
     "metadata": {},
     "output_type": "execute_result"
    }
   ],
   "source": [
    "vif_cal(X_t_1)"
   ]
  },
  {
   "cell_type": "code",
   "execution_count": 41,
   "metadata": {},
   "outputs": [],
   "source": [
    "X_t_2 = X_t_1.drop(columns=[\"close_lag1\",\"close_lag2\",\"close_lag4\",\"close_lag5\"],axis=1)"
   ]
  },
  {
   "cell_type": "code",
   "execution_count": 42,
   "metadata": {},
   "outputs": [
    {
     "name": "stdout",
     "output_type": "stream",
     "text": [
      "                            OLS Regression Results                            \n",
      "==============================================================================\n",
      "Dep. Variable:                  Close   R-squared:                       0.975\n",
      "Model:                            OLS   Adj. R-squared:                  0.974\n",
      "Method:                 Least Squares   F-statistic:                     1776.\n",
      "Date:                Fri, 30 Oct 2020   Prob (F-statistic):          4.00e-322\n",
      "Time:                        12:53:46   Log-Likelihood:                 15.931\n",
      "No. Observations:                 420   AIC:                            -11.86\n",
      "Df Residuals:                     410   BIC:                             28.54\n",
      "Df Model:                           9                                         \n",
      "Covariance Type:            nonrobust                                         \n",
      "==============================================================================\n",
      "                 coef    std err          t      P>|t|      [0.025      0.975]\n",
      "------------------------------------------------------------------------------\n",
      "const        114.9579      0.012   9967.604      0.000     114.935     114.981\n",
      "close_lag6     1.3752      0.015     89.138      0.000       1.345       1.405\n",
      "ma_6           0.0141      0.029      0.491      0.623      -0.042       0.070\n",
      "rsi_6          0.1070      0.072      1.494      0.136      -0.034       0.248\n",
      "ma_12         -0.4910      0.066     -7.401      0.000      -0.621      -0.361\n",
      "rsi_12         0.4043      0.109      3.695      0.000       0.189       0.619\n",
      "ma_18          0.3656      0.109      3.353      0.001       0.151       0.580\n",
      "rsi_18        -0.8003      0.117     -6.820      0.000      -1.031      -0.570\n",
      "ma_24         -0.1569      0.092     -1.714      0.087      -0.337       0.023\n",
      "rsi_24         0.4958      0.086      5.764      0.000       0.327       0.665\n",
      "==============================================================================\n",
      "Omnibus:                      240.000   Durbin-Watson:                   1.918\n",
      "Prob(Omnibus):                  0.000   Jarque-Bera (JB):             4764.481\n",
      "Skew:                           2.001   Prob(JB):                         0.00\n",
      "Kurtosis:                      19.007   Cond. No.                         37.4\n",
      "==============================================================================\n",
      "\n",
      "Warnings:\n",
      "[1] Standard Errors assume that the covariance matrix of the errors is correctly specified.\n"
     ]
    },
    {
     "data": {
      "text/plain": [
       "<statsmodels.regression.linear_model.RegressionResultsWrapper at 0x226f74fc048>"
      ]
     },
     "execution_count": 42,
     "metadata": {},
     "output_type": "execute_result"
    }
   ],
   "source": [
    "linear_reg(Y_train,X_t_2,isSummary=True)"
   ]
  },
  {
   "cell_type": "code",
   "execution_count": 43,
   "metadata": {},
   "outputs": [
    {
     "data": {
      "text/html": [
       "<div>\n",
       "<style scoped>\n",
       "    .dataframe tbody tr th:only-of-type {\n",
       "        vertical-align: middle;\n",
       "    }\n",
       "\n",
       "    .dataframe tbody tr th {\n",
       "        vertical-align: top;\n",
       "    }\n",
       "\n",
       "    .dataframe thead th {\n",
       "        text-align: right;\n",
       "    }\n",
       "</style>\n",
       "<table border=\"1\" class=\"dataframe\">\n",
       "  <thead>\n",
       "    <tr style=\"text-align: right;\">\n",
       "      <th></th>\n",
       "      <th>Var</th>\n",
       "      <th>Vif</th>\n",
       "    </tr>\n",
       "  </thead>\n",
       "  <tbody>\n",
       "    <tr>\n",
       "      <th>6</th>\n",
       "      <td>rsi_18</td>\n",
       "      <td>105.82</td>\n",
       "    </tr>\n",
       "    <tr>\n",
       "      <th>5</th>\n",
       "      <td>ma_18</td>\n",
       "      <td>92.78</td>\n",
       "    </tr>\n",
       "    <tr>\n",
       "      <th>4</th>\n",
       "      <td>rsi_12</td>\n",
       "      <td>90.99</td>\n",
       "    </tr>\n",
       "    <tr>\n",
       "      <th>7</th>\n",
       "      <td>ma_24</td>\n",
       "      <td>65.82</td>\n",
       "    </tr>\n",
       "    <tr>\n",
       "      <th>8</th>\n",
       "      <td>rsi_24</td>\n",
       "      <td>55.03</td>\n",
       "    </tr>\n",
       "    <tr>\n",
       "      <th>2</th>\n",
       "      <td>rsi_6</td>\n",
       "      <td>40.00</td>\n",
       "    </tr>\n",
       "    <tr>\n",
       "      <th>3</th>\n",
       "      <td>ma_12</td>\n",
       "      <td>33.98</td>\n",
       "    </tr>\n",
       "    <tr>\n",
       "      <th>1</th>\n",
       "      <td>ma_6</td>\n",
       "      <td>6.29</td>\n",
       "    </tr>\n",
       "    <tr>\n",
       "      <th>0</th>\n",
       "      <td>close_lag6</td>\n",
       "      <td>1.74</td>\n",
       "    </tr>\n",
       "  </tbody>\n",
       "</table>\n",
       "</div>"
      ],
      "text/plain": [
       "          Var     Vif\n",
       "6      rsi_18  105.82\n",
       "5       ma_18   92.78\n",
       "4      rsi_12   90.99\n",
       "7       ma_24   65.82\n",
       "8      rsi_24   55.03\n",
       "2       rsi_6   40.00\n",
       "3       ma_12   33.98\n",
       "1        ma_6    6.29\n",
       "0  close_lag6    1.74"
      ]
     },
     "execution_count": 43,
     "metadata": {},
     "output_type": "execute_result"
    }
   ],
   "source": [
    "vif_cal(X_t_2)"
   ]
  },
  {
   "cell_type": "code",
   "execution_count": 44,
   "metadata": {},
   "outputs": [],
   "source": [
    "X_t_3 = X_t_2.drop(columns=[\"rsi_24\"],axis=1)"
   ]
  },
  {
   "cell_type": "code",
   "execution_count": 45,
   "metadata": {},
   "outputs": [
    {
     "name": "stdout",
     "output_type": "stream",
     "text": [
      "                            OLS Regression Results                            \n",
      "==============================================================================\n",
      "Dep. Variable:                  Close   R-squared:                       0.973\n",
      "Model:                            OLS   Adj. R-squared:                  0.972\n",
      "Method:                 Least Squares   F-statistic:                     1849.\n",
      "Date:                Fri, 30 Oct 2020   Prob (F-statistic):          7.71e-317\n",
      "Time:                        12:53:46   Log-Likelihood:               -0.42852\n",
      "No. Observations:                 420   AIC:                             18.86\n",
      "Df Residuals:                     411   BIC:                             55.22\n",
      "Df Model:                           8                                         \n",
      "Covariance Type:            nonrobust                                         \n",
      "==============================================================================\n",
      "                 coef    std err          t      P>|t|      [0.025      0.975]\n",
      "------------------------------------------------------------------------------\n",
      "const        114.9571      0.012   9599.119      0.000     114.934     114.981\n",
      "close_lag6     1.4188      0.014    101.666      0.000       1.391       1.446\n",
      "ma_6          -0.0130      0.029     -0.444      0.658      -0.071       0.045\n",
      "rsi_6         -0.0684      0.067     -1.016      0.310      -0.201       0.064\n",
      "ma_12         -0.4983      0.069     -7.235      0.000      -0.634      -0.363\n",
      "rsi_12         0.6193      0.107      5.798      0.000       0.409       0.829\n",
      "ma_18          0.2650      0.112      2.371      0.018       0.045       0.485\n",
      "rsi_18        -0.2898      0.080     -3.626      0.000      -0.447      -0.133\n",
      "ma_24          0.0803      0.085      0.946      0.345      -0.087       0.247\n",
      "==============================================================================\n",
      "Omnibus:                      294.652   Durbin-Watson:                   1.903\n",
      "Prob(Omnibus):                  0.000   Jarque-Bera (JB):             7410.924\n",
      "Skew:                           2.609   Prob(JB):                         0.00\n",
      "Kurtosis:                      22.906   Cond. No.                         31.2\n",
      "==============================================================================\n",
      "\n",
      "Warnings:\n",
      "[1] Standard Errors assume that the covariance matrix of the errors is correctly specified.\n"
     ]
    },
    {
     "data": {
      "text/plain": [
       "<statsmodels.regression.linear_model.RegressionResultsWrapper at 0x226f7512470>"
      ]
     },
     "execution_count": 45,
     "metadata": {},
     "output_type": "execute_result"
    }
   ],
   "source": [
    "linear_reg(Y_train,X_t_3,isSummary=True)"
   ]
  },
  {
   "cell_type": "code",
   "execution_count": 46,
   "metadata": {},
   "outputs": [
    {
     "data": {
      "text/html": [
       "<div>\n",
       "<style scoped>\n",
       "    .dataframe tbody tr th:only-of-type {\n",
       "        vertical-align: middle;\n",
       "    }\n",
       "\n",
       "    .dataframe tbody tr th {\n",
       "        vertical-align: top;\n",
       "    }\n",
       "\n",
       "    .dataframe thead th {\n",
       "        text-align: right;\n",
       "    }\n",
       "</style>\n",
       "<table border=\"1\" class=\"dataframe\">\n",
       "  <thead>\n",
       "    <tr style=\"text-align: right;\">\n",
       "      <th></th>\n",
       "      <th>Var</th>\n",
       "      <th>Vif</th>\n",
       "    </tr>\n",
       "  </thead>\n",
       "  <tbody>\n",
       "    <tr>\n",
       "      <th>5</th>\n",
       "      <td>ma_18</td>\n",
       "      <td>90.40</td>\n",
       "    </tr>\n",
       "    <tr>\n",
       "      <th>4</th>\n",
       "      <td>rsi_12</td>\n",
       "      <td>80.38</td>\n",
       "    </tr>\n",
       "    <tr>\n",
       "      <th>7</th>\n",
       "      <td>ma_24</td>\n",
       "      <td>52.50</td>\n",
       "    </tr>\n",
       "    <tr>\n",
       "      <th>6</th>\n",
       "      <td>rsi_18</td>\n",
       "      <td>45.52</td>\n",
       "    </tr>\n",
       "    <tr>\n",
       "      <th>3</th>\n",
       "      <td>ma_12</td>\n",
       "      <td>33.96</td>\n",
       "    </tr>\n",
       "    <tr>\n",
       "      <th>2</th>\n",
       "      <td>rsi_6</td>\n",
       "      <td>32.77</td>\n",
       "    </tr>\n",
       "    <tr>\n",
       "      <th>1</th>\n",
       "      <td>ma_6</td>\n",
       "      <td>6.12</td>\n",
       "    </tr>\n",
       "    <tr>\n",
       "      <th>0</th>\n",
       "      <td>close_lag6</td>\n",
       "      <td>1.32</td>\n",
       "    </tr>\n",
       "  </tbody>\n",
       "</table>\n",
       "</div>"
      ],
      "text/plain": [
       "          Var    Vif\n",
       "5       ma_18  90.40\n",
       "4      rsi_12  80.38\n",
       "7       ma_24  52.50\n",
       "6      rsi_18  45.52\n",
       "3       ma_12  33.96\n",
       "2       rsi_6  32.77\n",
       "1        ma_6   6.12\n",
       "0  close_lag6   1.32"
      ]
     },
     "execution_count": 46,
     "metadata": {},
     "output_type": "execute_result"
    }
   ],
   "source": [
    "vif_cal(X_t_3)"
   ]
  },
  {
   "cell_type": "code",
   "execution_count": 47,
   "metadata": {},
   "outputs": [],
   "source": [
    "X_t_4 = X_t_3.drop(columns=[\"ma_18\"],axis=1)"
   ]
  },
  {
   "cell_type": "code",
   "execution_count": 48,
   "metadata": {},
   "outputs": [
    {
     "name": "stdout",
     "output_type": "stream",
     "text": [
      "                            OLS Regression Results                            \n",
      "==============================================================================\n",
      "Dep. Variable:                  Close   R-squared:                       0.973\n",
      "Model:                            OLS   Adj. R-squared:                  0.972\n",
      "Method:                 Least Squares   F-statistic:                     2089.\n",
      "Date:                Fri, 30 Oct 2020   Prob (F-statistic):          2.65e-317\n",
      "Time:                        12:53:46   Log-Likelihood:                -3.2820\n",
      "No. Observations:                 420   AIC:                             22.56\n",
      "Df Residuals:                     412   BIC:                             54.89\n",
      "Df Model:                           7                                         \n",
      "Covariance Type:            nonrobust                                         \n",
      "==============================================================================\n",
      "                 coef    std err          t      P>|t|      [0.025      0.975]\n",
      "------------------------------------------------------------------------------\n",
      "const        114.9571      0.012   9545.722      0.000     114.933     114.981\n",
      "close_lag6     1.4164      0.014    101.202      0.000       1.389       1.444\n",
      "ma_6          -0.0334      0.028     -1.184      0.237      -0.089       0.022\n",
      "rsi_6         -0.0828      0.067     -1.229      0.220      -0.215       0.050\n",
      "ma_12         -0.3809      0.048     -7.914      0.000      -0.475      -0.286\n",
      "rsi_12         0.6178      0.107      5.752      0.000       0.407       0.829\n",
      "rsi_18        -0.2641      0.080     -3.316      0.001      -0.421      -0.108\n",
      "ma_24          0.2575      0.040      6.360      0.000       0.178       0.337\n",
      "==============================================================================\n",
      "Omnibus:                      286.283   Durbin-Watson:                   1.907\n",
      "Prob(Omnibus):                  0.000   Jarque-Bera (JB):             6493.148\n",
      "Skew:                           2.537   Prob(JB):                         0.00\n",
      "Kurtosis:                      21.582   Cond. No.                         27.3\n",
      "==============================================================================\n",
      "\n",
      "Warnings:\n",
      "[1] Standard Errors assume that the covariance matrix of the errors is correctly specified.\n"
     ]
    },
    {
     "data": {
      "text/plain": [
       "<statsmodels.regression.linear_model.RegressionResultsWrapper at 0x226f75286a0>"
      ]
     },
     "execution_count": 48,
     "metadata": {},
     "output_type": "execute_result"
    }
   ],
   "source": [
    "linear_reg(Y_train,X_t_4,isSummary=True)"
   ]
  },
  {
   "cell_type": "code",
   "execution_count": 49,
   "metadata": {
    "scrolled": true
   },
   "outputs": [
    {
     "data": {
      "text/html": [
       "<div>\n",
       "<style scoped>\n",
       "    .dataframe tbody tr th:only-of-type {\n",
       "        vertical-align: middle;\n",
       "    }\n",
       "\n",
       "    .dataframe tbody tr th {\n",
       "        vertical-align: top;\n",
       "    }\n",
       "\n",
       "    .dataframe thead th {\n",
       "        text-align: right;\n",
       "    }\n",
       "</style>\n",
       "<table border=\"1\" class=\"dataframe\">\n",
       "  <thead>\n",
       "    <tr style=\"text-align: right;\">\n",
       "      <th></th>\n",
       "      <th>Var</th>\n",
       "      <th>Vif</th>\n",
       "    </tr>\n",
       "  </thead>\n",
       "  <tbody>\n",
       "    <tr>\n",
       "      <th>4</th>\n",
       "      <td>rsi_12</td>\n",
       "      <td>80.37</td>\n",
       "    </tr>\n",
       "    <tr>\n",
       "      <th>5</th>\n",
       "      <td>rsi_18</td>\n",
       "      <td>44.68</td>\n",
       "    </tr>\n",
       "    <tr>\n",
       "      <th>2</th>\n",
       "      <td>rsi_6</td>\n",
       "      <td>32.50</td>\n",
       "    </tr>\n",
       "    <tr>\n",
       "      <th>3</th>\n",
       "      <td>ma_12</td>\n",
       "      <td>16.39</td>\n",
       "    </tr>\n",
       "    <tr>\n",
       "      <th>6</th>\n",
       "      <td>ma_24</td>\n",
       "      <td>11.80</td>\n",
       "    </tr>\n",
       "    <tr>\n",
       "      <th>1</th>\n",
       "      <td>ma_6</td>\n",
       "      <td>5.59</td>\n",
       "    </tr>\n",
       "    <tr>\n",
       "      <th>0</th>\n",
       "      <td>close_lag6</td>\n",
       "      <td>1.32</td>\n",
       "    </tr>\n",
       "  </tbody>\n",
       "</table>\n",
       "</div>"
      ],
      "text/plain": [
       "          Var    Vif\n",
       "4      rsi_12  80.37\n",
       "5      rsi_18  44.68\n",
       "2       rsi_6  32.50\n",
       "3       ma_12  16.39\n",
       "6       ma_24  11.80\n",
       "1        ma_6   5.59\n",
       "0  close_lag6   1.32"
      ]
     },
     "execution_count": 49,
     "metadata": {},
     "output_type": "execute_result"
    }
   ],
   "source": [
    "vif_cal(X_t_4)"
   ]
  },
  {
   "cell_type": "code",
   "execution_count": 50,
   "metadata": {},
   "outputs": [],
   "source": [
    "X_t_5 = X_t_4.drop(columns=[\"rsi_12\"],axis=1)"
   ]
  },
  {
   "cell_type": "code",
   "execution_count": 51,
   "metadata": {},
   "outputs": [
    {
     "name": "stdout",
     "output_type": "stream",
     "text": [
      "                            OLS Regression Results                            \n",
      "==============================================================================\n",
      "Dep. Variable:                  Close   R-squared:                       0.970\n",
      "Model:                            OLS   Adj. R-squared:                  0.970\n",
      "Method:                 Least Squares   F-statistic:                     2256.\n",
      "Date:                Fri, 30 Oct 2020   Prob (F-statistic):          4.33e-312\n",
      "Time:                        12:53:46   Log-Likelihood:                -19.502\n",
      "No. Observations:                 420   AIC:                             53.00\n",
      "Df Residuals:                     413   BIC:                             81.29\n",
      "Df Model:                           6                                         \n",
      "Covariance Type:            nonrobust                                         \n",
      "==============================================================================\n",
      "                 coef    std err          t      P>|t|      [0.025      0.975]\n",
      "------------------------------------------------------------------------------\n",
      "const        114.9543      0.012   9202.362      0.000     114.930     114.979\n",
      "close_lag6     1.4130      0.015     97.339      0.000       1.384       1.442\n",
      "ma_6           0.0028      0.029      0.100      0.921      -0.053       0.059\n",
      "rsi_6          0.2331      0.041      5.748      0.000       0.153       0.313\n",
      "ma_12         -0.3384      0.049     -6.855      0.000      -0.435      -0.241\n",
      "rsi_18         0.1502      0.035      4.258      0.000       0.081       0.220\n",
      "ma_24          0.2921      0.042      7.027      0.000       0.210       0.374\n",
      "==============================================================================\n",
      "Omnibus:                      377.453   Durbin-Watson:                   1.965\n",
      "Prob(Omnibus):                  0.000   Jarque-Bera (JB):            12586.568\n",
      "Skew:                           3.710   Prob(JB):                         0.00\n",
      "Kurtosis:                      28.771   Cond. No.                         10.8\n",
      "==============================================================================\n",
      "\n",
      "Warnings:\n",
      "[1] Standard Errors assume that the covariance matrix of the errors is correctly specified.\n"
     ]
    },
    {
     "data": {
      "text/plain": [
       "<statsmodels.regression.linear_model.RegressionResultsWrapper at 0x226f75382e8>"
      ]
     },
     "execution_count": 51,
     "metadata": {},
     "output_type": "execute_result"
    }
   ],
   "source": [
    "linear_reg(Y_train,X_t_5,isSummary=True)"
   ]
  },
  {
   "cell_type": "code",
   "execution_count": 52,
   "metadata": {
    "scrolled": true
   },
   "outputs": [
    {
     "data": {
      "text/html": [
       "<div>\n",
       "<style scoped>\n",
       "    .dataframe tbody tr th:only-of-type {\n",
       "        vertical-align: middle;\n",
       "    }\n",
       "\n",
       "    .dataframe tbody tr th {\n",
       "        vertical-align: top;\n",
       "    }\n",
       "\n",
       "    .dataframe thead th {\n",
       "        text-align: right;\n",
       "    }\n",
       "</style>\n",
       "<table border=\"1\" class=\"dataframe\">\n",
       "  <thead>\n",
       "    <tr style=\"text-align: right;\">\n",
       "      <th></th>\n",
       "      <th>Var</th>\n",
       "      <th>Vif</th>\n",
       "    </tr>\n",
       "  </thead>\n",
       "  <tbody>\n",
       "    <tr>\n",
       "      <th>3</th>\n",
       "      <td>ma_12</td>\n",
       "      <td>16.01</td>\n",
       "    </tr>\n",
       "    <tr>\n",
       "      <th>5</th>\n",
       "      <td>ma_24</td>\n",
       "      <td>11.54</td>\n",
       "    </tr>\n",
       "    <tr>\n",
       "      <th>2</th>\n",
       "      <td>rsi_6</td>\n",
       "      <td>10.91</td>\n",
       "    </tr>\n",
       "    <tr>\n",
       "      <th>4</th>\n",
       "      <td>rsi_18</td>\n",
       "      <td>8.14</td>\n",
       "    </tr>\n",
       "    <tr>\n",
       "      <th>1</th>\n",
       "      <td>ma_6</td>\n",
       "      <td>5.31</td>\n",
       "    </tr>\n",
       "    <tr>\n",
       "      <th>0</th>\n",
       "      <td>close_lag6</td>\n",
       "      <td>1.31</td>\n",
       "    </tr>\n",
       "  </tbody>\n",
       "</table>\n",
       "</div>"
      ],
      "text/plain": [
       "          Var    Vif\n",
       "3       ma_12  16.01\n",
       "5       ma_24  11.54\n",
       "2       rsi_6  10.91\n",
       "4      rsi_18   8.14\n",
       "1        ma_6   5.31\n",
       "0  close_lag6   1.31"
      ]
     },
     "execution_count": 52,
     "metadata": {},
     "output_type": "execute_result"
    }
   ],
   "source": [
    "vif_cal(X_t_5)"
   ]
  },
  {
   "cell_type": "code",
   "execution_count": 53,
   "metadata": {},
   "outputs": [],
   "source": [
    "X_t_6 = X_t_5.drop(columns=[\"rsi_6\"],axis=1)"
   ]
  },
  {
   "cell_type": "code",
   "execution_count": 54,
   "metadata": {},
   "outputs": [
    {
     "name": "stdout",
     "output_type": "stream",
     "text": [
      "                            OLS Regression Results                            \n",
      "==============================================================================\n",
      "Dep. Variable:                  Close   R-squared:                       0.968\n",
      "Model:                            OLS   Adj. R-squared:                  0.968\n",
      "Method:                 Least Squares   F-statistic:                     2507.\n",
      "Date:                Fri, 30 Oct 2020   Prob (F-statistic):          6.53e-307\n",
      "Time:                        12:53:46   Log-Likelihood:                -35.665\n",
      "No. Observations:                 420   AIC:                             83.33\n",
      "Df Residuals:                     414   BIC:                             107.6\n",
      "Df Model:                           5                                         \n",
      "Covariance Type:            nonrobust                                         \n",
      "==============================================================================\n",
      "                 coef    std err          t      P>|t|      [0.025      0.975]\n",
      "------------------------------------------------------------------------------\n",
      "const        114.9524      0.013   8868.741      0.000     114.927     114.978\n",
      "close_lag6     1.4047      0.015     93.690      0.000       1.375       1.434\n",
      "ma_6          -0.0280      0.029     -0.961      0.337      -0.085       0.029\n",
      "ma_12         -0.4606      0.046     -9.960      0.000      -0.552      -0.370\n",
      "rsi_18         0.2408      0.033      7.354      0.000       0.176       0.305\n",
      "ma_24          0.2947      0.043      6.830      0.000       0.210       0.379\n",
      "==============================================================================\n",
      "Omnibus:                      452.712   Durbin-Watson:                   1.988\n",
      "Prob(Omnibus):                  0.000   Jarque-Bera (JB):            24051.029\n",
      "Skew:                           4.795   Prob(JB):                         0.00\n",
      "Kurtosis:                      38.810   Cond. No.                         8.87\n",
      "==============================================================================\n",
      "\n",
      "Warnings:\n",
      "[1] Standard Errors assume that the covariance matrix of the errors is correctly specified.\n"
     ]
    },
    {
     "data": {
      "text/plain": [
       "<statsmodels.regression.linear_model.RegressionResultsWrapper at 0x226f7541550>"
      ]
     },
     "execution_count": 54,
     "metadata": {},
     "output_type": "execute_result"
    }
   ],
   "source": [
    "linear_reg(Y_train,X_t_6,isSummary=True)"
   ]
  },
  {
   "cell_type": "code",
   "execution_count": 55,
   "metadata": {
    "scrolled": true
   },
   "outputs": [
    {
     "data": {
      "text/html": [
       "<div>\n",
       "<style scoped>\n",
       "    .dataframe tbody tr th:only-of-type {\n",
       "        vertical-align: middle;\n",
       "    }\n",
       "\n",
       "    .dataframe tbody tr th {\n",
       "        vertical-align: top;\n",
       "    }\n",
       "\n",
       "    .dataframe thead th {\n",
       "        text-align: right;\n",
       "    }\n",
       "</style>\n",
       "<table border=\"1\" class=\"dataframe\">\n",
       "  <thead>\n",
       "    <tr style=\"text-align: right;\">\n",
       "      <th></th>\n",
       "      <th>Var</th>\n",
       "      <th>Vif</th>\n",
       "    </tr>\n",
       "  </thead>\n",
       "  <tbody>\n",
       "    <tr>\n",
       "      <th>2</th>\n",
       "      <td>ma_12</td>\n",
       "      <td>13.03</td>\n",
       "    </tr>\n",
       "    <tr>\n",
       "      <th>4</th>\n",
       "      <td>ma_24</td>\n",
       "      <td>11.54</td>\n",
       "    </tr>\n",
       "    <tr>\n",
       "      <th>3</th>\n",
       "      <td>rsi_18</td>\n",
       "      <td>6.51</td>\n",
       "    </tr>\n",
       "    <tr>\n",
       "      <th>1</th>\n",
       "      <td>ma_6</td>\n",
       "      <td>5.13</td>\n",
       "    </tr>\n",
       "    <tr>\n",
       "      <th>0</th>\n",
       "      <td>close_lag6</td>\n",
       "      <td>1.30</td>\n",
       "    </tr>\n",
       "  </tbody>\n",
       "</table>\n",
       "</div>"
      ],
      "text/plain": [
       "          Var    Vif\n",
       "2       ma_12  13.03\n",
       "4       ma_24  11.54\n",
       "3      rsi_18   6.51\n",
       "1        ma_6   5.13\n",
       "0  close_lag6   1.30"
      ]
     },
     "execution_count": 55,
     "metadata": {},
     "output_type": "execute_result"
    }
   ],
   "source": [
    "vif_cal(X_t_6)"
   ]
  },
  {
   "cell_type": "code",
   "execution_count": 56,
   "metadata": {},
   "outputs": [],
   "source": [
    "X_t_7 = X_t_6.drop(columns=[\"ma_6\"],axis=1)"
   ]
  },
  {
   "cell_type": "code",
   "execution_count": 57,
   "metadata": {},
   "outputs": [
    {
     "name": "stdout",
     "output_type": "stream",
     "text": [
      "                            OLS Regression Results                            \n",
      "==============================================================================\n",
      "Dep. Variable:                  Close   R-squared:                       0.968\n",
      "Model:                            OLS   Adj. R-squared:                  0.968\n",
      "Method:                 Least Squares   F-statistic:                     3134.\n",
      "Date:                Fri, 30 Oct 2020   Prob (F-statistic):          1.74e-308\n",
      "Time:                        12:53:46   Log-Likelihood:                -36.132\n",
      "No. Observations:                 420   AIC:                             82.26\n",
      "Df Residuals:                     415   BIC:                             102.5\n",
      "Df Model:                           4                                         \n",
      "Covariance Type:            nonrobust                                         \n",
      "==============================================================================\n",
      "                 coef    std err          t      P>|t|      [0.025      0.975]\n",
      "------------------------------------------------------------------------------\n",
      "const        114.9525      0.013   8869.685      0.000     114.927     114.978\n",
      "close_lag6     1.4043      0.015     93.711      0.000       1.375       1.434\n",
      "ma_12         -0.4955      0.029    -17.305      0.000      -0.552      -0.439\n",
      "rsi_18         0.2426      0.033      7.419      0.000       0.178       0.307\n",
      "ma_24          0.3079      0.041      7.533      0.000       0.228       0.388\n",
      "==============================================================================\n",
      "Omnibus:                      452.733   Durbin-Watson:                   1.988\n",
      "Prob(Omnibus):                  0.000   Jarque-Bera (JB):            23979.589\n",
      "Skew:                           4.797   Prob(JB):                         0.00\n",
      "Kurtosis:                      38.752   Cond. No.                         6.59\n",
      "==============================================================================\n",
      "\n",
      "Warnings:\n",
      "[1] Standard Errors assume that the covariance matrix of the errors is correctly specified.\n"
     ]
    },
    {
     "data": {
      "text/plain": [
       "<statsmodels.regression.linear_model.RegressionResultsWrapper at 0x226f751cc18>"
      ]
     },
     "execution_count": 57,
     "metadata": {},
     "output_type": "execute_result"
    }
   ],
   "source": [
    "linear_reg(Y_train,X_t_7,isSummary=True)"
   ]
  },
  {
   "cell_type": "code",
   "execution_count": 58,
   "metadata": {
    "scrolled": true
   },
   "outputs": [
    {
     "data": {
      "text/html": [
       "<div>\n",
       "<style scoped>\n",
       "    .dataframe tbody tr th:only-of-type {\n",
       "        vertical-align: middle;\n",
       "    }\n",
       "\n",
       "    .dataframe tbody tr th {\n",
       "        vertical-align: top;\n",
       "    }\n",
       "\n",
       "    .dataframe thead th {\n",
       "        text-align: right;\n",
       "    }\n",
       "</style>\n",
       "<table border=\"1\" class=\"dataframe\">\n",
       "  <thead>\n",
       "    <tr style=\"text-align: right;\">\n",
       "      <th></th>\n",
       "      <th>Var</th>\n",
       "      <th>Vif</th>\n",
       "    </tr>\n",
       "  </thead>\n",
       "  <tbody>\n",
       "    <tr>\n",
       "      <th>3</th>\n",
       "      <td>ma_24</td>\n",
       "      <td>10.36</td>\n",
       "    </tr>\n",
       "    <tr>\n",
       "      <th>2</th>\n",
       "      <td>rsi_18</td>\n",
       "      <td>6.49</td>\n",
       "    </tr>\n",
       "    <tr>\n",
       "      <th>1</th>\n",
       "      <td>ma_12</td>\n",
       "      <td>4.99</td>\n",
       "    </tr>\n",
       "    <tr>\n",
       "      <th>0</th>\n",
       "      <td>close_lag6</td>\n",
       "      <td>1.30</td>\n",
       "    </tr>\n",
       "  </tbody>\n",
       "</table>\n",
       "</div>"
      ],
      "text/plain": [
       "          Var    Vif\n",
       "3       ma_24  10.36\n",
       "2      rsi_18   6.49\n",
       "1       ma_12   4.99\n",
       "0  close_lag6   1.30"
      ]
     },
     "execution_count": 58,
     "metadata": {},
     "output_type": "execute_result"
    }
   ],
   "source": [
    "vif_cal(X_t_7)"
   ]
  },
  {
   "cell_type": "code",
   "execution_count": 59,
   "metadata": {},
   "outputs": [],
   "source": [
    "X_t_8 = X_t_7.drop(columns=[\"rsi_18\"],axis=1)"
   ]
  },
  {
   "cell_type": "code",
   "execution_count": 60,
   "metadata": {},
   "outputs": [
    {
     "name": "stdout",
     "output_type": "stream",
     "text": [
      "                            OLS Regression Results                            \n",
      "==============================================================================\n",
      "Dep. Variable:                  Close   R-squared:                       0.964\n",
      "Model:                            OLS   Adj. R-squared:                  0.963\n",
      "Method:                 Least Squares   F-statistic:                     3682.\n",
      "Date:                Fri, 30 Oct 2020   Prob (F-statistic):          4.38e-299\n",
      "Time:                        12:53:47   Log-Likelihood:                -62.284\n",
      "No. Observations:                 420   AIC:                             132.6\n",
      "Df Residuals:                     416   BIC:                             148.7\n",
      "Df Model:                           3                                         \n",
      "Covariance Type:            nonrobust                                         \n",
      "==============================================================================\n",
      "                 coef    std err          t      P>|t|      [0.025      0.975]\n",
      "------------------------------------------------------------------------------\n",
      "const        114.9511      0.014   8345.047      0.000     114.924     114.978\n",
      "close_lag6     1.4517      0.014    100.766      0.000       1.423       1.480\n",
      "ma_12         -0.4905      0.030    -16.118      0.000      -0.550      -0.431\n",
      "ma_24          0.0891      0.030      2.962      0.003       0.030       0.148\n",
      "==============================================================================\n",
      "Omnibus:                      533.419   Durbin-Watson:                   1.946\n",
      "Prob(Omnibus):                  0.000   Jarque-Bera (JB):            47298.382\n",
      "Skew:                           6.161   Prob(JB):                         0.00\n",
      "Kurtosis:                      53.507   Cond. No.                         4.24\n",
      "==============================================================================\n",
      "\n",
      "Warnings:\n",
      "[1] Standard Errors assume that the covariance matrix of the errors is correctly specified.\n"
     ]
    }
   ],
   "source": [
    "model = linear_reg(Y_train,X_t_8,isSummary=True)"
   ]
  },
  {
   "cell_type": "code",
   "execution_count": 61,
   "metadata": {
    "scrolled": true
   },
   "outputs": [
    {
     "data": {
      "text/html": [
       "<div>\n",
       "<style scoped>\n",
       "    .dataframe tbody tr th:only-of-type {\n",
       "        vertical-align: middle;\n",
       "    }\n",
       "\n",
       "    .dataframe tbody tr th {\n",
       "        vertical-align: top;\n",
       "    }\n",
       "\n",
       "    .dataframe thead th {\n",
       "        text-align: right;\n",
       "    }\n",
       "</style>\n",
       "<table border=\"1\" class=\"dataframe\">\n",
       "  <thead>\n",
       "    <tr style=\"text-align: right;\">\n",
       "      <th></th>\n",
       "      <th>Var</th>\n",
       "      <th>Vif</th>\n",
       "    </tr>\n",
       "  </thead>\n",
       "  <tbody>\n",
       "    <tr>\n",
       "      <th>1</th>\n",
       "      <td>ma_12</td>\n",
       "      <td>4.99</td>\n",
       "    </tr>\n",
       "    <tr>\n",
       "      <th>2</th>\n",
       "      <td>ma_24</td>\n",
       "      <td>4.96</td>\n",
       "    </tr>\n",
       "    <tr>\n",
       "      <th>0</th>\n",
       "      <td>close_lag6</td>\n",
       "      <td>1.06</td>\n",
       "    </tr>\n",
       "  </tbody>\n",
       "</table>\n",
       "</div>"
      ],
      "text/plain": [
       "          Var   Vif\n",
       "1       ma_12  4.99\n",
       "2       ma_24  4.96\n",
       "0  close_lag6  1.06"
      ]
     },
     "execution_count": 61,
     "metadata": {},
     "output_type": "execute_result"
    }
   ],
   "source": [
    "vif_cal(X_t_8)"
   ]
  },
  {
   "cell_type": "markdown",
   "metadata": {},
   "source": [
    "# Regression Diagnosis"
   ]
  },
  {
   "cell_type": "markdown",
   "metadata": {},
   "source": [
    "There is a set of auusmptions that need to be verified:"
   ]
  },
  {
   "cell_type": "markdown",
   "metadata": {},
   "source": [
    "## Outliers"
   ]
  },
  {
   "cell_type": "markdown",
   "metadata": {},
   "source": [
    " Data points that are far away from the fitted regression line are\n",
    "called outliers, and these can impact the accuracy of the model.\n",
    "Plotting normalized residual vs. leverage will give us a good\n",
    "understanding of the outliers points. Residual is the difference\n",
    "between actual vs. predicted, and leverage is a measure of how far\n",
    "away the independent variable values of an observation are from\n",
    "those of the other observations"
   ]
  },
  {
   "cell_type": "code",
   "execution_count": 64,
   "metadata": {},
   "outputs": [
    {
     "data": {
      "image/png": "[encoded data removed]",
      "text/plain": [
       "<Figure size 576x432 with 1 Axes>"
      ]
     },
     "metadata": {},
     "output_type": "display_data"
    }
   ],
   "source": [
    "from statsmodels.graphics.regressionplots import plot_leverage_resid2\n",
    "fig, ax = plt.subplots(figsize=(8,6))\n",
    "fig = plot_leverage_resid2(model, ax = ax)"
   ]
  },
  {
   "cell_type": "markdown",
   "metadata": {},
   "source": [
    "From the chart we see that observations that have high leverage and\n",
    "residual. Running a Bonferroni outlier test will give us p-values for each observation, and\n",
    "those observations with p value < 0.05 are the outliers affecting the accuracy. It is a good\n",
    "practice to consult or apply business domain knowledge to make a decision on removing\n",
    "the outlier points and re-running the model, as these points could be natural in the\n",
    "process although they are mathematically found as outliers."
   ]
  },
  {
   "cell_type": "code",
   "execution_count": 74,
   "metadata": {},
   "outputs": [
    {
     "name": "stdout",
     "output_type": "stream",
     "text": [
      "     student_resid       unadj_p       bonf(p)\n",
      "5         9.641370  5.532987e-20  2.323855e-17\n",
      "3         9.614451  6.853851e-20  2.878617e-17\n",
      "185       3.564941  4.062868e-04  1.706405e-01\n",
      "4         9.393910  3.904568e-19  1.639919e-16\n",
      "1         9.245168  1.244463e-18  5.226745e-16\n"
     ]
    }
   ],
   "source": [
    "# Find outliers #\n",
    "# Bonferroni outlier test\n",
    "test = model.outlier_test()\n",
    "\n",
    "# print('Bad data points (bonf(p) < 0.05):')\n",
    "# print(test[test.icol(2) < 0.05])\n",
    "print(test[test['unadj_p']<0.05])"
   ]
  },
  {
   "cell_type": "markdown",
   "metadata": {},
   "source": [
    "# Performance On Test Data"
   ]
  },
  {
   "cell_type": "code",
   "execution_count": 75,
   "metadata": {},
   "outputs": [
    {
     "data": {
      "text/plain": [
       "<matplotlib.legend.Legend at 0x226f88b3470>"
      ]
     },
     "execution_count": 75,
     "metadata": {},
     "output_type": "execute_result"
    },
    {
     "data": {
      "image/png": "[encoded data removed]",
      "text/plain": [
       "<Figure size 1152x720 with 1 Axes>"
      ]
     },
     "metadata": {},
     "output_type": "display_data"
    }
   ],
   "source": [
    "X_test = sm.tools.tools.add_constant(X_test, has_constant='add')\n",
    "Y_test_p = mod.predict(X_test)\n",
    "\n",
    "plt.figure(figsize=(16,10))\n",
    "plt.plot(range(0,len(Y_test)),Y_test, label='Actual')\n",
    "plt.plot(range(0,len(Y_test)),Y_test_p, label='Predicted')\n",
    "plt.legend(loc='upper left')"
   ]
  },
  {
   "cell_type": "markdown",
   "metadata": {},
   "source": [
    "## RSquared on the test data"
   ]
  },
  {
   "cell_type": "code",
   "execution_count": 76,
   "metadata": {},
   "outputs": [
    {
     "data": {
      "text/plain": [
       "0.9787607443920345"
      ]
     },
     "execution_count": 76,
     "metadata": {},
     "output_type": "execute_result"
    }
   ],
   "source": [
    "r2_score(Y_test, Y_test_p)"
   ]
  },
  {
   "cell_type": "markdown",
   "metadata": {},
   "source": [
    "## Residuals and Assumption Validation"
   ]
  },
  {
   "cell_type": "code",
   "execution_count": 88,
   "metadata": {},
   "outputs": [
    {
     "data": {
      "image/png": "[encoded data removed]",
      "text/plain": [
       "<Figure size 432x288 with 1 Axes>"
      ]
     },
     "metadata": {},
     "output_type": "display_data"
    }
   ],
   "source": [
    "plt.plot(model.resid,'o')\n",
    "plt.title('Residual Plot')\n",
    "plt.ylabel('Residual')\n",
    "plt.xlabel('Observation Numbers')\n",
    "plt.show()\n"
   ]
  },
  {
   "cell_type": "code",
   "execution_count": 77,
   "metadata": {},
   "outputs": [],
   "source": [
    "error = Y_test - Y_test_p"
   ]
  },
  {
   "cell_type": "markdown",
   "metadata": {},
   "source": [
    "#### White Noise Residuals"
   ]
  },
  {
   "cell_type": "code",
   "execution_count": 78,
   "metadata": {},
   "outputs": [
    {
     "data": {
      "text/plain": [
       "[<matplotlib.lines.Line2D at 0x226f891c208>]"
      ]
     },
     "execution_count": 78,
     "metadata": {},
     "output_type": "execute_result"
    },
    {
     "data": {
      "image/png": "[encoded data removed]",
      "text/plain": [
       "<Figure size 432x288 with 1 Axes>"
      ]
     },
     "metadata": {},
     "output_type": "display_data"
    }
   ],
   "source": [
    "plt.plot(range(0,len(Y_test)),error)"
   ]
  },
  {
   "cell_type": "markdown",
   "metadata": {},
   "source": [
    "Residuals are white noise with no real distribution."
   ]
  },
  {
   "cell_type": "markdown",
   "metadata": {},
   "source": [
    "#### No autocorrelation"
   ]
  },
  {
   "cell_type": "code",
   "execution_count": 79,
   "metadata": {},
   "outputs": [
    {
     "name": "stderr",
     "output_type": "stream",
     "text": [
      "c:\\users\\rahel\\appdata\\local\\programs\\python\\python36\\lib\\site-packages\\ipykernel_launcher.py:2: UserWarning: Matplotlib is currently using module://ipykernel.pylab.backend_inline, which is a non-GUI backend, so cannot show the figure.\n",
      "  \n"
     ]
    },
    {
     "data": {
      "image/png": "[encoded data removed]",
      "text/plain": [
       "<Figure size 432x288 with 1 Axes>"
      ]
     },
     "metadata": {},
     "output_type": "display_data"
    }
   ],
   "source": [
    "acf = smt.graphics.plot_acf(model.resid, lags=40 , alpha=0.05)\n",
    "acf.show()"
   ]
  },
  {
   "cell_type": "markdown",
   "metadata": {},
   "source": [
    "only one lag out of the significant area"
   ]
  },
  {
   "cell_type": "markdown",
   "metadata": {},
   "source": [
    "**The Durbin-Watson test gives a value of ~2 which means there is no autocorrelation.**"
   ]
  },
  {
   "cell_type": "markdown",
   "metadata": {},
   "source": [
    "There shows that there is no autocorrelation between the residuals, neither is their any particular distribution which means there is no variance escaping out of the model."
   ]
  },
  {
   "cell_type": "markdown",
   "metadata": {},
   "source": [
    "#### Heteroskedasticity Test"
   ]
  },
  {
   "cell_type": "code",
   "execution_count": 80,
   "metadata": {},
   "outputs": [
    {
     "data": {
      "text/plain": [
       "<matplotlib.collections.PathCollection at 0x226f89d4c18>"
      ]
     },
     "execution_count": 80,
     "metadata": {},
     "output_type": "execute_result"
    },
    {
     "data": {
      "image/png": "[encoded data removed]",
      "text/plain": [
       "<Figure size 432x288 with 1 Axes>"
      ]
     },
     "metadata": {},
     "output_type": "display_data"
    }
   ],
   "source": [
    "plt.scatter(Y_test,error)"
   ]
  },
  {
   "cell_type": "markdown",
   "metadata": {},
   "source": [
    "No funnel or cone shaped pattern so no heteroskedasticity in the residuals.\n",
    "verify the asumption of linear regression"
   ]
  },
  {
   "cell_type": "code",
   "execution_count": null,
   "metadata": {},
   "outputs": [],
   "source": []
  }
 ],
 "metadata": {
  "kernelspec": {
   "display_name": "Python 3",
   "language": "python",
   "name": "python3"
  },
  "language_info": {
   "codemirror_mode": {
    "name": "ipython",
    "version": 3
   },
   "file_extension": ".py",
   "mimetype": "text/x-python",
   "name": "python",
   "nbconvert_exporter": "python",
   "pygments_lexer": "ipython3",
   "version": "3.6.8"
  }
 },
 "nbformat": 4,
 "nbformat_minor": 2
}
