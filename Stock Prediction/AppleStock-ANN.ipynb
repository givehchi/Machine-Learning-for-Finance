{
 "cells": [
  {
   "cell_type": "code",
   "execution_count": 21,
   "metadata": {},
   "outputs": [],
   "source": [
    "import pandas as pd\n",
    "\n",
    "import matplotlib.pyplot as plt\n",
    "import seaborn as sns\n",
    "\n",
    "\n",
    "import warnings\n",
    "from sklearn.model_selection import train_test_split\n",
    "from tensorflow.keras.models import Sequential\n",
    "from tensorflow.keras.layers import Dense, Dropout\n",
    "\n",
    "warnings.filterwarnings('ignore')"
   ]
  },
  {
   "cell_type": "code",
   "execution_count": 22,
   "metadata": {},
   "outputs": [
    {
     "data": {
      "text/html": [
       "<div>\n",
       "<style scoped>\n",
       "    .dataframe tbody tr th:only-of-type {\n",
       "        vertical-align: middle;\n",
       "    }\n",
       "\n",
       "    .dataframe tbody tr th {\n",
       "        vertical-align: top;\n",
       "    }\n",
       "\n",
       "    .dataframe thead th {\n",
       "        text-align: right;\n",
       "    }\n",
       "</style>\n",
       "<table border=\"1\" class=\"dataframe\">\n",
       "  <thead>\n",
       "    <tr style=\"text-align: right;\">\n",
       "      <th></th>\n",
       "      <th>volume</th>\n",
       "      <th>close_lag1</th>\n",
       "      <th>close_lag2</th>\n",
       "      <th>close_lag3</th>\n",
       "      <th>close_lag4</th>\n",
       "      <th>close_lag5</th>\n",
       "      <th>close_lag6</th>\n",
       "      <th>ma_3</th>\n",
       "      <th>rsi_3</th>\n",
       "      <th>ma_6</th>\n",
       "      <th>rsi_6</th>\n",
       "      <th>ma_9</th>\n",
       "      <th>rsi_9</th>\n",
       "      <th>ma_12</th>\n",
       "      <th>rsi_12</th>\n",
       "      <th>event</th>\n",
       "      <th>close</th>\n",
       "    </tr>\n",
       "  </thead>\n",
       "  <tbody>\n",
       "    <tr>\n",
       "      <th>0</th>\n",
       "      <td>-0.464011</td>\n",
       "      <td>-0.767950</td>\n",
       "      <td>-0.747017</td>\n",
       "      <td>-0.739101</td>\n",
       "      <td>-0.639217</td>\n",
       "      <td>-0.669514</td>\n",
       "      <td>-0.646494</td>\n",
       "      <td>0.627785</td>\n",
       "      <td>-1.812133</td>\n",
       "      <td>4.368171</td>\n",
       "      <td>-1.830292</td>\n",
       "      <td>7.716514</td>\n",
       "      <td>-1.862736</td>\n",
       "      <td>8.506598</td>\n",
       "      <td>-1.880503</td>\n",
       "      <td>-0.456953</td>\n",
       "      <td>2.338571</td>\n",
       "    </tr>\n",
       "    <tr>\n",
       "      <th>1</th>\n",
       "      <td>-0.190969</td>\n",
       "      <td>-0.769480</td>\n",
       "      <td>-0.758587</td>\n",
       "      <td>-0.738967</td>\n",
       "      <td>-0.732728</td>\n",
       "      <td>-0.632766</td>\n",
       "      <td>-0.662760</td>\n",
       "      <td>-0.579982</td>\n",
       "      <td>-1.183392</td>\n",
       "      <td>1.505926</td>\n",
       "      <td>-1.592107</td>\n",
       "      <td>3.501353</td>\n",
       "      <td>-1.710687</td>\n",
       "      <td>5.255354</td>\n",
       "      <td>-1.767605</td>\n",
       "      <td>-0.456953</td>\n",
       "      <td>2.945714</td>\n",
       "    </tr>\n",
       "    <tr>\n",
       "      <th>2</th>\n",
       "      <td>-0.723175</td>\n",
       "      <td>-0.760056</td>\n",
       "      <td>-0.760125</td>\n",
       "      <td>-0.750631</td>\n",
       "      <td>-0.732592</td>\n",
       "      <td>-0.727153</td>\n",
       "      <td>-0.625758</td>\n",
       "      <td>-0.115027</td>\n",
       "      <td>-1.286573</td>\n",
       "      <td>0.152772</td>\n",
       "      <td>-1.626297</td>\n",
       "      <td>2.429129</td>\n",
       "      <td>-1.732050</td>\n",
       "      <td>4.553852</td>\n",
       "      <td>-1.782792</td>\n",
       "      <td>-0.456953</td>\n",
       "      <td>2.750000</td>\n",
       "    </tr>\n",
       "    <tr>\n",
       "      <th>3</th>\n",
       "      <td>-0.570132</td>\n",
       "      <td>-0.763094</td>\n",
       "      <td>-0.750650</td>\n",
       "      <td>-0.752182</td>\n",
       "      <td>-0.744357</td>\n",
       "      <td>-0.727016</td>\n",
       "      <td>-0.720797</td>\n",
       "      <td>-0.092085</td>\n",
       "      <td>-0.982726</td>\n",
       "      <td>-0.217920</td>\n",
       "      <td>-1.529132</td>\n",
       "      <td>1.347659</td>\n",
       "      <td>-1.674853</td>\n",
       "      <td>2.875177</td>\n",
       "      <td>-1.742103</td>\n",
       "      <td>-0.456953</td>\n",
       "      <td>2.941429</td>\n",
       "    </tr>\n",
       "    <tr>\n",
       "      <th>4</th>\n",
       "      <td>-0.692599</td>\n",
       "      <td>-0.760123</td>\n",
       "      <td>-0.753705</td>\n",
       "      <td>-0.742630</td>\n",
       "      <td>-0.745922</td>\n",
       "      <td>-0.738891</td>\n",
       "      <td>-0.720659</td>\n",
       "      <td>-0.694639</td>\n",
       "      <td>-0.034087</td>\n",
       "      <td>-0.992704</td>\n",
       "      <td>-1.141034</td>\n",
       "      <td>-0.009939</td>\n",
       "      <td>-1.444629</td>\n",
       "      <td>1.005462</td>\n",
       "      <td>-1.579137</td>\n",
       "      <td>-0.456953</td>\n",
       "      <td>3.678571</td>\n",
       "    </tr>\n",
       "  </tbody>\n",
       "</table>\n",
       "</div>"
      ],
      "text/plain": [
       "     volume  close_lag1  close_lag2  close_lag3  close_lag4  close_lag5  \\\n",
       "0 -0.464011   -0.767950   -0.747017   -0.739101   -0.639217   -0.669514   \n",
       "1 -0.190969   -0.769480   -0.758587   -0.738967   -0.732728   -0.632766   \n",
       "2 -0.723175   -0.760056   -0.760125   -0.750631   -0.732592   -0.727153   \n",
       "3 -0.570132   -0.763094   -0.750650   -0.752182   -0.744357   -0.727016   \n",
       "4 -0.692599   -0.760123   -0.753705   -0.742630   -0.745922   -0.738891   \n",
       "\n",
       "   close_lag6      ma_3     rsi_3      ma_6     rsi_6      ma_9     rsi_9  \\\n",
       "0   -0.646494  0.627785 -1.812133  4.368171 -1.830292  7.716514 -1.862736   \n",
       "1   -0.662760 -0.579982 -1.183392  1.505926 -1.592107  3.501353 -1.710687   \n",
       "2   -0.625758 -0.115027 -1.286573  0.152772 -1.626297  2.429129 -1.732050   \n",
       "3   -0.720797 -0.092085 -0.982726 -0.217920 -1.529132  1.347659 -1.674853   \n",
       "4   -0.720659 -0.694639 -0.034087 -0.992704 -1.141034 -0.009939 -1.444629   \n",
       "\n",
       "      ma_12    rsi_12     event     close  \n",
       "0  8.506598 -1.880503 -0.456953  2.338571  \n",
       "1  5.255354 -1.767605 -0.456953  2.945714  \n",
       "2  4.553852 -1.782792 -0.456953  2.750000  \n",
       "3  2.875177 -1.742103 -0.456953  2.941429  \n",
       "4  1.005462 -1.579137 -0.456953  3.678571  "
      ]
     },
     "execution_count": 22,
     "metadata": {},
     "output_type": "execute_result"
    }
   ],
   "source": [
    "apple_stock_df = pd.read_csv(\"./apple_stock_prepared.csv\")\n",
    "apple_stock_df.head()"
   ]
  },
  {
   "cell_type": "code",
   "execution_count": 23,
   "metadata": {},
   "outputs": [],
   "source": [
    "X = apple_stock_df[apple_stock_df.columns[0:-1]]\n",
    "Y = apple_stock_df[apple_stock_df.columns[-1]]"
   ]
  },
  {
   "cell_type": "code",
   "execution_count": 24,
   "metadata": {},
   "outputs": [],
   "source": [
    "import random\n",
    "random.seed(100)"
   ]
  },
  {
   "cell_type": "code",
   "execution_count": 25,
   "metadata": {},
   "outputs": [],
   "source": [
    "X_train, X_test, Y_train, Y_test = train_test_split(X,Y,test_size=0.2, random_state = 100)\n",
    "X_val, X_test, Y_val, Y_test = train_test_split(X_test,Y_test,test_size=0.5, random_state = 100)"
   ]
  },
  {
   "cell_type": "code",
   "execution_count": 26,
   "metadata": {},
   "outputs": [
    {
     "data": {
      "text/plain": [
       "(156, 16)"
      ]
     },
     "execution_count": 26,
     "metadata": {},
     "output_type": "execute_result"
    }
   ],
   "source": [
    "X_train.shape"
   ]
  },
  {
   "cell_type": "code",
   "execution_count": 27,
   "metadata": {},
   "outputs": [
    {
     "data": {
      "text/plain": [
       "(20, 16)"
      ]
     },
     "execution_count": 27,
     "metadata": {},
     "output_type": "execute_result"
    }
   ],
   "source": [
    "X_test.shape"
   ]
  },
  {
   "cell_type": "code",
   "execution_count": 28,
   "metadata": {},
   "outputs": [
    {
     "data": {
      "text/plain": [
       "(20, 16)"
      ]
     },
     "execution_count": 28,
     "metadata": {},
     "output_type": "execute_result"
    }
   ],
   "source": [
    "X_val.shape"
   ]
  },
  {
   "cell_type": "markdown",
   "metadata": {},
   "source": [
    "### determine teh number of step based on batch size:"
   ]
  },
  {
   "cell_type": "code",
   "execution_count": 29,
   "metadata": {},
   "outputs": [],
   "source": [
    "def num_steps(length: int, batch_size: int):\n",
    "    return length//batch_size + 1"
   ]
  },
  {
   "cell_type": "code",
   "execution_count": 30,
   "metadata": {},
   "outputs": [
    {
     "data": {
      "text/plain": [
       "16"
      ]
     },
     "execution_count": 30,
     "metadata": {},
     "output_type": "execute_result"
    }
   ],
   "source": [
    "batch_size = 10\n",
    "num_steps(len(X_train), batch_size)"
   ]
  },
  {
   "cell_type": "markdown",
   "metadata": {},
   "source": [
    "# Neural Network"
   ]
  },
  {
   "cell_type": "code",
   "execution_count": 31,
   "metadata": {},
   "outputs": [],
   "source": [
    "def stock_predictor_model(x_train):\n",
    "\n",
    "    stock_predictor = Sequential()\n",
    "    # One Dense layer with number of units same as features\n",
    "    stock_predictor.add(Dense(10, input_dim=x_train.shape[1],\n",
    "                    activation='relu',\n",
    "                    kernel_initializer='he_normal'))\n",
    "    \n",
    "    stock_predictor.add(Dense(6, input_dim=10,\n",
    "                    activation='relu',\n",
    "                    kernel_initializer='he_normal'))\n",
    "    \n",
    "    stock_predictor.add(Dense(3, input_dim=6,\n",
    "                activation='relu',\n",
    "                kernel_initializer='he_normal'))\n",
    "    \n",
    "    # Final dense layer\n",
    "    stock_predictor.add(Dense(1, activation='relu',\n",
    "                    kernel_initializer='he_normal'))\n",
    "    \n",
    "    # Using mse as loss and mape as the metric\n",
    "    stock_predictor.compile(loss='mean_squared_error',\n",
    "                  optimizer='rmsprop',\n",
    "                  metrics=['mape'])\n",
    "    \n",
    "    return stock_predictor"
   ]
  },
  {
   "cell_type": "code",
   "execution_count": 32,
   "metadata": {},
   "outputs": [],
   "source": [
    "model = stock_predictor_model(X_train)"
   ]
  },
  {
   "cell_type": "markdown",
   "metadata": {},
   "source": [
    "##  Visualize keras model by using Pydot"
   ]
  },
  {
   "cell_type": "code",
   "execution_count": 33,
   "metadata": {},
   "outputs": [
    {
     "name": "stdout",
     "output_type": "stream",
     "text": [
      "Model: \"sequential_1\"\n",
      "_________________________________________________________________\n",
      "Layer (type)                 Output Shape              Param #   \n",
      "=================================================================\n",
      "dense_4 (Dense)              (None, 10)                170       \n",
      "_________________________________________________________________\n",
      "dense_5 (Dense)              (None, 6)                 66        \n",
      "_________________________________________________________________\n",
      "dense_6 (Dense)              (None, 3)                 21        \n",
      "_________________________________________________________________\n",
      "dense_7 (Dense)              (None, 1)                 4         \n",
      "=================================================================\n",
      "Total params: 261\n",
      "Trainable params: 261\n",
      "Non-trainable params: 0\n",
      "_________________________________________________________________\n"
     ]
    }
   ],
   "source": [
    "model.summary()"
   ]
  },
  {
   "cell_type": "markdown",
   "metadata": {},
   "source": [
    "## Train the model using basic parameters."
   ]
  },
  {
   "cell_type": "code",
   "execution_count": 34,
   "metadata": {},
   "outputs": [
    {
     "data": {
      "text/plain": [
       "8"
      ]
     },
     "execution_count": 34,
     "metadata": {},
     "output_type": "execute_result"
    }
   ],
   "source": [
    "batch_size = 20\n",
    "num_steps(len(X_train), batch_size)"
   ]
  },
  {
   "cell_type": "code",
   "execution_count": 35,
   "metadata": {
    "scrolled": true
   },
   "outputs": [
    {
     "name": "stdout",
     "output_type": "stream",
     "text": [
      "Train on 156 samples, validate on 20 samples\n",
      "Epoch 1/1000\n",
      "156/156 [==============================] - 0s 1ms/sample - loss: 4696.1666 - mean_absolute_percentage_error: 92.6322 - val_loss: 24268.8164 - val_mean_absolute_percentage_error: 94.9296\n",
      "Epoch 2/1000\n",
      "156/156 [==============================] - 0s 96us/sample - loss: 4655.2345 - mean_absolute_percentage_error: 94.0210 - val_loss: 24223.4609 - val_mean_absolute_percentage_error: 94.0623\n",
      "Epoch 3/1000\n",
      "156/156 [==============================] - 0s 115us/sample - loss: 4619.4503 - mean_absolute_percentage_error: 96.6418 - val_loss: 24178.3320 - val_mean_absolute_percentage_error: 93.1340\n",
      "Epoch 4/1000\n",
      "156/156 [==============================] - 0s 96us/sample - loss: 4581.7138 - mean_absolute_percentage_error: 97.8476 - val_loss: 24132.4336 - val_mean_absolute_percentage_error: 92.0468\n",
      "Epoch 5/1000\n",
      "156/156 [==============================] - 0s 83us/sample - loss: 4543.1923 - mean_absolute_percentage_error: 100.3295 - val_loss: 24085.4102 - val_mean_absolute_percentage_error: 90.8504\n",
      "Epoch 6/1000\n",
      "156/156 [==============================] - 0s 83us/sample - loss: 4503.7488 - mean_absolute_percentage_error: 102.2446 - val_loss: 24035.2578 - val_mean_absolute_percentage_error: 89.5438\n",
      "Epoch 7/1000\n",
      "156/156 [==============================] - 0s 83us/sample - loss: 4462.0723 - mean_absolute_percentage_error: 103.9434 - val_loss: 23980.6523 - val_mean_absolute_percentage_error: 88.1539\n",
      "Epoch 8/1000\n",
      "156/156 [==============================] - 0s 77us/sample - loss: 4418.5664 - mean_absolute_percentage_error: 105.9746 - val_loss: 23925.8809 - val_mean_absolute_percentage_error: 86.6977\n",
      "Epoch 9/1000\n",
      "156/156 [==============================] - 0s 109us/sample - loss: 4374.9284 - mean_absolute_percentage_error: 108.5508 - val_loss: 23865.7773 - val_mean_absolute_percentage_error: 85.0857\n",
      "Epoch 10/1000\n",
      "156/156 [==============================] - 0s 90us/sample - loss: 4329.8036 - mean_absolute_percentage_error: 110.7227 - val_loss: 23801.1504 - val_mean_absolute_percentage_error: 83.2693\n",
      "Epoch 11/1000\n",
      "156/156 [==============================] - 0s 109us/sample - loss: 4283.2164 - mean_absolute_percentage_error: 111.6313 - val_loss: 23730.0527 - val_mean_absolute_percentage_error: 81.3426\n",
      "Epoch 12/1000\n",
      "156/156 [==============================] - 0s 90us/sample - loss: 4233.3167 - mean_absolute_percentage_error: 113.8927 - val_loss: 23659.1367 - val_mean_absolute_percentage_error: 79.8519\n",
      "Epoch 13/1000\n",
      "156/156 [==============================] - 0s 93us/sample - loss: 4184.1439 - mean_absolute_percentage_error: 116.7828 - val_loss: 23587.1445 - val_mean_absolute_percentage_error: 78.2603\n",
      "Epoch 14/1000\n",
      "156/156 [==============================] - 0s 90us/sample - loss: 4132.7674 - mean_absolute_percentage_error: 117.8206 - val_loss: 23508.8809 - val_mean_absolute_percentage_error: 76.4654\n",
      "Epoch 15/1000\n",
      "156/156 [==============================] - 0s 83us/sample - loss: 4078.6398 - mean_absolute_percentage_error: 119.9241 - val_loss: 23430.2324 - val_mean_absolute_percentage_error: 74.6968\n",
      "Epoch 16/1000\n",
      "156/156 [==============================] - 0s 89us/sample - loss: 4022.2431 - mean_absolute_percentage_error: 121.2813 - val_loss: 23337.4668 - val_mean_absolute_percentage_error: 72.7671\n",
      "Epoch 17/1000\n",
      "156/156 [==============================] - 0s 90us/sample - loss: 3961.5431 - mean_absolute_percentage_error: 122.5692 - val_loss: 23233.2852 - val_mean_absolute_percentage_error: 70.6799\n",
      "Epoch 18/1000\n",
      "156/156 [==============================] - 0s 77us/sample - loss: 3898.2737 - mean_absolute_percentage_error: 123.6137 - val_loss: 23125.1562 - val_mean_absolute_percentage_error: 69.2802\n",
      "Epoch 19/1000\n",
      "156/156 [==============================] - 0s 83us/sample - loss: 3834.8938 - mean_absolute_percentage_error: 126.0404 - val_loss: 23011.9160 - val_mean_absolute_percentage_error: 68.9529\n",
      "Epoch 20/1000\n",
      "156/156 [==============================] - 0s 83us/sample - loss: 3768.1104 - mean_absolute_percentage_error: 128.3666 - val_loss: 22887.8477 - val_mean_absolute_percentage_error: 69.0320\n",
      "Epoch 21/1000\n",
      "156/156 [==============================] - 0s 96us/sample - loss: 3699.7784 - mean_absolute_percentage_error: 130.6536 - val_loss: 22768.4180 - val_mean_absolute_percentage_error: 69.7137\n",
      "Epoch 22/1000\n",
      "156/156 [==============================] - 0s 102us/sample - loss: 3630.5514 - mean_absolute_percentage_error: 134.6319 - val_loss: 22631.4375 - val_mean_absolute_percentage_error: 70.3956\n",
      "Epoch 23/1000\n",
      "156/156 [==============================] - 0s 198us/sample - loss: 3555.4742 - mean_absolute_percentage_error: 134.8435 - val_loss: 22482.1855 - val_mean_absolute_percentage_error: 71.1998\n",
      "Epoch 24/1000\n",
      "156/156 [==============================] - 0s 121us/sample - loss: 3479.4795 - mean_absolute_percentage_error: 140.3593 - val_loss: 22332.5801 - val_mean_absolute_percentage_error: 71.9864\n",
      "Epoch 25/1000\n",
      "156/156 [==============================] - 0s 141us/sample - loss: 3402.5971 - mean_absolute_percentage_error: 143.9533 - val_loss: 22173.9785 - val_mean_absolute_percentage_error: 73.1784\n",
      "Epoch 26/1000\n",
      "156/156 [==============================] - 0s 185us/sample - loss: 3324.0737 - mean_absolute_percentage_error: 146.8955 - val_loss: 22016.3750 - val_mean_absolute_percentage_error: 74.4198\n",
      "Epoch 27/1000\n",
      "156/156 [==============================] - 0s 121us/sample - loss: 3244.4088 - mean_absolute_percentage_error: 149.6354 - val_loss: 21846.5781 - val_mean_absolute_percentage_error: 75.6265\n",
      "Epoch 28/1000\n",
      "156/156 [==============================] - 0s 109us/sample - loss: 3162.4028 - mean_absolute_percentage_error: 152.3369 - val_loss: 21673.4727 - val_mean_absolute_percentage_error: 76.7095\n",
      "Epoch 29/1000\n",
      "156/156 [==============================] - 0s 89us/sample - loss: 3081.4850 - mean_absolute_percentage_error: 156.2894 - val_loss: 21495.0293 - val_mean_absolute_percentage_error: 77.6990\n",
      "Epoch 30/1000\n",
      "156/156 [==============================] - 0s 83us/sample - loss: 2996.4013 - mean_absolute_percentage_error: 156.8754 - val_loss: 21307.9336 - val_mean_absolute_percentage_error: 78.6050\n",
      "Epoch 31/1000\n",
      "156/156 [==============================] - 0s 83us/sample - loss: 2914.1462 - mean_absolute_percentage_error: 161.8651 - val_loss: 21124.4453 - val_mean_absolute_percentage_error: 79.3906\n",
      "Epoch 32/1000\n",
      "156/156 [==============================] - 0s 83us/sample - loss: 2831.4863 - mean_absolute_percentage_error: 164.1753 - val_loss: 20911.7070 - val_mean_absolute_percentage_error: 80.1777\n",
      "Epoch 33/1000\n",
      "156/156 [==============================] - 0s 90us/sample - loss: 2748.6725 - mean_absolute_percentage_error: 166.8243 - val_loss: 20695.5898 - val_mean_absolute_percentage_error: 80.8848\n",
      "Epoch 34/1000\n",
      "156/156 [==============================] - 0s 83us/sample - loss: 2663.7195 - mean_absolute_percentage_error: 169.2018 - val_loss: 20483.7949 - val_mean_absolute_percentage_error: 81.5238\n",
      "Epoch 35/1000\n",
      "156/156 [==============================] - 0s 83us/sample - loss: 2571.8243 - mean_absolute_percentage_error: 170.7319 - val_loss: 20242.0625 - val_mean_absolute_percentage_error: 82.4833\n",
      "Epoch 36/1000\n",
      "156/156 [==============================] - 0s 83us/sample - loss: 2477.5149 - mean_absolute_percentage_error: 174.5840 - val_loss: 20000.4785 - val_mean_absolute_percentage_error: 83.2884\n",
      "Epoch 37/1000\n",
      "156/156 [==============================] - 0s 77us/sample - loss: 2387.9102 - mean_absolute_percentage_error: 175.2602 - val_loss: 19771.1016 - val_mean_absolute_percentage_error: 84.1996\n",
      "Epoch 38/1000\n",
      "156/156 [==============================] - 0s 83us/sample - loss: 2298.5528 - mean_absolute_percentage_error: 176.2857 - val_loss: 19513.3770 - val_mean_absolute_percentage_error: 85.1898\n",
      "Epoch 39/1000\n",
      "156/156 [==============================] - 0s 83us/sample - loss: 2204.4618 - mean_absolute_percentage_error: 177.4906 - val_loss: 19243.2188 - val_mean_absolute_percentage_error: 85.9492\n",
      "Epoch 40/1000\n",
      "156/156 [==============================] - 0s 96us/sample - loss: 2114.3754 - mean_absolute_percentage_error: 178.1448 - val_loss: 19002.6113 - val_mean_absolute_percentage_error: 86.3599\n",
      "Epoch 41/1000\n"
     ]
    },
    {
     "name": "stdout",
     "output_type": "stream",
     "text": [
      "156/156 [==============================] - 0s 90us/sample - loss: 2030.0142 - mean_absolute_percentage_error: 179.5062 - val_loss: 18771.4785 - val_mean_absolute_percentage_error: 86.3785\n",
      "Epoch 42/1000\n",
      "156/156 [==============================] - 0s 90us/sample - loss: 1942.7915 - mean_absolute_percentage_error: 179.6641 - val_loss: 18522.1113 - val_mean_absolute_percentage_error: 86.4312\n",
      "Epoch 43/1000\n",
      "156/156 [==============================] - 0s 96us/sample - loss: 1852.8821 - mean_absolute_percentage_error: 177.2120 - val_loss: 18258.6133 - val_mean_absolute_percentage_error: 86.6891\n",
      "Epoch 44/1000\n",
      "156/156 [==============================] - 0s 83us/sample - loss: 1763.2275 - mean_absolute_percentage_error: 177.9410 - val_loss: 18005.4180 - val_mean_absolute_percentage_error: 86.3034\n",
      "Epoch 45/1000\n",
      "156/156 [==============================] - 0s 77us/sample - loss: 1674.9067 - mean_absolute_percentage_error: 175.3555 - val_loss: 17740.6426 - val_mean_absolute_percentage_error: 86.0467\n",
      "Epoch 46/1000\n",
      "156/156 [==============================] - 0s 78us/sample - loss: 1586.5252 - mean_absolute_percentage_error: 174.1909 - val_loss: 17515.9902 - val_mean_absolute_percentage_error: 85.4873\n",
      "Epoch 47/1000\n",
      "156/156 [==============================] - 0s 83us/sample - loss: 1503.2194 - mean_absolute_percentage_error: 172.8319 - val_loss: 17296.8926 - val_mean_absolute_percentage_error: 85.0712\n",
      "Epoch 48/1000\n",
      "156/156 [==============================] - 0s 74us/sample - loss: 1422.3239 - mean_absolute_percentage_error: 168.9675 - val_loss: 17029.0840 - val_mean_absolute_percentage_error: 84.8015\n",
      "Epoch 49/1000\n",
      "156/156 [==============================] - 0s 83us/sample - loss: 1340.8714 - mean_absolute_percentage_error: 166.3228 - val_loss: 16745.9219 - val_mean_absolute_percentage_error: 84.8200\n",
      "Epoch 50/1000\n",
      "156/156 [==============================] - 0s 77us/sample - loss: 1262.4007 - mean_absolute_percentage_error: 164.3044 - val_loss: 16461.6055 - val_mean_absolute_percentage_error: 84.9153\n",
      "Epoch 51/1000\n",
      "156/156 [==============================] - 0s 77us/sample - loss: 1190.8922 - mean_absolute_percentage_error: 160.0193 - val_loss: 16182.5312 - val_mean_absolute_percentage_error: 84.9116\n",
      "Epoch 52/1000\n",
      "156/156 [==============================] - 0s 90us/sample - loss: 1117.9290 - mean_absolute_percentage_error: 158.4065 - val_loss: 15902.8018 - val_mean_absolute_percentage_error: 84.8324\n",
      "Epoch 53/1000\n",
      "156/156 [==============================] - 0s 90us/sample - loss: 1051.8282 - mean_absolute_percentage_error: 156.4067 - val_loss: 15644.6328 - val_mean_absolute_percentage_error: 84.6074\n",
      "Epoch 54/1000\n",
      "156/156 [==============================] - 0s 87us/sample - loss: 989.2040 - mean_absolute_percentage_error: 151.3912 - val_loss: 15373.0518 - val_mean_absolute_percentage_error: 84.3229\n",
      "Epoch 55/1000\n",
      "156/156 [==============================] - 0s 89us/sample - loss: 928.2227 - mean_absolute_percentage_error: 148.3529 - val_loss: 15119.3203 - val_mean_absolute_percentage_error: 83.6252\n",
      "Epoch 56/1000\n",
      "156/156 [==============================] - ETA: 0s - loss: 532.8710 - mean_absolute_percentage_error: 108.72 - 0s 89us/sample - loss: 875.3795 - mean_absolute_percentage_error: 145.3049 - val_loss: 14879.4297 - val_mean_absolute_percentage_error: 83.0715\n",
      "Epoch 57/1000\n",
      "156/156 [==============================] - 0s 90us/sample - loss: 823.9101 - mean_absolute_percentage_error: 140.3683 - val_loss: 14640.3232 - val_mean_absolute_percentage_error: 82.3083\n",
      "Epoch 58/1000\n",
      "156/156 [==============================] - 0s 90us/sample - loss: 778.3681 - mean_absolute_percentage_error: 136.5071 - val_loss: 14432.2422 - val_mean_absolute_percentage_error: 81.3434\n",
      "Epoch 59/1000\n",
      "156/156 [==============================] - 0s 90us/sample - loss: 735.9031 - mean_absolute_percentage_error: 132.1617 - val_loss: 14200.0332 - val_mean_absolute_percentage_error: 80.6952\n",
      "Epoch 60/1000\n",
      "156/156 [==============================] - 0s 87us/sample - loss: 695.7541 - mean_absolute_percentage_error: 127.9641 - val_loss: 14000.6035 - val_mean_absolute_percentage_error: 79.6180\n",
      "Epoch 61/1000\n",
      "156/156 [==============================] - 0s 83us/sample - loss: 660.7745 - mean_absolute_percentage_error: 123.3154 - val_loss: 13813.7031 - val_mean_absolute_percentage_error: 78.3175\n",
      "Epoch 62/1000\n",
      "156/156 [==============================] - 0s 90us/sample - loss: 626.7186 - mean_absolute_percentage_error: 118.8372 - val_loss: 13620.8438 - val_mean_absolute_percentage_error: 77.1276\n",
      "Epoch 63/1000\n",
      "156/156 [==============================] - 0s 83us/sample - loss: 599.6968 - mean_absolute_percentage_error: 114.8491 - val_loss: 13456.8486 - val_mean_absolute_percentage_error: 75.9268\n",
      "Epoch 64/1000\n",
      "156/156 [==============================] - 0s 83us/sample - loss: 571.9084 - mean_absolute_percentage_error: 110.4783 - val_loss: 13300.9082 - val_mean_absolute_percentage_error: 75.2534\n",
      "Epoch 65/1000\n",
      "156/156 [==============================] - 0s 83us/sample - loss: 547.7727 - mean_absolute_percentage_error: 105.7812 - val_loss: 13168.6230 - val_mean_absolute_percentage_error: 74.1768\n",
      "Epoch 66/1000\n",
      "156/156 [==============================] - 0s 77us/sample - loss: 527.0936 - mean_absolute_percentage_error: 102.8334 - val_loss: 13055.6367 - val_mean_absolute_percentage_error: 72.9226\n",
      "Epoch 67/1000\n",
      "156/156 [==============================] - 0s 83us/sample - loss: 508.5305 - mean_absolute_percentage_error: 98.7458 - val_loss: 12941.0908 - val_mean_absolute_percentage_error: 72.2168\n",
      "Epoch 68/1000\n",
      "156/156 [==============================] - 0s 83us/sample - loss: 488.3867 - mean_absolute_percentage_error: 94.8748 - val_loss: 12836.2930 - val_mean_absolute_percentage_error: 71.3830\n",
      "Epoch 69/1000\n",
      "156/156 [==============================] - 0s 83us/sample - loss: 474.3123 - mean_absolute_percentage_error: 91.5397 - val_loss: 12749.2822 - val_mean_absolute_percentage_error: 70.5231\n",
      "Epoch 70/1000\n",
      "156/156 [==============================] - 0s 83us/sample - loss: 457.2219 - mean_absolute_percentage_error: 88.9848 - val_loss: 12660.0430 - val_mean_absolute_percentage_error: 69.4610\n",
      "Epoch 71/1000\n",
      "156/156 [==============================] - 0s 89us/sample - loss: 443.3804 - mean_absolute_percentage_error: 85.7315 - val_loss: 12583.4736 - val_mean_absolute_percentage_error: 68.6885\n",
      "Epoch 72/1000\n",
      "156/156 [==============================] - 0s 90us/sample - loss: 430.4590 - mean_absolute_percentage_error: 83.0209 - val_loss: 12514.2051 - val_mean_absolute_percentage_error: 67.4382\n",
      "Epoch 73/1000\n",
      "156/156 [==============================] - 0s 83us/sample - loss: 420.0484 - mean_absolute_percentage_error: 80.4758 - val_loss: 12457.5381 - val_mean_absolute_percentage_error: 66.2396\n",
      "Epoch 74/1000\n",
      "156/156 [==============================] - 0s 83us/sample - loss: 407.1458 - mean_absolute_percentage_error: 78.9282 - val_loss: 12399.5449 - val_mean_absolute_percentage_error: 65.4433\n",
      "Epoch 75/1000\n",
      "156/156 [==============================] - 0s 83us/sample - loss: 396.0331 - mean_absolute_percentage_error: 76.9379 - val_loss: 12369.0352 - val_mean_absolute_percentage_error: 64.6092\n",
      "Epoch 76/1000\n",
      "156/156 [==============================] - 0s 96us/sample - loss: 384.6923 - mean_absolute_percentage_error: 74.5111 - val_loss: 12315.5137 - val_mean_absolute_percentage_error: 64.1315\n",
      "Epoch 77/1000\n",
      "156/156 [==============================] - 0s 77us/sample - loss: 375.7393 - mean_absolute_percentage_error: 72.9839 - val_loss: 12265.4629 - val_mean_absolute_percentage_error: 63.7163\n",
      "Epoch 78/1000\n",
      "156/156 [==============================] - 0s 96us/sample - loss: 366.9111 - mean_absolute_percentage_error: 71.4969 - val_loss: 12219.9766 - val_mean_absolute_percentage_error: 63.4623\n",
      "Epoch 79/1000\n",
      "156/156 [==============================] - 0s 109us/sample - loss: 356.4686 - mean_absolute_percentage_error: 70.2815 - val_loss: 12189.7061 - val_mean_absolute_percentage_error: 62.6272\n",
      "Epoch 80/1000\n",
      "156/156 [==============================] - 0s 77us/sample - loss: 347.8296 - mean_absolute_percentage_error: 69.2991 - val_loss: 12164.9160 - val_mean_absolute_percentage_error: 62.1863\n",
      "Epoch 81/1000\n"
     ]
    },
    {
     "name": "stdout",
     "output_type": "stream",
     "text": [
      "156/156 [==============================] - 0s 90us/sample - loss: 337.5757 - mean_absolute_percentage_error: 67.4238 - val_loss: 12140.8389 - val_mean_absolute_percentage_error: 61.8122\n",
      "Epoch 82/1000\n",
      "156/156 [==============================] - 0s 83us/sample - loss: 328.8344 - mean_absolute_percentage_error: 65.9306 - val_loss: 12108.4658 - val_mean_absolute_percentage_error: 61.2056\n",
      "Epoch 83/1000\n",
      "156/156 [==============================] - 0s 90us/sample - loss: 321.1000 - mean_absolute_percentage_error: 64.4166 - val_loss: 12089.2598 - val_mean_absolute_percentage_error: 60.8020\n",
      "Epoch 84/1000\n",
      "156/156 [==============================] - 0s 70us/sample - loss: 313.1328 - mean_absolute_percentage_error: 63.5712 - val_loss: 12085.9023 - val_mean_absolute_percentage_error: 60.7315\n",
      "Epoch 85/1000\n",
      "156/156 [==============================] - 0s 77us/sample - loss: 303.4904 - mean_absolute_percentage_error: 61.7707 - val_loss: 12038.1318 - val_mean_absolute_percentage_error: 60.6855\n",
      "Epoch 86/1000\n",
      "156/156 [==============================] - 0s 77us/sample - loss: 298.0158 - mean_absolute_percentage_error: 60.9043 - val_loss: 12014.4727 - val_mean_absolute_percentage_error: 60.2783\n",
      "Epoch 87/1000\n",
      "156/156 [==============================] - 0s 77us/sample - loss: 291.0939 - mean_absolute_percentage_error: 59.9809 - val_loss: 11983.3281 - val_mean_absolute_percentage_error: 59.9689\n",
      "Epoch 88/1000\n",
      "156/156 [==============================] - 0s 90us/sample - loss: 284.3179 - mean_absolute_percentage_error: 59.4443 - val_loss: 11986.5537 - val_mean_absolute_percentage_error: 59.6723\n",
      "Epoch 89/1000\n",
      "156/156 [==============================] - 0s 77us/sample - loss: 276.8660 - mean_absolute_percentage_error: 57.9612 - val_loss: 11950.5488 - val_mean_absolute_percentage_error: 59.4721\n",
      "Epoch 90/1000\n",
      "156/156 [==============================] - 0s 89us/sample - loss: 271.7963 - mean_absolute_percentage_error: 57.2344 - val_loss: 11946.4238 - val_mean_absolute_percentage_error: 59.1890\n",
      "Epoch 91/1000\n",
      "156/156 [==============================] - 0s 83us/sample - loss: 265.8683 - mean_absolute_percentage_error: 56.6081 - val_loss: 11952.1484 - val_mean_absolute_percentage_error: 58.7038\n",
      "Epoch 92/1000\n",
      "156/156 [==============================] - 0s 83us/sample - loss: 258.9803 - mean_absolute_percentage_error: 55.5656 - val_loss: 11936.1113 - val_mean_absolute_percentage_error: 58.5453\n",
      "Epoch 93/1000\n",
      "156/156 [==============================] - 0s 90us/sample - loss: 252.6721 - mean_absolute_percentage_error: 54.9276 - val_loss: 11925.9941 - val_mean_absolute_percentage_error: 58.5298\n",
      "Epoch 94/1000\n",
      "156/156 [==============================] - 0s 90us/sample - loss: 247.1179 - mean_absolute_percentage_error: 53.9428 - val_loss: 11897.5371 - val_mean_absolute_percentage_error: 58.3151\n",
      "Epoch 95/1000\n",
      "156/156 [==============================] - 0s 83us/sample - loss: 242.0221 - mean_absolute_percentage_error: 53.4991 - val_loss: 11898.0059 - val_mean_absolute_percentage_error: 57.7022\n",
      "Epoch 96/1000\n",
      "156/156 [==============================] - 0s 83us/sample - loss: 237.4670 - mean_absolute_percentage_error: 52.6143 - val_loss: 11884.4873 - val_mean_absolute_percentage_error: 57.5521\n",
      "Epoch 97/1000\n",
      "156/156 [==============================] - 0s 83us/sample - loss: 231.7779 - mean_absolute_percentage_error: 52.1385 - val_loss: 11874.9824 - val_mean_absolute_percentage_error: 57.3234\n",
      "Epoch 98/1000\n",
      "156/156 [==============================] - 0s 83us/sample - loss: 226.2322 - mean_absolute_percentage_error: 51.6271 - val_loss: 11891.2402 - val_mean_absolute_percentage_error: 57.1864\n",
      "Epoch 99/1000\n",
      "156/156 [==============================] - 0s 96us/sample - loss: 221.2682 - mean_absolute_percentage_error: 50.9066 - val_loss: 11886.7910 - val_mean_absolute_percentage_error: 56.7495\n",
      "Epoch 100/1000\n",
      "156/156 [==============================] - 0s 96us/sample - loss: 215.9545 - mean_absolute_percentage_error: 50.0016 - val_loss: 11864.1230 - val_mean_absolute_percentage_error: 56.4289\n",
      "Epoch 101/1000\n",
      "156/156 [==============================] - 0s 96us/sample - loss: 211.9607 - mean_absolute_percentage_error: 49.6665 - val_loss: 11883.3877 - val_mean_absolute_percentage_error: 55.9632\n",
      "Epoch 102/1000\n",
      "156/156 [==============================] - 0s 83us/sample - loss: 208.2267 - mean_absolute_percentage_error: 49.1375 - val_loss: 11888.2324 - val_mean_absolute_percentage_error: 55.7447\n",
      "Epoch 103/1000\n",
      "156/156 [==============================] - 0s 96us/sample - loss: 202.3304 - mean_absolute_percentage_error: 48.2297 - val_loss: 11867.1289 - val_mean_absolute_percentage_error: 55.7485\n",
      "Epoch 104/1000\n",
      "156/156 [==============================] - 0s 90us/sample - loss: 197.1345 - mean_absolute_percentage_error: 48.2584 - val_loss: 11907.3613 - val_mean_absolute_percentage_error: 55.0767\n",
      "Epoch 105/1000\n",
      "156/156 [==============================] - 0s 89us/sample - loss: 193.3192 - mean_absolute_percentage_error: 47.5779 - val_loss: 11903.9072 - val_mean_absolute_percentage_error: 54.8038\n",
      "Epoch 106/1000\n",
      "156/156 [==============================] - 0s 96us/sample - loss: 188.3365 - mean_absolute_percentage_error: 46.8877 - val_loss: 11912.6816 - val_mean_absolute_percentage_error: 53.9787\n",
      "Epoch 107/1000\n",
      "156/156 [==============================] - 0s 83us/sample - loss: 184.9067 - mean_absolute_percentage_error: 46.4582 - val_loss: 11863.6436 - val_mean_absolute_percentage_error: 53.6849\n",
      "Epoch 108/1000\n",
      "156/156 [==============================] - 0s 90us/sample - loss: 181.2543 - mean_absolute_percentage_error: 46.1239 - val_loss: 11866.9355 - val_mean_absolute_percentage_error: 53.5368\n",
      "Epoch 109/1000\n",
      "156/156 [==============================] - 0s 90us/sample - loss: 176.0932 - mean_absolute_percentage_error: 45.6104 - val_loss: 11862.0342 - val_mean_absolute_percentage_error: 52.9914\n",
      "Epoch 110/1000\n",
      "156/156 [==============================] - 0s 90us/sample - loss: 172.4540 - mean_absolute_percentage_error: 44.8158 - val_loss: 11827.8750 - val_mean_absolute_percentage_error: 53.0334\n",
      "Epoch 111/1000\n",
      "156/156 [==============================] - 0s 83us/sample - loss: 169.8435 - mean_absolute_percentage_error: 44.8173 - val_loss: 11843.3516 - val_mean_absolute_percentage_error: 52.7424\n",
      "Epoch 112/1000\n",
      "156/156 [==============================] - 0s 83us/sample - loss: 166.3831 - mean_absolute_percentage_error: 44.1585 - val_loss: 11832.0488 - val_mean_absolute_percentage_error: 52.3605\n",
      "Epoch 113/1000\n",
      "156/156 [==============================] - 0s 90us/sample - loss: 161.7923 - mean_absolute_percentage_error: 44.1519 - val_loss: 11856.6514 - val_mean_absolute_percentage_error: 51.9012\n",
      "Epoch 114/1000\n",
      "156/156 [==============================] - 0s 102us/sample - loss: 159.0496 - mean_absolute_percentage_error: 43.5878 - val_loss: 11859.6250 - val_mean_absolute_percentage_error: 51.8973\n",
      "Epoch 115/1000\n",
      "156/156 [==============================] - 0s 83us/sample - loss: 154.2971 - mean_absolute_percentage_error: 43.1625 - val_loss: 11844.3486 - val_mean_absolute_percentage_error: 51.4812\n",
      "Epoch 116/1000\n",
      "156/156 [==============================] - 0s 96us/sample - loss: 151.9592 - mean_absolute_percentage_error: 43.4146 - val_loss: 11877.2393 - val_mean_absolute_percentage_error: 51.0256\n",
      "Epoch 117/1000\n",
      "156/156 [==============================] - 0s 96us/sample - loss: 147.8658 - mean_absolute_percentage_error: 43.0214 - val_loss: 11919.5957 - val_mean_absolute_percentage_error: 50.4715\n",
      "Epoch 118/1000\n",
      "156/156 [==============================] - 0s 102us/sample - loss: 145.2905 - mean_absolute_percentage_error: 42.1755 - val_loss: 11879.5332 - val_mean_absolute_percentage_error: 50.2937\n",
      "Epoch 119/1000\n",
      "156/156 [==============================] - 0s 109us/sample - loss: 141.0437 - mean_absolute_percentage_error: 42.2217 - val_loss: 11881.0039 - val_mean_absolute_percentage_error: 50.3147\n",
      "Epoch 120/1000\n",
      "156/156 [==============================] - 0s 96us/sample - loss: 138.6771 - mean_absolute_percentage_error: 42.0877 - val_loss: 11872.8506 - val_mean_absolute_percentage_error: 49.7492\n",
      "Epoch 121/1000\n",
      "156/156 [==============================] - 0s 83us/sample - loss: 135.5403 - mean_absolute_percentage_error: 42.1603 - val_loss: 11898.4141 - val_mean_absolute_percentage_error: 49.5492\n"
     ]
    },
    {
     "name": "stdout",
     "output_type": "stream",
     "text": [
      "Epoch 122/1000\n",
      "156/156 [==============================] - 0s 96us/sample - loss: 133.4116 - mean_absolute_percentage_error: 41.8333 - val_loss: 11887.0137 - val_mean_absolute_percentage_error: 49.2780\n",
      "Epoch 123/1000\n",
      "156/156 [==============================] - 0s 90us/sample - loss: 129.9624 - mean_absolute_percentage_error: 41.4808 - val_loss: 11881.6025 - val_mean_absolute_percentage_error: 48.9563\n",
      "Epoch 124/1000\n",
      "156/156 [==============================] - 0s 90us/sample - loss: 126.8816 - mean_absolute_percentage_error: 41.1995 - val_loss: 11895.2158 - val_mean_absolute_percentage_error: 48.7422\n",
      "Epoch 125/1000\n",
      "156/156 [==============================] - 0s 91us/sample - loss: 123.4805 - mean_absolute_percentage_error: 41.2616 - val_loss: 11915.9121 - val_mean_absolute_percentage_error: 48.1899\n",
      "Epoch 126/1000\n",
      "156/156 [==============================] - 0s 83us/sample - loss: 120.9682 - mean_absolute_percentage_error: 41.2344 - val_loss: 11923.9971 - val_mean_absolute_percentage_error: 47.8514\n",
      "Epoch 127/1000\n",
      "156/156 [==============================] - 0s 90us/sample - loss: 119.0874 - mean_absolute_percentage_error: 40.7242 - val_loss: 11925.3477 - val_mean_absolute_percentage_error: 47.4710\n",
      "Epoch 128/1000\n",
      "156/156 [==============================] - 0s 96us/sample - loss: 115.4601 - mean_absolute_percentage_error: 40.7761 - val_loss: 11964.6396 - val_mean_absolute_percentage_error: 47.0063\n",
      "Epoch 129/1000\n",
      "156/156 [==============================] - 0s 96us/sample - loss: 111.8795 - mean_absolute_percentage_error: 39.8168 - val_loss: 11919.2070 - val_mean_absolute_percentage_error: 46.9898\n",
      "Epoch 130/1000\n",
      "156/156 [==============================] - 0s 83us/sample - loss: 109.6138 - mean_absolute_percentage_error: 40.0221 - val_loss: 11963.3018 - val_mean_absolute_percentage_error: 46.3503\n",
      "Epoch 131/1000\n",
      "156/156 [==============================] - 0s 85us/sample - loss: 107.0045 - mean_absolute_percentage_error: 39.8838 - val_loss: 11949.2871 - val_mean_absolute_percentage_error: 46.0486\n",
      "Epoch 132/1000\n",
      "156/156 [==============================] - 0s 90us/sample - loss: 104.3407 - mean_absolute_percentage_error: 39.4567 - val_loss: 11993.8799 - val_mean_absolute_percentage_error: 45.9105\n",
      "Epoch 133/1000\n",
      "156/156 [==============================] - 0s 77us/sample - loss: 101.9521 - mean_absolute_percentage_error: 39.8207 - val_loss: 11990.7168 - val_mean_absolute_percentage_error: 45.4456\n",
      "Epoch 134/1000\n",
      "156/156 [==============================] - 0s 83us/sample - loss: 99.2844 - mean_absolute_percentage_error: 39.3728 - val_loss: 12008.3760 - val_mean_absolute_percentage_error: 45.1845\n",
      "Epoch 135/1000\n",
      "156/156 [==============================] - 0s 83us/sample - loss: 97.0448 - mean_absolute_percentage_error: 38.9396 - val_loss: 11951.1328 - val_mean_absolute_percentage_error: 44.8767\n",
      "Epoch 136/1000\n",
      "156/156 [==============================] - 0s 77us/sample - loss: 94.3614 - mean_absolute_percentage_error: 39.1886 - val_loss: 11961.6660 - val_mean_absolute_percentage_error: 44.1540\n",
      "Epoch 137/1000\n",
      "156/156 [==============================] - 0s 83us/sample - loss: 92.4792 - mean_absolute_percentage_error: 38.9551 - val_loss: 11942.0576 - val_mean_absolute_percentage_error: 43.8490\n",
      "Epoch 138/1000\n",
      "156/156 [==============================] - 0s 77us/sample - loss: 90.3959 - mean_absolute_percentage_error: 38.7496 - val_loss: 11985.6445 - val_mean_absolute_percentage_error: 43.6652\n",
      "Epoch 139/1000\n",
      "156/156 [==============================] - 0s 70us/sample - loss: 87.2406 - mean_absolute_percentage_error: 38.4674 - val_loss: 11989.7461 - val_mean_absolute_percentage_error: 43.5148\n",
      "Epoch 140/1000\n",
      "156/156 [==============================] - 0s 77us/sample - loss: 85.8455 - mean_absolute_percentage_error: 38.4955 - val_loss: 11978.4795 - val_mean_absolute_percentage_error: 43.0045\n",
      "Epoch 141/1000\n",
      "156/156 [==============================] - 0s 83us/sample - loss: 84.0123 - mean_absolute_percentage_error: 38.4106 - val_loss: 12015.3037 - val_mean_absolute_percentage_error: 42.3688\n",
      "Epoch 142/1000\n",
      "156/156 [==============================] - 0s 90us/sample - loss: 81.7769 - mean_absolute_percentage_error: 38.1466 - val_loss: 11989.4082 - val_mean_absolute_percentage_error: 42.1799\n",
      "Epoch 143/1000\n",
      "156/156 [==============================] - 0s 83us/sample - loss: 79.5450 - mean_absolute_percentage_error: 38.1435 - val_loss: 12027.6387 - val_mean_absolute_percentage_error: 41.4660\n",
      "Epoch 144/1000\n",
      "156/156 [==============================] - ETA: 0s - loss: 48.3290 - mean_absolute_percentage_error: 43.70 - 0s 90us/sample - loss: 77.4801 - mean_absolute_percentage_error: 37.8156 - val_loss: 12040.5537 - val_mean_absolute_percentage_error: 41.1681\n",
      "Epoch 145/1000\n",
      "156/156 [==============================] - 0s 96us/sample - loss: 75.6270 - mean_absolute_percentage_error: 38.0909 - val_loss: 12032.7305 - val_mean_absolute_percentage_error: 40.9912\n",
      "Epoch 146/1000\n",
      "156/156 [==============================] - 0s 96us/sample - loss: 74.8966 - mean_absolute_percentage_error: 38.1103 - val_loss: 12037.2109 - val_mean_absolute_percentage_error: 41.0908\n",
      "Epoch 147/1000\n",
      "156/156 [==============================] - 0s 77us/sample - loss: 71.8432 - mean_absolute_percentage_error: 37.5169 - val_loss: 12018.5566 - val_mean_absolute_percentage_error: 40.9072\n",
      "Epoch 148/1000\n",
      "156/156 [==============================] - 0s 83us/sample - loss: 70.7046 - mean_absolute_percentage_error: 37.4636 - val_loss: 12015.8740 - val_mean_absolute_percentage_error: 40.3494\n",
      "Epoch 149/1000\n",
      "156/156 [==============================] - 0s 83us/sample - loss: 68.3404 - mean_absolute_percentage_error: 37.2176 - val_loss: 12026.8369 - val_mean_absolute_percentage_error: 40.3217\n",
      "Epoch 150/1000\n",
      "156/156 [==============================] - 0s 109us/sample - loss: 67.3274 - mean_absolute_percentage_error: 37.1163 - val_loss: 12012.8604 - val_mean_absolute_percentage_error: 40.1711\n",
      "Epoch 151/1000\n",
      "156/156 [==============================] - 0s 109us/sample - loss: 65.4727 - mean_absolute_percentage_error: 37.0673 - val_loss: 12076.4902 - val_mean_absolute_percentage_error: 39.7424\n",
      "Epoch 152/1000\n",
      "156/156 [==============================] - 0s 83us/sample - loss: 63.4006 - mean_absolute_percentage_error: 36.7474 - val_loss: 12022.4668 - val_mean_absolute_percentage_error: 39.6530\n",
      "Epoch 153/1000\n",
      "156/156 [==============================] - 0s 121us/sample - loss: 61.8621 - mean_absolute_percentage_error: 37.1572 - val_loss: 12052.6230 - val_mean_absolute_percentage_error: 39.2950\n",
      "Epoch 154/1000\n",
      "156/156 [==============================] - 0s 123us/sample - loss: 60.9401 - mean_absolute_percentage_error: 36.6435 - val_loss: 12053.9971 - val_mean_absolute_percentage_error: 39.3246\n",
      "Epoch 155/1000\n",
      "156/156 [==============================] - 0s 147us/sample - loss: 58.9988 - mean_absolute_percentage_error: 37.0201 - val_loss: 12043.6709 - val_mean_absolute_percentage_error: 38.7287\n",
      "Epoch 156/1000\n",
      "156/156 [==============================] - 0s 115us/sample - loss: 57.3107 - mean_absolute_percentage_error: 36.6196 - val_loss: 11980.2168 - val_mean_absolute_percentage_error: 38.8618\n",
      "Epoch 157/1000\n",
      "156/156 [==============================] - 0s 160us/sample - loss: 55.8345 - mean_absolute_percentage_error: 36.2702 - val_loss: 12041.3086 - val_mean_absolute_percentage_error: 38.2508\n",
      "Epoch 158/1000\n",
      "156/156 [==============================] - 0s 109us/sample - loss: 55.8835 - mean_absolute_percentage_error: 36.3060 - val_loss: 12020.6475 - val_mean_absolute_percentage_error: 37.8498\n",
      "Epoch 159/1000\n",
      "156/156 [==============================] - 0s 90us/sample - loss: 52.7673 - mean_absolute_percentage_error: 35.9755 - val_loss: 12007.5869 - val_mean_absolute_percentage_error: 38.0504\n",
      "Epoch 160/1000\n",
      "156/156 [==============================] - 0s 128us/sample - loss: 51.3636 - mean_absolute_percentage_error: 36.1486 - val_loss: 12064.0889 - val_mean_absolute_percentage_error: 37.2283\n",
      "Epoch 161/1000\n",
      "156/156 [==============================] - 0s 121us/sample - loss: 50.3591 - mean_absolute_percentage_error: 35.6101 - val_loss: 12011.5986 - val_mean_absolute_percentage_error: 37.4554\n",
      "Epoch 162/1000\n"
     ]
    },
    {
     "name": "stdout",
     "output_type": "stream",
     "text": [
      "156/156 [==============================] - 0s 121us/sample - loss: 49.3763 - mean_absolute_percentage_error: 35.7908 - val_loss: 11979.1348 - val_mean_absolute_percentage_error: 37.5711\n",
      "Epoch 163/1000\n",
      "156/156 [==============================] - 0s 134us/sample - loss: 47.8592 - mean_absolute_percentage_error: 35.3780 - val_loss: 11963.5684 - val_mean_absolute_percentage_error: 37.3605\n",
      "Epoch 164/1000\n",
      "156/156 [==============================] - 0s 141us/sample - loss: 47.3620 - mean_absolute_percentage_error: 35.3948 - val_loss: 12010.9199 - val_mean_absolute_percentage_error: 36.8745\n",
      "Epoch 165/1000\n",
      "156/156 [==============================] - 0s 141us/sample - loss: 45.0810 - mean_absolute_percentage_error: 35.4317 - val_loss: 12037.2119 - val_mean_absolute_percentage_error: 36.4296\n",
      "Epoch 166/1000\n",
      "156/156 [==============================] - 0s 83us/sample - loss: 44.4281 - mean_absolute_percentage_error: 35.1928 - val_loss: 11984.8682 - val_mean_absolute_percentage_error: 35.9705\n",
      "Epoch 167/1000\n",
      "156/156 [==============================] - 0s 96us/sample - loss: 43.0773 - mean_absolute_percentage_error: 34.6961 - val_loss: 11949.3379 - val_mean_absolute_percentage_error: 36.1757\n",
      "Epoch 168/1000\n",
      "156/156 [==============================] - 0s 96us/sample - loss: 42.4101 - mean_absolute_percentage_error: 34.7117 - val_loss: 11964.4453 - val_mean_absolute_percentage_error: 36.1669\n",
      "Epoch 169/1000\n",
      "156/156 [==============================] - 0s 90us/sample - loss: 40.9098 - mean_absolute_percentage_error: 34.6540 - val_loss: 11969.4434 - val_mean_absolute_percentage_error: 35.8655\n",
      "Epoch 170/1000\n",
      "156/156 [==============================] - 0s 83us/sample - loss: 40.7749 - mean_absolute_percentage_error: 34.6789 - val_loss: 11986.7041 - val_mean_absolute_percentage_error: 35.6415\n",
      "Epoch 171/1000\n",
      "156/156 [==============================] - 0s 89us/sample - loss: 39.1601 - mean_absolute_percentage_error: 34.4592 - val_loss: 12006.9434 - val_mean_absolute_percentage_error: 35.4573\n",
      "Epoch 172/1000\n",
      "156/156 [==============================] - 0s 83us/sample - loss: 38.6266 - mean_absolute_percentage_error: 34.5140 - val_loss: 12019.5498 - val_mean_absolute_percentage_error: 35.2769\n",
      "Epoch 173/1000\n",
      "156/156 [==============================] - 0s 89us/sample - loss: 37.4206 - mean_absolute_percentage_error: 34.3644 - val_loss: 12003.7715 - val_mean_absolute_percentage_error: 35.2575\n",
      "Epoch 174/1000\n",
      "156/156 [==============================] - 0s 96us/sample - loss: 36.9982 - mean_absolute_percentage_error: 34.1524 - val_loss: 11963.5000 - val_mean_absolute_percentage_error: 35.3273\n",
      "Epoch 175/1000\n",
      "156/156 [==============================] - 0s 96us/sample - loss: 36.1554 - mean_absolute_percentage_error: 33.9935 - val_loss: 11969.4707 - val_mean_absolute_percentage_error: 35.2737\n",
      "Epoch 176/1000\n",
      "156/156 [==============================] - 0s 96us/sample - loss: 35.2790 - mean_absolute_percentage_error: 34.0850 - val_loss: 11952.9121 - val_mean_absolute_percentage_error: 35.4454\n",
      "Epoch 177/1000\n",
      "156/156 [==============================] - 0s 102us/sample - loss: 34.2271 - mean_absolute_percentage_error: 33.8141 - val_loss: 11962.3379 - val_mean_absolute_percentage_error: 35.1852\n",
      "Epoch 178/1000\n",
      "156/156 [==============================] - 0s 83us/sample - loss: 33.1713 - mean_absolute_percentage_error: 33.6379 - val_loss: 11936.7021 - val_mean_absolute_percentage_error: 35.1368\n",
      "Epoch 179/1000\n",
      "156/156 [==============================] - 0s 77us/sample - loss: 32.3530 - mean_absolute_percentage_error: 33.5563 - val_loss: 11964.6816 - val_mean_absolute_percentage_error: 34.9789\n",
      "Epoch 180/1000\n",
      "156/156 [==============================] - 0s 96us/sample - loss: 32.3118 - mean_absolute_percentage_error: 33.5285 - val_loss: 11934.7588 - val_mean_absolute_percentage_error: 35.0118\n",
      "Epoch 181/1000\n",
      "156/156 [==============================] - 0s 77us/sample - loss: 31.8973 - mean_absolute_percentage_error: 33.0693 - val_loss: 11963.6396 - val_mean_absolute_percentage_error: 34.9431\n",
      "Epoch 182/1000\n",
      "156/156 [==============================] - 0s 89us/sample - loss: 30.6622 - mean_absolute_percentage_error: 33.0176 - val_loss: 11931.9824 - val_mean_absolute_percentage_error: 34.7884\n",
      "Epoch 183/1000\n",
      "156/156 [==============================] - 0s 77us/sample - loss: 30.1442 - mean_absolute_percentage_error: 32.9314 - val_loss: 11919.8945 - val_mean_absolute_percentage_error: 35.2394\n",
      "Epoch 184/1000\n",
      "156/156 [==============================] - 0s 77us/sample - loss: 29.7183 - mean_absolute_percentage_error: 32.7452 - val_loss: 11984.7090 - val_mean_absolute_percentage_error: 35.0641\n",
      "Epoch 185/1000\n",
      "156/156 [==============================] - 0s 77us/sample - loss: 28.7076 - mean_absolute_percentage_error: 32.7275 - val_loss: 12005.0127 - val_mean_absolute_percentage_error: 34.7149\n",
      "Epoch 186/1000\n",
      "156/156 [==============================] - 0s 77us/sample - loss: 28.4300 - mean_absolute_percentage_error: 32.5691 - val_loss: 11961.5059 - val_mean_absolute_percentage_error: 34.6094\n",
      "Epoch 187/1000\n",
      "156/156 [==============================] - 0s 83us/sample - loss: 27.6742 - mean_absolute_percentage_error: 32.1201 - val_loss: 11982.4355 - val_mean_absolute_percentage_error: 35.0536\n",
      "Epoch 188/1000\n",
      "156/156 [==============================] - 0s 90us/sample - loss: 26.8671 - mean_absolute_percentage_error: 32.0819 - val_loss: 11881.8242 - val_mean_absolute_percentage_error: 35.3186\n",
      "Epoch 189/1000\n",
      "156/156 [==============================] - 0s 83us/sample - loss: 27.0360 - mean_absolute_percentage_error: 32.0471 - val_loss: 11989.0205 - val_mean_absolute_percentage_error: 34.7531\n",
      "Epoch 190/1000\n",
      "156/156 [==============================] - 0s 83us/sample - loss: 26.1905 - mean_absolute_percentage_error: 31.7133 - val_loss: 11893.2764 - val_mean_absolute_percentage_error: 35.3607\n",
      "Epoch 191/1000\n",
      "156/156 [==============================] - 0s 83us/sample - loss: 25.9125 - mean_absolute_percentage_error: 31.5468 - val_loss: 11907.4385 - val_mean_absolute_percentage_error: 35.2057\n",
      "Epoch 192/1000\n",
      "156/156 [==============================] - 0s 83us/sample - loss: 25.3733 - mean_absolute_percentage_error: 31.6149 - val_loss: 11987.8447 - val_mean_absolute_percentage_error: 34.4690\n",
      "Epoch 193/1000\n",
      "156/156 [==============================] - 0s 83us/sample - loss: 25.0702 - mean_absolute_percentage_error: 31.4571 - val_loss: 11935.7588 - val_mean_absolute_percentage_error: 34.9429\n",
      "Epoch 194/1000\n",
      "156/156 [==============================] - 0s 294us/sample - loss: 24.5102 - mean_absolute_percentage_error: 31.2085 - val_loss: 11950.2461 - val_mean_absolute_percentage_error: 35.1007\n",
      "Epoch 195/1000\n",
      "156/156 [==============================] - 0s 109us/sample - loss: 23.9279 - mean_absolute_percentage_error: 31.2116 - val_loss: 11990.5605 - val_mean_absolute_percentage_error: 34.3987\n",
      "Epoch 196/1000\n",
      "156/156 [==============================] - 0s 89us/sample - loss: 23.5631 - mean_absolute_percentage_error: 31.0483 - val_loss: 11928.7959 - val_mean_absolute_percentage_error: 34.4498\n",
      "Epoch 197/1000\n",
      "156/156 [==============================] - 0s 288us/sample - loss: 23.4613 - mean_absolute_percentage_error: 30.8237 - val_loss: 11966.0137 - val_mean_absolute_percentage_error: 34.6633\n",
      "Epoch 198/1000\n",
      "156/156 [==============================] - 0s 115us/sample - loss: 22.6112 - mean_absolute_percentage_error: 30.8272 - val_loss: 11859.9082 - val_mean_absolute_percentage_error: 34.7199\n",
      "Epoch 199/1000\n",
      "156/156 [==============================] - 0s 115us/sample - loss: 23.0480 - mean_absolute_percentage_error: 30.7625 - val_loss: 11940.8389 - val_mean_absolute_percentage_error: 34.2204\n",
      "Epoch 200/1000\n",
      "156/156 [==============================] - 0s 109us/sample - loss: 22.1726 - mean_absolute_percentage_error: 30.4577 - val_loss: 11929.5283 - val_mean_absolute_percentage_error: 34.1845\n",
      "Epoch 201/1000\n",
      "156/156 [==============================] - 0s 102us/sample - loss: 21.9336 - mean_absolute_percentage_error: 30.3289 - val_loss: 11942.3721 - val_mean_absolute_percentage_error: 34.3161\n",
      "Epoch 202/1000\n",
      "156/156 [==============================] - 0s 128us/sample - loss: 21.7237 - mean_absolute_percentage_error: 30.2436 - val_loss: 11889.9287 - val_mean_absolute_percentage_error: 34.5604\n"
     ]
    },
    {
     "name": "stdout",
     "output_type": "stream",
     "text": [
      "Epoch 203/1000\n",
      "156/156 [==============================] - 0s 108us/sample - loss: 21.6105 - mean_absolute_percentage_error: 30.0721 - val_loss: 11913.3086 - val_mean_absolute_percentage_error: 34.3921\n",
      "Epoch 204/1000\n",
      "156/156 [==============================] - 0s 109us/sample - loss: 21.0288 - mean_absolute_percentage_error: 29.9085 - val_loss: 11886.9893 - val_mean_absolute_percentage_error: 33.9045\n",
      "Epoch 205/1000\n",
      "156/156 [==============================] - 0s 91us/sample - loss: 20.6211 - mean_absolute_percentage_error: 29.9051 - val_loss: 11893.3496 - val_mean_absolute_percentage_error: 33.8314\n",
      "Epoch 206/1000\n",
      "156/156 [==============================] - 0s 90us/sample - loss: 20.3239 - mean_absolute_percentage_error: 29.6279 - val_loss: 11847.0557 - val_mean_absolute_percentage_error: 34.3137\n",
      "Epoch 207/1000\n",
      "156/156 [==============================] - 0s 109us/sample - loss: 20.0788 - mean_absolute_percentage_error: 29.2528 - val_loss: 11945.1699 - val_mean_absolute_percentage_error: 33.7008\n",
      "Epoch 208/1000\n",
      "156/156 [==============================] - 0s 99us/sample - loss: 19.9727 - mean_absolute_percentage_error: 29.2902 - val_loss: 11965.2598 - val_mean_absolute_percentage_error: 33.5128\n",
      "Epoch 209/1000\n",
      "156/156 [==============================] - 0s 102us/sample - loss: 19.5433 - mean_absolute_percentage_error: 29.1314 - val_loss: 11956.8994 - val_mean_absolute_percentage_error: 33.6917\n",
      "Epoch 210/1000\n",
      "156/156 [==============================] - 0s 96us/sample - loss: 19.4925 - mean_absolute_percentage_error: 29.3599 - val_loss: 11983.4248 - val_mean_absolute_percentage_error: 33.3912\n",
      "Epoch 211/1000\n",
      "156/156 [==============================] - 0s 96us/sample - loss: 19.2523 - mean_absolute_percentage_error: 28.7948 - val_loss: 11904.0439 - val_mean_absolute_percentage_error: 33.8994\n",
      "Epoch 212/1000\n",
      "156/156 [==============================] - 0s 96us/sample - loss: 18.8784 - mean_absolute_percentage_error: 28.5717 - val_loss: 11903.1504 - val_mean_absolute_percentage_error: 34.3447\n",
      "Epoch 213/1000\n",
      "156/156 [==============================] - 0s 96us/sample - loss: 18.5357 - mean_absolute_percentage_error: 28.7302 - val_loss: 11876.1846 - val_mean_absolute_percentage_error: 34.1552\n",
      "Epoch 214/1000\n",
      "156/156 [==============================] - 0s 102us/sample - loss: 18.6529 - mean_absolute_percentage_error: 28.4446 - val_loss: 11945.9785 - val_mean_absolute_percentage_error: 33.4633\n",
      "Epoch 215/1000\n",
      "156/156 [==============================] - 0s 96us/sample - loss: 18.5724 - mean_absolute_percentage_error: 27.9965 - val_loss: 11861.7695 - val_mean_absolute_percentage_error: 34.6894\n",
      "Epoch 216/1000\n",
      "156/156 [==============================] - 0s 77us/sample - loss: 17.9418 - mean_absolute_percentage_error: 28.3838 - val_loss: 11911.5713 - val_mean_absolute_percentage_error: 33.8200\n",
      "Epoch 217/1000\n",
      "156/156 [==============================] - 0s 83us/sample - loss: 17.9242 - mean_absolute_percentage_error: 27.7730 - val_loss: 11822.8984 - val_mean_absolute_percentage_error: 34.4901\n",
      "Epoch 218/1000\n",
      "156/156 [==============================] - 0s 70us/sample - loss: 17.7753 - mean_absolute_percentage_error: 27.9873 - val_loss: 11906.8906 - val_mean_absolute_percentage_error: 33.8312\n",
      "Epoch 219/1000\n",
      "156/156 [==============================] - 0s 83us/sample - loss: 17.5323 - mean_absolute_percentage_error: 27.4777 - val_loss: 11915.4609 - val_mean_absolute_percentage_error: 34.0890\n",
      "Epoch 220/1000\n",
      "156/156 [==============================] - 0s 90us/sample - loss: 17.1897 - mean_absolute_percentage_error: 27.6128 - val_loss: 11862.2031 - val_mean_absolute_percentage_error: 33.8269\n",
      "Epoch 221/1000\n",
      "156/156 [==============================] - 0s 77us/sample - loss: 17.2694 - mean_absolute_percentage_error: 27.5565 - val_loss: 11943.7314 - val_mean_absolute_percentage_error: 33.2126\n",
      "Epoch 222/1000\n",
      "156/156 [==============================] - 0s 83us/sample - loss: 16.7418 - mean_absolute_percentage_error: 27.1461 - val_loss: 11894.9346 - val_mean_absolute_percentage_error: 33.7410\n",
      "Epoch 223/1000\n",
      "156/156 [==============================] - 0s 83us/sample - loss: 17.0187 - mean_absolute_percentage_error: 26.9354 - val_loss: 11907.6240 - val_mean_absolute_percentage_error: 33.1159\n",
      "Epoch 224/1000\n",
      "156/156 [==============================] - 0s 77us/sample - loss: 16.7512 - mean_absolute_percentage_error: 26.7261 - val_loss: 11886.3027 - val_mean_absolute_percentage_error: 33.5393\n",
      "Epoch 225/1000\n",
      "156/156 [==============================] - 0s 70us/sample - loss: 16.6783 - mean_absolute_percentage_error: 26.5763 - val_loss: 11906.9512 - val_mean_absolute_percentage_error: 33.2085\n",
      "Epoch 226/1000\n",
      "156/156 [==============================] - 0s 77us/sample - loss: 16.4195 - mean_absolute_percentage_error: 26.3869 - val_loss: 11886.9160 - val_mean_absolute_percentage_error: 32.6571\n",
      "Epoch 227/1000\n",
      "156/156 [==============================] - 0s 83us/sample - loss: 16.2124 - mean_absolute_percentage_error: 26.1218 - val_loss: 11887.3047 - val_mean_absolute_percentage_error: 33.2894\n",
      "Epoch 228/1000\n",
      "156/156 [==============================] - 0s 77us/sample - loss: 16.0259 - mean_absolute_percentage_error: 26.1780 - val_loss: 11893.0312 - val_mean_absolute_percentage_error: 32.8948\n",
      "Epoch 229/1000\n",
      "156/156 [==============================] - 0s 83us/sample - loss: 15.8764 - mean_absolute_percentage_error: 25.9267 - val_loss: 11890.1963 - val_mean_absolute_percentage_error: 33.2372\n",
      "Epoch 230/1000\n",
      "156/156 [==============================] - 0s 77us/sample - loss: 15.6838 - mean_absolute_percentage_error: 25.8651 - val_loss: 11862.2666 - val_mean_absolute_percentage_error: 32.7544\n",
      "Epoch 231/1000\n",
      "156/156 [==============================] - 0s 83us/sample - loss: 15.5062 - mean_absolute_percentage_error: 25.7276 - val_loss: 11948.0693 - val_mean_absolute_percentage_error: 32.3209\n",
      "Epoch 232/1000\n",
      "156/156 [==============================] - 0s 83us/sample - loss: 15.3649 - mean_absolute_percentage_error: 25.4513 - val_loss: 11930.6582 - val_mean_absolute_percentage_error: 32.4101\n",
      "Epoch 233/1000\n",
      "156/156 [==============================] - 0s 83us/sample - loss: 15.4440 - mean_absolute_percentage_error: 25.2323 - val_loss: 11916.8193 - val_mean_absolute_percentage_error: 32.2628\n",
      "Epoch 234/1000\n",
      "156/156 [==============================] - 0s 90us/sample - loss: 15.3214 - mean_absolute_percentage_error: 25.2630 - val_loss: 11828.8926 - val_mean_absolute_percentage_error: 32.8631\n",
      "Epoch 235/1000\n",
      "156/156 [==============================] - 0s 96us/sample - loss: 15.1321 - mean_absolute_percentage_error: 25.1935 - val_loss: 11914.5879 - val_mean_absolute_percentage_error: 32.5275\n",
      "Epoch 236/1000\n",
      "156/156 [==============================] - 0s 90us/sample - loss: 14.8498 - mean_absolute_percentage_error: 25.0096 - val_loss: 11811.7021 - val_mean_absolute_percentage_error: 32.7977\n",
      "Epoch 237/1000\n",
      "156/156 [==============================] - 0s 90us/sample - loss: 14.8881 - mean_absolute_percentage_error: 25.1074 - val_loss: 11835.7188 - val_mean_absolute_percentage_error: 32.7464\n",
      "Epoch 238/1000\n",
      "156/156 [==============================] - 0s 96us/sample - loss: 14.4612 - mean_absolute_percentage_error: 24.7902 - val_loss: 11889.1777 - val_mean_absolute_percentage_error: 32.3839\n",
      "Epoch 239/1000\n",
      "156/156 [==============================] - 0s 121us/sample - loss: 15.0211 - mean_absolute_percentage_error: 24.6904 - val_loss: 11908.6943 - val_mean_absolute_percentage_error: 32.1079\n",
      "Epoch 240/1000\n",
      "156/156 [==============================] - 0s 96us/sample - loss: 14.5214 - mean_absolute_percentage_error: 24.5046 - val_loss: 11891.5059 - val_mean_absolute_percentage_error: 32.2054\n",
      "Epoch 241/1000\n",
      "156/156 [==============================] - 0s 102us/sample - loss: 14.3643 - mean_absolute_percentage_error: 24.5981 - val_loss: 11908.7949 - val_mean_absolute_percentage_error: 31.2742\n",
      "Epoch 242/1000\n",
      "156/156 [==============================] - 0s 90us/sample - loss: 13.9562 - mean_absolute_percentage_error: 24.1509 - val_loss: 11932.3506 - val_mean_absolute_percentage_error: 32.2838\n",
      "Epoch 243/1000\n",
      "156/156 [==============================] - 0s 96us/sample - loss: 14.5713 - mean_absolute_percentage_error: 24.6334 - val_loss: 11941.2920 - val_mean_absolute_percentage_error: 31.4282\n"
     ]
    },
    {
     "name": "stdout",
     "output_type": "stream",
     "text": [
      "Epoch 244/1000\n",
      "156/156 [==============================] - 0s 96us/sample - loss: 14.0775 - mean_absolute_percentage_error: 24.2093 - val_loss: 11925.5918 - val_mean_absolute_percentage_error: 31.7482\n",
      "Epoch 245/1000\n",
      "156/156 [==============================] - 0s 121us/sample - loss: 13.8844 - mean_absolute_percentage_error: 23.9733 - val_loss: 11910.0137 - val_mean_absolute_percentage_error: 31.7008\n",
      "Epoch 246/1000\n",
      "156/156 [==============================] - 0s 89us/sample - loss: 13.6982 - mean_absolute_percentage_error: 24.0762 - val_loss: 11871.4980 - val_mean_absolute_percentage_error: 31.5283\n",
      "Epoch 247/1000\n",
      "156/156 [==============================] - ETA: 0s - loss: 36.9214 - mean_absolute_percentage_error: 35.71 - 0s 102us/sample - loss: 13.7969 - mean_absolute_percentage_error: 23.7434 - val_loss: 11886.5430 - val_mean_absolute_percentage_error: 31.5341\n",
      "Epoch 248/1000\n",
      "156/156 [==============================] - 0s 109us/sample - loss: 13.4566 - mean_absolute_percentage_error: 23.4696 - val_loss: 11848.6465 - val_mean_absolute_percentage_error: 32.0610\n",
      "Epoch 249/1000\n",
      "156/156 [==============================] - 0s 83us/sample - loss: 13.6400 - mean_absolute_percentage_error: 23.3201 - val_loss: 11875.7451 - val_mean_absolute_percentage_error: 31.7856\n",
      "Epoch 250/1000\n",
      "156/156 [==============================] - 0s 96us/sample - loss: 13.3298 - mean_absolute_percentage_error: 23.3363 - val_loss: 11895.8359 - val_mean_absolute_percentage_error: 31.6607\n",
      "Epoch 251/1000\n",
      "156/156 [==============================] - 0s 96us/sample - loss: 12.9668 - mean_absolute_percentage_error: 23.2751 - val_loss: 11902.0381 - val_mean_absolute_percentage_error: 31.4116\n",
      "Epoch 252/1000\n",
      "156/156 [==============================] - 0s 102us/sample - loss: 13.0699 - mean_absolute_percentage_error: 22.9173 - val_loss: 11874.6289 - val_mean_absolute_percentage_error: 31.2933\n",
      "Epoch 253/1000\n",
      "156/156 [==============================] - 0s 90us/sample - loss: 12.9719 - mean_absolute_percentage_error: 23.0762 - val_loss: 11880.6211 - val_mean_absolute_percentage_error: 30.9529\n",
      "Epoch 254/1000\n",
      "156/156 [==============================] - 0s 90us/sample - loss: 12.9362 - mean_absolute_percentage_error: 22.8016 - val_loss: 11887.3252 - val_mean_absolute_percentage_error: 30.3676\n",
      "Epoch 255/1000\n",
      "156/156 [==============================] - 0s 83us/sample - loss: 12.6544 - mean_absolute_percentage_error: 22.5610 - val_loss: 11851.7031 - val_mean_absolute_percentage_error: 30.8731\n",
      "Epoch 256/1000\n",
      "156/156 [==============================] - 0s 83us/sample - loss: 12.5367 - mean_absolute_percentage_error: 22.5645 - val_loss: 11838.7090 - val_mean_absolute_percentage_error: 31.0452\n",
      "Epoch 257/1000\n",
      "156/156 [==============================] - 0s 96us/sample - loss: 12.3649 - mean_absolute_percentage_error: 22.4062 - val_loss: 11883.3184 - val_mean_absolute_percentage_error: 30.2840\n",
      "Epoch 258/1000\n",
      "156/156 [==============================] - 0s 96us/sample - loss: 12.1069 - mean_absolute_percentage_error: 22.1031 - val_loss: 11921.9395 - val_mean_absolute_percentage_error: 30.3243\n",
      "Epoch 259/1000\n",
      "156/156 [==============================] - 0s 102us/sample - loss: 12.1792 - mean_absolute_percentage_error: 21.9054 - val_loss: 11828.7246 - val_mean_absolute_percentage_error: 30.6316\n",
      "Epoch 260/1000\n",
      "156/156 [==============================] - 0s 109us/sample - loss: 11.8993 - mean_absolute_percentage_error: 21.5326 - val_loss: 11894.2939 - val_mean_absolute_percentage_error: 29.8711\n",
      "Epoch 261/1000\n",
      "156/156 [==============================] - 0s 83us/sample - loss: 11.5960 - mean_absolute_percentage_error: 21.2126 - val_loss: 11844.6562 - val_mean_absolute_percentage_error: 29.8003\n",
      "Epoch 262/1000\n",
      "156/156 [==============================] - 0s 83us/sample - loss: 11.5660 - mean_absolute_percentage_error: 20.8464 - val_loss: 11834.3418 - val_mean_absolute_percentage_error: 30.5333\n",
      "Epoch 263/1000\n",
      "156/156 [==============================] - 0s 96us/sample - loss: 11.4426 - mean_absolute_percentage_error: 20.9501 - val_loss: 11832.3379 - val_mean_absolute_percentage_error: 30.0768\n",
      "Epoch 264/1000\n",
      "156/156 [==============================] - 0s 83us/sample - loss: 11.0915 - mean_absolute_percentage_error: 20.2284 - val_loss: 11790.4980 - val_mean_absolute_percentage_error: 30.3653\n",
      "Epoch 265/1000\n",
      "156/156 [==============================] - 0s 83us/sample - loss: 11.1273 - mean_absolute_percentage_error: 20.3308 - val_loss: 11830.8213 - val_mean_absolute_percentage_error: 29.6915\n",
      "Epoch 266/1000\n",
      "156/156 [==============================] - 0s 102us/sample - loss: 10.8693 - mean_absolute_percentage_error: 20.1507 - val_loss: 11828.4531 - val_mean_absolute_percentage_error: 29.2610\n",
      "Epoch 267/1000\n",
      "156/156 [==============================] - 0s 90us/sample - loss: 10.9449 - mean_absolute_percentage_error: 19.8039 - val_loss: 11755.3975 - val_mean_absolute_percentage_error: 29.9693\n",
      "Epoch 268/1000\n",
      "156/156 [==============================] - 0s 147us/sample - loss: 10.6921 - mean_absolute_percentage_error: 19.6009 - val_loss: 11777.5684 - val_mean_absolute_percentage_error: 29.5287\n",
      "Epoch 269/1000\n",
      "156/156 [==============================] - ETA: 0s - loss: 28.8626 - mean_absolute_percentage_error: 37.50 - 0s 128us/sample - loss: 10.7482 - mean_absolute_percentage_error: 19.3411 - val_loss: 11777.4111 - val_mean_absolute_percentage_error: 29.6080\n",
      "Epoch 270/1000\n",
      "156/156 [==============================] - 0s 96us/sample - loss: 10.4101 - mean_absolute_percentage_error: 19.3305 - val_loss: 11783.0020 - val_mean_absolute_percentage_error: 29.0976\n",
      "Epoch 271/1000\n",
      "156/156 [==============================] - 0s 90us/sample - loss: 10.3006 - mean_absolute_percentage_error: 19.2158 - val_loss: 11737.9883 - val_mean_absolute_percentage_error: 29.1878\n",
      "Epoch 272/1000\n",
      "156/156 [==============================] - 0s 192us/sample - loss: 10.1751 - mean_absolute_percentage_error: 19.1099 - val_loss: 11826.3584 - val_mean_absolute_percentage_error: 28.3547\n",
      "Epoch 273/1000\n",
      "156/156 [==============================] - 0s 166us/sample - loss: 10.0083 - mean_absolute_percentage_error: 18.6172 - val_loss: 11776.8994 - val_mean_absolute_percentage_error: 28.9831\n",
      "Epoch 274/1000\n",
      "156/156 [==============================] - 0s 176us/sample - loss: 10.0468 - mean_absolute_percentage_error: 18.7439 - val_loss: 11796.5029 - val_mean_absolute_percentage_error: 28.7476\n",
      "Epoch 275/1000\n",
      "156/156 [==============================] - 0s 128us/sample - loss: 10.1212 - mean_absolute_percentage_error: 18.8137 - val_loss: 11828.4297 - val_mean_absolute_percentage_error: 28.6790\n",
      "Epoch 276/1000\n",
      "156/156 [==============================] - 0s 125us/sample - loss: 9.8149 - mean_absolute_percentage_error: 18.6804 - val_loss: 11799.9785 - val_mean_absolute_percentage_error: 28.4210\n",
      "Epoch 277/1000\n",
      "156/156 [==============================] - 0s 102us/sample - loss: 9.8198 - mean_absolute_percentage_error: 18.3827 - val_loss: 11772.6211 - val_mean_absolute_percentage_error: 28.2986\n",
      "Epoch 278/1000\n",
      "156/156 [==============================] - 0s 102us/sample - loss: 9.6626 - mean_absolute_percentage_error: 18.2356 - val_loss: 11760.1650 - val_mean_absolute_percentage_error: 28.2667\n",
      "Epoch 279/1000\n",
      "156/156 [==============================] - 0s 102us/sample - loss: 9.6709 - mean_absolute_percentage_error: 18.1956 - val_loss: 11806.8506 - val_mean_absolute_percentage_error: 27.7990\n",
      "Epoch 280/1000\n",
      "156/156 [==============================] - 0s 102us/sample - loss: 9.5650 - mean_absolute_percentage_error: 18.0557 - val_loss: 11744.3066 - val_mean_absolute_percentage_error: 28.6033\n",
      "Epoch 281/1000\n",
      "156/156 [==============================] - 0s 141us/sample - loss: 9.3456 - mean_absolute_percentage_error: 18.1359 - val_loss: 11717.1377 - val_mean_absolute_percentage_error: 28.6776\n",
      "Epoch 282/1000\n",
      "156/156 [==============================] - 0s 134us/sample - loss: 9.2068 - mean_absolute_percentage_error: 18.2129 - val_loss: 11780.2461 - val_mean_absolute_percentage_error: 28.1033\n",
      "Epoch 283/1000\n",
      "156/156 [==============================] - 0s 115us/sample - loss: 9.4719 - mean_absolute_percentage_error: 17.9338 - val_loss: 11746.3115 - val_mean_absolute_percentage_error: 28.1525\n",
      "Epoch 284/1000\n"
     ]
    },
    {
     "name": "stdout",
     "output_type": "stream",
     "text": [
      "156/156 [==============================] - 0s 109us/sample - loss: 9.0653 - mean_absolute_percentage_error: 17.8615 - val_loss: 11697.8096 - val_mean_absolute_percentage_error: 28.4733\n",
      "Epoch 285/1000\n",
      "156/156 [==============================] - 0s 96us/sample - loss: 8.9548 - mean_absolute_percentage_error: 17.9422 - val_loss: 11756.0117 - val_mean_absolute_percentage_error: 27.9504\n",
      "Epoch 286/1000\n",
      "156/156 [==============================] - 0s 128us/sample - loss: 9.0948 - mean_absolute_percentage_error: 17.7035 - val_loss: 11731.4844 - val_mean_absolute_percentage_error: 28.0573\n",
      "Epoch 287/1000\n",
      "156/156 [==============================] - 0s 160us/sample - loss: 8.8641 - mean_absolute_percentage_error: 17.6362 - val_loss: 11721.6660 - val_mean_absolute_percentage_error: 28.4627\n",
      "Epoch 288/1000\n",
      "156/156 [==============================] - 0s 102us/sample - loss: 8.8193 - mean_absolute_percentage_error: 17.6796 - val_loss: 11666.3887 - val_mean_absolute_percentage_error: 27.9835\n",
      "Epoch 289/1000\n",
      "156/156 [==============================] - 0s 115us/sample - loss: 8.7511 - mean_absolute_percentage_error: 17.6637 - val_loss: 11671.7529 - val_mean_absolute_percentage_error: 27.6465\n",
      "Epoch 290/1000\n",
      "156/156 [==============================] - 0s 89us/sample - loss: 8.5586 - mean_absolute_percentage_error: 17.5475 - val_loss: 11672.6748 - val_mean_absolute_percentage_error: 27.9516\n",
      "Epoch 291/1000\n",
      "156/156 [==============================] - 0s 128us/sample - loss: 8.6612 - mean_absolute_percentage_error: 17.5242 - val_loss: 11688.4238 - val_mean_absolute_percentage_error: 27.8254\n",
      "Epoch 292/1000\n",
      "156/156 [==============================] - 0s 128us/sample - loss: 8.7083 - mean_absolute_percentage_error: 17.5162 - val_loss: 11715.5371 - val_mean_absolute_percentage_error: 27.3787\n",
      "Epoch 293/1000\n",
      "156/156 [==============================] - 0s 124us/sample - loss: 8.4659 - mean_absolute_percentage_error: 17.4877 - val_loss: 11723.5557 - val_mean_absolute_percentage_error: 27.0476\n",
      "Epoch 294/1000\n",
      "156/156 [==============================] - 0s 109us/sample - loss: 8.4554 - mean_absolute_percentage_error: 17.1716 - val_loss: 11789.5283 - val_mean_absolute_percentage_error: 26.6087\n",
      "Epoch 295/1000\n",
      "156/156 [==============================] - 0s 90us/sample - loss: 8.4775 - mean_absolute_percentage_error: 17.3121 - val_loss: 11742.8711 - val_mean_absolute_percentage_error: 26.9173\n",
      "Epoch 296/1000\n",
      "156/156 [==============================] - 0s 128us/sample - loss: 8.2065 - mean_absolute_percentage_error: 16.9812 - val_loss: 11679.1602 - val_mean_absolute_percentage_error: 27.8472\n",
      "Epoch 297/1000\n",
      "156/156 [==============================] - 0s 128us/sample - loss: 8.1719 - mean_absolute_percentage_error: 17.2398 - val_loss: 11679.9355 - val_mean_absolute_percentage_error: 27.9813\n",
      "Epoch 298/1000\n",
      "156/156 [==============================] - 0s 126us/sample - loss: 8.3082 - mean_absolute_percentage_error: 17.4877 - val_loss: 11662.3105 - val_mean_absolute_percentage_error: 27.4810\n",
      "Epoch 299/1000\n",
      "156/156 [==============================] - ETA: 0s - loss: 7.3972 - mean_absolute_percentage_error: 16.702 - 0s 102us/sample - loss: 7.8235 - mean_absolute_percentage_error: 17.3174 - val_loss: 11786.4316 - val_mean_absolute_percentage_error: 26.4488\n",
      "Epoch 300/1000\n",
      "156/156 [==============================] - 0s 115us/sample - loss: 8.0638 - mean_absolute_percentage_error: 17.1760 - val_loss: 11813.9443 - val_mean_absolute_percentage_error: 25.7859\n",
      "Epoch 301/1000\n",
      "156/156 [==============================] - 0s 115us/sample - loss: 8.1897 - mean_absolute_percentage_error: 16.6829 - val_loss: 11693.7715 - val_mean_absolute_percentage_error: 27.1205\n",
      "Epoch 302/1000\n",
      "156/156 [==============================] - 0s 134us/sample - loss: 8.1402 - mean_absolute_percentage_error: 16.9870 - val_loss: 11764.9004 - val_mean_absolute_percentage_error: 26.2071\n",
      "Epoch 303/1000\n",
      "156/156 [==============================] - 0s 121us/sample - loss: 7.7872 - mean_absolute_percentage_error: 16.8504 - val_loss: 11735.0557 - val_mean_absolute_percentage_error: 26.5135\n",
      "Epoch 304/1000\n",
      "156/156 [==============================] - 0s 128us/sample - loss: 7.9749 - mean_absolute_percentage_error: 16.9261 - val_loss: 11718.3535 - val_mean_absolute_percentage_error: 26.1040\n",
      "Epoch 305/1000\n",
      "156/156 [==============================] - 0s 109us/sample - loss: 7.6774 - mean_absolute_percentage_error: 16.5238 - val_loss: 11668.3975 - val_mean_absolute_percentage_error: 26.5717\n",
      "Epoch 306/1000\n",
      "156/156 [==============================] - 0s 115us/sample - loss: 7.6635 - mean_absolute_percentage_error: 16.8618 - val_loss: 11757.9082 - val_mean_absolute_percentage_error: 25.6343\n",
      "Epoch 307/1000\n",
      "156/156 [==============================] - 0s 115us/sample - loss: 7.7677 - mean_absolute_percentage_error: 16.5160 - val_loss: 11757.7080 - val_mean_absolute_percentage_error: 25.8389\n",
      "Epoch 308/1000\n",
      "156/156 [==============================] - 0s 115us/sample - loss: 7.5848 - mean_absolute_percentage_error: 16.6672 - val_loss: 11682.3164 - val_mean_absolute_percentage_error: 26.4645\n",
      "Epoch 309/1000\n",
      "156/156 [==============================] - 0s 102us/sample - loss: 7.4888 - mean_absolute_percentage_error: 16.5004 - val_loss: 11628.2471 - val_mean_absolute_percentage_error: 27.3625\n",
      "Epoch 310/1000\n",
      "156/156 [==============================] - 0s 109us/sample - loss: 7.7874 - mean_absolute_percentage_error: 16.9081 - val_loss: 11729.4121 - val_mean_absolute_percentage_error: 26.1988\n",
      "Epoch 311/1000\n",
      "156/156 [==============================] - 0s 83us/sample - loss: 7.4228 - mean_absolute_percentage_error: 16.3822 - val_loss: 11702.3555 - val_mean_absolute_percentage_error: 26.8639\n",
      "Epoch 312/1000\n",
      "156/156 [==============================] - 0s 109us/sample - loss: 7.5352 - mean_absolute_percentage_error: 16.7827 - val_loss: 11777.2529 - val_mean_absolute_percentage_error: 26.0676\n",
      "Epoch 313/1000\n",
      "156/156 [==============================] - 0s 90us/sample - loss: 7.3908 - mean_absolute_percentage_error: 16.7004 - val_loss: 11776.6543 - val_mean_absolute_percentage_error: 25.8136\n",
      "Epoch 314/1000\n",
      "156/156 [==============================] - 0s 109us/sample - loss: 7.2329 - mean_absolute_percentage_error: 16.3635 - val_loss: 11794.6924 - val_mean_absolute_percentage_error: 25.3562\n",
      "Epoch 315/1000\n",
      "156/156 [==============================] - 0s 128us/sample - loss: 7.2156 - mean_absolute_percentage_error: 16.1358 - val_loss: 11778.0361 - val_mean_absolute_percentage_error: 26.1187\n",
      "Epoch 316/1000\n",
      "156/156 [==============================] - 0s 115us/sample - loss: 7.2095 - mean_absolute_percentage_error: 16.1702 - val_loss: 11731.7949 - val_mean_absolute_percentage_error: 26.2406\n",
      "Epoch 317/1000\n",
      "156/156 [==============================] - 0s 109us/sample - loss: 7.1330 - mean_absolute_percentage_error: 16.2420 - val_loss: 11856.8350 - val_mean_absolute_percentage_error: 25.0321\n",
      "Epoch 318/1000\n",
      "156/156 [==============================] - 0s 109us/sample - loss: 7.1055 - mean_absolute_percentage_error: 16.0558 - val_loss: 11718.5332 - val_mean_absolute_percentage_error: 25.8557\n",
      "Epoch 319/1000\n",
      "156/156 [==============================] - 0s 102us/sample - loss: 7.1076 - mean_absolute_percentage_error: 16.0528 - val_loss: 11797.2510 - val_mean_absolute_percentage_error: 26.0135\n",
      "Epoch 320/1000\n",
      "156/156 [==============================] - 0s 115us/sample - loss: 7.3275 - mean_absolute_percentage_error: 16.3391 - val_loss: 11762.7549 - val_mean_absolute_percentage_error: 25.3898\n",
      "Epoch 321/1000\n",
      "156/156 [==============================] - 0s 109us/sample - loss: 6.9952 - mean_absolute_percentage_error: 15.8704 - val_loss: 11779.6855 - val_mean_absolute_percentage_error: 25.8618\n",
      "Epoch 322/1000\n",
      "156/156 [==============================] - 0s 102us/sample - loss: 7.0613 - mean_absolute_percentage_error: 16.0203 - val_loss: 11804.5801 - val_mean_absolute_percentage_error: 25.2894\n",
      "Epoch 323/1000\n",
      "156/156 [==============================] - 0s 96us/sample - loss: 6.9156 - mean_absolute_percentage_error: 15.8820 - val_loss: 11800.1348 - val_mean_absolute_percentage_error: 25.5852\n",
      "Epoch 324/1000\n",
      "156/156 [==============================] - 0s 128us/sample - loss: 6.8807 - mean_absolute_percentage_error: 16.0887 - val_loss: 11759.6328 - val_mean_absolute_percentage_error: 25.5089\n"
     ]
    },
    {
     "name": "stdout",
     "output_type": "stream",
     "text": [
      "Epoch 325/1000\n",
      "156/156 [==============================] - 0s 109us/sample - loss: 6.9140 - mean_absolute_percentage_error: 15.8848 - val_loss: 11788.1543 - val_mean_absolute_percentage_error: 25.0166\n",
      "Epoch 326/1000\n",
      "156/156 [==============================] - 0s 128us/sample - loss: 6.7016 - mean_absolute_percentage_error: 15.9139 - val_loss: 11846.0957 - val_mean_absolute_percentage_error: 24.9352\n",
      "Epoch 327/1000\n",
      "156/156 [==============================] - 0s 115us/sample - loss: 6.7541 - mean_absolute_percentage_error: 15.7811 - val_loss: 11876.1797 - val_mean_absolute_percentage_error: 24.9145\n",
      "Epoch 328/1000\n",
      "156/156 [==============================] - 0s 134us/sample - loss: 6.7033 - mean_absolute_percentage_error: 15.5971 - val_loss: 11807.0459 - val_mean_absolute_percentage_error: 24.9128\n",
      "Epoch 329/1000\n",
      "156/156 [==============================] - 0s 115us/sample - loss: 6.9121 - mean_absolute_percentage_error: 15.6165 - val_loss: 11758.7998 - val_mean_absolute_percentage_error: 25.6171\n",
      "Epoch 330/1000\n",
      "156/156 [==============================] - 0s 115us/sample - loss: 6.6080 - mean_absolute_percentage_error: 15.7189 - val_loss: 11813.8906 - val_mean_absolute_percentage_error: 25.3422\n",
      "Epoch 331/1000\n",
      "156/156 [==============================] - 0s 112us/sample - loss: 6.6117 - mean_absolute_percentage_error: 15.7371 - val_loss: 11761.3428 - val_mean_absolute_percentage_error: 25.5460\n",
      "Epoch 332/1000\n",
      "156/156 [==============================] - 0s 115us/sample - loss: 6.5390 - mean_absolute_percentage_error: 15.7994 - val_loss: 11863.4062 - val_mean_absolute_percentage_error: 24.3236\n",
      "Epoch 333/1000\n",
      "156/156 [==============================] - 0s 115us/sample - loss: 6.4721 - mean_absolute_percentage_error: 15.4815 - val_loss: 11904.2031 - val_mean_absolute_percentage_error: 23.9088\n",
      "Epoch 334/1000\n",
      "156/156 [==============================] - 0s 121us/sample - loss: 6.5647 - mean_absolute_percentage_error: 15.2150 - val_loss: 11799.2383 - val_mean_absolute_percentage_error: 25.3660\n",
      "Epoch 335/1000\n",
      "156/156 [==============================] - 0s 112us/sample - loss: 6.6600 - mean_absolute_percentage_error: 15.6613 - val_loss: 11773.7324 - val_mean_absolute_percentage_error: 24.9876\n",
      "Epoch 336/1000\n",
      "156/156 [==============================] - 0s 115us/sample - loss: 6.3617 - mean_absolute_percentage_error: 15.3975 - val_loss: 11905.0303 - val_mean_absolute_percentage_error: 23.9056\n",
      "Epoch 337/1000\n",
      "156/156 [==============================] - 0s 115us/sample - loss: 6.4796 - mean_absolute_percentage_error: 15.3862 - val_loss: 11853.0547 - val_mean_absolute_percentage_error: 23.6564\n",
      "Epoch 338/1000\n",
      "156/156 [==============================] - 0s 115us/sample - loss: 6.6144 - mean_absolute_percentage_error: 15.4294 - val_loss: 11787.5146 - val_mean_absolute_percentage_error: 24.6026\n",
      "Epoch 339/1000\n",
      "156/156 [==============================] - 0s 102us/sample - loss: 6.2783 - mean_absolute_percentage_error: 15.2561 - val_loss: 11769.4648 - val_mean_absolute_percentage_error: 24.6191\n",
      "Epoch 340/1000\n",
      "156/156 [==============================] - 0s 102us/sample - loss: 6.4928 - mean_absolute_percentage_error: 15.2548 - val_loss: 11779.5098 - val_mean_absolute_percentage_error: 24.3387\n",
      "Epoch 341/1000\n",
      "156/156 [==============================] - 0s 96us/sample - loss: 6.3707 - mean_absolute_percentage_error: 15.1608 - val_loss: 11780.7295 - val_mean_absolute_percentage_error: 24.3032\n",
      "Epoch 342/1000\n",
      "156/156 [==============================] - 0s 102us/sample - loss: 6.1390 - mean_absolute_percentage_error: 15.0232 - val_loss: 11857.0137 - val_mean_absolute_percentage_error: 24.5826\n",
      "Epoch 343/1000\n",
      "156/156 [==============================] - 0s 96us/sample - loss: 6.2096 - mean_absolute_percentage_error: 15.2656 - val_loss: 11834.6074 - val_mean_absolute_percentage_error: 24.0643\n",
      "Epoch 344/1000\n",
      "156/156 [==============================] - 0s 96us/sample - loss: 6.1780 - mean_absolute_percentage_error: 15.0610 - val_loss: 11851.9590 - val_mean_absolute_percentage_error: 24.2037\n",
      "Epoch 345/1000\n",
      "156/156 [==============================] - 0s 108us/sample - loss: 6.2277 - mean_absolute_percentage_error: 15.1441 - val_loss: 11812.5762 - val_mean_absolute_percentage_error: 23.8865\n",
      "Epoch 346/1000\n",
      "156/156 [==============================] - 0s 115us/sample - loss: 6.0597 - mean_absolute_percentage_error: 14.8198 - val_loss: 11836.1895 - val_mean_absolute_percentage_error: 24.6564\n",
      "Epoch 347/1000\n",
      "156/156 [==============================] - 0s 96us/sample - loss: 6.2640 - mean_absolute_percentage_error: 15.2153 - val_loss: 11893.6641 - val_mean_absolute_percentage_error: 23.4724\n",
      "Epoch 348/1000\n",
      "156/156 [==============================] - 0s 109us/sample - loss: 6.0613 - mean_absolute_percentage_error: 15.0140 - val_loss: 11909.2041 - val_mean_absolute_percentage_error: 23.5202\n",
      "Epoch 349/1000\n",
      "156/156 [==============================] - 0s 109us/sample - loss: 5.9308 - mean_absolute_percentage_error: 14.8310 - val_loss: 11813.3965 - val_mean_absolute_percentage_error: 24.0442\n",
      "Epoch 350/1000\n",
      "156/156 [==============================] - 0s 121us/sample - loss: 5.9693 - mean_absolute_percentage_error: 15.0352 - val_loss: 11914.8184 - val_mean_absolute_percentage_error: 23.1860\n",
      "Epoch 351/1000\n",
      "156/156 [==============================] - 0s 109us/sample - loss: 5.9524 - mean_absolute_percentage_error: 14.7818 - val_loss: 11924.8066 - val_mean_absolute_percentage_error: 23.2364\n",
      "Epoch 352/1000\n",
      "156/156 [==============================] - 0s 109us/sample - loss: 5.9803 - mean_absolute_percentage_error: 14.7529 - val_loss: 11885.7109 - val_mean_absolute_percentage_error: 24.4056\n",
      "Epoch 353/1000\n",
      "156/156 [==============================] - 0s 128us/sample - loss: 5.8696 - mean_absolute_percentage_error: 14.8797 - val_loss: 11875.7100 - val_mean_absolute_percentage_error: 23.7185\n",
      "Epoch 354/1000\n",
      "156/156 [==============================] - 0s 105us/sample - loss: 5.7800 - mean_absolute_percentage_error: 14.7127 - val_loss: 11899.4688 - val_mean_absolute_percentage_error: 23.8185\n",
      "Epoch 355/1000\n",
      "156/156 [==============================] - 0s 109us/sample - loss: 6.0106 - mean_absolute_percentage_error: 14.5677 - val_loss: 11807.7432 - val_mean_absolute_percentage_error: 24.7324\n",
      "Epoch 356/1000\n",
      "156/156 [==============================] - 0s 109us/sample - loss: 5.9694 - mean_absolute_percentage_error: 15.1580 - val_loss: 11927.5186 - val_mean_absolute_percentage_error: 22.7138\n",
      "Epoch 357/1000\n",
      "156/156 [==============================] - ETA: 0s - loss: 3.8740 - mean_absolute_percentage_error: 8.98 - 0s 102us/sample - loss: 5.7090 - mean_absolute_percentage_error: 14.3525 - val_loss: 11864.1797 - val_mean_absolute_percentage_error: 24.2683\n",
      "Epoch 358/1000\n",
      "156/156 [==============================] - 0s 109us/sample - loss: 5.5831 - mean_absolute_percentage_error: 14.7469 - val_loss: 11919.9336 - val_mean_absolute_percentage_error: 23.0578\n",
      "Epoch 359/1000\n",
      "156/156 [==============================] - 0s 118us/sample - loss: 5.7481 - mean_absolute_percentage_error: 14.6764 - val_loss: 11990.3711 - val_mean_absolute_percentage_error: 22.5701\n",
      "Epoch 360/1000\n",
      "156/156 [==============================] - 0s 83us/sample - loss: 5.6440 - mean_absolute_percentage_error: 14.4256 - val_loss: 11854.7031 - val_mean_absolute_percentage_error: 24.7168\n",
      "Epoch 361/1000\n",
      "156/156 [==============================] - 0s 115us/sample - loss: 5.8446 - mean_absolute_percentage_error: 14.7443 - val_loss: 12000.1621 - val_mean_absolute_percentage_error: 23.1123\n",
      "Epoch 362/1000\n",
      "156/156 [==============================] - 0s 109us/sample - loss: 5.6155 - mean_absolute_percentage_error: 14.4507 - val_loss: 11927.6973 - val_mean_absolute_percentage_error: 23.2507\n",
      "Epoch 363/1000\n",
      "156/156 [==============================] - 0s 109us/sample - loss: 5.6037 - mean_absolute_percentage_error: 14.5837 - val_loss: 11945.9297 - val_mean_absolute_percentage_error: 24.1677\n",
      "Epoch 364/1000\n",
      "156/156 [==============================] - 0s 112us/sample - loss: 5.5056 - mean_absolute_percentage_error: 14.5550 - val_loss: 11903.6543 - val_mean_absolute_percentage_error: 24.0292\n",
      "Epoch 365/1000\n",
      "156/156 [==============================] - 0s 230us/sample - loss: 5.5659 - mean_absolute_percentage_error: 14.4489 - val_loss: 11965.7227 - val_mean_absolute_percentage_error: 23.3630\n"
     ]
    },
    {
     "name": "stdout",
     "output_type": "stream",
     "text": [
      "Epoch 366/1000\n",
      "156/156 [==============================] - 0s 153us/sample - loss: 5.6930 - mean_absolute_percentage_error: 14.4556 - val_loss: 11900.6318 - val_mean_absolute_percentage_error: 24.6955\n",
      "Epoch 367/1000\n",
      "156/156 [==============================] - 0s 109us/sample - loss: 5.3839 - mean_absolute_percentage_error: 14.5434 - val_loss: 11888.3145 - val_mean_absolute_percentage_error: 24.4501\n",
      "Epoch 368/1000\n",
      "156/156 [==============================] - 0s 121us/sample - loss: 5.4719 - mean_absolute_percentage_error: 14.4524 - val_loss: 11976.0977 - val_mean_absolute_percentage_error: 24.2271\n",
      "Epoch 369/1000\n",
      "156/156 [==============================] - 0s 115us/sample - loss: 5.3769 - mean_absolute_percentage_error: 14.3652 - val_loss: 11851.3408 - val_mean_absolute_percentage_error: 25.4427\n",
      "Epoch 370/1000\n",
      "156/156 [==============================] - 0s 166us/sample - loss: 5.4020 - mean_absolute_percentage_error: 14.4846 - val_loss: 11984.6182 - val_mean_absolute_percentage_error: 23.9115\n",
      "Epoch 371/1000\n",
      "156/156 [==============================] - 0s 141us/sample - loss: 5.3883 - mean_absolute_percentage_error: 14.3675 - val_loss: 11927.8984 - val_mean_absolute_percentage_error: 23.9930\n",
      "Epoch 372/1000\n",
      "156/156 [==============================] - 0s 109us/sample - loss: 5.1861 - mean_absolute_percentage_error: 14.5519 - val_loss: 11994.5518 - val_mean_absolute_percentage_error: 23.5312\n",
      "Epoch 373/1000\n",
      "156/156 [==============================] - 0s 141us/sample - loss: 5.2901 - mean_absolute_percentage_error: 14.1949 - val_loss: 11962.6172 - val_mean_absolute_percentage_error: 24.3835\n",
      "Epoch 374/1000\n",
      "156/156 [==============================] - 0s 160us/sample - loss: 5.2517 - mean_absolute_percentage_error: 14.5390 - val_loss: 11982.8721 - val_mean_absolute_percentage_error: 23.0363\n",
      "Epoch 375/1000\n",
      "156/156 [==============================] - 0s 121us/sample - loss: 5.2824 - mean_absolute_percentage_error: 13.9815 - val_loss: 11969.0781 - val_mean_absolute_percentage_error: 24.0037\n",
      "Epoch 376/1000\n",
      "156/156 [==============================] - 0s 160us/sample - loss: 5.2592 - mean_absolute_percentage_error: 14.1994 - val_loss: 11953.5693 - val_mean_absolute_percentage_error: 24.8789\n",
      "Epoch 377/1000\n",
      "156/156 [==============================] - 0s 128us/sample - loss: 5.1809 - mean_absolute_percentage_error: 14.0977 - val_loss: 12021.6641 - val_mean_absolute_percentage_error: 24.4212\n",
      "Epoch 378/1000\n",
      "156/156 [==============================] - 0s 121us/sample - loss: 5.2441 - mean_absolute_percentage_error: 14.4577 - val_loss: 12042.8037 - val_mean_absolute_percentage_error: 22.6499\n",
      "Epoch 379/1000\n",
      "156/156 [==============================] - 0s 115us/sample - loss: 5.0803 - mean_absolute_percentage_error: 13.9312 - val_loss: 11956.1377 - val_mean_absolute_percentage_error: 23.1863\n",
      "Epoch 380/1000\n",
      "156/156 [==============================] - 0s 121us/sample - loss: 5.0078 - mean_absolute_percentage_error: 14.2029 - val_loss: 11995.5020 - val_mean_absolute_percentage_error: 23.4109\n",
      "Epoch 381/1000\n",
      "156/156 [==============================] - 0s 128us/sample - loss: 4.9912 - mean_absolute_percentage_error: 14.1077 - val_loss: 11984.8848 - val_mean_absolute_percentage_error: 23.7990\n",
      "Epoch 382/1000\n",
      "156/156 [==============================] - 0s 141us/sample - loss: 5.2980 - mean_absolute_percentage_error: 13.9646 - val_loss: 11954.0596 - val_mean_absolute_percentage_error: 24.2716\n",
      "Epoch 383/1000\n",
      "156/156 [==============================] - 0s 109us/sample - loss: 4.9402 - mean_absolute_percentage_error: 14.0128 - val_loss: 11937.8057 - val_mean_absolute_percentage_error: 24.6091\n",
      "Epoch 384/1000\n",
      "156/156 [==============================] - 0s 125us/sample - loss: 5.2119 - mean_absolute_percentage_error: 14.2312 - val_loss: 11995.8574 - val_mean_absolute_percentage_error: 23.4364\n",
      "Epoch 385/1000\n",
      "156/156 [==============================] - 0s 115us/sample - loss: 4.8781 - mean_absolute_percentage_error: 14.0369 - val_loss: 12061.2070 - val_mean_absolute_percentage_error: 22.3411\n",
      "Epoch 386/1000\n",
      "156/156 [==============================] - 0s 128us/sample - loss: 4.9127 - mean_absolute_percentage_error: 13.8325 - val_loss: 11975.3193 - val_mean_absolute_percentage_error: 23.5923\n",
      "Epoch 387/1000\n",
      "156/156 [==============================] - 0s 121us/sample - loss: 4.8940 - mean_absolute_percentage_error: 13.8379 - val_loss: 12038.7617 - val_mean_absolute_percentage_error: 23.8081\n",
      "Epoch 388/1000\n",
      "156/156 [==============================] - 0s 128us/sample - loss: 4.8611 - mean_absolute_percentage_error: 13.7397 - val_loss: 11979.2773 - val_mean_absolute_percentage_error: 24.7713\n",
      "Epoch 389/1000\n",
      "156/156 [==============================] - 0s 109us/sample - loss: 4.8592 - mean_absolute_percentage_error: 14.0369 - val_loss: 12013.0498 - val_mean_absolute_percentage_error: 23.8413\n",
      "Epoch 390/1000\n",
      "156/156 [==============================] - 0s 109us/sample - loss: 4.6970 - mean_absolute_percentage_error: 13.9160 - val_loss: 12028.4678 - val_mean_absolute_percentage_error: 23.4731\n",
      "Epoch 391/1000\n",
      "156/156 [==============================] - 0s 109us/sample - loss: 5.0508 - mean_absolute_percentage_error: 13.6745 - val_loss: 11977.8877 - val_mean_absolute_percentage_error: 24.2591\n",
      "Epoch 392/1000\n",
      "156/156 [==============================] - 0s 115us/sample - loss: 4.6795 - mean_absolute_percentage_error: 14.0313 - val_loss: 12071.4258 - val_mean_absolute_percentage_error: 22.6324\n",
      "Epoch 393/1000\n",
      "156/156 [==============================] - 0s 118us/sample - loss: 4.7592 - mean_absolute_percentage_error: 13.7017 - val_loss: 12015.6514 - val_mean_absolute_percentage_error: 23.5581\n",
      "Epoch 394/1000\n",
      "156/156 [==============================] - 0s 121us/sample - loss: 4.6989 - mean_absolute_percentage_error: 13.6137 - val_loss: 11904.7207 - val_mean_absolute_percentage_error: 24.9434\n",
      "Epoch 395/1000\n",
      "156/156 [==============================] - 0s 109us/sample - loss: 4.7246 - mean_absolute_percentage_error: 13.7226 - val_loss: 11982.9043 - val_mean_absolute_percentage_error: 24.2928\n",
      "Epoch 396/1000\n",
      "156/156 [==============================] - 0s 128us/sample - loss: 4.6591 - mean_absolute_percentage_error: 14.0215 - val_loss: 12134.0381 - val_mean_absolute_percentage_error: 22.5489\n",
      "Epoch 397/1000\n",
      "156/156 [==============================] - 0s 83us/sample - loss: 4.6262 - mean_absolute_percentage_error: 13.7478 - val_loss: 12044.2695 - val_mean_absolute_percentage_error: 23.3094\n",
      "Epoch 398/1000\n",
      "156/156 [==============================] - 0s 109us/sample - loss: 4.4333 - mean_absolute_percentage_error: 13.9258 - val_loss: 12101.4902 - val_mean_absolute_percentage_error: 22.8920\n",
      "Epoch 399/1000\n",
      "156/156 [==============================] - 0s 115us/sample - loss: 4.5127 - mean_absolute_percentage_error: 13.6176 - val_loss: 12013.0967 - val_mean_absolute_percentage_error: 23.1358\n",
      "Epoch 400/1000\n",
      "156/156 [==============================] - 0s 109us/sample - loss: 4.5944 - mean_absolute_percentage_error: 13.6656 - val_loss: 12044.4189 - val_mean_absolute_percentage_error: 23.7630\n",
      "Epoch 401/1000\n",
      "156/156 [==============================] - 0s 112us/sample - loss: 4.4898 - mean_absolute_percentage_error: 13.6311 - val_loss: 12039.1709 - val_mean_absolute_percentage_error: 23.5798\n",
      "Epoch 402/1000\n",
      "156/156 [==============================] - 0s 109us/sample - loss: 4.6383 - mean_absolute_percentage_error: 13.5425 - val_loss: 11939.0986 - val_mean_absolute_percentage_error: 24.7223\n",
      "Epoch 403/1000\n",
      "156/156 [==============================] - 0s 102us/sample - loss: 4.3351 - mean_absolute_percentage_error: 13.5990 - val_loss: 12004.5391 - val_mean_absolute_percentage_error: 23.4620\n",
      "Epoch 404/1000\n",
      "156/156 [==============================] - 0s 115us/sample - loss: 4.3293 - mean_absolute_percentage_error: 13.6306 - val_loss: 12101.8223 - val_mean_absolute_percentage_error: 22.8117\n",
      "Epoch 405/1000\n",
      "156/156 [==============================] - 0s 115us/sample - loss: 4.5053 - mean_absolute_percentage_error: 13.5703 - val_loss: 12096.6641 - val_mean_absolute_percentage_error: 23.4730\n",
      "Epoch 406/1000\n",
      "156/156 [==============================] - 0s 109us/sample - loss: 4.2650 - mean_absolute_percentage_error: 13.7598 - val_loss: 12145.5391 - val_mean_absolute_percentage_error: 22.3658\n"
     ]
    },
    {
     "name": "stdout",
     "output_type": "stream",
     "text": [
      "Epoch 407/1000\n",
      "156/156 [==============================] - 0s 109us/sample - loss: 4.2366 - mean_absolute_percentage_error: 13.2420 - val_loss: 11951.5146 - val_mean_absolute_percentage_error: 25.5551\n",
      "Epoch 408/1000\n",
      "156/156 [==============================] - 0s 109us/sample - loss: 4.3195 - mean_absolute_percentage_error: 13.8086 - val_loss: 11998.0049 - val_mean_absolute_percentage_error: 23.2095\n",
      "Epoch 409/1000\n",
      "156/156 [==============================] - 0s 109us/sample - loss: 4.2557 - mean_absolute_percentage_error: 13.2502 - val_loss: 11955.0059 - val_mean_absolute_percentage_error: 23.9292\n",
      "Epoch 410/1000\n",
      "156/156 [==============================] - 0s 109us/sample - loss: 4.1557 - mean_absolute_percentage_error: 12.8931 - val_loss: 12007.9766 - val_mean_absolute_percentage_error: 24.5579\n",
      "Epoch 411/1000\n",
      "156/156 [==============================] - 0s 109us/sample - loss: 4.0228 - mean_absolute_percentage_error: 13.0201 - val_loss: 12069.6895 - val_mean_absolute_percentage_error: 23.7169\n",
      "Epoch 412/1000\n",
      "156/156 [==============================] - 0s 102us/sample - loss: 4.0673 - mean_absolute_percentage_error: 12.8394 - val_loss: 11995.0791 - val_mean_absolute_percentage_error: 24.0301\n",
      "Epoch 413/1000\n",
      "156/156 [==============================] - 0s 102us/sample - loss: 3.9093 - mean_absolute_percentage_error: 12.5890 - val_loss: 12062.0049 - val_mean_absolute_percentage_error: 23.9115\n",
      "Epoch 414/1000\n",
      "156/156 [==============================] - 0s 111us/sample - loss: 3.9553 - mean_absolute_percentage_error: 12.4322 - val_loss: 12016.6797 - val_mean_absolute_percentage_error: 23.9749\n",
      "Epoch 415/1000\n",
      "156/156 [==============================] - 0s 128us/sample - loss: 3.6668 - mean_absolute_percentage_error: 12.4096 - val_loss: 12060.2354 - val_mean_absolute_percentage_error: 23.1155\n",
      "Epoch 416/1000\n",
      "156/156 [==============================] - 0s 102us/sample - loss: 3.7021 - mean_absolute_percentage_error: 11.9619 - val_loss: 12060.9004 - val_mean_absolute_percentage_error: 24.0888\n",
      "Epoch 417/1000\n",
      "156/156 [==============================] - 0s 115us/sample - loss: 3.6907 - mean_absolute_percentage_error: 12.1910 - val_loss: 12161.9590 - val_mean_absolute_percentage_error: 22.5551\n",
      "Epoch 418/1000\n",
      "156/156 [==============================] - 0s 115us/sample - loss: 3.7801 - mean_absolute_percentage_error: 12.0592 - val_loss: 12024.0352 - val_mean_absolute_percentage_error: 23.7528\n",
      "Epoch 419/1000\n",
      "156/156 [==============================] - 0s 121us/sample - loss: 3.6809 - mean_absolute_percentage_error: 11.8933 - val_loss: 12028.6289 - val_mean_absolute_percentage_error: 24.1899\n",
      "Epoch 420/1000\n",
      "156/156 [==============================] - 0s 121us/sample - loss: 3.5236 - mean_absolute_percentage_error: 11.5633 - val_loss: 12017.9355 - val_mean_absolute_percentage_error: 24.9626\n",
      "Epoch 421/1000\n",
      "156/156 [==============================] - 0s 121us/sample - loss: 3.5399 - mean_absolute_percentage_error: 11.6510 - val_loss: 12086.0635 - val_mean_absolute_percentage_error: 23.5428\n",
      "Epoch 422/1000\n",
      "156/156 [==============================] - 0s 115us/sample - loss: 3.3465 - mean_absolute_percentage_error: 11.2917 - val_loss: 11964.6826 - val_mean_absolute_percentage_error: 25.6888\n",
      "Epoch 423/1000\n",
      "156/156 [==============================] - 0s 115us/sample - loss: 3.3503 - mean_absolute_percentage_error: 11.5464 - val_loss: 12111.9268 - val_mean_absolute_percentage_error: 22.9386\n",
      "Epoch 424/1000\n",
      "156/156 [==============================] - 0s 121us/sample - loss: 3.3490 - mean_absolute_percentage_error: 11.5276 - val_loss: 12092.4277 - val_mean_absolute_percentage_error: 22.3806\n",
      "Epoch 425/1000\n",
      "156/156 [==============================] - 0s 109us/sample - loss: 3.3786 - mean_absolute_percentage_error: 11.0903 - val_loss: 12063.2754 - val_mean_absolute_percentage_error: 23.8900\n",
      "Epoch 426/1000\n",
      "156/156 [==============================] - 0s 121us/sample - loss: 3.2996 - mean_absolute_percentage_error: 11.3045 - val_loss: 12052.7979 - val_mean_absolute_percentage_error: 23.1957\n",
      "Epoch 427/1000\n",
      "156/156 [==============================] - 0s 109us/sample - loss: 3.2942 - mean_absolute_percentage_error: 10.9905 - val_loss: 11989.6191 - val_mean_absolute_percentage_error: 24.8598\n",
      "Epoch 428/1000\n",
      "156/156 [==============================] - 0s 119us/sample - loss: 3.3666 - mean_absolute_percentage_error: 11.3699 - val_loss: 12153.1182 - val_mean_absolute_percentage_error: 23.0143\n",
      "Epoch 429/1000\n",
      "156/156 [==============================] - 0s 121us/sample - loss: 3.3357 - mean_absolute_percentage_error: 11.2920 - val_loss: 12073.3184 - val_mean_absolute_percentage_error: 23.6602\n",
      "Epoch 430/1000\n",
      "156/156 [==============================] - 0s 128us/sample - loss: 3.2105 - mean_absolute_percentage_error: 11.3132 - val_loss: 12096.0039 - val_mean_absolute_percentage_error: 23.6575\n",
      "Epoch 431/1000\n",
      "156/156 [==============================] - 0s 115us/sample - loss: 3.1931 - mean_absolute_percentage_error: 11.3172 - val_loss: 12155.9512 - val_mean_absolute_percentage_error: 21.7743\n",
      "Epoch 432/1000\n",
      "156/156 [==============================] - 0s 115us/sample - loss: 3.2295 - mean_absolute_percentage_error: 10.8175 - val_loss: 12075.1055 - val_mean_absolute_percentage_error: 23.6194\n",
      "Epoch 433/1000\n",
      "156/156 [==============================] - 0s 115us/sample - loss: 3.1094 - mean_absolute_percentage_error: 10.9437 - val_loss: 12054.9697 - val_mean_absolute_percentage_error: 25.0195\n",
      "Epoch 434/1000\n",
      "156/156 [==============================] - 0s 128us/sample - loss: 3.1521 - mean_absolute_percentage_error: 10.9896 - val_loss: 12113.4443 - val_mean_absolute_percentage_error: 23.5299\n",
      "Epoch 435/1000\n",
      "156/156 [==============================] - 0s 115us/sample - loss: 3.1561 - mean_absolute_percentage_error: 10.9530 - val_loss: 12013.3955 - val_mean_absolute_percentage_error: 24.3544\n",
      "Epoch 436/1000\n",
      "156/156 [==============================] - 0s 109us/sample - loss: 3.1699 - mean_absolute_percentage_error: 11.1350 - val_loss: 12069.9014 - val_mean_absolute_percentage_error: 23.0543\n",
      "Epoch 437/1000\n",
      "156/156 [==============================] - 0s 122us/sample - loss: 3.0829 - mean_absolute_percentage_error: 10.8934 - val_loss: 12162.0645 - val_mean_absolute_percentage_error: 23.5886\n",
      "Epoch 438/1000\n",
      "156/156 [==============================] - 0s 115us/sample - loss: 2.9586 - mean_absolute_percentage_error: 10.7695 - val_loss: 12106.4268 - val_mean_absolute_percentage_error: 23.9817\n",
      "Epoch 439/1000\n",
      "156/156 [==============================] - 0s 141us/sample - loss: 3.0663 - mean_absolute_percentage_error: 11.2727 - val_loss: 12124.2031 - val_mean_absolute_percentage_error: 23.2180\n",
      "Epoch 440/1000\n",
      "156/156 [==============================] - 0s 128us/sample - loss: 3.0492 - mean_absolute_percentage_error: 10.8532 - val_loss: 12139.1445 - val_mean_absolute_percentage_error: 23.1640\n",
      "Epoch 441/1000\n",
      "156/156 [==============================] - 0s 121us/sample - loss: 2.9935 - mean_absolute_percentage_error: 11.1981 - val_loss: 12172.3633 - val_mean_absolute_percentage_error: 22.2189\n",
      "Epoch 442/1000\n",
      "156/156 [==============================] - 0s 109us/sample - loss: 3.1219 - mean_absolute_percentage_error: 10.6656 - val_loss: 12037.3740 - val_mean_absolute_percentage_error: 24.9018\n",
      "Epoch 443/1000\n",
      "156/156 [==============================] - 0s 109us/sample - loss: 2.9255 - mean_absolute_percentage_error: 10.8608 - val_loss: 12148.4375 - val_mean_absolute_percentage_error: 22.1157\n",
      "Epoch 444/1000\n",
      "156/156 [==============================] - 0s 102us/sample - loss: 3.0003 - mean_absolute_percentage_error: 10.6993 - val_loss: 12120.1445 - val_mean_absolute_percentage_error: 23.7105\n",
      "Epoch 445/1000\n",
      "156/156 [==============================] - 0s 115us/sample - loss: 2.8424 - mean_absolute_percentage_error: 10.8415 - val_loss: 12145.6260 - val_mean_absolute_percentage_error: 23.5734\n",
      "Epoch 446/1000\n",
      "156/156 [==============================] - 0s 115us/sample - loss: 2.9875 - mean_absolute_percentage_error: 10.7246 - val_loss: 12146.3223 - val_mean_absolute_percentage_error: 24.0748\n",
      "Epoch 447/1000\n",
      "156/156 [==============================] - 0s 115us/sample - loss: 2.9674 - mean_absolute_percentage_error: 10.9899 - val_loss: 12125.7598 - val_mean_absolute_percentage_error: 23.0589\n"
     ]
    },
    {
     "name": "stdout",
     "output_type": "stream",
     "text": [
      "Epoch 448/1000\n",
      "156/156 [==============================] - 0s 109us/sample - loss: 3.0387 - mean_absolute_percentage_error: 10.8448 - val_loss: 12149.9258 - val_mean_absolute_percentage_error: 22.6414\n",
      "Epoch 449/1000\n",
      "156/156 [==============================] - 0s 115us/sample - loss: 2.9339 - mean_absolute_percentage_error: 10.7478 - val_loss: 12186.5908 - val_mean_absolute_percentage_error: 22.4557\n",
      "Epoch 450/1000\n",
      "156/156 [==============================] - 0s 102us/sample - loss: 2.8534 - mean_absolute_percentage_error: 10.4436 - val_loss: 12084.6006 - val_mean_absolute_percentage_error: 23.5482\n",
      "Epoch 451/1000\n",
      "156/156 [==============================] - 0s 121us/sample - loss: 2.6826 - mean_absolute_percentage_error: 10.7783 - val_loss: 12257.7021 - val_mean_absolute_percentage_error: 21.9713\n",
      "Epoch 452/1000\n",
      "156/156 [==============================] - 0s 121us/sample - loss: 2.7793 - mean_absolute_percentage_error: 10.5216 - val_loss: 12212.0264 - val_mean_absolute_percentage_error: 22.2797\n",
      "Epoch 453/1000\n",
      "156/156 [==============================] - 0s 121us/sample - loss: 2.7614 - mean_absolute_percentage_error: 10.3430 - val_loss: 12134.1348 - val_mean_absolute_percentage_error: 23.7354\n",
      "Epoch 454/1000\n",
      "156/156 [==============================] - 0s 128us/sample - loss: 2.7875 - mean_absolute_percentage_error: 10.5518 - val_loss: 12150.9551 - val_mean_absolute_percentage_error: 23.9151\n",
      "Epoch 455/1000\n",
      "156/156 [==============================] - 0s 121us/sample - loss: 2.9125 - mean_absolute_percentage_error: 10.6912 - val_loss: 12249.1074 - val_mean_absolute_percentage_error: 23.1597\n",
      "Epoch 456/1000\n",
      "156/156 [==============================] - 0s 109us/sample - loss: 2.7110 - mean_absolute_percentage_error: 10.6432 - val_loss: 12196.4062 - val_mean_absolute_percentage_error: 23.2730\n",
      "Epoch 457/1000\n",
      "156/156 [==============================] - 0s 128us/sample - loss: 2.6812 - mean_absolute_percentage_error: 10.6957 - val_loss: 12227.0781 - val_mean_absolute_percentage_error: 21.6842\n",
      "Epoch 458/1000\n",
      "156/156 [==============================] - 0s 121us/sample - loss: 2.8953 - mean_absolute_percentage_error: 10.1614 - val_loss: 12199.6162 - val_mean_absolute_percentage_error: 24.3466\n",
      "Epoch 459/1000\n",
      "156/156 [==============================] - 0s 121us/sample - loss: 2.6747 - mean_absolute_percentage_error: 10.6496 - val_loss: 12190.6826 - val_mean_absolute_percentage_error: 23.1595\n",
      "Epoch 460/1000\n",
      "156/156 [==============================] - 0s 134us/sample - loss: 2.6416 - mean_absolute_percentage_error: 10.6439 - val_loss: 12118.5674 - val_mean_absolute_percentage_error: 22.6907\n",
      "Epoch 461/1000\n",
      "156/156 [==============================] - 0s 121us/sample - loss: 2.8413 - mean_absolute_percentage_error: 10.5529 - val_loss: 12213.4658 - val_mean_absolute_percentage_error: 22.0064\n",
      "Epoch 462/1000\n",
      "156/156 [==============================] - 0s 166us/sample - loss: 2.5763 - mean_absolute_percentage_error: 10.5070 - val_loss: 12154.2197 - val_mean_absolute_percentage_error: 22.4629\n",
      "Epoch 463/1000\n",
      "156/156 [==============================] - 0s 128us/sample - loss: 2.8403 - mean_absolute_percentage_error: 10.1991 - val_loss: 12287.1055 - val_mean_absolute_percentage_error: 22.5501\n",
      "Epoch 464/1000\n",
      "156/156 [==============================] - 0s 141us/sample - loss: 2.6335 - mean_absolute_percentage_error: 10.5259 - val_loss: 12205.6338 - val_mean_absolute_percentage_error: 22.9597\n",
      "Epoch 465/1000\n",
      "156/156 [==============================] - 0s 109us/sample - loss: 2.6008 - mean_absolute_percentage_error: 10.5569 - val_loss: 12324.0166 - val_mean_absolute_percentage_error: 21.2358\n",
      "Epoch 466/1000\n",
      "156/156 [==============================] - 0s 109us/sample - loss: 2.6038 - mean_absolute_percentage_error: 10.2240 - val_loss: 12180.5840 - val_mean_absolute_percentage_error: 23.4724\n",
      "Epoch 467/1000\n",
      "156/156 [==============================] - 0s 96us/sample - loss: 2.6365 - mean_absolute_percentage_error: 10.5679 - val_loss: 12263.2275 - val_mean_absolute_percentage_error: 22.8330\n",
      "Epoch 468/1000\n",
      "156/156 [==============================] - 0s 115us/sample - loss: 2.7919 - mean_absolute_percentage_error: 10.6030 - val_loss: 12280.8350 - val_mean_absolute_percentage_error: 21.6141\n",
      "Epoch 469/1000\n",
      "156/156 [==============================] - 0s 109us/sample - loss: 2.4994 - mean_absolute_percentage_error: 10.3182 - val_loss: 12199.3066 - val_mean_absolute_percentage_error: 23.9759\n",
      "Epoch 470/1000\n",
      "156/156 [==============================] - 0s 109us/sample - loss: 2.5361 - mean_absolute_percentage_error: 10.6080 - val_loss: 12232.4043 - val_mean_absolute_percentage_error: 22.8004\n",
      "Epoch 471/1000\n",
      "156/156 [==============================] - 0s 121us/sample - loss: 2.4240 - mean_absolute_percentage_error: 10.2901 - val_loss: 12284.7725 - val_mean_absolute_percentage_error: 22.7280\n",
      "Epoch 472/1000\n",
      "156/156 [==============================] - 0s 96us/sample - loss: 2.5191 - mean_absolute_percentage_error: 10.4057 - val_loss: 12226.0977 - val_mean_absolute_percentage_error: 23.6511\n",
      "Epoch 473/1000\n",
      "156/156 [==============================] - 0s 96us/sample - loss: 2.5873 - mean_absolute_percentage_error: 10.5671 - val_loss: 12261.7451 - val_mean_absolute_percentage_error: 21.2363\n",
      "Epoch 474/1000\n",
      "156/156 [==============================] - 0s 128us/sample - loss: 2.5371 - mean_absolute_percentage_error: 10.3687 - val_loss: 12271.4385 - val_mean_absolute_percentage_error: 22.6684\n",
      "Epoch 475/1000\n",
      "156/156 [==============================] - 0s 109us/sample - loss: 2.3764 - mean_absolute_percentage_error: 10.3103 - val_loss: 12105.8506 - val_mean_absolute_percentage_error: 24.4663\n",
      "Epoch 476/1000\n",
      "156/156 [==============================] - 0s 102us/sample - loss: 2.4859 - mean_absolute_percentage_error: 10.3716 - val_loss: 12214.9658 - val_mean_absolute_percentage_error: 22.2026\n",
      "Epoch 477/1000\n",
      "156/156 [==============================] - 0s 121us/sample - loss: 2.5267 - mean_absolute_percentage_error: 10.4879 - val_loss: 12353.8037 - val_mean_absolute_percentage_error: 21.3489\n",
      "Epoch 478/1000\n",
      "156/156 [==============================] - 0s 109us/sample - loss: 2.4498 - mean_absolute_percentage_error: 10.1080 - val_loss: 12212.4727 - val_mean_absolute_percentage_error: 23.8255\n",
      "Epoch 479/1000\n",
      "156/156 [==============================] - 0s 96us/sample - loss: 2.3342 - mean_absolute_percentage_error: 10.2728 - val_loss: 12281.1230 - val_mean_absolute_percentage_error: 21.2354\n",
      "Epoch 480/1000\n",
      "156/156 [==============================] - 0s 116us/sample - loss: 2.4866 - mean_absolute_percentage_error: 9.9889 - val_loss: 12256.1025 - val_mean_absolute_percentage_error: 22.4535\n",
      "Epoch 481/1000\n",
      "156/156 [==============================] - 0s 121us/sample - loss: 2.4326 - mean_absolute_percentage_error: 10.1931 - val_loss: 12242.5479 - val_mean_absolute_percentage_error: 23.8226\n",
      "Epoch 482/1000\n",
      "156/156 [==============================] - 0s 121us/sample - loss: 2.4054 - mean_absolute_percentage_error: 10.2886 - val_loss: 12154.1582 - val_mean_absolute_percentage_error: 23.2873\n",
      "Epoch 483/1000\n",
      "156/156 [==============================] - 0s 109us/sample - loss: 2.2972 - mean_absolute_percentage_error: 10.2500 - val_loss: 12294.6807 - val_mean_absolute_percentage_error: 22.5583\n",
      "Epoch 484/1000\n",
      "156/156 [==============================] - 0s 121us/sample - loss: 2.3612 - mean_absolute_percentage_error: 10.4042 - val_loss: 12312.1484 - val_mean_absolute_percentage_error: 21.8830\n",
      "Epoch 485/1000\n",
      "156/156 [==============================] - 0s 128us/sample - loss: 2.2991 - mean_absolute_percentage_error: 10.4225 - val_loss: 12179.0605 - val_mean_absolute_percentage_error: 22.8633\n",
      "Epoch 486/1000\n",
      "156/156 [==============================] - 0s 121us/sample - loss: 2.3159 - mean_absolute_percentage_error: 10.1469 - val_loss: 12301.0332 - val_mean_absolute_percentage_error: 22.4913\n",
      "Epoch 487/1000\n",
      "156/156 [==============================] - 0s 115us/sample - loss: 2.4211 - mean_absolute_percentage_error: 10.5674 - val_loss: 12338.3223 - val_mean_absolute_percentage_error: 20.9149\n",
      "Epoch 488/1000\n",
      "156/156 [==============================] - 0s 96us/sample - loss: 2.4409 - mean_absolute_percentage_error: 10.2851 - val_loss: 12199.9980 - val_mean_absolute_percentage_error: 21.7853\n"
     ]
    },
    {
     "name": "stdout",
     "output_type": "stream",
     "text": [
      "Epoch 489/1000\n",
      "156/156 [==============================] - 0s 121us/sample - loss: 2.2375 - mean_absolute_percentage_error: 9.9854 - val_loss: 12191.7793 - val_mean_absolute_percentage_error: 23.0401\n",
      "Epoch 490/1000\n",
      "156/156 [==============================] - 0s 109us/sample - loss: 2.3495 - mean_absolute_percentage_error: 10.1967 - val_loss: 12246.8350 - val_mean_absolute_percentage_error: 22.8610\n",
      "Epoch 491/1000\n",
      "156/156 [==============================] - 0s 102us/sample - loss: 2.1312 - mean_absolute_percentage_error: 10.2708 - val_loss: 12464.0830 - val_mean_absolute_percentage_error: 21.1797\n",
      "Epoch 492/1000\n",
      "156/156 [==============================] - 0s 122us/sample - loss: 2.4638 - mean_absolute_percentage_error: 10.2791 - val_loss: 12303.8320 - val_mean_absolute_percentage_error: 22.3077\n",
      "Epoch 493/1000\n",
      "156/156 [==============================] - 0s 110us/sample - loss: 2.2534 - mean_absolute_percentage_error: 10.4003 - val_loss: 12340.1562 - val_mean_absolute_percentage_error: 21.1604\n",
      "Epoch 494/1000\n",
      "156/156 [==============================] - 0s 109us/sample - loss: 2.2825 - mean_absolute_percentage_error: 9.9138 - val_loss: 12356.1533 - val_mean_absolute_percentage_error: 20.8687\n",
      "Epoch 495/1000\n",
      "156/156 [==============================] - 0s 109us/sample - loss: 2.1767 - mean_absolute_percentage_error: 9.7992 - val_loss: 12326.4277 - val_mean_absolute_percentage_error: 23.3876\n",
      "Epoch 496/1000\n",
      "156/156 [==============================] - 0s 115us/sample - loss: 2.2261 - mean_absolute_percentage_error: 10.1827 - val_loss: 12236.7871 - val_mean_absolute_percentage_error: 22.1471\n",
      "Epoch 497/1000\n",
      "156/156 [==============================] - 0s 102us/sample - loss: 2.2522 - mean_absolute_percentage_error: 10.2785 - val_loss: 12352.2041 - val_mean_absolute_percentage_error: 21.3212\n",
      "Epoch 498/1000\n",
      "156/156 [==============================] - 0s 281us/sample - loss: 2.1878 - mean_absolute_percentage_error: 9.9321 - val_loss: 12287.1709 - val_mean_absolute_percentage_error: 22.5309\n",
      "Epoch 499/1000\n",
      "156/156 [==============================] - 0s 166us/sample - loss: 2.1980 - mean_absolute_percentage_error: 10.0954 - val_loss: 12373.5107 - val_mean_absolute_percentage_error: 20.7151\n",
      "Epoch 500/1000\n",
      "156/156 [==============================] - 0s 141us/sample - loss: 2.1018 - mean_absolute_percentage_error: 10.1646 - val_loss: 12220.3906 - val_mean_absolute_percentage_error: 21.9652\n",
      "Epoch 501/1000\n",
      "156/156 [==============================] - 0s 109us/sample - loss: 2.1421 - mean_absolute_percentage_error: 9.9880 - val_loss: 12310.8174 - val_mean_absolute_percentage_error: 22.0737\n",
      "Epoch 502/1000\n",
      "156/156 [==============================] - 0s 109us/sample - loss: 2.2529 - mean_absolute_percentage_error: 10.3188 - val_loss: 12305.0088 - val_mean_absolute_percentage_error: 21.8861\n",
      "Epoch 503/1000\n",
      "156/156 [==============================] - 0s 115us/sample - loss: 2.1126 - mean_absolute_percentage_error: 9.9642 - val_loss: 12257.2822 - val_mean_absolute_percentage_error: 22.8992\n",
      "Epoch 504/1000\n",
      "156/156 [==============================] - 0s 109us/sample - loss: 2.0309 - mean_absolute_percentage_error: 10.1895 - val_loss: 12351.0400 - val_mean_absolute_percentage_error: 21.5042\n",
      "Epoch 505/1000\n",
      "156/156 [==============================] - 0s 97us/sample - loss: 2.1420 - mean_absolute_percentage_error: 10.0300 - val_loss: 12351.6016 - val_mean_absolute_percentage_error: 22.2269\n",
      "Epoch 506/1000\n",
      "156/156 [==============================] - 0s 115us/sample - loss: 2.0239 - mean_absolute_percentage_error: 9.9448 - val_loss: 12259.8457 - val_mean_absolute_percentage_error: 22.1750\n",
      "Epoch 507/1000\n",
      "156/156 [==============================] - 0s 121us/sample - loss: 2.1471 - mean_absolute_percentage_error: 9.9200 - val_loss: 12275.9062 - val_mean_absolute_percentage_error: 22.0860\n",
      "Epoch 508/1000\n",
      "156/156 [==============================] - 0s 109us/sample - loss: 1.9271 - mean_absolute_percentage_error: 10.0534 - val_loss: 12359.9541 - val_mean_absolute_percentage_error: 21.4397\n",
      "Epoch 509/1000\n",
      "156/156 [==============================] - 0s 126us/sample - loss: 2.0494 - mean_absolute_percentage_error: 10.0009 - val_loss: 12268.6436 - val_mean_absolute_percentage_error: 22.3137\n",
      "Epoch 510/1000\n",
      "156/156 [==============================] - 0s 109us/sample - loss: 2.0467 - mean_absolute_percentage_error: 10.0114 - val_loss: 12290.5381 - val_mean_absolute_percentage_error: 22.0987\n",
      "Epoch 511/1000\n",
      "156/156 [==============================] - ETA: 0s - loss: 2.4202 - mean_absolute_percentage_error: 10.059 - 0s 109us/sample - loss: 2.0621 - mean_absolute_percentage_error: 9.9000 - val_loss: 12267.8555 - val_mean_absolute_percentage_error: 22.5907\n",
      "Epoch 512/1000\n",
      "156/156 [==============================] - 0s 115us/sample - loss: 2.0573 - mean_absolute_percentage_error: 9.9559 - val_loss: 12279.4043 - val_mean_absolute_percentage_error: 21.4612\n",
      "Epoch 513/1000\n",
      "156/156 [==============================] - 0s 109us/sample - loss: 1.9231 - mean_absolute_percentage_error: 9.6795 - val_loss: 12229.7197 - val_mean_absolute_percentage_error: 21.0927\n",
      "Epoch 514/1000\n",
      "156/156 [==============================] - 0s 121us/sample - loss: 2.1339 - mean_absolute_percentage_error: 9.6393 - val_loss: 12308.0586 - val_mean_absolute_percentage_error: 21.8752\n",
      "Epoch 515/1000\n",
      "156/156 [==============================] - 0s 109us/sample - loss: 2.0085 - mean_absolute_percentage_error: 9.9812 - val_loss: 12325.9668 - val_mean_absolute_percentage_error: 20.7722\n",
      "Epoch 516/1000\n",
      "156/156 [==============================] - 0s 102us/sample - loss: 1.8887 - mean_absolute_percentage_error: 9.5597 - val_loss: 12319.9072 - val_mean_absolute_percentage_error: 21.7036\n",
      "Epoch 517/1000\n",
      "156/156 [==============================] - 0s 121us/sample - loss: 1.8209 - mean_absolute_percentage_error: 9.6714 - val_loss: 12402.6152 - val_mean_absolute_percentage_error: 20.4505\n",
      "Epoch 518/1000\n",
      "156/156 [==============================] - 0s 109us/sample - loss: 1.9754 - mean_absolute_percentage_error: 9.6025 - val_loss: 12360.8340 - val_mean_absolute_percentage_error: 21.3122\n",
      "Epoch 519/1000\n",
      "156/156 [==============================] - 0s 121us/sample - loss: 1.9966 - mean_absolute_percentage_error: 9.5103 - val_loss: 12280.7236 - val_mean_absolute_percentage_error: 22.5094\n",
      "Epoch 520/1000\n",
      "156/156 [==============================] - 0s 128us/sample - loss: 1.8764 - mean_absolute_percentage_error: 9.5892 - val_loss: 12314.8604 - val_mean_absolute_percentage_error: 20.7904\n",
      "Epoch 521/1000\n",
      "156/156 [==============================] - 0s 115us/sample - loss: 1.9100 - mean_absolute_percentage_error: 9.5297 - val_loss: 12350.9727 - val_mean_absolute_percentage_error: 20.2482\n",
      "Epoch 522/1000\n",
      "156/156 [==============================] - 0s 109us/sample - loss: 1.7688 - mean_absolute_percentage_error: 9.2783 - val_loss: 12274.6816 - val_mean_absolute_percentage_error: 21.6708\n",
      "Epoch 523/1000\n",
      "156/156 [==============================] - 0s 121us/sample - loss: 1.8858 - mean_absolute_percentage_error: 9.4935 - val_loss: 12302.2607 - val_mean_absolute_percentage_error: 21.5682\n",
      "Epoch 524/1000\n",
      "156/156 [==============================] - 0s 115us/sample - loss: 1.7864 - mean_absolute_percentage_error: 9.2997 - val_loss: 12255.2285 - val_mean_absolute_percentage_error: 21.7401\n",
      "Epoch 525/1000\n",
      "156/156 [==============================] - 0s 102us/sample - loss: 1.9437 - mean_absolute_percentage_error: 9.4409 - val_loss: 12240.7148 - val_mean_absolute_percentage_error: 21.6365\n",
      "Epoch 526/1000\n",
      "156/156 [==============================] - 0s 121us/sample - loss: 1.8455 - mean_absolute_percentage_error: 9.3968 - val_loss: 12311.6719 - val_mean_absolute_percentage_error: 20.9864\n",
      "Epoch 527/1000\n",
      "156/156 [==============================] - 0s 109us/sample - loss: 1.7837 - mean_absolute_percentage_error: 9.2838 - val_loss: 12346.7080 - val_mean_absolute_percentage_error: 20.8187\n",
      "Epoch 528/1000\n",
      "156/156 [==============================] - 0s 109us/sample - loss: 1.7151 - mean_absolute_percentage_error: 9.3903 - val_loss: 12310.1191 - val_mean_absolute_percentage_error: 20.7611\n",
      "Epoch 529/1000\n",
      "156/156 [==============================] - 0s 110us/sample - loss: 1.9985 - mean_absolute_percentage_error: 9.3504 - val_loss: 12343.5879 - val_mean_absolute_percentage_error: 20.7023\n"
     ]
    },
    {
     "name": "stdout",
     "output_type": "stream",
     "text": [
      "Epoch 530/1000\n",
      "156/156 [==============================] - 0s 102us/sample - loss: 1.7622 - mean_absolute_percentage_error: 9.3020 - val_loss: 12436.7354 - val_mean_absolute_percentage_error: 18.7710\n",
      "Epoch 531/1000\n",
      "156/156 [==============================] - 0s 121us/sample - loss: 1.8912 - mean_absolute_percentage_error: 8.9984 - val_loss: 12336.8428 - val_mean_absolute_percentage_error: 21.6055\n",
      "Epoch 532/1000\n",
      "156/156 [==============================] - 0s 109us/sample - loss: 1.7207 - mean_absolute_percentage_error: 9.2202 - val_loss: 12337.9375 - val_mean_absolute_percentage_error: 20.8915\n",
      "Epoch 533/1000\n",
      "156/156 [==============================] - 0s 115us/sample - loss: 1.7332 - mean_absolute_percentage_error: 9.1785 - val_loss: 12361.1855 - val_mean_absolute_percentage_error: 20.3671\n",
      "Epoch 534/1000\n",
      "156/156 [==============================] - 0s 121us/sample - loss: 1.7826 - mean_absolute_percentage_error: 9.0239 - val_loss: 12471.2422 - val_mean_absolute_percentage_error: 19.5134\n",
      "Epoch 535/1000\n",
      "156/156 [==============================] - 0s 90us/sample - loss: 1.7682 - mean_absolute_percentage_error: 9.0931 - val_loss: 12397.2119 - val_mean_absolute_percentage_error: 20.3151\n",
      "Epoch 536/1000\n",
      "156/156 [==============================] - 0s 115us/sample - loss: 1.7563 - mean_absolute_percentage_error: 9.1299 - val_loss: 12338.3428 - val_mean_absolute_percentage_error: 21.4943\n",
      "Epoch 537/1000\n",
      "156/156 [==============================] - 0s 115us/sample - loss: 1.8121 - mean_absolute_percentage_error: 9.2124 - val_loss: 12395.4082 - val_mean_absolute_percentage_error: 19.9006\n",
      "Epoch 538/1000\n",
      "156/156 [==============================] - 0s 141us/sample - loss: 1.6371 - mean_absolute_percentage_error: 8.8843 - val_loss: 12358.8320 - val_mean_absolute_percentage_error: 21.6654\n",
      "Epoch 539/1000\n",
      "156/156 [==============================] - 0s 121us/sample - loss: 1.7516 - mean_absolute_percentage_error: 9.0104 - val_loss: 12337.2207 - val_mean_absolute_percentage_error: 20.1480\n",
      "Epoch 540/1000\n",
      "156/156 [==============================] - 0s 109us/sample - loss: 1.6510 - mean_absolute_percentage_error: 8.9467 - val_loss: 12431.9346 - val_mean_absolute_percentage_error: 19.5760\n",
      "Epoch 541/1000\n",
      "156/156 [==============================] - 0s 115us/sample - loss: 1.9063 - mean_absolute_percentage_error: 8.9982 - val_loss: 12334.4990 - val_mean_absolute_percentage_error: 20.0009\n",
      "Epoch 542/1000\n",
      "156/156 [==============================] - 0s 115us/sample - loss: 1.6128 - mean_absolute_percentage_error: 8.7997 - val_loss: 12360.9355 - val_mean_absolute_percentage_error: 20.0508\n",
      "Epoch 543/1000\n",
      "156/156 [==============================] - 0s 109us/sample - loss: 1.7941 - mean_absolute_percentage_error: 9.1153 - val_loss: 12360.7012 - val_mean_absolute_percentage_error: 20.0145\n",
      "Epoch 544/1000\n",
      "156/156 [==============================] - 0s 96us/sample - loss: 1.6750 - mean_absolute_percentage_error: 8.7207 - val_loss: 12352.7559 - val_mean_absolute_percentage_error: 20.7847\n",
      "Epoch 545/1000\n",
      "156/156 [==============================] - 0s 121us/sample - loss: 1.6291 - mean_absolute_percentage_error: 8.7329 - val_loss: 12278.1348 - val_mean_absolute_percentage_error: 22.1810\n",
      "Epoch 546/1000\n",
      "156/156 [==============================] - 0s 109us/sample - loss: 1.6432 - mean_absolute_percentage_error: 8.9548 - val_loss: 12364.1885 - val_mean_absolute_percentage_error: 20.0237\n",
      "Epoch 547/1000\n",
      "156/156 [==============================] - ETA: 0s - loss: 1.2736 - mean_absolute_percentage_error: 6.74 - 0s 104us/sample - loss: 1.7204 - mean_absolute_percentage_error: 8.9355 - val_loss: 12399.6201 - val_mean_absolute_percentage_error: 19.1298\n",
      "Epoch 548/1000\n",
      "156/156 [==============================] - 0s 102us/sample - loss: 1.8358 - mean_absolute_percentage_error: 8.7116 - val_loss: 12426.1084 - val_mean_absolute_percentage_error: 19.4252\n",
      "Epoch 549/1000\n",
      "156/156 [==============================] - 0s 109us/sample - loss: 1.6240 - mean_absolute_percentage_error: 8.6471 - val_loss: 12417.0029 - val_mean_absolute_percentage_error: 20.3126\n",
      "Epoch 550/1000\n",
      "156/156 [==============================] - 0s 102us/sample - loss: 1.6631 - mean_absolute_percentage_error: 8.8412 - val_loss: 12289.3643 - val_mean_absolute_percentage_error: 20.3812\n",
      "Epoch 551/1000\n",
      "156/156 [==============================] - ETA: 0s - loss: 1.6186 - mean_absolute_percentage_error: 13.682 - 0s 109us/sample - loss: 1.6675 - mean_absolute_percentage_error: 8.6369 - val_loss: 12392.7861 - val_mean_absolute_percentage_error: 19.2469\n",
      "Epoch 552/1000\n",
      "156/156 [==============================] - 0s 109us/sample - loss: 1.6299 - mean_absolute_percentage_error: 8.6859 - val_loss: 12378.2178 - val_mean_absolute_percentage_error: 19.5621\n",
      "Epoch 553/1000\n",
      "156/156 [==============================] - 0s 106us/sample - loss: 1.5512 - mean_absolute_percentage_error: 8.6464 - val_loss: 12392.7129 - val_mean_absolute_percentage_error: 18.8556\n",
      "Epoch 554/1000\n",
      "156/156 [==============================] - 0s 115us/sample - loss: 1.6486 - mean_absolute_percentage_error: 8.6272 - val_loss: 12407.6885 - val_mean_absolute_percentage_error: 18.4196\n",
      "Epoch 555/1000\n",
      "156/156 [==============================] - 0s 109us/sample - loss: 1.5896 - mean_absolute_percentage_error: 8.7681 - val_loss: 12381.8115 - val_mean_absolute_percentage_error: 18.1100\n",
      "Epoch 556/1000\n",
      "156/156 [==============================] - 0s 96us/sample - loss: 1.5963 - mean_absolute_percentage_error: 8.5464 - val_loss: 12413.3828 - val_mean_absolute_percentage_error: 18.1547\n",
      "Epoch 557/1000\n",
      "156/156 [==============================] - 0s 121us/sample - loss: 1.6076 - mean_absolute_percentage_error: 8.5147 - val_loss: 12370.3652 - val_mean_absolute_percentage_error: 19.0096\n",
      "Epoch 558/1000\n",
      "156/156 [==============================] - 0s 121us/sample - loss: 1.5635 - mean_absolute_percentage_error: 8.3469 - val_loss: 12374.9062 - val_mean_absolute_percentage_error: 19.6076\n",
      "Epoch 559/1000\n",
      "156/156 [==============================] - 0s 109us/sample - loss: 1.6230 - mean_absolute_percentage_error: 8.5087 - val_loss: 12422.0068 - val_mean_absolute_percentage_error: 19.5946\n",
      "Epoch 560/1000\n",
      "156/156 [==============================] - 0s 109us/sample - loss: 1.6727 - mean_absolute_percentage_error: 8.6004 - val_loss: 12367.2891 - val_mean_absolute_percentage_error: 19.0213\n",
      "Epoch 561/1000\n",
      "156/156 [==============================] - 0s 115us/sample - loss: 1.4534 - mean_absolute_percentage_error: 8.3318 - val_loss: 12387.1055 - val_mean_absolute_percentage_error: 18.2152\n",
      "Epoch 562/1000\n",
      "156/156 [==============================] - 0s 96us/sample - loss: 1.5203 - mean_absolute_percentage_error: 8.3798 - val_loss: 12376.8340 - val_mean_absolute_percentage_error: 19.5680\n",
      "Epoch 563/1000\n",
      "156/156 [==============================] - 0s 102us/sample - loss: 1.6779 - mean_absolute_percentage_error: 8.5990 - val_loss: 12408.7393 - val_mean_absolute_percentage_error: 17.9929\n",
      "Epoch 564/1000\n",
      "156/156 [==============================] - 0s 109us/sample - loss: 1.4653 - mean_absolute_percentage_error: 8.1976 - val_loss: 12327.7559 - val_mean_absolute_percentage_error: 19.6553\n",
      "Epoch 565/1000\n",
      "156/156 [==============================] - 0s 109us/sample - loss: 1.5809 - mean_absolute_percentage_error: 8.5448 - val_loss: 12368.1387 - val_mean_absolute_percentage_error: 18.6025\n",
      "Epoch 566/1000\n",
      "156/156 [==============================] - 0s 109us/sample - loss: 1.5210 - mean_absolute_percentage_error: 8.3316 - val_loss: 12406.9082 - val_mean_absolute_percentage_error: 18.0049\n",
      "Epoch 567/1000\n",
      "156/156 [==============================] - 0s 205us/sample - loss: 1.5791 - mean_absolute_percentage_error: 8.2166 - val_loss: 12443.1045 - val_mean_absolute_percentage_error: 18.6741\n",
      "Epoch 568/1000\n",
      "156/156 [==============================] - 0s 121us/sample - loss: 1.4140 - mean_absolute_percentage_error: 8.2919 - val_loss: 12361.4629 - val_mean_absolute_percentage_error: 19.9620\n",
      "Epoch 569/1000\n",
      "156/156 [==============================] - 0s 160us/sample - loss: 1.5254 - mean_absolute_percentage_error: 8.2677 - val_loss: 12388.8584 - val_mean_absolute_percentage_error: 17.7555\n",
      "Epoch 570/1000\n"
     ]
    },
    {
     "name": "stdout",
     "output_type": "stream",
     "text": [
      "156/156 [==============================] - 0s 134us/sample - loss: 1.3876 - mean_absolute_percentage_error: 8.2433 - val_loss: 12349.7305 - val_mean_absolute_percentage_error: 17.5462\n",
      "Epoch 571/1000\n",
      "156/156 [==============================] - 0s 192us/sample - loss: 1.7177 - mean_absolute_percentage_error: 8.3989 - val_loss: 12343.4883 - val_mean_absolute_percentage_error: 19.0265\n",
      "Epoch 572/1000\n",
      "156/156 [==============================] - 0s 160us/sample - loss: 1.4678 - mean_absolute_percentage_error: 8.1655 - val_loss: 12413.2412 - val_mean_absolute_percentage_error: 19.3113\n",
      "Epoch 573/1000\n",
      "156/156 [==============================] - 0s 115us/sample - loss: 1.4903 - mean_absolute_percentage_error: 8.2581 - val_loss: 12353.5215 - val_mean_absolute_percentage_error: 18.5161\n",
      "Epoch 574/1000\n",
      "156/156 [==============================] - 0s 128us/sample - loss: 1.4717 - mean_absolute_percentage_error: 8.4239 - val_loss: 12481.1426 - val_mean_absolute_percentage_error: 16.7492\n",
      "Epoch 575/1000\n",
      "156/156 [==============================] - 0s 192us/sample - loss: 1.5963 - mean_absolute_percentage_error: 8.1098 - val_loss: 12380.8223 - val_mean_absolute_percentage_error: 18.9720\n",
      "Epoch 576/1000\n",
      "156/156 [==============================] - 0s 224us/sample - loss: 1.3613 - mean_absolute_percentage_error: 8.0800 - val_loss: 12345.4121 - val_mean_absolute_percentage_error: 17.6958\n",
      "Epoch 577/1000\n",
      "156/156 [==============================] - 0s 122us/sample - loss: 1.4063 - mean_absolute_percentage_error: 7.9968 - val_loss: 12278.5137 - val_mean_absolute_percentage_error: 19.6994\n",
      "Epoch 578/1000\n",
      "156/156 [==============================] - 0s 144us/sample - loss: 1.4073 - mean_absolute_percentage_error: 8.1005 - val_loss: 12410.7275 - val_mean_absolute_percentage_error: 18.0093\n",
      "Epoch 579/1000\n",
      "156/156 [==============================] - 0s 153us/sample - loss: 1.5301 - mean_absolute_percentage_error: 8.1784 - val_loss: 12274.2119 - val_mean_absolute_percentage_error: 18.8601\n",
      "Epoch 580/1000\n",
      "156/156 [==============================] - 0s 83us/sample - loss: 1.3618 - mean_absolute_percentage_error: 7.8683 - val_loss: 12257.2412 - val_mean_absolute_percentage_error: 19.8790\n",
      "Epoch 581/1000\n",
      "156/156 [==============================] - 0s 109us/sample - loss: 1.3673 - mean_absolute_percentage_error: 8.0659 - val_loss: 12405.3164 - val_mean_absolute_percentage_error: 16.3158\n",
      "Epoch 582/1000\n",
      "156/156 [==============================] - 0s 115us/sample - loss: 1.4468 - mean_absolute_percentage_error: 8.0868 - val_loss: 12452.8301 - val_mean_absolute_percentage_error: 16.5558\n",
      "Epoch 583/1000\n",
      "156/156 [==============================] - 0s 173us/sample - loss: 1.3760 - mean_absolute_percentage_error: 7.9214 - val_loss: 12381.9111 - val_mean_absolute_percentage_error: 18.1093\n",
      "Epoch 584/1000\n",
      "156/156 [==============================] - 0s 147us/sample - loss: 1.4262 - mean_absolute_percentage_error: 7.7761 - val_loss: 12327.0908 - val_mean_absolute_percentage_error: 18.1117\n",
      "Epoch 585/1000\n",
      "156/156 [==============================] - 0s 128us/sample - loss: 1.5431 - mean_absolute_percentage_error: 7.8994 - val_loss: 12365.9980 - val_mean_absolute_percentage_error: 18.7146\n",
      "Epoch 586/1000\n",
      "156/156 [==============================] - 0s 102us/sample - loss: 1.3145 - mean_absolute_percentage_error: 7.9712 - val_loss: 12381.7139 - val_mean_absolute_percentage_error: 16.9450\n",
      "Epoch 587/1000\n",
      "156/156 [==============================] - 0s 102us/sample - loss: 1.3437 - mean_absolute_percentage_error: 8.0759 - val_loss: 12428.1055 - val_mean_absolute_percentage_error: 16.0057\n",
      "Epoch 588/1000\n",
      "156/156 [==============================] - 0s 102us/sample - loss: 1.3912 - mean_absolute_percentage_error: 7.7697 - val_loss: 12346.3525 - val_mean_absolute_percentage_error: 17.3436\n",
      "Epoch 589/1000\n",
      "156/156 [==============================] - 0s 102us/sample - loss: 1.3304 - mean_absolute_percentage_error: 7.7194 - val_loss: 12451.0801 - val_mean_absolute_percentage_error: 15.9934\n",
      "Epoch 590/1000\n",
      "156/156 [==============================] - 0s 106us/sample - loss: 1.4091 - mean_absolute_percentage_error: 7.8838 - val_loss: 12415.2207 - val_mean_absolute_percentage_error: 17.0563\n",
      "Epoch 591/1000\n",
      "156/156 [==============================] - 0s 102us/sample - loss: 1.2485 - mean_absolute_percentage_error: 7.6873 - val_loss: 12409.3066 - val_mean_absolute_percentage_error: 16.3539\n",
      "Epoch 592/1000\n",
      "156/156 [==============================] - 0s 96us/sample - loss: 1.3387 - mean_absolute_percentage_error: 7.7162 - val_loss: 12359.1572 - val_mean_absolute_percentage_error: 17.4126\n",
      "Epoch 593/1000\n",
      "156/156 [==============================] - 0s 102us/sample - loss: 1.4471 - mean_absolute_percentage_error: 7.8436 - val_loss: 12322.1396 - val_mean_absolute_percentage_error: 16.3436\n",
      "Epoch 594/1000\n",
      "156/156 [==============================] - 0s 109us/sample - loss: 1.3193 - mean_absolute_percentage_error: 7.7014 - val_loss: 12391.3184 - val_mean_absolute_percentage_error: 16.4056\n",
      "Epoch 595/1000\n",
      "156/156 [==============================] - 0s 102us/sample - loss: 1.2603 - mean_absolute_percentage_error: 7.4133 - val_loss: 12289.6914 - val_mean_absolute_percentage_error: 19.6121\n",
      "Epoch 596/1000\n",
      "156/156 [==============================] - 0s 102us/sample - loss: 1.3379 - mean_absolute_percentage_error: 7.7637 - val_loss: 12359.1748 - val_mean_absolute_percentage_error: 17.1624\n",
      "Epoch 597/1000\n",
      "156/156 [==============================] - 0s 109us/sample - loss: 1.2361 - mean_absolute_percentage_error: 7.7955 - val_loss: 12383.8936 - val_mean_absolute_percentage_error: 17.1134\n",
      "Epoch 598/1000\n",
      "156/156 [==============================] - 0s 96us/sample - loss: 1.2999 - mean_absolute_percentage_error: 7.5767 - val_loss: 12345.9863 - val_mean_absolute_percentage_error: 15.9657\n",
      "Epoch 599/1000\n",
      "156/156 [==============================] - 0s 102us/sample - loss: 1.2915 - mean_absolute_percentage_error: 7.4775 - val_loss: 12397.3633 - val_mean_absolute_percentage_error: 16.9145\n",
      "Epoch 600/1000\n",
      "156/156 [==============================] - 0s 109us/sample - loss: 1.3497 - mean_absolute_percentage_error: 7.6773 - val_loss: 12426.6914 - val_mean_absolute_percentage_error: 16.1298\n",
      "Epoch 601/1000\n",
      "156/156 [==============================] - 0s 109us/sample - loss: 1.2817 - mean_absolute_percentage_error: 7.7042 - val_loss: 12344.5996 - val_mean_absolute_percentage_error: 16.6068\n",
      "Epoch 602/1000\n",
      "156/156 [==============================] - 0s 109us/sample - loss: 1.4437 - mean_absolute_percentage_error: 7.6785 - val_loss: 12409.6016 - val_mean_absolute_percentage_error: 16.7111\n",
      "Epoch 603/1000\n",
      "156/156 [==============================] - 0s 128us/sample - loss: 1.2587 - mean_absolute_percentage_error: 7.5803 - val_loss: 12382.3799 - val_mean_absolute_percentage_error: 15.7824\n",
      "Epoch 604/1000\n",
      "156/156 [==============================] - 0s 141us/sample - loss: 1.3769 - mean_absolute_percentage_error: 7.4476 - val_loss: 12401.9316 - val_mean_absolute_percentage_error: 15.4208\n",
      "Epoch 605/1000\n",
      "156/156 [==============================] - 0s 121us/sample - loss: 1.2600 - mean_absolute_percentage_error: 7.3061 - val_loss: 12403.0693 - val_mean_absolute_percentage_error: 16.6509\n",
      "Epoch 606/1000\n",
      "156/156 [==============================] - 0s 141us/sample - loss: 1.3320 - mean_absolute_percentage_error: 7.4921 - val_loss: 12388.3350 - val_mean_absolute_percentage_error: 16.4806\n",
      "Epoch 607/1000\n",
      "156/156 [==============================] - 0s 153us/sample - loss: 1.2630 - mean_absolute_percentage_error: 7.6538 - val_loss: 12333.9834 - val_mean_absolute_percentage_error: 17.4912\n",
      "Epoch 608/1000\n",
      "156/156 [==============================] - 0s 141us/sample - loss: 1.2616 - mean_absolute_percentage_error: 7.4294 - val_loss: 12259.6553 - val_mean_absolute_percentage_error: 19.1223\n",
      "Epoch 609/1000\n",
      "156/156 [==============================] - 0s 160us/sample - loss: 1.3074 - mean_absolute_percentage_error: 7.7416 - val_loss: 12443.7051 - val_mean_absolute_percentage_error: 15.5736\n",
      "Epoch 610/1000\n",
      "156/156 [==============================] - 0s 128us/sample - loss: 1.3474 - mean_absolute_percentage_error: 7.5047 - val_loss: 12407.1279 - val_mean_absolute_percentage_error: 15.9470\n",
      "Epoch 611/1000\n"
     ]
    },
    {
     "name": "stdout",
     "output_type": "stream",
     "text": [
      "156/156 [==============================] - 0s 128us/sample - loss: 1.1931 - mean_absolute_percentage_error: 7.5811 - val_loss: 12394.3291 - val_mean_absolute_percentage_error: 15.7372\n",
      "Epoch 612/1000\n",
      "156/156 [==============================] - 0s 121us/sample - loss: 1.2556 - mean_absolute_percentage_error: 7.2874 - val_loss: 12412.0684 - val_mean_absolute_percentage_error: 15.4985\n",
      "Epoch 613/1000\n",
      "156/156 [==============================] - 0s 115us/sample - loss: 1.2354 - mean_absolute_percentage_error: 7.1665 - val_loss: 12354.4297 - val_mean_absolute_percentage_error: 16.5265\n",
      "Epoch 614/1000\n",
      "156/156 [==============================] - 0s 111us/sample - loss: 1.2619 - mean_absolute_percentage_error: 7.3715 - val_loss: 12395.4512 - val_mean_absolute_percentage_error: 17.1590\n",
      "Epoch 615/1000\n",
      "156/156 [==============================] - 0s 160us/sample - loss: 1.2786 - mean_absolute_percentage_error: 7.6567 - val_loss: 12462.3574 - val_mean_absolute_percentage_error: 15.9923\n",
      "Epoch 616/1000\n",
      "156/156 [==============================] - 0s 121us/sample - loss: 1.2884 - mean_absolute_percentage_error: 7.2039 - val_loss: 12377.1152 - val_mean_absolute_percentage_error: 16.5766\n",
      "Epoch 617/1000\n",
      "156/156 [==============================] - 0s 121us/sample - loss: 1.2839 - mean_absolute_percentage_error: 7.4296 - val_loss: 12358.4678 - val_mean_absolute_percentage_error: 15.9422\n",
      "Epoch 618/1000\n",
      "156/156 [==============================] - 0s 128us/sample - loss: 1.1665 - mean_absolute_percentage_error: 7.2265 - val_loss: 12326.7969 - val_mean_absolute_percentage_error: 17.2565\n",
      "Epoch 619/1000\n",
      "156/156 [==============================] - 0s 115us/sample - loss: 1.2174 - mean_absolute_percentage_error: 7.3751 - val_loss: 12405.7168 - val_mean_absolute_percentage_error: 16.2957\n",
      "Epoch 620/1000\n",
      "156/156 [==============================] - 0s 128us/sample - loss: 1.2602 - mean_absolute_percentage_error: 7.3446 - val_loss: 12402.0439 - val_mean_absolute_percentage_error: 16.1021\n",
      "Epoch 621/1000\n",
      "156/156 [==============================] - 0s 115us/sample - loss: 1.1509 - mean_absolute_percentage_error: 7.3020 - val_loss: 12384.4141 - val_mean_absolute_percentage_error: 16.0776\n",
      "Epoch 622/1000\n",
      "156/156 [==============================] - 0s 121us/sample - loss: 1.2657 - mean_absolute_percentage_error: 7.3847 - val_loss: 12331.7227 - val_mean_absolute_percentage_error: 16.8426\n",
      "Epoch 623/1000\n",
      "156/156 [==============================] - 0s 115us/sample - loss: 1.1501 - mean_absolute_percentage_error: 7.2697 - val_loss: 12328.4395 - val_mean_absolute_percentage_error: 16.3602\n",
      "Epoch 624/1000\n",
      "156/156 [==============================] - 0s 121us/sample - loss: 1.1923 - mean_absolute_percentage_error: 7.1243 - val_loss: 12429.8457 - val_mean_absolute_percentage_error: 15.7719\n",
      "Epoch 625/1000\n",
      "156/156 [==============================] - 0s 115us/sample - loss: 1.2010 - mean_absolute_percentage_error: 7.2160 - val_loss: 12367.7549 - val_mean_absolute_percentage_error: 16.2187\n",
      "Epoch 626/1000\n",
      "156/156 [==============================] - 0s 102us/sample - loss: 1.2627 - mean_absolute_percentage_error: 7.1085 - val_loss: 12339.3525 - val_mean_absolute_percentage_error: 17.5413\n",
      "Epoch 627/1000\n",
      "156/156 [==============================] - 0s 109us/sample - loss: 1.1751 - mean_absolute_percentage_error: 7.2267 - val_loss: 12363.3730 - val_mean_absolute_percentage_error: 15.8194\n",
      "Epoch 628/1000\n",
      "156/156 [==============================] - 0s 109us/sample - loss: 1.2013 - mean_absolute_percentage_error: 7.1337 - val_loss: 12370.3770 - val_mean_absolute_percentage_error: 15.7418\n",
      "Epoch 629/1000\n",
      "156/156 [==============================] - 0s 109us/sample - loss: 1.1901 - mean_absolute_percentage_error: 7.1601 - val_loss: 12407.3066 - val_mean_absolute_percentage_error: 15.3814\n",
      "Epoch 630/1000\n",
      "156/156 [==============================] - 0s 115us/sample - loss: 1.1540 - mean_absolute_percentage_error: 7.0840 - val_loss: 12407.8799 - val_mean_absolute_percentage_error: 15.0104\n",
      "Epoch 631/1000\n",
      "156/156 [==============================] - 0s 109us/sample - loss: 1.1101 - mean_absolute_percentage_error: 7.1732 - val_loss: 12375.7998 - val_mean_absolute_percentage_error: 15.3378\n",
      "Epoch 632/1000\n",
      "156/156 [==============================] - 0s 103us/sample - loss: 1.1242 - mean_absolute_percentage_error: 7.0513 - val_loss: 12294.2910 - val_mean_absolute_percentage_error: 17.5655\n",
      "Epoch 633/1000\n",
      "156/156 [==============================] - 0s 109us/sample - loss: 1.1802 - mean_absolute_percentage_error: 7.0677 - val_loss: 12378.9375 - val_mean_absolute_percentage_error: 14.8213\n",
      "Epoch 634/1000\n",
      "156/156 [==============================] - 0s 102us/sample - loss: 1.1743 - mean_absolute_percentage_error: 7.1318 - val_loss: 12331.4170 - val_mean_absolute_percentage_error: 15.6388\n",
      "Epoch 635/1000\n",
      "156/156 [==============================] - 0s 109us/sample - loss: 1.1499 - mean_absolute_percentage_error: 6.9746 - val_loss: 12312.7754 - val_mean_absolute_percentage_error: 16.7915\n",
      "Epoch 636/1000\n",
      "156/156 [==============================] - 0s 109us/sample - loss: 1.1011 - mean_absolute_percentage_error: 7.1292 - val_loss: 12358.2832 - val_mean_absolute_percentage_error: 16.2965\n",
      "Epoch 637/1000\n",
      "156/156 [==============================] - 0s 109us/sample - loss: 1.1796 - mean_absolute_percentage_error: 6.9051 - val_loss: 12425.0342 - val_mean_absolute_percentage_error: 15.3645\n",
      "Epoch 638/1000\n",
      "156/156 [==============================] - 0s 134us/sample - loss: 1.1119 - mean_absolute_percentage_error: 7.1189 - val_loss: 12314.1797 - val_mean_absolute_percentage_error: 15.9039\n",
      "Epoch 639/1000\n",
      "156/156 [==============================] - 0s 115us/sample - loss: 1.0304 - mean_absolute_percentage_error: 6.8620 - val_loss: 12458.4707 - val_mean_absolute_percentage_error: 15.5654\n",
      "Epoch 640/1000\n",
      "156/156 [==============================] - 0s 109us/sample - loss: 1.1529 - mean_absolute_percentage_error: 7.2611 - val_loss: 12390.7666 - val_mean_absolute_percentage_error: 14.6181\n",
      "Epoch 641/1000\n",
      "156/156 [==============================] - 0s 89us/sample - loss: 1.1587 - mean_absolute_percentage_error: 6.9491 - val_loss: 12351.6934 - val_mean_absolute_percentage_error: 16.5255\n",
      "Epoch 642/1000\n",
      "156/156 [==============================] - 0s 121us/sample - loss: 1.0687 - mean_absolute_percentage_error: 6.9365 - val_loss: 12362.0781 - val_mean_absolute_percentage_error: 15.2096\n",
      "Epoch 643/1000\n",
      "156/156 [==============================] - 0s 96us/sample - loss: 1.0560 - mean_absolute_percentage_error: 6.9331 - val_loss: 12348.7764 - val_mean_absolute_percentage_error: 16.3732\n",
      "Epoch 644/1000\n",
      "156/156 [==============================] - 0s 121us/sample - loss: 1.0644 - mean_absolute_percentage_error: 7.0327 - val_loss: 12355.8867 - val_mean_absolute_percentage_error: 15.4258\n",
      "Epoch 645/1000\n",
      "156/156 [==============================] - 0s 109us/sample - loss: 1.0296 - mean_absolute_percentage_error: 6.9883 - val_loss: 12320.0137 - val_mean_absolute_percentage_error: 15.9819\n",
      "Epoch 646/1000\n",
      "156/156 [==============================] - 0s 102us/sample - loss: 1.0204 - mean_absolute_percentage_error: 6.8591 - val_loss: 12396.9316 - val_mean_absolute_percentage_error: 13.4048\n",
      "Epoch 647/1000\n",
      "156/156 [==============================] - 0s 112us/sample - loss: 1.1331 - mean_absolute_percentage_error: 6.7725 - val_loss: 12381.6895 - val_mean_absolute_percentage_error: 15.5488\n",
      "Epoch 648/1000\n",
      "156/156 [==============================] - 0s 83us/sample - loss: 1.0542 - mean_absolute_percentage_error: 6.9420 - val_loss: 12427.5566 - val_mean_absolute_percentage_error: 13.9461\n",
      "Epoch 649/1000\n",
      "156/156 [==============================] - 0s 102us/sample - loss: 1.0152 - mean_absolute_percentage_error: 6.7166 - val_loss: 12365.5928 - val_mean_absolute_percentage_error: 14.8522\n",
      "Epoch 650/1000\n",
      "156/156 [==============================] - 0s 102us/sample - loss: 1.1811 - mean_absolute_percentage_error: 6.6670 - val_loss: 12291.2295 - val_mean_absolute_percentage_error: 15.4368\n",
      "Epoch 651/1000\n",
      "156/156 [==============================] - 0s 121us/sample - loss: 0.9773 - mean_absolute_percentage_error: 6.8520 - val_loss: 12364.4082 - val_mean_absolute_percentage_error: 15.7666\n",
      "Epoch 652/1000\n"
     ]
    },
    {
     "name": "stdout",
     "output_type": "stream",
     "text": [
      "156/156 [==============================] - 0s 96us/sample - loss: 1.1686 - mean_absolute_percentage_error: 6.8472 - val_loss: 12340.5576 - val_mean_absolute_percentage_error: 14.7729\n",
      "Epoch 653/1000\n",
      "156/156 [==============================] - ETA: 0s - loss: 1.1693 - mean_absolute_percentage_error: 5.69 - 0s 90us/sample - loss: 1.1161 - mean_absolute_percentage_error: 6.8145 - val_loss: 12403.6777 - val_mean_absolute_percentage_error: 14.1656\n",
      "Epoch 654/1000\n",
      "156/156 [==============================] - 0s 109us/sample - loss: 1.1188 - mean_absolute_percentage_error: 6.6013 - val_loss: 12413.1699 - val_mean_absolute_percentage_error: 14.9158\n",
      "Epoch 655/1000\n",
      "156/156 [==============================] - 0s 115us/sample - loss: 1.0281 - mean_absolute_percentage_error: 6.9131 - val_loss: 12345.2988 - val_mean_absolute_percentage_error: 14.6124\n",
      "Epoch 656/1000\n",
      "156/156 [==============================] - 0s 96us/sample - loss: 0.9814 - mean_absolute_percentage_error: 6.5762 - val_loss: 12289.6787 - val_mean_absolute_percentage_error: 14.9290\n",
      "Epoch 657/1000\n",
      "156/156 [==============================] - 0s 107us/sample - loss: 1.0705 - mean_absolute_percentage_error: 6.6697 - val_loss: 12392.0527 - val_mean_absolute_percentage_error: 15.3551\n",
      "Epoch 658/1000\n",
      "156/156 [==============================] - 0s 102us/sample - loss: 1.0328 - mean_absolute_percentage_error: 6.7117 - val_loss: 12260.6611 - val_mean_absolute_percentage_error: 16.5451\n",
      "Epoch 659/1000\n",
      "156/156 [==============================] - 0s 96us/sample - loss: 1.1669 - mean_absolute_percentage_error: 6.8333 - val_loss: 12376.2441 - val_mean_absolute_percentage_error: 13.5885\n",
      "Epoch 660/1000\n",
      "156/156 [==============================] - 0s 102us/sample - loss: 1.0570 - mean_absolute_percentage_error: 6.7075 - val_loss: 12302.8711 - val_mean_absolute_percentage_error: 15.1908\n",
      "Epoch 661/1000\n",
      "156/156 [==============================] - 0s 109us/sample - loss: 1.0637 - mean_absolute_percentage_error: 6.6235 - val_loss: 12362.7324 - val_mean_absolute_percentage_error: 15.6396\n",
      "Epoch 662/1000\n",
      "156/156 [==============================] - 0s 109us/sample - loss: 1.0380 - mean_absolute_percentage_error: 6.7614 - val_loss: 12381.8926 - val_mean_absolute_percentage_error: 14.2666\n",
      "Epoch 663/1000\n",
      "156/156 [==============================] - 0s 115us/sample - loss: 0.9354 - mean_absolute_percentage_error: 6.5097 - val_loss: 12398.6738 - val_mean_absolute_percentage_error: 14.5274\n",
      "Epoch 664/1000\n",
      "156/156 [==============================] - 0s 115us/sample - loss: 0.9844 - mean_absolute_percentage_error: 6.6847 - val_loss: 12314.4697 - val_mean_absolute_percentage_error: 14.7682\n",
      "Epoch 665/1000\n",
      "156/156 [==============================] - 0s 109us/sample - loss: 1.1585 - mean_absolute_percentage_error: 6.8743 - val_loss: 12406.0967 - val_mean_absolute_percentage_error: 13.7169\n",
      "Epoch 666/1000\n",
      "156/156 [==============================] - 0s 109us/sample - loss: 1.0135 - mean_absolute_percentage_error: 6.6043 - val_loss: 12435.1416 - val_mean_absolute_percentage_error: 14.3730\n",
      "Epoch 667/1000\n",
      "156/156 [==============================] - 0s 96us/sample - loss: 1.0382 - mean_absolute_percentage_error: 6.6041 - val_loss: 12260.6816 - val_mean_absolute_percentage_error: 15.0780\n",
      "Epoch 668/1000\n",
      "156/156 [==============================] - 0s 115us/sample - loss: 0.9574 - mean_absolute_percentage_error: 6.6297 - val_loss: 12363.7031 - val_mean_absolute_percentage_error: 14.3932\n",
      "Epoch 669/1000\n",
      "156/156 [==============================] - 0s 109us/sample - loss: 1.0123 - mean_absolute_percentage_error: 6.7270 - val_loss: 12375.4199 - val_mean_absolute_percentage_error: 13.6233\n",
      "Epoch 670/1000\n",
      "156/156 [==============================] - 0s 102us/sample - loss: 1.0284 - mean_absolute_percentage_error: 6.7778 - val_loss: 12387.1729 - val_mean_absolute_percentage_error: 14.4097\n",
      "Epoch 671/1000\n",
      "156/156 [==============================] - 0s 115us/sample - loss: 1.0249 - mean_absolute_percentage_error: 6.6147 - val_loss: 12277.8965 - val_mean_absolute_percentage_error: 14.4113\n",
      "Epoch 672/1000\n",
      "156/156 [==============================] - 0s 102us/sample - loss: 1.0105 - mean_absolute_percentage_error: 6.6184 - val_loss: 12375.5801 - val_mean_absolute_percentage_error: 13.8965\n",
      "Epoch 673/1000\n",
      "156/156 [==============================] - 0s 102us/sample - loss: 0.9671 - mean_absolute_percentage_error: 6.6843 - val_loss: 12283.8184 - val_mean_absolute_percentage_error: 14.1820\n",
      "Epoch 674/1000\n",
      "156/156 [==============================] - 0s 96us/sample - loss: 1.0156 - mean_absolute_percentage_error: 6.5899 - val_loss: 12405.7197 - val_mean_absolute_percentage_error: 14.1569\n",
      "Epoch 675/1000\n",
      "156/156 [==============================] - 0s 121us/sample - loss: 1.0538 - mean_absolute_percentage_error: 6.6076 - val_loss: 12407.2891 - val_mean_absolute_percentage_error: 14.4791\n",
      "Epoch 676/1000\n",
      "156/156 [==============================] - 0s 121us/sample - loss: 0.9329 - mean_absolute_percentage_error: 6.7090 - val_loss: 12395.7402 - val_mean_absolute_percentage_error: 14.0037\n",
      "Epoch 677/1000\n",
      "156/156 [==============================] - 0s 98us/sample - loss: 0.9243 - mean_absolute_percentage_error: 6.5170 - val_loss: 12347.0938 - val_mean_absolute_percentage_error: 13.3618\n",
      "Epoch 678/1000\n",
      "156/156 [==============================] - 0s 134us/sample - loss: 1.0628 - mean_absolute_percentage_error: 6.6421 - val_loss: 12344.1250 - val_mean_absolute_percentage_error: 13.5534\n",
      "Epoch 679/1000\n",
      "156/156 [==============================] - 0s 90us/sample - loss: 0.9039 - mean_absolute_percentage_error: 6.6561 - val_loss: 12301.4277 - val_mean_absolute_percentage_error: 13.4789\n",
      "Epoch 680/1000\n",
      "156/156 [==============================] - 0s 102us/sample - loss: 1.0015 - mean_absolute_percentage_error: 6.6473 - val_loss: 12363.3838 - val_mean_absolute_percentage_error: 12.4862\n",
      "Epoch 681/1000\n",
      "156/156 [==============================] - 0s 109us/sample - loss: 0.9026 - mean_absolute_percentage_error: 6.3315 - val_loss: 12297.5723 - val_mean_absolute_percentage_error: 14.1344\n",
      "Epoch 682/1000\n",
      "156/156 [==============================] - 0s 128us/sample - loss: 0.9791 - mean_absolute_percentage_error: 6.5684 - val_loss: 12294.5479 - val_mean_absolute_percentage_error: 14.0848\n",
      "Epoch 683/1000\n",
      "156/156 [==============================] - 0s 83us/sample - loss: 1.0196 - mean_absolute_percentage_error: 6.4365 - val_loss: 12288.6064 - val_mean_absolute_percentage_error: 13.2945\n",
      "Epoch 684/1000\n",
      "156/156 [==============================] - 0s 102us/sample - loss: 0.9302 - mean_absolute_percentage_error: 6.3900 - val_loss: 12362.7676 - val_mean_absolute_percentage_error: 12.9389\n",
      "Epoch 685/1000\n",
      "156/156 [==============================] - 0s 102us/sample - loss: 1.0506 - mean_absolute_percentage_error: 6.6519 - val_loss: 12337.1133 - val_mean_absolute_percentage_error: 13.7396\n",
      "Epoch 686/1000\n",
      "156/156 [==============================] - 0s 105us/sample - loss: 1.0098 - mean_absolute_percentage_error: 6.5361 - val_loss: 12294.5508 - val_mean_absolute_percentage_error: 14.1639\n",
      "Epoch 687/1000\n",
      "156/156 [==============================] - 0s 128us/sample - loss: 0.8878 - mean_absolute_percentage_error: 6.4287 - val_loss: 12285.6084 - val_mean_absolute_percentage_error: 13.4685\n",
      "Epoch 688/1000\n",
      "156/156 [==============================] - 0s 147us/sample - loss: 0.9170 - mean_absolute_percentage_error: 6.3817 - val_loss: 12293.3340 - val_mean_absolute_percentage_error: 13.0323\n",
      "Epoch 689/1000\n",
      "156/156 [==============================] - 0s 143us/sample - loss: 1.0774 - mean_absolute_percentage_error: 6.2490 - val_loss: 12335.7930 - val_mean_absolute_percentage_error: 14.0221\n",
      "Epoch 690/1000\n",
      "156/156 [==============================] - 0s 141us/sample - loss: 0.9104 - mean_absolute_percentage_error: 6.4620 - val_loss: 12386.0684 - val_mean_absolute_percentage_error: 12.4357\n",
      "Epoch 691/1000\n",
      "156/156 [==============================] - 0s 147us/sample - loss: 0.9676 - mean_absolute_percentage_error: 6.4780 - val_loss: 12347.5332 - val_mean_absolute_percentage_error: 12.2659\n",
      "Epoch 692/1000\n",
      "156/156 [==============================] - 0s 121us/sample - loss: 0.9372 - mean_absolute_percentage_error: 6.1982 - val_loss: 12233.5420 - val_mean_absolute_percentage_error: 13.7462\n"
     ]
    },
    {
     "name": "stdout",
     "output_type": "stream",
     "text": [
      "Epoch 693/1000\n",
      "156/156 [==============================] - 0s 160us/sample - loss: 0.8943 - mean_absolute_percentage_error: 6.2843 - val_loss: 12297.6826 - val_mean_absolute_percentage_error: 12.9770\n",
      "Epoch 694/1000\n",
      "156/156 [==============================] - 0s 112us/sample - loss: 0.9903 - mean_absolute_percentage_error: 6.6441 - val_loss: 12414.4980 - val_mean_absolute_percentage_error: 11.9975\n",
      "Epoch 695/1000\n",
      "156/156 [==============================] - 0s 166us/sample - loss: 0.9689 - mean_absolute_percentage_error: 6.3338 - val_loss: 12341.6523 - val_mean_absolute_percentage_error: 12.6246\n",
      "Epoch 696/1000\n",
      "156/156 [==============================] - 0s 192us/sample - loss: 0.8521 - mean_absolute_percentage_error: 6.2099 - val_loss: 12310.0322 - val_mean_absolute_percentage_error: 12.9175\n",
      "Epoch 697/1000\n",
      "156/156 [==============================] - 0s 166us/sample - loss: 0.9906 - mean_absolute_percentage_error: 6.3640 - val_loss: 12255.5811 - val_mean_absolute_percentage_error: 13.4531\n",
      "Epoch 698/1000\n",
      "156/156 [==============================] - 0s 131us/sample - loss: 0.9638 - mean_absolute_percentage_error: 6.3956 - val_loss: 12288.5527 - val_mean_absolute_percentage_error: 12.5208\n",
      "Epoch 699/1000\n",
      "156/156 [==============================] - 0s 128us/sample - loss: 0.9245 - mean_absolute_percentage_error: 6.2409 - val_loss: 12385.1445 - val_mean_absolute_percentage_error: 12.1628\n",
      "Epoch 700/1000\n",
      "156/156 [==============================] - 0s 153us/sample - loss: 0.8267 - mean_absolute_percentage_error: 6.2999 - val_loss: 12336.1045 - val_mean_absolute_percentage_error: 12.2166\n",
      "Epoch 701/1000\n",
      "156/156 [==============================] - 0s 141us/sample - loss: 0.9316 - mean_absolute_percentage_error: 6.2551 - val_loss: 12221.5859 - val_mean_absolute_percentage_error: 14.3871\n",
      "Epoch 702/1000\n",
      "156/156 [==============================] - 0s 115us/sample - loss: 0.9350 - mean_absolute_percentage_error: 6.3468 - val_loss: 12317.7529 - val_mean_absolute_percentage_error: 13.4033\n",
      "Epoch 703/1000\n",
      "156/156 [==============================] - 0s 109us/sample - loss: 0.9821 - mean_absolute_percentage_error: 6.3259 - val_loss: 12230.8057 - val_mean_absolute_percentage_error: 13.6705\n",
      "Epoch 704/1000\n",
      "156/156 [==============================] - 0s 109us/sample - loss: 0.9739 - mean_absolute_percentage_error: 6.2797 - val_loss: 12248.7607 - val_mean_absolute_percentage_error: 12.8649\n",
      "Epoch 705/1000\n",
      "156/156 [==============================] - 0s 102us/sample - loss: 0.9060 - mean_absolute_percentage_error: 6.3054 - val_loss: 12297.5361 - val_mean_absolute_percentage_error: 12.4038\n",
      "Epoch 706/1000\n",
      "156/156 [==============================] - 0s 109us/sample - loss: 0.9001 - mean_absolute_percentage_error: 6.2835 - val_loss: 12228.0723 - val_mean_absolute_percentage_error: 13.1044\n",
      "Epoch 707/1000\n",
      "156/156 [==============================] - 0s 115us/sample - loss: 0.9184 - mean_absolute_percentage_error: 6.2909 - val_loss: 12335.8037 - val_mean_absolute_percentage_error: 12.1613\n",
      "Epoch 708/1000\n",
      "156/156 [==============================] - 0s 96us/sample - loss: 1.0407 - mean_absolute_percentage_error: 6.2781 - val_loss: 12299.9580 - val_mean_absolute_percentage_error: 12.7104\n",
      "Epoch 709/1000\n",
      "156/156 [==============================] - 0s 115us/sample - loss: 0.8911 - mean_absolute_percentage_error: 6.1550 - val_loss: 12267.8770 - val_mean_absolute_percentage_error: 13.6997\n",
      "Epoch 710/1000\n",
      "156/156 [==============================] - 0s 112us/sample - loss: 0.8695 - mean_absolute_percentage_error: 6.3458 - val_loss: 12317.8574 - val_mean_absolute_percentage_error: 11.4225\n",
      "Epoch 711/1000\n",
      "156/156 [==============================] - 0s 115us/sample - loss: 1.0168 - mean_absolute_percentage_error: 6.1926 - val_loss: 12196.9980 - val_mean_absolute_percentage_error: 13.7378\n",
      "Epoch 712/1000\n",
      "156/156 [==============================] - 0s 134us/sample - loss: 0.9609 - mean_absolute_percentage_error: 6.3135 - val_loss: 12333.0117 - val_mean_absolute_percentage_error: 11.4620\n",
      "Epoch 713/1000\n",
      "156/156 [==============================] - 0s 144us/sample - loss: 0.9044 - mean_absolute_percentage_error: 6.2816 - val_loss: 12297.0107 - val_mean_absolute_percentage_error: 12.8972\n",
      "Epoch 714/1000\n",
      "156/156 [==============================] - 0s 121us/sample - loss: 0.8156 - mean_absolute_percentage_error: 6.1404 - val_loss: 12213.9541 - val_mean_absolute_percentage_error: 14.1133\n",
      "Epoch 715/1000\n",
      "156/156 [==============================] - 0s 147us/sample - loss: 0.7786 - mean_absolute_percentage_error: 6.1530 - val_loss: 12301.8721 - val_mean_absolute_percentage_error: 11.7676\n",
      "Epoch 716/1000\n",
      "156/156 [==============================] - 0s 160us/sample - loss: 0.9454 - mean_absolute_percentage_error: 6.1183 - val_loss: 12299.0371 - val_mean_absolute_percentage_error: 12.2488\n",
      "Epoch 717/1000\n",
      "156/156 [==============================] - 0s 109us/sample - loss: 0.8726 - mean_absolute_percentage_error: 6.1699 - val_loss: 12229.9941 - val_mean_absolute_percentage_error: 13.4989\n",
      "Epoch 718/1000\n",
      "156/156 [==============================] - 0s 121us/sample - loss: 0.8762 - mean_absolute_percentage_error: 6.1785 - val_loss: 12269.3799 - val_mean_absolute_percentage_error: 12.6076\n",
      "Epoch 719/1000\n",
      "156/156 [==============================] - 0s 102us/sample - loss: 0.8359 - mean_absolute_percentage_error: 6.1715 - val_loss: 12178.9766 - val_mean_absolute_percentage_error: 12.0386\n",
      "Epoch 720/1000\n",
      "156/156 [==============================] - 0s 109us/sample - loss: 0.8967 - mean_absolute_percentage_error: 6.1707 - val_loss: 12218.7266 - val_mean_absolute_percentage_error: 12.2495\n",
      "Epoch 721/1000\n",
      "156/156 [==============================] - 0s 109us/sample - loss: 0.8149 - mean_absolute_percentage_error: 6.1226 - val_loss: 12246.1699 - val_mean_absolute_percentage_error: 11.6690\n",
      "Epoch 722/1000\n",
      "156/156 [==============================] - 0s 121us/sample - loss: 0.9418 - mean_absolute_percentage_error: 6.3494 - val_loss: 12260.2168 - val_mean_absolute_percentage_error: 11.6158\n",
      "Epoch 723/1000\n",
      "156/156 [==============================] - 0s 102us/sample - loss: 0.8787 - mean_absolute_percentage_error: 6.1176 - val_loss: 12207.7832 - val_mean_absolute_percentage_error: 13.2658\n",
      "Epoch 724/1000\n",
      "156/156 [==============================] - 0s 115us/sample - loss: 0.8063 - mean_absolute_percentage_error: 6.0130 - val_loss: 12206.1494 - val_mean_absolute_percentage_error: 12.5787\n",
      "Epoch 725/1000\n",
      "156/156 [==============================] - 0s 115us/sample - loss: 0.8858 - mean_absolute_percentage_error: 6.1242 - val_loss: 12232.9414 - val_mean_absolute_percentage_error: 11.6393\n",
      "Epoch 726/1000\n",
      "156/156 [==============================] - 0s 96us/sample - loss: 0.9387 - mean_absolute_percentage_error: 6.1770 - val_loss: 12302.4541 - val_mean_absolute_percentage_error: 11.1776\n",
      "Epoch 727/1000\n",
      "156/156 [==============================] - 0s 109us/sample - loss: 0.9579 - mean_absolute_percentage_error: 6.3359 - val_loss: 12274.7188 - val_mean_absolute_percentage_error: 11.6526\n",
      "Epoch 728/1000\n",
      "156/156 [==============================] - 0s 121us/sample - loss: 0.8690 - mean_absolute_percentage_error: 5.9653 - val_loss: 12152.9941 - val_mean_absolute_percentage_error: 13.0329\n",
      "Epoch 729/1000\n",
      "156/156 [==============================] - 0s 109us/sample - loss: 0.8871 - mean_absolute_percentage_error: 6.1122 - val_loss: 12238.4971 - val_mean_absolute_percentage_error: 11.3601\n",
      "Epoch 730/1000\n",
      "156/156 [==============================] - 0s 102us/sample - loss: 0.7569 - mean_absolute_percentage_error: 5.9521 - val_loss: 12239.5488 - val_mean_absolute_percentage_error: 11.8519\n",
      "Epoch 731/1000\n",
      "156/156 [==============================] - 0s 102us/sample - loss: 0.9134 - mean_absolute_percentage_error: 6.1860 - val_loss: 12156.1182 - val_mean_absolute_percentage_error: 11.7903\n",
      "Epoch 732/1000\n",
      "156/156 [==============================] - 0s 115us/sample - loss: 0.8160 - mean_absolute_percentage_error: 6.0478 - val_loss: 12249.1396 - val_mean_absolute_percentage_error: 12.0389\n",
      "Epoch 733/1000\n",
      "156/156 [==============================] - 0s 128us/sample - loss: 0.8481 - mean_absolute_percentage_error: 6.0441 - val_loss: 12155.0332 - val_mean_absolute_percentage_error: 12.9094\n",
      "Epoch 734/1000\n"
     ]
    },
    {
     "name": "stdout",
     "output_type": "stream",
     "text": [
      "156/156 [==============================] - 0s 115us/sample - loss: 0.8494 - mean_absolute_percentage_error: 6.2781 - val_loss: 12182.2354 - val_mean_absolute_percentage_error: 12.3093\n",
      "Epoch 735/1000\n",
      "156/156 [==============================] - 0s 96us/sample - loss: 0.8066 - mean_absolute_percentage_error: 6.0750 - val_loss: 12282.5498 - val_mean_absolute_percentage_error: 11.8276\n",
      "Epoch 736/1000\n",
      "156/156 [==============================] - 0s 121us/sample - loss: 0.8325 - mean_absolute_percentage_error: 6.0247 - val_loss: 12229.5967 - val_mean_absolute_percentage_error: 11.7163\n",
      "Epoch 737/1000\n",
      "156/156 [==============================] - 0s 109us/sample - loss: 1.0244 - mean_absolute_percentage_error: 6.0895 - val_loss: 12211.8740 - val_mean_absolute_percentage_error: 11.9297\n",
      "Epoch 738/1000\n",
      "156/156 [==============================] - 0s 109us/sample - loss: 0.8935 - mean_absolute_percentage_error: 6.1004 - val_loss: 12246.6572 - val_mean_absolute_percentage_error: 11.3443\n",
      "Epoch 739/1000\n",
      "156/156 [==============================] - 0s 115us/sample - loss: 0.8396 - mean_absolute_percentage_error: 5.9757 - val_loss: 12137.6621 - val_mean_absolute_percentage_error: 12.4798\n",
      "Epoch 740/1000\n",
      "156/156 [==============================] - 0s 109us/sample - loss: 0.8223 - mean_absolute_percentage_error: 5.9392 - val_loss: 12198.5244 - val_mean_absolute_percentage_error: 11.1503\n",
      "Epoch 741/1000\n",
      "156/156 [==============================] - 0s 115us/sample - loss: 0.8362 - mean_absolute_percentage_error: 6.0563 - val_loss: 12256.0312 - val_mean_absolute_percentage_error: 11.0022\n",
      "Epoch 742/1000\n",
      "156/156 [==============================] - 0s 109us/sample - loss: 0.8803 - mean_absolute_percentage_error: 5.9197 - val_loss: 12262.9170 - val_mean_absolute_percentage_error: 11.4231\n",
      "Epoch 743/1000\n",
      "156/156 [==============================] - 0s 109us/sample - loss: 0.8733 - mean_absolute_percentage_error: 5.9854 - val_loss: 12110.9746 - val_mean_absolute_percentage_error: 12.2456\n",
      "Epoch 744/1000\n",
      "156/156 [==============================] - 0s 121us/sample - loss: 0.7756 - mean_absolute_percentage_error: 6.0112 - val_loss: 12135.0273 - val_mean_absolute_percentage_error: 11.8219\n",
      "Epoch 745/1000\n",
      "156/156 [==============================] - 0s 115us/sample - loss: 0.7796 - mean_absolute_percentage_error: 5.9421 - val_loss: 12303.3789 - val_mean_absolute_percentage_error: 11.4343\n",
      "Epoch 746/1000\n",
      "156/156 [==============================] - 0s 128us/sample - loss: 0.9499 - mean_absolute_percentage_error: 5.9743 - val_loss: 12202.6611 - val_mean_absolute_percentage_error: 10.8814\n",
      "Epoch 747/1000\n",
      "156/156 [==============================] - 0s 109us/sample - loss: 0.7872 - mean_absolute_percentage_error: 5.8979 - val_loss: 12214.8564 - val_mean_absolute_percentage_error: 11.4554\n",
      "Epoch 748/1000\n",
      "156/156 [==============================] - 0s 102us/sample - loss: 0.7572 - mean_absolute_percentage_error: 6.0252 - val_loss: 12246.2598 - val_mean_absolute_percentage_error: 10.5783\n",
      "Epoch 749/1000\n",
      "156/156 [==============================] - 0s 109us/sample - loss: 0.8556 - mean_absolute_percentage_error: 6.0348 - val_loss: 12177.5029 - val_mean_absolute_percentage_error: 11.6089\n",
      "Epoch 750/1000\n",
      "156/156 [==============================] - 0s 109us/sample - loss: 0.9172 - mean_absolute_percentage_error: 6.0724 - val_loss: 12153.4912 - val_mean_absolute_percentage_error: 11.6713\n",
      "Epoch 751/1000\n",
      "156/156 [==============================] - 0s 121us/sample - loss: 0.7192 - mean_absolute_percentage_error: 5.8310 - val_loss: 12175.5420 - val_mean_absolute_percentage_error: 12.2622\n",
      "Epoch 752/1000\n",
      "156/156 [==============================] - 0s 102us/sample - loss: 0.7928 - mean_absolute_percentage_error: 6.3002 - val_loss: 12216.4727 - val_mean_absolute_percentage_error: 10.6108\n",
      "Epoch 753/1000\n",
      "156/156 [==============================] - 0s 121us/sample - loss: 0.8064 - mean_absolute_percentage_error: 5.9012 - val_loss: 12076.8770 - val_mean_absolute_percentage_error: 12.0906\n",
      "Epoch 754/1000\n",
      "156/156 [==============================] - 0s 109us/sample - loss: 0.7398 - mean_absolute_percentage_error: 6.0018 - val_loss: 12110.5596 - val_mean_absolute_percentage_error: 10.9716\n",
      "Epoch 755/1000\n",
      "156/156 [==============================] - 0s 109us/sample - loss: 0.8866 - mean_absolute_percentage_error: 5.9100 - val_loss: 12098.5186 - val_mean_absolute_percentage_error: 10.9518\n",
      "Epoch 756/1000\n",
      "156/156 [==============================] - 0s 121us/sample - loss: 0.9213 - mean_absolute_percentage_error: 5.8824 - val_loss: 12160.9824 - val_mean_absolute_percentage_error: 11.4354\n",
      "Epoch 757/1000\n",
      "156/156 [==============================] - 0s 115us/sample - loss: 0.8042 - mean_absolute_percentage_error: 5.9194 - val_loss: 12170.0361 - val_mean_absolute_percentage_error: 11.2445\n",
      "Epoch 758/1000\n",
      "156/156 [==============================] - 0s 109us/sample - loss: 0.7202 - mean_absolute_percentage_error: 5.9695 - val_loss: 12194.5361 - val_mean_absolute_percentage_error: 12.3178\n",
      "Epoch 759/1000\n",
      "156/156 [==============================] - 0s 102us/sample - loss: 0.9334 - mean_absolute_percentage_error: 6.1079 - val_loss: 12206.1113 - val_mean_absolute_percentage_error: 11.9497\n",
      "Epoch 760/1000\n",
      "156/156 [==============================] - 0s 109us/sample - loss: 0.7319 - mean_absolute_percentage_error: 5.9505 - val_loss: 12210.5400 - val_mean_absolute_percentage_error: 10.9097\n",
      "Epoch 761/1000\n",
      "156/156 [==============================] - 0s 90us/sample - loss: 0.7823 - mean_absolute_percentage_error: 5.7803 - val_loss: 12151.1084 - val_mean_absolute_percentage_error: 10.7314\n",
      "Epoch 762/1000\n",
      "156/156 [==============================] - 0s 109us/sample - loss: 0.8725 - mean_absolute_percentage_error: 6.0453 - val_loss: 12158.1670 - val_mean_absolute_percentage_error: 10.7965\n",
      "Epoch 763/1000\n",
      "156/156 [==============================] - 0s 115us/sample - loss: 0.7274 - mean_absolute_percentage_error: 5.7771 - val_loss: 12110.3525 - val_mean_absolute_percentage_error: 11.5114\n",
      "Epoch 764/1000\n",
      "156/156 [==============================] - 0s 96us/sample - loss: 0.8143 - mean_absolute_percentage_error: 6.0922 - val_loss: 12202.7324 - val_mean_absolute_percentage_error: 10.4467\n",
      "Epoch 765/1000\n",
      "156/156 [==============================] - 0s 109us/sample - loss: 0.8601 - mean_absolute_percentage_error: 5.8267 - val_loss: 12170.8281 - val_mean_absolute_percentage_error: 10.7892\n",
      "Epoch 766/1000\n",
      "156/156 [==============================] - 0s 96us/sample - loss: 0.8371 - mean_absolute_percentage_error: 5.9290 - val_loss: 12190.7949 - val_mean_absolute_percentage_error: 11.4406\n",
      "Epoch 767/1000\n",
      "156/156 [==============================] - 0s 109us/sample - loss: 0.7148 - mean_absolute_percentage_error: 5.9959 - val_loss: 12237.6963 - val_mean_absolute_percentage_error: 10.3235\n",
      "Epoch 768/1000\n",
      "156/156 [==============================] - 0s 102us/sample - loss: 0.8300 - mean_absolute_percentage_error: 5.8980 - val_loss: 12196.2666 - val_mean_absolute_percentage_error: 10.3610\n",
      "Epoch 769/1000\n",
      "156/156 [==============================] - 0s 102us/sample - loss: 0.7688 - mean_absolute_percentage_error: 5.7945 - val_loss: 12183.6953 - val_mean_absolute_percentage_error: 10.4287\n",
      "Epoch 770/1000\n",
      "156/156 [==============================] - 0s 121us/sample - loss: 0.7492 - mean_absolute_percentage_error: 5.8056 - val_loss: 12138.8730 - val_mean_absolute_percentage_error: 12.1436\n",
      "Epoch 771/1000\n",
      "156/156 [==============================] - 0s 121us/sample - loss: 0.7668 - mean_absolute_percentage_error: 5.8637 - val_loss: 12111.8887 - val_mean_absolute_percentage_error: 10.6851\n",
      "Epoch 772/1000\n",
      "156/156 [==============================] - 0s 102us/sample - loss: 0.8677 - mean_absolute_percentage_error: 5.8259 - val_loss: 12091.8271 - val_mean_absolute_percentage_error: 11.3442\n",
      "Epoch 773/1000\n",
      "156/156 [==============================] - 0s 96us/sample - loss: 0.7138 - mean_absolute_percentage_error: 5.8386 - val_loss: 12079.9619 - val_mean_absolute_percentage_error: 10.8463\n",
      "Epoch 774/1000\n",
      "156/156 [==============================] - 0s 109us/sample - loss: 0.7943 - mean_absolute_percentage_error: 5.9408 - val_loss: 12131.4824 - val_mean_absolute_percentage_error: 10.8365\n",
      "Epoch 775/1000\n"
     ]
    },
    {
     "name": "stdout",
     "output_type": "stream",
     "text": [
      "156/156 [==============================] - 0s 102us/sample - loss: 0.7812 - mean_absolute_percentage_error: 5.8121 - val_loss: 12182.5244 - val_mean_absolute_percentage_error: 10.4457\n",
      "Epoch 776/1000\n",
      "156/156 [==============================] - 0s 109us/sample - loss: 0.7692 - mean_absolute_percentage_error: 5.6904 - val_loss: 12252.3750 - val_mean_absolute_percentage_error: 10.5781\n",
      "Epoch 777/1000\n",
      "156/156 [==============================] - 0s 96us/sample - loss: 0.8449 - mean_absolute_percentage_error: 5.7735 - val_loss: 12190.3701 - val_mean_absolute_percentage_error: 10.2756\n",
      "Epoch 778/1000\n",
      "156/156 [==============================] - 0s 109us/sample - loss: 0.6971 - mean_absolute_percentage_error: 5.7017 - val_loss: 12128.7773 - val_mean_absolute_percentage_error: 10.5088\n",
      "Epoch 779/1000\n",
      "156/156 [==============================] - 0s 109us/sample - loss: 0.7714 - mean_absolute_percentage_error: 5.8118 - val_loss: 12128.7051 - val_mean_absolute_percentage_error: 10.7007\n",
      "Epoch 780/1000\n",
      "156/156 [==============================] - 0s 96us/sample - loss: 0.8183 - mean_absolute_percentage_error: 5.9166 - val_loss: 12177.4414 - val_mean_absolute_percentage_error: 11.2086\n",
      "Epoch 781/1000\n",
      "156/156 [==============================] - 0s 90us/sample - loss: 0.8284 - mean_absolute_percentage_error: 5.8220 - val_loss: 12164.8291 - val_mean_absolute_percentage_error: 10.2736\n",
      "Epoch 782/1000\n",
      "156/156 [==============================] - 0s 96us/sample - loss: 0.6951 - mean_absolute_percentage_error: 5.8409 - val_loss: 12065.5938 - val_mean_absolute_percentage_error: 10.2534\n",
      "Epoch 783/1000\n",
      "156/156 [==============================] - 0s 109us/sample - loss: 0.8464 - mean_absolute_percentage_error: 5.8323 - val_loss: 12165.3184 - val_mean_absolute_percentage_error: 10.4764\n",
      "Epoch 784/1000\n",
      "156/156 [==============================] - 0s 102us/sample - loss: 0.7702 - mean_absolute_percentage_error: 5.8016 - val_loss: 12168.8662 - val_mean_absolute_percentage_error: 10.3593\n",
      "Epoch 785/1000\n",
      "156/156 [==============================] - 0s 115us/sample - loss: 0.7392 - mean_absolute_percentage_error: 5.6790 - val_loss: 12036.5762 - val_mean_absolute_percentage_error: 12.2667\n",
      "Epoch 786/1000\n",
      "156/156 [==============================] - 0s 102us/sample - loss: 0.7518 - mean_absolute_percentage_error: 5.8867 - val_loss: 12185.0332 - val_mean_absolute_percentage_error: 10.4424\n",
      "Epoch 787/1000\n",
      "156/156 [==============================] - 0s 109us/sample - loss: 0.7458 - mean_absolute_percentage_error: 5.7735 - val_loss: 12150.4961 - val_mean_absolute_percentage_error: 9.5099\n",
      "Epoch 788/1000\n",
      "156/156 [==============================] - 0s 102us/sample - loss: 0.8433 - mean_absolute_percentage_error: 5.9107 - val_loss: 12095.3730 - val_mean_absolute_percentage_error: 10.2084\n",
      "Epoch 789/1000\n",
      "156/156 [==============================] - 0s 102us/sample - loss: 0.7023 - mean_absolute_percentage_error: 5.7409 - val_loss: 12147.3291 - val_mean_absolute_percentage_error: 10.8244\n",
      "Epoch 790/1000\n",
      "156/156 [==============================] - 0s 109us/sample - loss: 0.7805 - mean_absolute_percentage_error: 5.8211 - val_loss: 12152.3994 - val_mean_absolute_percentage_error: 10.0606\n",
      "Epoch 791/1000\n",
      "156/156 [==============================] - 0s 109us/sample - loss: 0.7538 - mean_absolute_percentage_error: 5.6928 - val_loss: 12110.8311 - val_mean_absolute_percentage_error: 10.0192\n",
      "Epoch 792/1000\n",
      "156/156 [==============================] - 0s 102us/sample - loss: 0.6450 - mean_absolute_percentage_error: 5.5404 - val_loss: 12081.4756 - val_mean_absolute_percentage_error: 10.1823\n",
      "Epoch 793/1000\n",
      "156/156 [==============================] - 0s 96us/sample - loss: 0.8066 - mean_absolute_percentage_error: 5.8983 - val_loss: 12116.0957 - val_mean_absolute_percentage_error: 10.1533\n",
      "Epoch 794/1000\n",
      "156/156 [==============================] - ETA: 0s - loss: 0.7222 - mean_absolute_percentage_error: 5.13 - 0s 102us/sample - loss: 0.6847 - mean_absolute_percentage_error: 5.6692 - val_loss: 12132.6855 - val_mean_absolute_percentage_error: 9.7414\n",
      "Epoch 795/1000\n",
      "156/156 [==============================] - 0s 96us/sample - loss: 0.6983 - mean_absolute_percentage_error: 5.5702 - val_loss: 12127.5977 - val_mean_absolute_percentage_error: 11.0930\n",
      "Epoch 796/1000\n",
      "156/156 [==============================] - 0s 102us/sample - loss: 0.7000 - mean_absolute_percentage_error: 5.8144 - val_loss: 12197.7129 - val_mean_absolute_percentage_error: 10.1566\n",
      "Epoch 797/1000\n",
      "156/156 [==============================] - 0s 90us/sample - loss: 0.7166 - mean_absolute_percentage_error: 5.6383 - val_loss: 12146.5176 - val_mean_absolute_percentage_error: 10.3604\n",
      "Epoch 798/1000\n",
      "156/156 [==============================] - 0s 109us/sample - loss: 0.7471 - mean_absolute_percentage_error: 5.8020 - val_loss: 12238.7871 - val_mean_absolute_percentage_error: 10.0013\n",
      "Epoch 799/1000\n",
      "156/156 [==============================] - 0s 96us/sample - loss: 0.8381 - mean_absolute_percentage_error: 5.7213 - val_loss: 12192.9121 - val_mean_absolute_percentage_error: 9.7630\n",
      "Epoch 800/1000\n",
      "156/156 [==============================] - 0s 102us/sample - loss: 0.7423 - mean_absolute_percentage_error: 5.6343 - val_loss: 12151.8750 - val_mean_absolute_percentage_error: 9.7157\n",
      "Epoch 801/1000\n",
      "156/156 [==============================] - 0s 109us/sample - loss: 0.7225 - mean_absolute_percentage_error: 5.6984 - val_loss: 12142.8496 - val_mean_absolute_percentage_error: 9.6522\n",
      "Epoch 802/1000\n",
      "156/156 [==============================] - 0s 96us/sample - loss: 0.7444 - mean_absolute_percentage_error: 5.7466 - val_loss: 12076.3262 - val_mean_absolute_percentage_error: 9.9530\n",
      "Epoch 803/1000\n",
      "156/156 [==============================] - 0s 115us/sample - loss: 0.7280 - mean_absolute_percentage_error: 5.7004 - val_loss: 12078.1035 - val_mean_absolute_percentage_error: 10.7652\n",
      "Epoch 804/1000\n",
      "156/156 [==============================] - 0s 102us/sample - loss: 0.7252 - mean_absolute_percentage_error: 5.7681 - val_loss: 12078.4912 - val_mean_absolute_percentage_error: 10.7610\n",
      "Epoch 805/1000\n",
      "156/156 [==============================] - 0s 109us/sample - loss: 0.7877 - mean_absolute_percentage_error: 5.8196 - val_loss: 12181.5039 - val_mean_absolute_percentage_error: 10.2173\n",
      "Epoch 806/1000\n",
      "156/156 [==============================] - 0s 102us/sample - loss: 0.6637 - mean_absolute_percentage_error: 5.5790 - val_loss: 12230.0117 - val_mean_absolute_percentage_error: 10.3543\n",
      "Epoch 807/1000\n",
      "156/156 [==============================] - 0s 102us/sample - loss: 0.7953 - mean_absolute_percentage_error: 5.8139 - val_loss: 12145.9307 - val_mean_absolute_percentage_error: 9.9868\n",
      "Epoch 808/1000\n",
      "156/156 [==============================] - 0s 102us/sample - loss: 0.7009 - mean_absolute_percentage_error: 5.6159 - val_loss: 12187.2695 - val_mean_absolute_percentage_error: 10.7630\n",
      "Epoch 809/1000\n",
      "156/156 [==============================] - 0s 102us/sample - loss: 0.7414 - mean_absolute_percentage_error: 5.6521 - val_loss: 12068.2930 - val_mean_absolute_percentage_error: 11.9365\n",
      "Epoch 810/1000\n",
      "156/156 [==============================] - 0s 102us/sample - loss: 0.7276 - mean_absolute_percentage_error: 6.0216 - val_loss: 12180.0000 - val_mean_absolute_percentage_error: 9.2311\n",
      "Epoch 811/1000\n",
      "156/156 [==============================] - 0s 128us/sample - loss: 0.7572 - mean_absolute_percentage_error: 5.5086 - val_loss: 12116.3975 - val_mean_absolute_percentage_error: 9.6722\n",
      "Epoch 812/1000\n",
      "156/156 [==============================] - 0s 102us/sample - loss: 0.6823 - mean_absolute_percentage_error: 5.5505 - val_loss: 12186.5654 - val_mean_absolute_percentage_error: 10.5385\n",
      "Epoch 813/1000\n",
      "156/156 [==============================] - 0s 109us/sample - loss: 0.6876 - mean_absolute_percentage_error: 5.6008 - val_loss: 12114.9121 - val_mean_absolute_percentage_error: 10.2936\n",
      "Epoch 814/1000\n",
      "156/156 [==============================] - 0s 102us/sample - loss: 0.7906 - mean_absolute_percentage_error: 5.6981 - val_loss: 12110.1504 - val_mean_absolute_percentage_error: 10.2483\n",
      "Epoch 815/1000\n",
      "156/156 [==============================] - 0s 102us/sample - loss: 0.7017 - mean_absolute_percentage_error: 5.5524 - val_loss: 12182.0967 - val_mean_absolute_percentage_error: 10.8187\n",
      "Epoch 816/1000\n"
     ]
    },
    {
     "name": "stdout",
     "output_type": "stream",
     "text": [
      "156/156 [==============================] - 0s 102us/sample - loss: 0.6556 - mean_absolute_percentage_error: 5.6635 - val_loss: 12191.7588 - val_mean_absolute_percentage_error: 9.6853\n",
      "Epoch 817/1000\n",
      "156/156 [==============================] - 0s 77us/sample - loss: 0.7218 - mean_absolute_percentage_error: 5.6415 - val_loss: 12132.8574 - val_mean_absolute_percentage_error: 10.1827\n",
      "Epoch 818/1000\n",
      "156/156 [==============================] - 0s 102us/sample - loss: 0.7434 - mean_absolute_percentage_error: 5.7476 - val_loss: 12119.2129 - val_mean_absolute_percentage_error: 10.1257\n",
      "Epoch 819/1000\n",
      "156/156 [==============================] - 0s 101us/sample - loss: 0.6394 - mean_absolute_percentage_error: 5.6021 - val_loss: 12160.3096 - val_mean_absolute_percentage_error: 9.8697\n",
      "Epoch 820/1000\n",
      "156/156 [==============================] - 0s 102us/sample - loss: 0.6462 - mean_absolute_percentage_error: 5.5727 - val_loss: 12175.0332 - val_mean_absolute_percentage_error: 9.8549\n",
      "Epoch 821/1000\n",
      "156/156 [==============================] - 0s 102us/sample - loss: 0.7447 - mean_absolute_percentage_error: 5.5791 - val_loss: 12141.8330 - val_mean_absolute_percentage_error: 9.3617\n",
      "Epoch 822/1000\n",
      "156/156 [==============================] - 0s 83us/sample - loss: 0.7015 - mean_absolute_percentage_error: 5.5975 - val_loss: 12147.8145 - val_mean_absolute_percentage_error: 9.5925\n",
      "Epoch 823/1000\n",
      "156/156 [==============================] - 0s 96us/sample - loss: 0.6995 - mean_absolute_percentage_error: 5.5847 - val_loss: 12139.4473 - val_mean_absolute_percentage_error: 9.8813\n",
      "Epoch 824/1000\n",
      "156/156 [==============================] - 0s 121us/sample - loss: 0.7208 - mean_absolute_percentage_error: 5.6957 - val_loss: 12188.7676 - val_mean_absolute_percentage_error: 9.8139\n",
      "Epoch 825/1000\n",
      "156/156 [==============================] - 0s 109us/sample - loss: 0.6807 - mean_absolute_percentage_error: 5.6692 - val_loss: 12173.6240 - val_mean_absolute_percentage_error: 10.3017\n",
      "Epoch 826/1000\n",
      "156/156 [==============================] - 0s 96us/sample - loss: 0.7243 - mean_absolute_percentage_error: 5.7321 - val_loss: 12086.4541 - val_mean_absolute_percentage_error: 11.3957\n",
      "Epoch 827/1000\n",
      "156/156 [==============================] - 0s 90us/sample - loss: 0.6661 - mean_absolute_percentage_error: 5.5947 - val_loss: 12108.0938 - val_mean_absolute_percentage_error: 9.8795\n",
      "Epoch 828/1000\n",
      "156/156 [==============================] - 0s 102us/sample - loss: 0.7148 - mean_absolute_percentage_error: 5.6409 - val_loss: 12204.4043 - val_mean_absolute_percentage_error: 9.7129\n",
      "Epoch 829/1000\n",
      "156/156 [==============================] - 0s 109us/sample - loss: 0.7275 - mean_absolute_percentage_error: 5.6188 - val_loss: 12220.2500 - val_mean_absolute_percentage_error: 9.5627\n",
      "Epoch 830/1000\n",
      "156/156 [==============================] - 0s 102us/sample - loss: 0.7089 - mean_absolute_percentage_error: 5.5416 - val_loss: 12064.9473 - val_mean_absolute_percentage_error: 10.3169\n",
      "Epoch 831/1000\n",
      "156/156 [==============================] - 0s 96us/sample - loss: 0.7073 - mean_absolute_percentage_error: 5.5979 - val_loss: 12154.3604 - val_mean_absolute_percentage_error: 10.2323\n",
      "Epoch 832/1000\n",
      "156/156 [==============================] - 0s 96us/sample - loss: 0.6130 - mean_absolute_percentage_error: 5.5241 - val_loss: 12147.7744 - val_mean_absolute_percentage_error: 9.9947\n",
      "Epoch 833/1000\n",
      "156/156 [==============================] - 0s 102us/sample - loss: 0.6463 - mean_absolute_percentage_error: 5.5039 - val_loss: 12197.8232 - val_mean_absolute_percentage_error: 10.5766\n",
      "Epoch 834/1000\n",
      "156/156 [==============================] - 0s 107us/sample - loss: 0.7396 - mean_absolute_percentage_error: 5.5716 - val_loss: 12123.7949 - val_mean_absolute_percentage_error: 9.6188\n",
      "Epoch 835/1000\n",
      "156/156 [==============================] - 0s 108us/sample - loss: 0.6509 - mean_absolute_percentage_error: 5.5329 - val_loss: 12188.0439 - val_mean_absolute_percentage_error: 9.2789\n",
      "Epoch 836/1000\n",
      "156/156 [==============================] - 0s 109us/sample - loss: 0.6745 - mean_absolute_percentage_error: 5.7154 - val_loss: 12142.7354 - val_mean_absolute_percentage_error: 9.6824\n",
      "Epoch 837/1000\n",
      "156/156 [==============================] - 0s 121us/sample - loss: 0.6409 - mean_absolute_percentage_error: 5.5090 - val_loss: 12167.8955 - val_mean_absolute_percentage_error: 9.4015\n",
      "Epoch 838/1000\n",
      "156/156 [==============================] - 0s 102us/sample - loss: 0.7359 - mean_absolute_percentage_error: 5.6743 - val_loss: 12061.9668 - val_mean_absolute_percentage_error: 9.5747\n",
      "Epoch 839/1000\n",
      "156/156 [==============================] - 0s 109us/sample - loss: 0.6065 - mean_absolute_percentage_error: 5.4087 - val_loss: 12233.1475 - val_mean_absolute_percentage_error: 9.9433\n",
      "Epoch 840/1000\n",
      "156/156 [==============================] - 0s 109us/sample - loss: 0.6425 - mean_absolute_percentage_error: 5.4526 - val_loss: 12075.4082 - val_mean_absolute_percentage_error: 10.7404\n",
      "Epoch 841/1000\n",
      "156/156 [==============================] - 0s 102us/sample - loss: 0.5844 - mean_absolute_percentage_error: 5.5120 - val_loss: 12175.8262 - val_mean_absolute_percentage_error: 10.6683\n",
      "Epoch 842/1000\n",
      "156/156 [==============================] - 0s 102us/sample - loss: 0.7604 - mean_absolute_percentage_error: 5.5746 - val_loss: 12158.6973 - val_mean_absolute_percentage_error: 9.1243\n",
      "Epoch 843/1000\n",
      "156/156 [==============================] - 0s 96us/sample - loss: 0.6270 - mean_absolute_percentage_error: 5.4917 - val_loss: 12162.7344 - val_mean_absolute_percentage_error: 9.9404\n",
      "Epoch 844/1000\n",
      "156/156 [==============================] - 0s 112us/sample - loss: 0.6974 - mean_absolute_percentage_error: 5.6349 - val_loss: 12150.9746 - val_mean_absolute_percentage_error: 10.1304\n",
      "Epoch 845/1000\n",
      "156/156 [==============================] - 0s 102us/sample - loss: 0.5833 - mean_absolute_percentage_error: 5.4237 - val_loss: 12183.2959 - val_mean_absolute_percentage_error: 10.4419\n",
      "Epoch 846/1000\n",
      "156/156 [==============================] - 0s 109us/sample - loss: 0.8610 - mean_absolute_percentage_error: 5.7411 - val_loss: 12161.7246 - val_mean_absolute_percentage_error: 9.9362\n",
      "Epoch 847/1000\n",
      "156/156 [==============================] - 0s 109us/sample - loss: 0.7662 - mean_absolute_percentage_error: 5.4899 - val_loss: 12089.7422 - val_mean_absolute_percentage_error: 10.4333\n",
      "Epoch 848/1000\n",
      "156/156 [==============================] - 0s 109us/sample - loss: 0.6176 - mean_absolute_percentage_error: 5.3963 - val_loss: 12123.9111 - val_mean_absolute_percentage_error: 10.2837\n",
      "Epoch 849/1000\n",
      "156/156 [==============================] - 0s 96us/sample - loss: 0.6149 - mean_absolute_percentage_error: 5.5274 - val_loss: 12215.7168 - val_mean_absolute_percentage_error: 9.8246\n",
      "Epoch 850/1000\n",
      "156/156 [==============================] - 0s 115us/sample - loss: 0.6439 - mean_absolute_percentage_error: 5.5928 - val_loss: 12064.2227 - val_mean_absolute_percentage_error: 9.8394\n",
      "Epoch 851/1000\n",
      "156/156 [==============================] - 0s 109us/sample - loss: 0.7074 - mean_absolute_percentage_error: 5.5284 - val_loss: 12140.0957 - val_mean_absolute_percentage_error: 10.3545\n",
      "Epoch 852/1000\n",
      "156/156 [==============================] - 0s 96us/sample - loss: 0.6603 - mean_absolute_percentage_error: 5.5534 - val_loss: 12232.5078 - val_mean_absolute_percentage_error: 8.7127\n",
      "Epoch 853/1000\n",
      "156/156 [==============================] - 0s 102us/sample - loss: 0.7484 - mean_absolute_percentage_error: 5.5788 - val_loss: 12256.6807 - val_mean_absolute_percentage_error: 10.1494\n",
      "Epoch 854/1000\n",
      "156/156 [==============================] - 0s 102us/sample - loss: 0.6683 - mean_absolute_percentage_error: 5.5567 - val_loss: 12098.5508 - val_mean_absolute_percentage_error: 9.9712\n",
      "Epoch 855/1000\n",
      "156/156 [==============================] - 0s 109us/sample - loss: 0.6785 - mean_absolute_percentage_error: 5.5020 - val_loss: 12178.7900 - val_mean_absolute_percentage_error: 9.4124\n",
      "Epoch 856/1000\n",
      "156/156 [==============================] - 0s 106us/sample - loss: 0.7342 - mean_absolute_percentage_error: 5.4659 - val_loss: 12248.2822 - val_mean_absolute_percentage_error: 8.5915\n",
      "Epoch 857/1000\n"
     ]
    },
    {
     "name": "stdout",
     "output_type": "stream",
     "text": [
      "156/156 [==============================] - 0s 115us/sample - loss: 0.6208 - mean_absolute_percentage_error: 5.4485 - val_loss: 12110.2256 - val_mean_absolute_percentage_error: 10.1597\n",
      "Epoch 858/1000\n",
      "156/156 [==============================] - 0s 77us/sample - loss: 0.6098 - mean_absolute_percentage_error: 5.4067 - val_loss: 12208.6279 - val_mean_absolute_percentage_error: 9.1001\n",
      "Epoch 859/1000\n",
      "156/156 [==============================] - 0s 96us/sample - loss: 0.6779 - mean_absolute_percentage_error: 5.4920 - val_loss: 12148.4443 - val_mean_absolute_percentage_error: 9.5369\n",
      "Epoch 860/1000\n",
      "156/156 [==============================] - 0s 109us/sample - loss: 0.7804 - mean_absolute_percentage_error: 5.4885 - val_loss: 12182.0410 - val_mean_absolute_percentage_error: 9.5890\n",
      "Epoch 861/1000\n",
      "156/156 [==============================] - 0s 102us/sample - loss: 0.6100 - mean_absolute_percentage_error: 5.5734 - val_loss: 12168.8857 - val_mean_absolute_percentage_error: 10.2431\n",
      "Epoch 862/1000\n",
      "156/156 [==============================] - 0s 102us/sample - loss: 0.6256 - mean_absolute_percentage_error: 5.5184 - val_loss: 12137.7129 - val_mean_absolute_percentage_error: 9.3365\n",
      "Epoch 863/1000\n",
      "156/156 [==============================] - 0s 96us/sample - loss: 0.7307 - mean_absolute_percentage_error: 5.4464 - val_loss: 12216.2666 - val_mean_absolute_percentage_error: 9.1514\n",
      "Epoch 864/1000\n",
      "156/156 [==============================] - 0s 121us/sample - loss: 0.7101 - mean_absolute_percentage_error: 5.6095 - val_loss: 12184.8740 - val_mean_absolute_percentage_error: 8.9774\n",
      "Epoch 865/1000\n",
      "156/156 [==============================] - 0s 90us/sample - loss: 0.7342 - mean_absolute_percentage_error: 5.4495 - val_loss: 12221.5469 - val_mean_absolute_percentage_error: 9.2488\n",
      "Epoch 866/1000\n",
      "156/156 [==============================] - 0s 90us/sample - loss: 0.6083 - mean_absolute_percentage_error: 5.4386 - val_loss: 12173.3076 - val_mean_absolute_percentage_error: 9.7940\n",
      "Epoch 867/1000\n",
      "156/156 [==============================] - 0s 109us/sample - loss: 0.6202 - mean_absolute_percentage_error: 5.4904 - val_loss: 12185.5430 - val_mean_absolute_percentage_error: 9.7119\n",
      "Epoch 868/1000\n",
      "156/156 [==============================] - 0s 101us/sample - loss: 0.7190 - mean_absolute_percentage_error: 5.3811 - val_loss: 12072.2998 - val_mean_absolute_percentage_error: 10.7813\n",
      "Epoch 869/1000\n",
      "156/156 [==============================] - 0s 102us/sample - loss: 0.7140 - mean_absolute_percentage_error: 5.5110 - val_loss: 12166.1826 - val_mean_absolute_percentage_error: 10.9060\n",
      "Epoch 870/1000\n",
      "156/156 [==============================] - 0s 90us/sample - loss: 0.6849 - mean_absolute_percentage_error: 5.4207 - val_loss: 12193.8418 - val_mean_absolute_percentage_error: 9.4403\n",
      "Epoch 871/1000\n",
      "156/156 [==============================] - 0s 237us/sample - loss: 0.6113 - mean_absolute_percentage_error: 5.5236 - val_loss: 12144.3672 - val_mean_absolute_percentage_error: 10.3961\n",
      "Epoch 872/1000\n",
      "156/156 [==============================] - 0s 109us/sample - loss: 0.5797 - mean_absolute_percentage_error: 5.3625 - val_loss: 12190.7666 - val_mean_absolute_percentage_error: 8.4604\n",
      "Epoch 873/1000\n",
      "156/156 [==============================] - 0s 141us/sample - loss: 0.6654 - mean_absolute_percentage_error: 5.4420 - val_loss: 12120.2686 - val_mean_absolute_percentage_error: 8.9290\n",
      "Epoch 874/1000\n",
      "156/156 [==============================] - 0s 128us/sample - loss: 0.6694 - mean_absolute_percentage_error: 5.5449 - val_loss: 12231.6953 - val_mean_absolute_percentage_error: 8.8389\n",
      "Epoch 875/1000\n",
      "156/156 [==============================] - 0s 121us/sample - loss: 0.5735 - mean_absolute_percentage_error: 5.4642 - val_loss: 12124.7207 - val_mean_absolute_percentage_error: 9.9267\n",
      "Epoch 876/1000\n",
      "156/156 [==============================] - 0s 115us/sample - loss: 0.6759 - mean_absolute_percentage_error: 5.3479 - val_loss: 12215.1133 - val_mean_absolute_percentage_error: 8.8068\n",
      "Epoch 877/1000\n",
      "156/156 [==============================] - 0s 109us/sample - loss: 0.5862 - mean_absolute_percentage_error: 5.3195 - val_loss: 12176.0176 - val_mean_absolute_percentage_error: 10.2617\n",
      "Epoch 878/1000\n",
      "156/156 [==============================] - 0s 109us/sample - loss: 0.6405 - mean_absolute_percentage_error: 5.5651 - val_loss: 12153.0234 - val_mean_absolute_percentage_error: 9.4092\n",
      "Epoch 879/1000\n",
      "156/156 [==============================] - 0s 96us/sample - loss: 0.6314 - mean_absolute_percentage_error: 5.3936 - val_loss: 12212.9072 - val_mean_absolute_percentage_error: 9.1843\n",
      "Epoch 880/1000\n",
      "156/156 [==============================] - 0s 96us/sample - loss: 0.7845 - mean_absolute_percentage_error: 5.4927 - val_loss: 12224.0273 - val_mean_absolute_percentage_error: 9.2411\n",
      "Epoch 881/1000\n",
      "156/156 [==============================] - 0s 109us/sample - loss: 0.5704 - mean_absolute_percentage_error: 5.3900 - val_loss: 12189.9199 - val_mean_absolute_percentage_error: 9.6352\n",
      "Epoch 882/1000\n",
      "156/156 [==============================] - 0s 102us/sample - loss: 0.6453 - mean_absolute_percentage_error: 5.4021 - val_loss: 12158.5947 - val_mean_absolute_percentage_error: 9.9797\n",
      "Epoch 883/1000\n",
      "156/156 [==============================] - 0s 109us/sample - loss: 0.5934 - mean_absolute_percentage_error: 5.6588 - val_loss: 12240.4395 - val_mean_absolute_percentage_error: 8.8979\n",
      "Epoch 884/1000\n",
      "156/156 [==============================] - 0s 96us/sample - loss: 0.5861 - mean_absolute_percentage_error: 5.4241 - val_loss: 12071.6982 - val_mean_absolute_percentage_error: 9.6909\n",
      "Epoch 885/1000\n",
      "156/156 [==============================] - 0s 102us/sample - loss: 0.7765 - mean_absolute_percentage_error: 5.4021 - val_loss: 12148.7812 - val_mean_absolute_percentage_error: 9.6596\n",
      "Epoch 886/1000\n",
      "156/156 [==============================] - 0s 109us/sample - loss: 0.6286 - mean_absolute_percentage_error: 5.5180 - val_loss: 12182.7998 - val_mean_absolute_percentage_error: 8.8561\n",
      "Epoch 887/1000\n",
      "156/156 [==============================] - 0s 96us/sample - loss: 0.6791 - mean_absolute_percentage_error: 5.5301 - val_loss: 12209.5850 - val_mean_absolute_percentage_error: 9.4338\n",
      "Epoch 888/1000\n",
      "156/156 [==============================] - 0s 109us/sample - loss: 0.5589 - mean_absolute_percentage_error: 5.4205 - val_loss: 12213.0254 - val_mean_absolute_percentage_error: 10.0637\n",
      "Epoch 889/1000\n",
      "156/156 [==============================] - 0s 96us/sample - loss: 0.5894 - mean_absolute_percentage_error: 5.3211 - val_loss: 12188.3389 - val_mean_absolute_percentage_error: 9.3394\n",
      "Epoch 890/1000\n",
      "156/156 [==============================] - 0s 109us/sample - loss: 0.5751 - mean_absolute_percentage_error: 5.3251 - val_loss: 12188.0918 - val_mean_absolute_percentage_error: 10.1328\n",
      "Epoch 891/1000\n",
      "156/156 [==============================] - 0s 102us/sample - loss: 0.6164 - mean_absolute_percentage_error: 5.3243 - val_loss: 12138.8701 - val_mean_absolute_percentage_error: 9.5537\n",
      "Epoch 892/1000\n",
      "156/156 [==============================] - 0s 115us/sample - loss: 0.5881 - mean_absolute_percentage_error: 5.4585 - val_loss: 12264.0244 - val_mean_absolute_percentage_error: 8.8647\n",
      "Epoch 893/1000\n",
      "156/156 [==============================] - 0s 115us/sample - loss: 0.6667 - mean_absolute_percentage_error: 5.4738 - val_loss: 12221.5723 - val_mean_absolute_percentage_error: 9.2244\n",
      "Epoch 894/1000\n",
      "156/156 [==============================] - 0s 104us/sample - loss: 0.5541 - mean_absolute_percentage_error: 5.2930 - val_loss: 12137.0156 - val_mean_absolute_percentage_error: 10.0970\n",
      "Epoch 895/1000\n",
      "156/156 [==============================] - 0s 115us/sample - loss: 0.6509 - mean_absolute_percentage_error: 5.4083 - val_loss: 12152.6680 - val_mean_absolute_percentage_error: 9.7469\n",
      "Epoch 896/1000\n",
      "156/156 [==============================] - 0s 102us/sample - loss: 0.6710 - mean_absolute_percentage_error: 5.5834 - val_loss: 12138.5996 - val_mean_absolute_percentage_error: 9.5645\n",
      "Epoch 897/1000\n",
      "156/156 [==============================] - 0s 109us/sample - loss: 0.5992 - mean_absolute_percentage_error: 5.3453 - val_loss: 12198.1396 - val_mean_absolute_percentage_error: 8.8261\n",
      "Epoch 898/1000\n"
     ]
    },
    {
     "name": "stdout",
     "output_type": "stream",
     "text": [
      "156/156 [==============================] - 0s 102us/sample - loss: 0.6274 - mean_absolute_percentage_error: 5.3714 - val_loss: 12223.6777 - val_mean_absolute_percentage_error: 8.9730\n",
      "Epoch 899/1000\n",
      "156/156 [==============================] - 0s 109us/sample - loss: 0.5994 - mean_absolute_percentage_error: 5.3149 - val_loss: 12225.6270 - val_mean_absolute_percentage_error: 8.9240\n",
      "Epoch 900/1000\n",
      "156/156 [==============================] - 0s 102us/sample - loss: 0.5986 - mean_absolute_percentage_error: 5.4072 - val_loss: 12203.3066 - val_mean_absolute_percentage_error: 8.5966\n",
      "Epoch 901/1000\n",
      "156/156 [==============================] - 0s 109us/sample - loss: 0.6339 - mean_absolute_percentage_error: 5.2529 - val_loss: 12127.4863 - val_mean_absolute_percentage_error: 9.8727\n",
      "Epoch 902/1000\n",
      "156/156 [==============================] - 0s 109us/sample - loss: 0.6299 - mean_absolute_percentage_error: 5.3643 - val_loss: 12158.8994 - val_mean_absolute_percentage_error: 9.7613\n",
      "Epoch 903/1000\n",
      "156/156 [==============================] - 0s 96us/sample - loss: 0.5849 - mean_absolute_percentage_error: 5.3633 - val_loss: 12120.1191 - val_mean_absolute_percentage_error: 9.8578\n",
      "Epoch 904/1000\n",
      "156/156 [==============================] - 0s 102us/sample - loss: 0.6182 - mean_absolute_percentage_error: 5.3494 - val_loss: 12216.4727 - val_mean_absolute_percentage_error: 8.9744\n",
      "Epoch 905/1000\n",
      "156/156 [==============================] - 0s 109us/sample - loss: 0.5665 - mean_absolute_percentage_error: 5.2978 - val_loss: 12193.2656 - val_mean_absolute_percentage_error: 9.3163\n",
      "Epoch 906/1000\n",
      "156/156 [==============================] - 0s 109us/sample - loss: 0.6016 - mean_absolute_percentage_error: 5.3722 - val_loss: 12197.7139 - val_mean_absolute_percentage_error: 9.3824\n",
      "Epoch 907/1000\n",
      "156/156 [==============================] - 0s 96us/sample - loss: 0.6121 - mean_absolute_percentage_error: 5.3384 - val_loss: 12147.6797 - val_mean_absolute_percentage_error: 9.1384\n",
      "Epoch 908/1000\n",
      "156/156 [==============================] - 0s 109us/sample - loss: 0.5118 - mean_absolute_percentage_error: 5.2430 - val_loss: 12175.5469 - val_mean_absolute_percentage_error: 9.4240\n",
      "Epoch 909/1000\n",
      "156/156 [==============================] - 0s 96us/sample - loss: 0.6789 - mean_absolute_percentage_error: 5.3096 - val_loss: 12256.8291 - val_mean_absolute_percentage_error: 8.9280\n",
      "Epoch 910/1000\n",
      "156/156 [==============================] - 0s 102us/sample - loss: 0.5952 - mean_absolute_percentage_error: 5.2144 - val_loss: 12206.3467 - val_mean_absolute_percentage_error: 9.2359\n",
      "Epoch 911/1000\n",
      "156/156 [==============================] - 0s 109us/sample - loss: 0.5878 - mean_absolute_percentage_error: 5.3419 - val_loss: 12174.7129 - val_mean_absolute_percentage_error: 8.2073\n",
      "Epoch 912/1000\n",
      "156/156 [==============================] - 0s 102us/sample - loss: 0.7574 - mean_absolute_percentage_error: 5.2871 - val_loss: 12214.3232 - val_mean_absolute_percentage_error: 8.8301\n",
      "Epoch 913/1000\n",
      "156/156 [==============================] - 0s 90us/sample - loss: 0.5722 - mean_absolute_percentage_error: 5.3274 - val_loss: 12227.0781 - val_mean_absolute_percentage_error: 8.2950\n",
      "Epoch 914/1000\n",
      "156/156 [==============================] - 0s 115us/sample - loss: 0.7935 - mean_absolute_percentage_error: 5.3253 - val_loss: 12169.1270 - val_mean_absolute_percentage_error: 8.2545\n",
      "Epoch 915/1000\n",
      "156/156 [==============================] - 0s 109us/sample - loss: 0.5310 - mean_absolute_percentage_error: 5.1906 - val_loss: 12191.8184 - val_mean_absolute_percentage_error: 9.3092\n",
      "Epoch 916/1000\n",
      "156/156 [==============================] - 0s 111us/sample - loss: 0.6068 - mean_absolute_percentage_error: 5.3287 - val_loss: 12110.2246 - val_mean_absolute_percentage_error: 9.4003\n",
      "Epoch 917/1000\n",
      "156/156 [==============================] - 0s 109us/sample - loss: 0.6748 - mean_absolute_percentage_error: 5.4128 - val_loss: 12107.3213 - val_mean_absolute_percentage_error: 9.3294\n",
      "Epoch 918/1000\n",
      "156/156 [==============================] - 0s 102us/sample - loss: 0.6002 - mean_absolute_percentage_error: 5.2856 - val_loss: 12176.1758 - val_mean_absolute_percentage_error: 8.2357\n",
      "Epoch 919/1000\n",
      "156/156 [==============================] - 0s 96us/sample - loss: 0.6099 - mean_absolute_percentage_error: 5.2058 - val_loss: 12240.9824 - val_mean_absolute_percentage_error: 9.6156\n",
      "Epoch 920/1000\n",
      "156/156 [==============================] - 0s 96us/sample - loss: 0.6414 - mean_absolute_percentage_error: 5.2800 - val_loss: 12191.7422 - val_mean_absolute_percentage_error: 8.8353\n",
      "Epoch 921/1000\n",
      "156/156 [==============================] - 0s 115us/sample - loss: 0.5519 - mean_absolute_percentage_error: 5.2501 - val_loss: 12168.8633 - val_mean_absolute_percentage_error: 9.3642\n",
      "Epoch 922/1000\n",
      "156/156 [==============================] - 0s 90us/sample - loss: 0.5801 - mean_absolute_percentage_error: 5.2492 - val_loss: 12167.9277 - val_mean_absolute_percentage_error: 10.3899\n",
      "Epoch 923/1000\n",
      "156/156 [==============================] - 0s 102us/sample - loss: 0.5879 - mean_absolute_percentage_error: 5.3635 - val_loss: 12135.0850 - val_mean_absolute_percentage_error: 9.3974\n",
      "Epoch 924/1000\n",
      "156/156 [==============================] - 0s 109us/sample - loss: 0.5603 - mean_absolute_percentage_error: 5.2156 - val_loss: 12117.6201 - val_mean_absolute_percentage_error: 9.4449\n",
      "Epoch 925/1000\n",
      "156/156 [==============================] - 0s 115us/sample - loss: 0.6406 - mean_absolute_percentage_error: 5.4062 - val_loss: 12088.1455 - val_mean_absolute_percentage_error: 10.0920\n",
      "Epoch 926/1000\n",
      "156/156 [==============================] - 0s 101us/sample - loss: 0.6452 - mean_absolute_percentage_error: 5.4419 - val_loss: 12106.0752 - val_mean_absolute_percentage_error: 9.0161\n",
      "Epoch 927/1000\n",
      "156/156 [==============================] - 0s 115us/sample - loss: 0.5658 - mean_absolute_percentage_error: 5.2377 - val_loss: 12138.6289 - val_mean_absolute_percentage_error: 8.4058\n",
      "Epoch 928/1000\n",
      "156/156 [==============================] - 0s 109us/sample - loss: 0.6364 - mean_absolute_percentage_error: 5.2504 - val_loss: 12185.1543 - val_mean_absolute_percentage_error: 8.6653\n",
      "Epoch 929/1000\n",
      "156/156 [==============================] - 0s 102us/sample - loss: 0.5507 - mean_absolute_percentage_error: 5.0886 - val_loss: 12218.1055 - val_mean_absolute_percentage_error: 9.3297\n",
      "Epoch 930/1000\n",
      "156/156 [==============================] - 0s 109us/sample - loss: 0.5940 - mean_absolute_percentage_error: 5.4886 - val_loss: 12101.2471 - val_mean_absolute_percentage_error: 9.3031\n",
      "Epoch 931/1000\n",
      "156/156 [==============================] - 0s 109us/sample - loss: 0.7369 - mean_absolute_percentage_error: 5.1607 - val_loss: 12179.4570 - val_mean_absolute_percentage_error: 8.9951\n",
      "Epoch 932/1000\n",
      "156/156 [==============================] - 0s 109us/sample - loss: 0.5759 - mean_absolute_percentage_error: 5.1522 - val_loss: 12169.9229 - val_mean_absolute_percentage_error: 9.0373\n",
      "Epoch 933/1000\n",
      "156/156 [==============================] - 0s 115us/sample - loss: 0.6733 - mean_absolute_percentage_error: 5.3277 - val_loss: 12094.1699 - val_mean_absolute_percentage_error: 10.1254\n",
      "Epoch 934/1000\n",
      "156/156 [==============================] - 0s 102us/sample - loss: 0.6136 - mean_absolute_percentage_error: 5.2292 - val_loss: 12152.3457 - val_mean_absolute_percentage_error: 8.9317\n",
      "Epoch 935/1000\n",
      "156/156 [==============================] - 0s 96us/sample - loss: 0.5000 - mean_absolute_percentage_error: 5.3289 - val_loss: 12133.5449 - val_mean_absolute_percentage_error: 8.5526\n",
      "Epoch 936/1000\n",
      "156/156 [==============================] - 0s 109us/sample - loss: 0.5298 - mean_absolute_percentage_error: 5.2411 - val_loss: 12182.8545 - val_mean_absolute_percentage_error: 8.7375\n",
      "Epoch 937/1000\n",
      "156/156 [==============================] - 0s 102us/sample - loss: 0.6654 - mean_absolute_percentage_error: 5.2514 - val_loss: 12205.9932 - val_mean_absolute_percentage_error: 8.0923\n",
      "Epoch 938/1000\n",
      "156/156 [==============================] - 0s 109us/sample - loss: 0.5776 - mean_absolute_percentage_error: 5.2131 - val_loss: 12211.3525 - val_mean_absolute_percentage_error: 9.1131\n",
      "Epoch 939/1000\n"
     ]
    },
    {
     "name": "stdout",
     "output_type": "stream",
     "text": [
      "156/156 [==============================] - 0s 96us/sample - loss: 0.6008 - mean_absolute_percentage_error: 5.2607 - val_loss: 12141.0215 - val_mean_absolute_percentage_error: 8.7093\n",
      "Epoch 940/1000\n",
      "156/156 [==============================] - 0s 115us/sample - loss: 0.6403 - mean_absolute_percentage_error: 5.2524 - val_loss: 12123.1514 - val_mean_absolute_percentage_error: 8.9177\n",
      "Epoch 941/1000\n",
      "156/156 [==============================] - 0s 109us/sample - loss: 0.5667 - mean_absolute_percentage_error: 5.1294 - val_loss: 12192.6748 - val_mean_absolute_percentage_error: 8.5907\n",
      "Epoch 942/1000\n",
      "156/156 [==============================] - 0s 96us/sample - loss: 0.6157 - mean_absolute_percentage_error: 5.1870 - val_loss: 12151.8662 - val_mean_absolute_percentage_error: 8.8572\n",
      "Epoch 943/1000\n",
      "156/156 [==============================] - 0s 102us/sample - loss: 0.5632 - mean_absolute_percentage_error: 5.2981 - val_loss: 12224.2656 - val_mean_absolute_percentage_error: 8.3386\n",
      "Epoch 944/1000\n",
      "156/156 [==============================] - 0s 96us/sample - loss: 0.6277 - mean_absolute_percentage_error: 5.1871 - val_loss: 12157.7100 - val_mean_absolute_percentage_error: 8.4809\n",
      "Epoch 945/1000\n",
      "156/156 [==============================] - 0s 121us/sample - loss: 0.4884 - mean_absolute_percentage_error: 5.1031 - val_loss: 12217.9941 - val_mean_absolute_percentage_error: 8.2514\n",
      "Epoch 946/1000\n",
      "156/156 [==============================] - 0s 96us/sample - loss: 0.7118 - mean_absolute_percentage_error: 5.3225 - val_loss: 12164.6270 - val_mean_absolute_percentage_error: 8.8949\n",
      "Epoch 947/1000\n",
      "156/156 [==============================] - 0s 109us/sample - loss: 0.5752 - mean_absolute_percentage_error: 5.2984 - val_loss: 12204.5508 - val_mean_absolute_percentage_error: 8.2816\n",
      "Epoch 948/1000\n",
      "156/156 [==============================] - 0s 109us/sample - loss: 0.5412 - mean_absolute_percentage_error: 5.1461 - val_loss: 12158.1621 - val_mean_absolute_percentage_error: 8.4975\n",
      "Epoch 949/1000\n",
      "156/156 [==============================] - 0s 102us/sample - loss: 0.5781 - mean_absolute_percentage_error: 5.2703 - val_loss: 12162.5205 - val_mean_absolute_percentage_error: 8.8616\n",
      "Epoch 950/1000\n",
      "156/156 [==============================] - 0s 96us/sample - loss: 0.5409 - mean_absolute_percentage_error: 5.1337 - val_loss: 12198.5020 - val_mean_absolute_percentage_error: 8.1712\n",
      "Epoch 951/1000\n",
      "156/156 [==============================] - 0s 115us/sample - loss: 0.5537 - mean_absolute_percentage_error: 5.1373 - val_loss: 12194.8721 - val_mean_absolute_percentage_error: 9.0637\n",
      "Epoch 952/1000\n",
      "156/156 [==============================] - 0s 102us/sample - loss: 0.5784 - mean_absolute_percentage_error: 5.2204 - val_loss: 12234.4639 - val_mean_absolute_percentage_error: 8.3751\n",
      "Epoch 953/1000\n",
      "156/156 [==============================] - 0s 109us/sample - loss: 0.5540 - mean_absolute_percentage_error: 5.2027 - val_loss: 12148.1348 - val_mean_absolute_percentage_error: 9.4147\n",
      "Epoch 954/1000\n",
      "156/156 [==============================] - 0s 121us/sample - loss: 0.5284 - mean_absolute_percentage_error: 5.1993 - val_loss: 12182.9941 - val_mean_absolute_percentage_error: 8.5308\n",
      "Epoch 955/1000\n",
      "156/156 [==============================] - 0s 96us/sample - loss: 0.5834 - mean_absolute_percentage_error: 5.2598 - val_loss: 12064.0273 - val_mean_absolute_percentage_error: 9.2316\n",
      "Epoch 956/1000\n",
      "156/156 [==============================] - 0s 102us/sample - loss: 0.6328 - mean_absolute_percentage_error: 5.1581 - val_loss: 12207.0840 - val_mean_absolute_percentage_error: 8.7125\n",
      "Epoch 957/1000\n",
      "156/156 [==============================] - 0s 109us/sample - loss: 0.5441 - mean_absolute_percentage_error: 5.3690 - val_loss: 12214.2920 - val_mean_absolute_percentage_error: 8.9191\n",
      "Epoch 958/1000\n",
      "156/156 [==============================] - 0s 109us/sample - loss: 0.4837 - mean_absolute_percentage_error: 5.1635 - val_loss: 12185.5488 - val_mean_absolute_percentage_error: 8.1019\n",
      "Epoch 959/1000\n",
      "156/156 [==============================] - 0s 83us/sample - loss: 0.5621 - mean_absolute_percentage_error: 5.2239 - val_loss: 12181.8086 - val_mean_absolute_percentage_error: 9.0296\n",
      "Epoch 960/1000\n",
      "156/156 [==============================] - 0s 108us/sample - loss: 0.5788 - mean_absolute_percentage_error: 5.2122 - val_loss: 12157.4131 - val_mean_absolute_percentage_error: 8.4477\n",
      "Epoch 961/1000\n",
      "156/156 [==============================] - 0s 83us/sample - loss: 0.5471 - mean_absolute_percentage_error: 5.2157 - val_loss: 12142.5195 - val_mean_absolute_percentage_error: 8.2255\n",
      "Epoch 962/1000\n",
      "156/156 [==============================] - 0s 102us/sample - loss: 0.5728 - mean_absolute_percentage_error: 5.0868 - val_loss: 12147.9482 - val_mean_absolute_percentage_error: 8.8962\n",
      "Epoch 963/1000\n",
      "156/156 [==============================] - 0s 102us/sample - loss: 0.5621 - mean_absolute_percentage_error: 5.1742 - val_loss: 12143.8066 - val_mean_absolute_percentage_error: 8.6803\n",
      "Epoch 964/1000\n",
      "156/156 [==============================] - 0s 109us/sample - loss: 0.7262 - mean_absolute_percentage_error: 5.1892 - val_loss: 12136.2793 - val_mean_absolute_percentage_error: 8.0392\n",
      "Epoch 965/1000\n",
      "156/156 [==============================] - 0s 83us/sample - loss: 0.5787 - mean_absolute_percentage_error: 5.2212 - val_loss: 12146.4854 - val_mean_absolute_percentage_error: 8.7742\n",
      "Epoch 966/1000\n",
      "156/156 [==============================] - 0s 102us/sample - loss: 0.5683 - mean_absolute_percentage_error: 5.1132 - val_loss: 12122.2646 - val_mean_absolute_percentage_error: 8.2947\n",
      "Epoch 967/1000\n",
      "156/156 [==============================] - 0s 102us/sample - loss: 0.5665 - mean_absolute_percentage_error: 5.1405 - val_loss: 12176.0605 - val_mean_absolute_percentage_error: 8.0937\n",
      "Epoch 968/1000\n",
      "156/156 [==============================] - 0s 96us/sample - loss: 0.5913 - mean_absolute_percentage_error: 5.0743 - val_loss: 12183.6895 - val_mean_absolute_percentage_error: 8.2080\n",
      "Epoch 969/1000\n",
      "156/156 [==============================] - 0s 115us/sample - loss: 0.5124 - mean_absolute_percentage_error: 5.1761 - val_loss: 12088.2949 - val_mean_absolute_percentage_error: 8.4084\n",
      "Epoch 970/1000\n",
      "156/156 [==============================] - 0s 109us/sample - loss: 0.6844 - mean_absolute_percentage_error: 5.0846 - val_loss: 12188.5605 - val_mean_absolute_percentage_error: 8.1507\n",
      "Epoch 971/1000\n",
      "156/156 [==============================] - 0s 102us/sample - loss: 0.6024 - mean_absolute_percentage_error: 5.1391 - val_loss: 12167.9902 - val_mean_absolute_percentage_error: 8.2849\n",
      "Epoch 972/1000\n",
      "156/156 [==============================] - 0s 90us/sample - loss: 0.5387 - mean_absolute_percentage_error: 5.1482 - val_loss: 12123.1377 - val_mean_absolute_percentage_error: 8.2048\n",
      "Epoch 973/1000\n",
      "156/156 [==============================] - 0s 109us/sample - loss: 0.5718 - mean_absolute_percentage_error: 5.2161 - val_loss: 12175.5205 - val_mean_absolute_percentage_error: 8.3134\n",
      "Epoch 974/1000\n",
      "156/156 [==============================] - 0s 102us/sample - loss: 0.5384 - mean_absolute_percentage_error: 5.1664 - val_loss: 12117.1191 - val_mean_absolute_percentage_error: 8.7211\n",
      "Epoch 975/1000\n",
      "156/156 [==============================] - 0s 102us/sample - loss: 0.6145 - mean_absolute_percentage_error: 5.2155 - val_loss: 12202.8496 - val_mean_absolute_percentage_error: 8.2171\n",
      "Epoch 976/1000\n",
      "156/156 [==============================] - 0s 109us/sample - loss: 0.4640 - mean_absolute_percentage_error: 5.1078 - val_loss: 12250.2207 - val_mean_absolute_percentage_error: 8.5801\n",
      "Epoch 977/1000\n",
      "156/156 [==============================] - 0s 109us/sample - loss: 0.5284 - mean_absolute_percentage_error: 5.0437 - val_loss: 12243.2568 - val_mean_absolute_percentage_error: 8.4882\n",
      "Epoch 978/1000\n",
      "156/156 [==============================] - 0s 102us/sample - loss: 0.5398 - mean_absolute_percentage_error: 5.2643 - val_loss: 12167.7744 - val_mean_absolute_percentage_error: 8.3978\n",
      "Epoch 979/1000\n",
      "156/156 [==============================] - 0s 115us/sample - loss: 0.5872 - mean_absolute_percentage_error: 5.2604 - val_loss: 12155.9043 - val_mean_absolute_percentage_error: 8.4129\n",
      "Epoch 980/1000\n"
     ]
    },
    {
     "name": "stdout",
     "output_type": "stream",
     "text": [
      "156/156 [==============================] - 0s 115us/sample - loss: 0.5228 - mean_absolute_percentage_error: 4.9743 - val_loss: 12137.7100 - val_mean_absolute_percentage_error: 8.7097\n",
      "Epoch 981/1000\n",
      "156/156 [==============================] - 0s 96us/sample - loss: 0.5845 - mean_absolute_percentage_error: 5.0471 - val_loss: 12159.2979 - val_mean_absolute_percentage_error: 8.5681\n",
      "Epoch 982/1000\n",
      "156/156 [==============================] - 0s 102us/sample - loss: 0.5041 - mean_absolute_percentage_error: 5.2300 - val_loss: 12205.4043 - val_mean_absolute_percentage_error: 9.6291\n",
      "Epoch 983/1000\n",
      "156/156 [==============================] - 0s 102us/sample - loss: 0.5635 - mean_absolute_percentage_error: 5.2570 - val_loss: 12143.6504 - val_mean_absolute_percentage_error: 8.0932\n",
      "Epoch 984/1000\n",
      "156/156 [==============================] - 0s 109us/sample - loss: 0.5226 - mean_absolute_percentage_error: 5.0817 - val_loss: 12226.4609 - val_mean_absolute_percentage_error: 8.6253\n",
      "Epoch 985/1000\n",
      "156/156 [==============================] - 0s 99us/sample - loss: 0.5723 - mean_absolute_percentage_error: 5.1595 - val_loss: 12235.5537 - val_mean_absolute_percentage_error: 8.2876\n",
      "Epoch 986/1000\n",
      "156/156 [==============================] - 0s 128us/sample - loss: 0.6198 - mean_absolute_percentage_error: 5.1801 - val_loss: 12115.3428 - val_mean_absolute_percentage_error: 8.3147\n",
      "Epoch 987/1000\n",
      "156/156 [==============================] - 0s 115us/sample - loss: 0.4760 - mean_absolute_percentage_error: 4.9222 - val_loss: 12180.4160 - val_mean_absolute_percentage_error: 8.6283\n",
      "Epoch 988/1000\n",
      "156/156 [==============================] - 0s 102us/sample - loss: 0.6411 - mean_absolute_percentage_error: 5.0824 - val_loss: 12182.7109 - val_mean_absolute_percentage_error: 8.2413\n",
      "Epoch 989/1000\n",
      "156/156 [==============================] - 0s 109us/sample - loss: 0.5026 - mean_absolute_percentage_error: 5.1615 - val_loss: 12200.5674 - val_mean_absolute_percentage_error: 8.2591\n",
      "Epoch 990/1000\n",
      "156/156 [==============================] - 0s 80us/sample - loss: 0.5994 - mean_absolute_percentage_error: 5.0176 - val_loss: 12210.1113 - val_mean_absolute_percentage_error: 8.2543\n",
      "Epoch 991/1000\n",
      "156/156 [==============================] - 0s 102us/sample - loss: 0.5007 - mean_absolute_percentage_error: 5.1943 - val_loss: 12155.4541 - val_mean_absolute_percentage_error: 8.3931\n",
      "Epoch 992/1000\n",
      "156/156 [==============================] - 0s 115us/sample - loss: 0.6431 - mean_absolute_percentage_error: 5.2128 - val_loss: 12165.2617 - val_mean_absolute_percentage_error: 8.2000\n",
      "Epoch 993/1000\n",
      "156/156 [==============================] - 0s 102us/sample - loss: 0.5729 - mean_absolute_percentage_error: 5.1612 - val_loss: 12171.0254 - val_mean_absolute_percentage_error: 8.3867\n",
      "Epoch 994/1000\n",
      "156/156 [==============================] - 0s 102us/sample - loss: 0.5113 - mean_absolute_percentage_error: 5.1515 - val_loss: 12139.6875 - val_mean_absolute_percentage_error: 8.9430\n",
      "Epoch 995/1000\n",
      "156/156 [==============================] - 0s 118us/sample - loss: 0.5246 - mean_absolute_percentage_error: 5.1889 - val_loss: 12158.3174 - val_mean_absolute_percentage_error: 8.1359\n",
      "Epoch 996/1000\n",
      "156/156 [==============================] - 0s 102us/sample - loss: 0.5316 - mean_absolute_percentage_error: 4.9973 - val_loss: 12061.9639 - val_mean_absolute_percentage_error: 8.4216\n",
      "Epoch 997/1000\n",
      "156/156 [==============================] - 0s 102us/sample - loss: 0.5064 - mean_absolute_percentage_error: 5.0840 - val_loss: 12220.2158 - val_mean_absolute_percentage_error: 8.1130\n",
      "Epoch 998/1000\n",
      "156/156 [==============================] - 0s 96us/sample - loss: 0.5043 - mean_absolute_percentage_error: 5.0299 - val_loss: 12085.9951 - val_mean_absolute_percentage_error: 8.8037\n",
      "Epoch 999/1000\n",
      "156/156 [==============================] - 0s 112us/sample - loss: 0.5596 - mean_absolute_percentage_error: 5.0949 - val_loss: 12119.9092 - val_mean_absolute_percentage_error: 8.0937\n",
      "Epoch 1000/1000\n",
      "156/156 [==============================] - 0s 96us/sample - loss: 0.4778 - mean_absolute_percentage_error: 4.9644 - val_loss: 12130.6924 - val_mean_absolute_percentage_error: 8.2816\n"
     ]
    }
   ],
   "source": [
    "history = model.fit(X_train, Y_train, \n",
    "                    validation_data=[X_val, Y_val],\n",
    "                    batch_size=batch_size,\n",
    "                    epochs=1000,\n",
    "                    verbose=1)"
   ]
  },
  {
   "cell_type": "markdown",
   "metadata": {},
   "source": [
    "## loss and accuracy curves"
   ]
  },
  {
   "cell_type": "code",
   "execution_count": null,
   "metadata": {},
   "outputs": [],
   "source": []
  },
  {
   "cell_type": "code",
   "execution_count": 36,
   "metadata": {
    "scrolled": true
   },
   "outputs": [
    {
     "data": {
      "image/png": "[encoded data removed]",
      "text/plain": [
       "<Figure size 432x288 with 1 Axes>"
      ]
     },
     "metadata": {
      "needs_background": "light"
     },
     "output_type": "display_data"
    }
   ],
   "source": [
    "# plot training history\n",
    "plt.plot(history.history['mean_absolute_percentage_error'], label='train')\n",
    "plt.plot(history.history['val_mean_absolute_percentage_error'], label='test')\n",
    "plt.legend()\n",
    "plt.title(\"Training and Test Errors\")\n",
    "plt.show()"
   ]
  },
  {
   "cell_type": "markdown",
   "metadata": {},
   "source": [
    "# Hyperparameter tuning of neural network"
   ]
  },
  {
   "cell_type": "code",
   "execution_count": 37,
   "metadata": {},
   "outputs": [
    {
     "name": "stderr",
     "output_type": "stream",
     "text": [
      "Using TensorFlow backend.\n"
     ]
    }
   ],
   "source": [
    "import talos\n",
    "from talos.model.hidden_layers import hidden_layers"
   ]
  },
  {
   "cell_type": "code",
   "execution_count": 39,
   "metadata": {},
   "outputs": [],
   "source": [
    "p = {'lr': (0.1,0.5,10),\n",
    "     'first_neuron':[10, 20],\n",
    "     'hidden_layers':[1, 2, 3],\n",
    "     'batch_size': (10,30,5),\n",
    "     'kernel_initializer': ['he_normal'], #, 'uniform'\n",
    "     'epochs': [500],\n",
    "     'dropout': (0, 0.5, 5),\n",
    "     'shapes':['brick','funnel'],\n",
    "     'activation': ['relu'],\n",
    "     'grid_downsample':[0.8], #value to something less than 1.00 which runs a random subset of possible combinations to save running time\n",
    "     'last_activation':['linear'],\n",
    "    }"
   ]
  },
  {
   "cell_type": "markdown",
   "metadata": {},
   "source": [
    "**Funnel**\n",
    "     \n",
    "Funnel is the shape that roughly looks like an upside-dowm pyramind, so that the first layer is defined with max neurons, and the next layers are sligtly decreased compared to previous ones."
   ]
  },
  {
   "cell_type": "markdown",
   "metadata": {},
   "source": [
    "<img src='funnel.png' />"
   ]
  },
  {
   "cell_type": "markdown",
   "metadata": {},
   "source": [
    "**Brick**\n",
    "\n",
    "All the layers have first_neuron value. Called by shape='brick'."
   ]
  },
  {
   "cell_type": "markdown",
   "metadata": {},
   "source": [
    "<img src='brick.png' />"
   ]
  },
  {
   "cell_type": "code",
   "execution_count": 40,
   "metadata": {},
   "outputs": [],
   "source": [
    "def stock_prediction_model(x_train, y_train, x_val, y_val, params):\n",
    "\n",
    "    # next we can build the model exactly like we would normally do it\n",
    "    model = Sequential()\n",
    "    model.add(Dense(params['first_neuron'], input_dim=x_train.shape[1],\n",
    "                    activation='relu',\n",
    "                    kernel_initializer='he_normal'))\n",
    "    \n",
    "    model.add(Dropout(params['dropout']))\n",
    "    \n",
    "    # if we want to also test for number of layers and shapes, that's possible\n",
    "#     hidden_layers(model, params, 1)\n",
    "   \n",
    "    # then we finish again with completely standard Keras way\n",
    "    model.add(Dense(1, activation='relu',\n",
    "                    kernel_initializer='he_normal'))\n",
    "    \n",
    "    model.compile(loss='mean_squared_error',\n",
    "#                   optimizer=RMSprop(learning_rate=params['lr']),\n",
    "                  optimizer='rmsprop',\n",
    "                  metrics=['mape'])\n",
    "    \n",
    "    history = model.fit(x_train, y_train, \n",
    "                        validation_data=[x_val, y_val],\n",
    "                        batch_size=params['batch_size'],\n",
    "                        epochs=params['epochs'],\n",
    "                        verbose=0)\n",
    "    \n",
    "    # finally we have to make sure that history object and model are returned\n",
    "    return history, model"
   ]
  },
  {
   "cell_type": "code",
   "execution_count": 41,
   "metadata": {},
   "outputs": [
    {
     "name": "stderr",
     "output_type": "stream",
     "text": [
      "\r",
      "  0%|                                                                                          | 0/300 [00:00<?, ?it/s]"
     ]
    },
    {
     "name": "stdout",
     "output_type": "stream",
     "text": [
      "{'activation': 'relu', 'batch_size': 10, 'dropout': 0.4, 'epochs': 500, 'first_neuron': 20, 'grid_downsample': 0.8, 'hidden_layers': 3, 'kernel_initializer': 'he_normal', 'last_activation': 'linear', 'lr': 0.42000000000000004, 'shapes': 'brick'}\n"
     ]
    },
    {
     "name": "stderr",
     "output_type": "stream",
     "text": [
      "\r",
      "  0%|▎                                                                                 | 1/300 [00:09<48:36,  9.75s/it]"
     ]
    },
    {
     "name": "stdout",
     "output_type": "stream",
     "text": [
      "{'activation': 'relu', 'batch_size': 22, 'dropout': 0.0, 'epochs': 500, 'first_neuron': 20, 'grid_downsample': 0.8, 'hidden_layers': 2, 'kernel_initializer': 'he_normal', 'last_activation': 'linear', 'lr': 0.14, 'shapes': 'brick'}\n"
     ]
    },
    {
     "name": "stderr",
     "output_type": "stream",
     "text": [
      "\r",
      "  1%|▌                                                                                 | 2/300 [00:15<41:56,  8.45s/it]"
     ]
    },
    {
     "name": "stdout",
     "output_type": "stream",
     "text": [
      "{'activation': 'relu', 'batch_size': 22, 'dropout': 0.0, 'epochs': 500, 'first_neuron': 20, 'grid_downsample': 0.8, 'hidden_layers': 1, 'kernel_initializer': 'he_normal', 'last_activation': 'linear', 'lr': 0.14, 'shapes': 'funnel'}\n"
     ]
    },
    {
     "name": "stderr",
     "output_type": "stream",
     "text": [
      "\r",
      "  1%|▊                                                                                 | 3/300 [00:20<37:20,  7.54s/it]"
     ]
    },
    {
     "name": "stdout",
     "output_type": "stream",
     "text": [
      "{'activation': 'relu', 'batch_size': 14, 'dropout': 0.0, 'epochs': 500, 'first_neuron': 20, 'grid_downsample': 0.8, 'hidden_layers': 3, 'kernel_initializer': 'he_normal', 'last_activation': 'linear', 'lr': 0.38, 'shapes': 'funnel'}\n"
     ]
    },
    {
     "name": "stderr",
     "output_type": "stream",
     "text": [
      "\r",
      "  1%|█                                                                                 | 4/300 [00:27<36:47,  7.46s/it]"
     ]
    },
    {
     "name": "stdout",
     "output_type": "stream",
     "text": [
      "{'activation': 'relu', 'batch_size': 26, 'dropout': 0.4, 'epochs': 500, 'first_neuron': 10, 'grid_downsample': 0.8, 'hidden_layers': 1, 'kernel_initializer': 'he_normal', 'last_activation': 'linear', 'lr': 0.26, 'shapes': 'funnel'}\n"
     ]
    },
    {
     "name": "stderr",
     "output_type": "stream",
     "text": [
      "\r",
      "  2%|█▎                                                                                | 5/300 [00:32<32:33,  6.62s/it]"
     ]
    },
    {
     "name": "stdout",
     "output_type": "stream",
     "text": [
      "{'activation': 'relu', 'batch_size': 18, 'dropout': 0.30000000000000004, 'epochs': 500, 'first_neuron': 10, 'grid_downsample': 0.8, 'hidden_layers': 3, 'kernel_initializer': 'he_normal', 'last_activation': 'linear', 'lr': 0.26, 'shapes': 'funnel'}\n"
     ]
    },
    {
     "name": "stderr",
     "output_type": "stream",
     "text": [
      "\r",
      "  2%|█▋                                                                                | 6/300 [00:39<32:22,  6.61s/it]"
     ]
    },
    {
     "name": "stdout",
     "output_type": "stream",
     "text": [
      "{'activation': 'relu', 'batch_size': 26, 'dropout': 0.4, 'epochs': 500, 'first_neuron': 20, 'grid_downsample': 0.8, 'hidden_layers': 3, 'kernel_initializer': 'he_normal', 'last_activation': 'linear', 'lr': 0.4600000000000001, 'shapes': 'brick'}\n"
     ]
    },
    {
     "name": "stderr",
     "output_type": "stream",
     "text": [
      "\r",
      "  2%|█▉                                                                                | 7/300 [00:43<29:18,  6.00s/it]"
     ]
    },
    {
     "name": "stdout",
     "output_type": "stream",
     "text": [
      "{'activation': 'relu', 'batch_size': 18, 'dropout': 0.1, 'epochs': 500, 'first_neuron': 20, 'grid_downsample': 0.8, 'hidden_layers': 3, 'kernel_initializer': 'he_normal', 'last_activation': 'linear', 'lr': 0.3400000000000001, 'shapes': 'brick'}\n"
     ]
    },
    {
     "name": "stderr",
     "output_type": "stream",
     "text": [
      "\r",
      "  3%|██▏                                                                               | 8/300 [00:50<29:55,  6.15s/it]"
     ]
    },
    {
     "name": "stdout",
     "output_type": "stream",
     "text": [
      "{'activation': 'relu', 'batch_size': 18, 'dropout': 0.4, 'epochs': 500, 'first_neuron': 20, 'grid_downsample': 0.8, 'hidden_layers': 2, 'kernel_initializer': 'he_normal', 'last_activation': 'linear', 'lr': 0.38, 'shapes': 'funnel'}\n"
     ]
    },
    {
     "name": "stderr",
     "output_type": "stream",
     "text": [
      "\r",
      "  3%|██▍                                                                               | 9/300 [00:56<29:51,  6.16s/it]"
     ]
    },
    {
     "name": "stdout",
     "output_type": "stream",
     "text": [
      "{'activation': 'relu', 'batch_size': 22, 'dropout': 0.2, 'epochs': 500, 'first_neuron': 10, 'grid_downsample': 0.8, 'hidden_layers': 2, 'kernel_initializer': 'he_normal', 'last_activation': 'linear', 'lr': 0.42000000000000004, 'shapes': 'brick'}\n"
     ]
    },
    {
     "name": "stderr",
     "output_type": "stream",
     "text": [
      "\r",
      "  3%|██▋                                                                              | 10/300 [01:01<28:56,  5.99s/it]"
     ]
    },
    {
     "name": "stdout",
     "output_type": "stream",
     "text": [
      "{'activation': 'relu', 'batch_size': 10, 'dropout': 0.30000000000000004, 'epochs': 500, 'first_neuron': 20, 'grid_downsample': 0.8, 'hidden_layers': 2, 'kernel_initializer': 'he_normal', 'last_activation': 'linear', 'lr': 0.30000000000000004, 'shapes': 'brick'}\n"
     ]
    },
    {
     "name": "stderr",
     "output_type": "stream",
     "text": [
      "\r",
      "  4%|██▉                                                                              | 11/300 [01:11<33:48,  7.02s/it]"
     ]
    },
    {
     "name": "stdout",
     "output_type": "stream",
     "text": [
      "{'activation': 'relu', 'batch_size': 22, 'dropout': 0.30000000000000004, 'epochs': 500, 'first_neuron': 10, 'grid_downsample': 0.8, 'hidden_layers': 2, 'kernel_initializer': 'he_normal', 'last_activation': 'linear', 'lr': 0.14, 'shapes': 'brick'}\n"
     ]
    },
    {
     "name": "stderr",
     "output_type": "stream",
     "text": [
      "\r",
      "  4%|███▏                                                                             | 12/300 [01:16<31:32,  6.57s/it]"
     ]
    },
    {
     "name": "stdout",
     "output_type": "stream",
     "text": [
      "{'activation': 'relu', 'batch_size': 10, 'dropout': 0.4, 'epochs': 500, 'first_neuron': 10, 'grid_downsample': 0.8, 'hidden_layers': 1, 'kernel_initializer': 'he_normal', 'last_activation': 'linear', 'lr': 0.42000000000000004, 'shapes': 'brick'}\n"
     ]
    },
    {
     "name": "stderr",
     "output_type": "stream",
     "text": [
      "\r",
      "  4%|███▌                                                                             | 13/300 [01:26<35:33,  7.44s/it]"
     ]
    },
    {
     "name": "stdout",
     "output_type": "stream",
     "text": [
      "{'activation': 'relu', 'batch_size': 10, 'dropout': 0.2, 'epochs': 500, 'first_neuron': 20, 'grid_downsample': 0.8, 'hidden_layers': 2, 'kernel_initializer': 'he_normal', 'last_activation': 'linear', 'lr': 0.26, 'shapes': 'brick'}\n"
     ]
    },
    {
     "name": "stderr",
     "output_type": "stream",
     "text": [
      "\r",
      "  5%|███▊                                                                             | 14/300 [01:36<38:57,  8.17s/it]"
     ]
    },
    {
     "name": "stdout",
     "output_type": "stream",
     "text": [
      "{'activation': 'relu', 'batch_size': 22, 'dropout': 0.0, 'epochs': 500, 'first_neuron': 20, 'grid_downsample': 0.8, 'hidden_layers': 1, 'kernel_initializer': 'he_normal', 'last_activation': 'linear', 'lr': 0.22000000000000003, 'shapes': 'funnel'}\n"
     ]
    },
    {
     "name": "stderr",
     "output_type": "stream",
     "text": [
      "\r",
      "  5%|████                                                                             | 15/300 [01:41<34:55,  7.35s/it]"
     ]
    },
    {
     "name": "stdout",
     "output_type": "stream",
     "text": [
      "{'activation': 'relu', 'batch_size': 14, 'dropout': 0.30000000000000004, 'epochs': 500, 'first_neuron': 20, 'grid_downsample': 0.8, 'hidden_layers': 3, 'kernel_initializer': 'he_normal', 'last_activation': 'linear', 'lr': 0.4600000000000001, 'shapes': 'brick'}\n"
     ]
    },
    {
     "name": "stderr",
     "output_type": "stream",
     "text": [
      "\r",
      "  5%|████▎                                                                            | 16/300 [01:49<35:43,  7.55s/it]"
     ]
    },
    {
     "name": "stdout",
     "output_type": "stream",
     "text": [
      "{'activation': 'relu', 'batch_size': 10, 'dropout': 0.1, 'epochs': 500, 'first_neuron': 20, 'grid_downsample': 0.8, 'hidden_layers': 1, 'kernel_initializer': 'he_normal', 'last_activation': 'linear', 'lr': 0.42000000000000004, 'shapes': 'brick'}\n"
     ]
    },
    {
     "name": "stderr",
     "output_type": "stream",
     "text": [
      "\r",
      "  6%|████▌                                                                            | 17/300 [01:59<38:59,  8.27s/it]"
     ]
    },
    {
     "name": "stdout",
     "output_type": "stream",
     "text": [
      "{'activation': 'relu', 'batch_size': 26, 'dropout': 0.2, 'epochs': 500, 'first_neuron': 10, 'grid_downsample': 0.8, 'hidden_layers': 3, 'kernel_initializer': 'he_normal', 'last_activation': 'linear', 'lr': 0.4600000000000001, 'shapes': 'brick'}\n"
     ]
    },
    {
     "name": "stderr",
     "output_type": "stream",
     "text": [
      "\r",
      "  6%|████▊                                                                            | 18/300 [02:04<33:52,  7.21s/it]"
     ]
    },
    {
     "name": "stdout",
     "output_type": "stream",
     "text": [
      "{'activation': 'relu', 'batch_size': 26, 'dropout': 0.2, 'epochs': 500, 'first_neuron': 10, 'grid_downsample': 0.8, 'hidden_layers': 1, 'kernel_initializer': 'he_normal', 'last_activation': 'linear', 'lr': 0.3400000000000001, 'shapes': 'brick'}\n"
     ]
    },
    {
     "name": "stderr",
     "output_type": "stream",
     "text": [
      "\r",
      "  6%|█████▏                                                                           | 19/300 [02:09<30:51,  6.59s/it]"
     ]
    },
    {
     "name": "stdout",
     "output_type": "stream",
     "text": [
      "{'activation': 'relu', 'batch_size': 14, 'dropout': 0.1, 'epochs': 500, 'first_neuron': 20, 'grid_downsample': 0.8, 'hidden_layers': 3, 'kernel_initializer': 'he_normal', 'last_activation': 'linear', 'lr': 0.42000000000000004, 'shapes': 'funnel'}\n"
     ]
    },
    {
     "name": "stderr",
     "output_type": "stream",
     "text": [
      "\r",
      "  7%|█████▍                                                                           | 20/300 [02:17<32:30,  6.97s/it]"
     ]
    },
    {
     "name": "stdout",
     "output_type": "stream",
     "text": [
      "{'activation': 'relu', 'batch_size': 18, 'dropout': 0.1, 'epochs': 500, 'first_neuron': 10, 'grid_downsample': 0.8, 'hidden_layers': 3, 'kernel_initializer': 'he_normal', 'last_activation': 'linear', 'lr': 0.3400000000000001, 'shapes': 'funnel'}\n"
     ]
    },
    {
     "name": "stderr",
     "output_type": "stream",
     "text": [
      "\r",
      "  7%|█████▋                                                                           | 21/300 [02:23<31:44,  6.83s/it]"
     ]
    },
    {
     "name": "stdout",
     "output_type": "stream",
     "text": [
      "{'activation': 'relu', 'batch_size': 14, 'dropout': 0.2, 'epochs': 500, 'first_neuron': 20, 'grid_downsample': 0.8, 'hidden_layers': 3, 'kernel_initializer': 'he_normal', 'last_activation': 'linear', 'lr': 0.1, 'shapes': 'brick'}\n"
     ]
    },
    {
     "name": "stderr",
     "output_type": "stream",
     "text": [
      "\r",
      "  7%|█████▉                                                                           | 22/300 [02:31<32:47,  7.08s/it]"
     ]
    },
    {
     "name": "stdout",
     "output_type": "stream",
     "text": [
      "{'activation': 'relu', 'batch_size': 18, 'dropout': 0.0, 'epochs': 500, 'first_neuron': 20, 'grid_downsample': 0.8, 'hidden_layers': 1, 'kernel_initializer': 'he_normal', 'last_activation': 'linear', 'lr': 0.22000000000000003, 'shapes': 'funnel'}\n"
     ]
    },
    {
     "name": "stderr",
     "output_type": "stream",
     "text": [
      "\r",
      "  8%|██████▏                                                                          | 23/300 [02:37<31:47,  6.89s/it]"
     ]
    },
    {
     "name": "stdout",
     "output_type": "stream",
     "text": [
      "{'activation': 'relu', 'batch_size': 14, 'dropout': 0.1, 'epochs': 500, 'first_neuron': 20, 'grid_downsample': 0.8, 'hidden_layers': 3, 'kernel_initializer': 'he_normal', 'last_activation': 'linear', 'lr': 0.38, 'shapes': 'funnel'}\n"
     ]
    },
    {
     "name": "stderr",
     "output_type": "stream",
     "text": [
      "\r",
      "  8%|██████▍                                                                          | 24/300 [02:46<33:59,  7.39s/it]"
     ]
    },
    {
     "name": "stdout",
     "output_type": "stream",
     "text": [
      "{'activation': 'relu', 'batch_size': 14, 'dropout': 0.1, 'epochs': 500, 'first_neuron': 10, 'grid_downsample': 0.8, 'hidden_layers': 1, 'kernel_initializer': 'he_normal', 'last_activation': 'linear', 'lr': 0.30000000000000004, 'shapes': 'brick'}\n"
     ]
    },
    {
     "name": "stderr",
     "output_type": "stream",
     "text": [
      "\r",
      "  8%|██████▊                                                                          | 25/300 [02:54<34:26,  7.51s/it]"
     ]
    },
    {
     "name": "stdout",
     "output_type": "stream",
     "text": [
      "{'activation': 'relu', 'batch_size': 10, 'dropout': 0.4, 'epochs': 500, 'first_neuron': 20, 'grid_downsample': 0.8, 'hidden_layers': 2, 'kernel_initializer': 'he_normal', 'last_activation': 'linear', 'lr': 0.42000000000000004, 'shapes': 'brick'}\n"
     ]
    },
    {
     "name": "stderr",
     "output_type": "stream",
     "text": [
      "\r",
      "  9%|███████                                                                          | 26/300 [03:03<37:12,  8.15s/it]"
     ]
    },
    {
     "name": "stdout",
     "output_type": "stream",
     "text": [
      "{'activation': 'relu', 'batch_size': 14, 'dropout': 0.1, 'epochs': 500, 'first_neuron': 10, 'grid_downsample': 0.8, 'hidden_layers': 3, 'kernel_initializer': 'he_normal', 'last_activation': 'linear', 'lr': 0.3400000000000001, 'shapes': 'brick'}\n"
     ]
    },
    {
     "name": "stderr",
     "output_type": "stream",
     "text": [
      "\r",
      "  9%|███████▎                                                                         | 27/300 [03:11<36:40,  8.06s/it]"
     ]
    },
    {
     "name": "stdout",
     "output_type": "stream",
     "text": [
      "{'activation': 'relu', 'batch_size': 18, 'dropout': 0.1, 'epochs': 500, 'first_neuron': 20, 'grid_downsample': 0.8, 'hidden_layers': 3, 'kernel_initializer': 'he_normal', 'last_activation': 'linear', 'lr': 0.1, 'shapes': 'funnel'}\n"
     ]
    },
    {
     "name": "stderr",
     "output_type": "stream",
     "text": [
      "\r",
      "  9%|███████▌                                                                         | 28/300 [03:19<36:15,  8.00s/it]"
     ]
    },
    {
     "name": "stdout",
     "output_type": "stream",
     "text": [
      "{'activation': 'relu', 'batch_size': 18, 'dropout': 0.2, 'epochs': 500, 'first_neuron': 20, 'grid_downsample': 0.8, 'hidden_layers': 1, 'kernel_initializer': 'he_normal', 'last_activation': 'linear', 'lr': 0.38, 'shapes': 'funnel'}\n"
     ]
    },
    {
     "name": "stderr",
     "output_type": "stream",
     "text": [
      "\r",
      " 10%|███████▊                                                                         | 29/300 [03:26<34:59,  7.75s/it]"
     ]
    },
    {
     "name": "stdout",
     "output_type": "stream",
     "text": [
      "{'activation': 'relu', 'batch_size': 26, 'dropout': 0.1, 'epochs': 500, 'first_neuron': 10, 'grid_downsample': 0.8, 'hidden_layers': 3, 'kernel_initializer': 'he_normal', 'last_activation': 'linear', 'lr': 0.18000000000000002, 'shapes': 'funnel'}\n"
     ]
    },
    {
     "name": "stderr",
     "output_type": "stream",
     "text": [
      "\r",
      " 10%|████████                                                                         | 30/300 [03:32<31:46,  7.06s/it]"
     ]
    },
    {
     "name": "stdout",
     "output_type": "stream",
     "text": [
      "{'activation': 'relu', 'batch_size': 18, 'dropout': 0.30000000000000004, 'epochs': 500, 'first_neuron': 20, 'grid_downsample': 0.8, 'hidden_layers': 3, 'kernel_initializer': 'he_normal', 'last_activation': 'linear', 'lr': 0.4600000000000001, 'shapes': 'brick'}\n"
     ]
    },
    {
     "name": "stderr",
     "output_type": "stream",
     "text": [
      "\r",
      " 10%|████████▎                                                                        | 31/300 [03:39<32:29,  7.25s/it]"
     ]
    },
    {
     "name": "stdout",
     "output_type": "stream",
     "text": [
      "{'activation': 'relu', 'batch_size': 14, 'dropout': 0.2, 'epochs': 500, 'first_neuron': 10, 'grid_downsample': 0.8, 'hidden_layers': 2, 'kernel_initializer': 'he_normal', 'last_activation': 'linear', 'lr': 0.14, 'shapes': 'funnel'}\n"
     ]
    },
    {
     "name": "stderr",
     "output_type": "stream",
     "text": [
      "\r",
      " 11%|████████▋                                                                        | 32/300 [03:48<34:18,  7.68s/it]"
     ]
    },
    {
     "name": "stdout",
     "output_type": "stream",
     "text": [
      "{'activation': 'relu', 'batch_size': 18, 'dropout': 0.30000000000000004, 'epochs': 500, 'first_neuron': 20, 'grid_downsample': 0.8, 'hidden_layers': 2, 'kernel_initializer': 'he_normal', 'last_activation': 'linear', 'lr': 0.30000000000000004, 'shapes': 'brick'}\n"
     ]
    },
    {
     "name": "stderr",
     "output_type": "stream",
     "text": [
      "\r",
      " 11%|████████▉                                                                        | 33/300 [03:55<33:00,  7.42s/it]"
     ]
    },
    {
     "name": "stdout",
     "output_type": "stream",
     "text": [
      "{'activation': 'relu', 'batch_size': 22, 'dropout': 0.0, 'epochs': 500, 'first_neuron': 20, 'grid_downsample': 0.8, 'hidden_layers': 2, 'kernel_initializer': 'he_normal', 'last_activation': 'linear', 'lr': 0.26, 'shapes': 'brick'}\n"
     ]
    },
    {
     "name": "stderr",
     "output_type": "stream",
     "text": [
      "\r",
      " 11%|█████████▏                                                                       | 34/300 [04:01<30:31,  6.89s/it]"
     ]
    },
    {
     "name": "stdout",
     "output_type": "stream",
     "text": [
      "{'activation': 'relu', 'batch_size': 22, 'dropout': 0.30000000000000004, 'epochs': 500, 'first_neuron': 20, 'grid_downsample': 0.8, 'hidden_layers': 3, 'kernel_initializer': 'he_normal', 'last_activation': 'linear', 'lr': 0.38, 'shapes': 'brick'}\n"
     ]
    },
    {
     "name": "stderr",
     "output_type": "stream",
     "text": [
      "\r",
      " 12%|█████████▍                                                                       | 35/300 [04:06<28:51,  6.54s/it]"
     ]
    },
    {
     "name": "stdout",
     "output_type": "stream",
     "text": [
      "{'activation': 'relu', 'batch_size': 14, 'dropout': 0.4, 'epochs': 500, 'first_neuron': 10, 'grid_downsample': 0.8, 'hidden_layers': 3, 'kernel_initializer': 'he_normal', 'last_activation': 'linear', 'lr': 0.26, 'shapes': 'funnel'}\n"
     ]
    },
    {
     "name": "stderr",
     "output_type": "stream",
     "text": [
      "\r",
      " 12%|█████████▋                                                                       | 36/300 [04:14<29:54,  6.80s/it]"
     ]
    },
    {
     "name": "stdout",
     "output_type": "stream",
     "text": [
      "{'activation': 'relu', 'batch_size': 18, 'dropout': 0.2, 'epochs': 500, 'first_neuron': 20, 'grid_downsample': 0.8, 'hidden_layers': 2, 'kernel_initializer': 'he_normal', 'last_activation': 'linear', 'lr': 0.42000000000000004, 'shapes': 'brick'}\n"
     ]
    },
    {
     "name": "stderr",
     "output_type": "stream",
     "text": [
      "\r",
      " 12%|█████████▉                                                                       | 37/300 [04:20<28:59,  6.61s/it]"
     ]
    },
    {
     "name": "stdout",
     "output_type": "stream",
     "text": [
      "{'activation': 'relu', 'batch_size': 14, 'dropout': 0.0, 'epochs': 500, 'first_neuron': 10, 'grid_downsample': 0.8, 'hidden_layers': 3, 'kernel_initializer': 'he_normal', 'last_activation': 'linear', 'lr': 0.42000000000000004, 'shapes': 'funnel'}\n"
     ]
    },
    {
     "name": "stderr",
     "output_type": "stream",
     "text": [
      "\r",
      " 13%|██████████▎                                                                      | 38/300 [04:27<29:50,  6.83s/it]"
     ]
    },
    {
     "name": "stdout",
     "output_type": "stream",
     "text": [
      "{'activation': 'relu', 'batch_size': 26, 'dropout': 0.2, 'epochs': 500, 'first_neuron': 10, 'grid_downsample': 0.8, 'hidden_layers': 1, 'kernel_initializer': 'he_normal', 'last_activation': 'linear', 'lr': 0.42000000000000004, 'shapes': 'brick'}\n"
     ]
    },
    {
     "name": "stderr",
     "output_type": "stream",
     "text": [
      "\r",
      " 13%|██████████▌                                                                      | 39/300 [04:32<26:52,  6.18s/it]"
     ]
    },
    {
     "name": "stdout",
     "output_type": "stream",
     "text": [
      "{'activation': 'relu', 'batch_size': 26, 'dropout': 0.1, 'epochs': 500, 'first_neuron': 20, 'grid_downsample': 0.8, 'hidden_layers': 2, 'kernel_initializer': 'he_normal', 'last_activation': 'linear', 'lr': 0.38, 'shapes': 'funnel'}\n"
     ]
    },
    {
     "name": "stderr",
     "output_type": "stream",
     "text": [
      "\r",
      " 13%|██████████▊                                                                      | 40/300 [04:37<24:52,  5.74s/it]"
     ]
    },
    {
     "name": "stdout",
     "output_type": "stream",
     "text": [
      "{'activation': 'relu', 'batch_size': 10, 'dropout': 0.4, 'epochs': 500, 'first_neuron': 10, 'grid_downsample': 0.8, 'hidden_layers': 2, 'kernel_initializer': 'he_normal', 'last_activation': 'linear', 'lr': 0.26, 'shapes': 'brick'}\n"
     ]
    },
    {
     "name": "stderr",
     "output_type": "stream",
     "text": [
      "\r",
      " 14%|███████████                                                                      | 41/300 [04:46<29:18,  6.79s/it]"
     ]
    },
    {
     "name": "stdout",
     "output_type": "stream",
     "text": [
      "{'activation': 'relu', 'batch_size': 14, 'dropout': 0.1, 'epochs': 500, 'first_neuron': 10, 'grid_downsample': 0.8, 'hidden_layers': 1, 'kernel_initializer': 'he_normal', 'last_activation': 'linear', 'lr': 0.4600000000000001, 'shapes': 'funnel'}\n"
     ]
    },
    {
     "name": "stderr",
     "output_type": "stream",
     "text": [
      "\r",
      " 14%|███████████▎                                                                     | 42/300 [04:53<30:00,  6.98s/it]"
     ]
    },
    {
     "name": "stdout",
     "output_type": "stream",
     "text": [
      "{'activation': 'relu', 'batch_size': 10, 'dropout': 0.0, 'epochs': 500, 'first_neuron': 10, 'grid_downsample': 0.8, 'hidden_layers': 2, 'kernel_initializer': 'he_normal', 'last_activation': 'linear', 'lr': 0.14, 'shapes': 'funnel'}\n"
     ]
    },
    {
     "name": "stderr",
     "output_type": "stream",
     "text": [
      "\r",
      " 14%|███████████▌                                                                     | 43/300 [05:02<32:34,  7.60s/it]"
     ]
    },
    {
     "name": "stdout",
     "output_type": "stream",
     "text": [
      "{'activation': 'relu', 'batch_size': 26, 'dropout': 0.0, 'epochs': 500, 'first_neuron': 20, 'grid_downsample': 0.8, 'hidden_layers': 1, 'kernel_initializer': 'he_normal', 'last_activation': 'linear', 'lr': 0.26, 'shapes': 'brick'}\n"
     ]
    },
    {
     "name": "stderr",
     "output_type": "stream",
     "text": [
      "\r",
      " 15%|███████████▉                                                                     | 44/300 [05:07<28:47,  6.75s/it]"
     ]
    },
    {
     "name": "stdout",
     "output_type": "stream",
     "text": [
      "{'activation': 'relu', 'batch_size': 18, 'dropout': 0.30000000000000004, 'epochs': 500, 'first_neuron': 20, 'grid_downsample': 0.8, 'hidden_layers': 1, 'kernel_initializer': 'he_normal', 'last_activation': 'linear', 'lr': 0.1, 'shapes': 'brick'}\n"
     ]
    },
    {
     "name": "stderr",
     "output_type": "stream",
     "text": [
      "\r",
      " 15%|████████████▏                                                                    | 45/300 [05:13<28:04,  6.61s/it]"
     ]
    },
    {
     "name": "stdout",
     "output_type": "stream",
     "text": [
      "{'activation': 'relu', 'batch_size': 14, 'dropout': 0.0, 'epochs': 500, 'first_neuron': 10, 'grid_downsample': 0.8, 'hidden_layers': 1, 'kernel_initializer': 'he_normal', 'last_activation': 'linear', 'lr': 0.18000000000000002, 'shapes': 'brick'}\n"
     ]
    },
    {
     "name": "stderr",
     "output_type": "stream",
     "text": [
      "\r",
      " 15%|████████████▍                                                                    | 46/300 [05:21<28:44,  6.79s/it]"
     ]
    },
    {
     "name": "stdout",
     "output_type": "stream",
     "text": [
      "{'activation': 'relu', 'batch_size': 22, 'dropout': 0.4, 'epochs': 500, 'first_neuron': 10, 'grid_downsample': 0.8, 'hidden_layers': 2, 'kernel_initializer': 'he_normal', 'last_activation': 'linear', 'lr': 0.4600000000000001, 'shapes': 'brick'}\n"
     ]
    },
    {
     "name": "stderr",
     "output_type": "stream",
     "text": [
      "\r",
      " 16%|████████████▋                                                                    | 47/300 [05:26<26:57,  6.39s/it]"
     ]
    },
    {
     "name": "stdout",
     "output_type": "stream",
     "text": [
      "{'activation': 'relu', 'batch_size': 14, 'dropout': 0.0, 'epochs': 500, 'first_neuron': 20, 'grid_downsample': 0.8, 'hidden_layers': 1, 'kernel_initializer': 'he_normal', 'last_activation': 'linear', 'lr': 0.18000000000000002, 'shapes': 'funnel'}\n"
     ]
    },
    {
     "name": "stderr",
     "output_type": "stream",
     "text": [
      "\r",
      " 16%|████████████▉                                                                    | 48/300 [05:33<27:54,  6.65s/it]"
     ]
    },
    {
     "name": "stdout",
     "output_type": "stream",
     "text": [
      "{'activation': 'relu', 'batch_size': 14, 'dropout': 0.1, 'epochs': 500, 'first_neuron': 20, 'grid_downsample': 0.8, 'hidden_layers': 1, 'kernel_initializer': 'he_normal', 'last_activation': 'linear', 'lr': 0.26, 'shapes': 'funnel'}\n"
     ]
    },
    {
     "name": "stderr",
     "output_type": "stream",
     "text": [
      "\r",
      " 16%|█████████████▏                                                                   | 49/300 [05:41<29:13,  6.99s/it]"
     ]
    },
    {
     "name": "stdout",
     "output_type": "stream",
     "text": [
      "{'activation': 'relu', 'batch_size': 14, 'dropout': 0.0, 'epochs': 500, 'first_neuron': 20, 'grid_downsample': 0.8, 'hidden_layers': 2, 'kernel_initializer': 'he_normal', 'last_activation': 'linear', 'lr': 0.18000000000000002, 'shapes': 'brick'}\n"
     ]
    },
    {
     "name": "stderr",
     "output_type": "stream",
     "text": [
      "\r",
      " 17%|█████████████▌                                                                   | 50/300 [05:48<29:34,  7.10s/it]"
     ]
    },
    {
     "name": "stdout",
     "output_type": "stream",
     "text": [
      "{'activation': 'relu', 'batch_size': 10, 'dropout': 0.0, 'epochs': 500, 'first_neuron': 20, 'grid_downsample': 0.8, 'hidden_layers': 3, 'kernel_initializer': 'he_normal', 'last_activation': 'linear', 'lr': 0.22000000000000003, 'shapes': 'funnel'}\n"
     ]
    },
    {
     "name": "stderr",
     "output_type": "stream",
     "text": [
      "\r",
      " 17%|█████████████▊                                                                   | 51/300 [05:57<31:34,  7.61s/it]"
     ]
    },
    {
     "name": "stdout",
     "output_type": "stream",
     "text": [
      "{'activation': 'relu', 'batch_size': 26, 'dropout': 0.2, 'epochs': 500, 'first_neuron': 20, 'grid_downsample': 0.8, 'hidden_layers': 2, 'kernel_initializer': 'he_normal', 'last_activation': 'linear', 'lr': 0.22000000000000003, 'shapes': 'brick'}\n"
     ]
    },
    {
     "name": "stderr",
     "output_type": "stream",
     "text": [
      "\r",
      " 17%|██████████████                                                                   | 52/300 [06:02<27:52,  6.74s/it]"
     ]
    },
    {
     "name": "stdout",
     "output_type": "stream",
     "text": [
      "{'activation': 'relu', 'batch_size': 14, 'dropout': 0.30000000000000004, 'epochs': 500, 'first_neuron': 10, 'grid_downsample': 0.8, 'hidden_layers': 1, 'kernel_initializer': 'he_normal', 'last_activation': 'linear', 'lr': 0.30000000000000004, 'shapes': 'funnel'}\n"
     ]
    },
    {
     "name": "stderr",
     "output_type": "stream",
     "text": [
      "\r",
      " 18%|██████████████▎                                                                  | 53/300 [06:10<28:44,  6.98s/it]"
     ]
    },
    {
     "name": "stdout",
     "output_type": "stream",
     "text": [
      "{'activation': 'relu', 'batch_size': 22, 'dropout': 0.0, 'epochs': 500, 'first_neuron': 10, 'grid_downsample': 0.8, 'hidden_layers': 2, 'kernel_initializer': 'he_normal', 'last_activation': 'linear', 'lr': 0.38, 'shapes': 'funnel'}\n"
     ]
    },
    {
     "name": "stderr",
     "output_type": "stream",
     "text": [
      "\r",
      " 18%|██████████████▌                                                                  | 54/300 [06:15<26:40,  6.51s/it]"
     ]
    },
    {
     "name": "stdout",
     "output_type": "stream",
     "text": [
      "{'activation': 'relu', 'batch_size': 26, 'dropout': 0.1, 'epochs': 500, 'first_neuron': 20, 'grid_downsample': 0.8, 'hidden_layers': 2, 'kernel_initializer': 'he_normal', 'last_activation': 'linear', 'lr': 0.3400000000000001, 'shapes': 'brick'}\n"
     ]
    },
    {
     "name": "stderr",
     "output_type": "stream",
     "text": [
      "\r",
      " 18%|██████████████▊                                                                  | 55/300 [06:20<24:40,  6.04s/it]"
     ]
    },
    {
     "name": "stdout",
     "output_type": "stream",
     "text": [
      "{'activation': 'relu', 'batch_size': 18, 'dropout': 0.30000000000000004, 'epochs': 500, 'first_neuron': 10, 'grid_downsample': 0.8, 'hidden_layers': 2, 'kernel_initializer': 'he_normal', 'last_activation': 'linear', 'lr': 0.22000000000000003, 'shapes': 'funnel'}\n"
     ]
    },
    {
     "name": "stderr",
     "output_type": "stream",
     "text": [
      "\r",
      " 19%|███████████████                                                                  | 56/300 [06:26<25:12,  6.20s/it]"
     ]
    },
    {
     "name": "stdout",
     "output_type": "stream",
     "text": [
      "{'activation': 'relu', 'batch_size': 10, 'dropout': 0.4, 'epochs': 500, 'first_neuron': 10, 'grid_downsample': 0.8, 'hidden_layers': 2, 'kernel_initializer': 'he_normal', 'last_activation': 'linear', 'lr': 0.4600000000000001, 'shapes': 'brick'}\n"
     ]
    },
    {
     "name": "stderr",
     "output_type": "stream",
     "text": [
      "\r",
      " 19%|███████████████▍                                                                 | 57/300 [06:36<29:24,  7.26s/it]"
     ]
    },
    {
     "name": "stdout",
     "output_type": "stream",
     "text": [
      "{'activation': 'relu', 'batch_size': 26, 'dropout': 0.1, 'epochs': 500, 'first_neuron': 10, 'grid_downsample': 0.8, 'hidden_layers': 2, 'kernel_initializer': 'he_normal', 'last_activation': 'linear', 'lr': 0.38, 'shapes': 'funnel'}\n"
     ]
    },
    {
     "name": "stderr",
     "output_type": "stream",
     "text": [
      "\r",
      " 19%|███████████████▋                                                                 | 58/300 [06:41<26:11,  6.49s/it]"
     ]
    },
    {
     "name": "stdout",
     "output_type": "stream",
     "text": [
      "{'activation': 'relu', 'batch_size': 22, 'dropout': 0.30000000000000004, 'epochs': 500, 'first_neuron': 20, 'grid_downsample': 0.8, 'hidden_layers': 3, 'kernel_initializer': 'he_normal', 'last_activation': 'linear', 'lr': 0.26, 'shapes': 'brick'}\n"
     ]
    },
    {
     "name": "stderr",
     "output_type": "stream",
     "text": [
      "\r",
      " 20%|███████████████▉                                                                 | 59/300 [06:47<25:06,  6.25s/it]"
     ]
    },
    {
     "name": "stdout",
     "output_type": "stream",
     "text": [
      "{'activation': 'relu', 'batch_size': 10, 'dropout': 0.1, 'epochs': 500, 'first_neuron': 20, 'grid_downsample': 0.8, 'hidden_layers': 2, 'kernel_initializer': 'he_normal', 'last_activation': 'linear', 'lr': 0.38, 'shapes': 'brick'}\n"
     ]
    },
    {
     "name": "stderr",
     "output_type": "stream",
     "text": [
      "\r",
      " 20%|████████████████▏                                                                | 60/300 [06:56<28:54,  7.23s/it]"
     ]
    },
    {
     "name": "stdout",
     "output_type": "stream",
     "text": [
      "{'activation': 'relu', 'batch_size': 26, 'dropout': 0.0, 'epochs': 500, 'first_neuron': 20, 'grid_downsample': 0.8, 'hidden_layers': 2, 'kernel_initializer': 'he_normal', 'last_activation': 'linear', 'lr': 0.38, 'shapes': 'brick'}\n"
     ]
    },
    {
     "name": "stderr",
     "output_type": "stream",
     "text": [
      "\r",
      " 20%|████████████████▍                                                                | 61/300 [07:01<25:40,  6.44s/it]"
     ]
    },
    {
     "name": "stdout",
     "output_type": "stream",
     "text": [
      "{'activation': 'relu', 'batch_size': 14, 'dropout': 0.30000000000000004, 'epochs': 500, 'first_neuron': 10, 'grid_downsample': 0.8, 'hidden_layers': 3, 'kernel_initializer': 'he_normal', 'last_activation': 'linear', 'lr': 0.3400000000000001, 'shapes': 'brick'}\n"
     ]
    },
    {
     "name": "stderr",
     "output_type": "stream",
     "text": [
      "\r",
      " 21%|████████████████▋                                                                | 62/300 [07:08<27:01,  6.81s/it]"
     ]
    },
    {
     "name": "stdout",
     "output_type": "stream",
     "text": [
      "{'activation': 'relu', 'batch_size': 26, 'dropout': 0.4, 'epochs': 500, 'first_neuron': 10, 'grid_downsample': 0.8, 'hidden_layers': 3, 'kernel_initializer': 'he_normal', 'last_activation': 'linear', 'lr': 0.4600000000000001, 'shapes': 'brick'}\n"
     ]
    },
    {
     "name": "stderr",
     "output_type": "stream",
     "text": [
      "\r",
      " 21%|█████████████████                                                                | 63/300 [07:13<24:23,  6.18s/it]"
     ]
    },
    {
     "name": "stdout",
     "output_type": "stream",
     "text": [
      "{'activation': 'relu', 'batch_size': 26, 'dropout': 0.1, 'epochs': 500, 'first_neuron': 10, 'grid_downsample': 0.8, 'hidden_layers': 1, 'kernel_initializer': 'he_normal', 'last_activation': 'linear', 'lr': 0.38, 'shapes': 'brick'}\n"
     ]
    },
    {
     "name": "stderr",
     "output_type": "stream",
     "text": [
      "\r",
      " 21%|█████████████████▎                                                               | 64/300 [07:18<22:35,  5.74s/it]"
     ]
    },
    {
     "name": "stdout",
     "output_type": "stream",
     "text": [
      "{'activation': 'relu', 'batch_size': 22, 'dropout': 0.2, 'epochs': 500, 'first_neuron': 10, 'grid_downsample': 0.8, 'hidden_layers': 2, 'kernel_initializer': 'he_normal', 'last_activation': 'linear', 'lr': 0.42000000000000004, 'shapes': 'funnel'}\n"
     ]
    },
    {
     "name": "stderr",
     "output_type": "stream",
     "text": [
      "\r",
      " 22%|█████████████████▌                                                               | 65/300 [07:23<22:12,  5.67s/it]"
     ]
    },
    {
     "name": "stdout",
     "output_type": "stream",
     "text": [
      "{'activation': 'relu', 'batch_size': 26, 'dropout': 0.4, 'epochs': 500, 'first_neuron': 10, 'grid_downsample': 0.8, 'hidden_layers': 3, 'kernel_initializer': 'he_normal', 'last_activation': 'linear', 'lr': 0.18000000000000002, 'shapes': 'brick'}\n"
     ]
    },
    {
     "name": "stderr",
     "output_type": "stream",
     "text": [
      "\r",
      " 22%|█████████████████▊                                                               | 66/300 [07:28<21:29,  5.51s/it]"
     ]
    },
    {
     "name": "stdout",
     "output_type": "stream",
     "text": [
      "{'activation': 'relu', 'batch_size': 14, 'dropout': 0.4, 'epochs': 500, 'first_neuron': 20, 'grid_downsample': 0.8, 'hidden_layers': 3, 'kernel_initializer': 'he_normal', 'last_activation': 'linear', 'lr': 0.22000000000000003, 'shapes': 'funnel'}\n"
     ]
    },
    {
     "name": "stderr",
     "output_type": "stream",
     "text": [
      "\r",
      " 22%|██████████████████                                                               | 67/300 [07:38<25:34,  6.59s/it]"
     ]
    },
    {
     "name": "stdout",
     "output_type": "stream",
     "text": [
      "{'activation': 'relu', 'batch_size': 26, 'dropout': 0.30000000000000004, 'epochs': 500, 'first_neuron': 20, 'grid_downsample': 0.8, 'hidden_layers': 1, 'kernel_initializer': 'he_normal', 'last_activation': 'linear', 'lr': 0.18000000000000002, 'shapes': 'funnel'}\n"
     ]
    },
    {
     "name": "stderr",
     "output_type": "stream",
     "text": [
      "\r",
      " 23%|██████████████████▎                                                              | 68/300 [07:43<23:42,  6.13s/it]"
     ]
    },
    {
     "name": "stdout",
     "output_type": "stream",
     "text": [
      "{'activation': 'relu', 'batch_size': 26, 'dropout': 0.0, 'epochs': 500, 'first_neuron': 10, 'grid_downsample': 0.8, 'hidden_layers': 1, 'kernel_initializer': 'he_normal', 'last_activation': 'linear', 'lr': 0.4600000000000001, 'shapes': 'brick'}\n"
     ]
    },
    {
     "name": "stderr",
     "output_type": "stream",
     "text": [
      "\r",
      " 23%|██████████████████▋                                                              | 69/300 [07:47<21:56,  5.70s/it]"
     ]
    },
    {
     "name": "stdout",
     "output_type": "stream",
     "text": [
      "{'activation': 'relu', 'batch_size': 18, 'dropout': 0.1, 'epochs': 500, 'first_neuron': 20, 'grid_downsample': 0.8, 'hidden_layers': 1, 'kernel_initializer': 'he_normal', 'last_activation': 'linear', 'lr': 0.22000000000000003, 'shapes': 'funnel'}\n"
     ]
    },
    {
     "name": "stderr",
     "output_type": "stream",
     "text": [
      "\r",
      " 23%|██████████████████▉                                                              | 70/300 [07:54<22:41,  5.92s/it]"
     ]
    },
    {
     "name": "stdout",
     "output_type": "stream",
     "text": [
      "{'activation': 'relu', 'batch_size': 22, 'dropout': 0.30000000000000004, 'epochs': 500, 'first_neuron': 10, 'grid_downsample': 0.8, 'hidden_layers': 1, 'kernel_initializer': 'he_normal', 'last_activation': 'linear', 'lr': 0.14, 'shapes': 'funnel'}\n"
     ]
    },
    {
     "name": "stderr",
     "output_type": "stream",
     "text": [
      "\r",
      " 24%|███████████████████▏                                                             | 71/300 [07:59<22:12,  5.82s/it]"
     ]
    },
    {
     "name": "stdout",
     "output_type": "stream",
     "text": [
      "{'activation': 'relu', 'batch_size': 26, 'dropout': 0.30000000000000004, 'epochs': 500, 'first_neuron': 10, 'grid_downsample': 0.8, 'hidden_layers': 2, 'kernel_initializer': 'he_normal', 'last_activation': 'linear', 'lr': 0.3400000000000001, 'shapes': 'brick'}\n"
     ]
    },
    {
     "name": "stderr",
     "output_type": "stream",
     "text": [
      "\r",
      " 24%|███████████████████▍                                                             | 72/300 [08:04<20:56,  5.51s/it]"
     ]
    },
    {
     "name": "stdout",
     "output_type": "stream",
     "text": [
      "{'activation': 'relu', 'batch_size': 18, 'dropout': 0.1, 'epochs': 500, 'first_neuron': 20, 'grid_downsample': 0.8, 'hidden_layers': 2, 'kernel_initializer': 'he_normal', 'last_activation': 'linear', 'lr': 0.22000000000000003, 'shapes': 'brick'}\n"
     ]
    },
    {
     "name": "stderr",
     "output_type": "stream",
     "text": [
      "\r",
      " 24%|███████████████████▋                                                             | 73/300 [08:10<21:45,  5.75s/it]"
     ]
    },
    {
     "name": "stdout",
     "output_type": "stream",
     "text": [
      "{'activation': 'relu', 'batch_size': 22, 'dropout': 0.30000000000000004, 'epochs': 500, 'first_neuron': 20, 'grid_downsample': 0.8, 'hidden_layers': 1, 'kernel_initializer': 'he_normal', 'last_activation': 'linear', 'lr': 0.1, 'shapes': 'funnel'}\n"
     ]
    },
    {
     "name": "stderr",
     "output_type": "stream",
     "text": [
      "\r",
      " 25%|███████████████████▉                                                             | 74/300 [08:16<21:17,  5.65s/it]"
     ]
    },
    {
     "name": "stdout",
     "output_type": "stream",
     "text": [
      "{'activation': 'relu', 'batch_size': 18, 'dropout': 0.2, 'epochs': 500, 'first_neuron': 10, 'grid_downsample': 0.8, 'hidden_layers': 3, 'kernel_initializer': 'he_normal', 'last_activation': 'linear', 'lr': 0.22000000000000003, 'shapes': 'brick'}\n"
     ]
    },
    {
     "name": "stderr",
     "output_type": "stream",
     "text": [
      "\r",
      " 25%|████████████████████▎                                                            | 75/300 [08:22<22:02,  5.88s/it]"
     ]
    },
    {
     "name": "stdout",
     "output_type": "stream",
     "text": [
      "{'activation': 'relu', 'batch_size': 22, 'dropout': 0.1, 'epochs': 500, 'first_neuron': 20, 'grid_downsample': 0.8, 'hidden_layers': 1, 'kernel_initializer': 'he_normal', 'last_activation': 'linear', 'lr': 0.1, 'shapes': 'brick'}\n"
     ]
    },
    {
     "name": "stderr",
     "output_type": "stream",
     "text": [
      "\r",
      " 25%|████████████████████▌                                                            | 76/300 [08:28<21:43,  5.82s/it]"
     ]
    },
    {
     "name": "stdout",
     "output_type": "stream",
     "text": [
      "{'activation': 'relu', 'batch_size': 18, 'dropout': 0.30000000000000004, 'epochs': 500, 'first_neuron': 20, 'grid_downsample': 0.8, 'hidden_layers': 2, 'kernel_initializer': 'he_normal', 'last_activation': 'linear', 'lr': 0.18000000000000002, 'shapes': 'funnel'}\n"
     ]
    },
    {
     "name": "stderr",
     "output_type": "stream",
     "text": [
      "\r",
      " 26%|████████████████████▊                                                            | 77/300 [08:34<22:05,  5.95s/it]"
     ]
    },
    {
     "name": "stdout",
     "output_type": "stream",
     "text": [
      "{'activation': 'relu', 'batch_size': 10, 'dropout': 0.2, 'epochs': 500, 'first_neuron': 10, 'grid_downsample': 0.8, 'hidden_layers': 1, 'kernel_initializer': 'he_normal', 'last_activation': 'linear', 'lr': 0.3400000000000001, 'shapes': 'funnel'}\n"
     ]
    },
    {
     "name": "stderr",
     "output_type": "stream",
     "text": [
      "\r",
      " 26%|█████████████████████                                                            | 78/300 [08:44<26:30,  7.16s/it]"
     ]
    },
    {
     "name": "stdout",
     "output_type": "stream",
     "text": [
      "{'activation': 'relu', 'batch_size': 10, 'dropout': 0.30000000000000004, 'epochs': 500, 'first_neuron': 10, 'grid_downsample': 0.8, 'hidden_layers': 3, 'kernel_initializer': 'he_normal', 'last_activation': 'linear', 'lr': 0.38, 'shapes': 'funnel'}\n"
     ]
    },
    {
     "name": "stderr",
     "output_type": "stream",
     "text": [
      "\r",
      " 26%|█████████████████████▎                                                           | 79/300 [08:54<28:50,  7.83s/it]"
     ]
    },
    {
     "name": "stdout",
     "output_type": "stream",
     "text": [
      "{'activation': 'relu', 'batch_size': 18, 'dropout': 0.0, 'epochs': 500, 'first_neuron': 10, 'grid_downsample': 0.8, 'hidden_layers': 2, 'kernel_initializer': 'he_normal', 'last_activation': 'linear', 'lr': 0.26, 'shapes': 'brick'}\n"
     ]
    },
    {
     "name": "stderr",
     "output_type": "stream",
     "text": [
      "\r",
      " 27%|█████████████████████▌                                                           | 80/300 [09:00<26:41,  7.28s/it]"
     ]
    },
    {
     "name": "stdout",
     "output_type": "stream",
     "text": [
      "{'activation': 'relu', 'batch_size': 26, 'dropout': 0.2, 'epochs': 500, 'first_neuron': 10, 'grid_downsample': 0.8, 'hidden_layers': 2, 'kernel_initializer': 'he_normal', 'last_activation': 'linear', 'lr': 0.26, 'shapes': 'brick'}\n"
     ]
    },
    {
     "name": "stderr",
     "output_type": "stream",
     "text": [
      "\r",
      " 27%|█████████████████████▊                                                           | 81/300 [09:04<23:55,  6.56s/it]"
     ]
    },
    {
     "name": "stdout",
     "output_type": "stream",
     "text": [
      "{'activation': 'relu', 'batch_size': 18, 'dropout': 0.4, 'epochs': 500, 'first_neuron': 20, 'grid_downsample': 0.8, 'hidden_layers': 2, 'kernel_initializer': 'he_normal', 'last_activation': 'linear', 'lr': 0.4600000000000001, 'shapes': 'funnel'}\n"
     ]
    },
    {
     "name": "stderr",
     "output_type": "stream",
     "text": [
      "\r",
      " 27%|██████████████████████▏                                                          | 82/300 [09:11<23:39,  6.51s/it]"
     ]
    },
    {
     "name": "stdout",
     "output_type": "stream",
     "text": [
      "{'activation': 'relu', 'batch_size': 14, 'dropout': 0.30000000000000004, 'epochs': 500, 'first_neuron': 20, 'grid_downsample': 0.8, 'hidden_layers': 1, 'kernel_initializer': 'he_normal', 'last_activation': 'linear', 'lr': 0.38, 'shapes': 'brick'}\n"
     ]
    },
    {
     "name": "stderr",
     "output_type": "stream",
     "text": [
      "\r",
      " 28%|██████████████████████▍                                                          | 83/300 [09:18<24:41,  6.83s/it]"
     ]
    },
    {
     "name": "stdout",
     "output_type": "stream",
     "text": [
      "{'activation': 'relu', 'batch_size': 14, 'dropout': 0.30000000000000004, 'epochs': 500, 'first_neuron': 10, 'grid_downsample': 0.8, 'hidden_layers': 2, 'kernel_initializer': 'he_normal', 'last_activation': 'linear', 'lr': 0.14, 'shapes': 'brick'}\n"
     ]
    },
    {
     "name": "stderr",
     "output_type": "stream",
     "text": [
      "\r",
      " 28%|██████████████████████▋                                                          | 84/300 [09:26<25:30,  7.08s/it]"
     ]
    },
    {
     "name": "stdout",
     "output_type": "stream",
     "text": [
      "{'activation': 'relu', 'batch_size': 26, 'dropout': 0.4, 'epochs': 500, 'first_neuron': 10, 'grid_downsample': 0.8, 'hidden_layers': 1, 'kernel_initializer': 'he_normal', 'last_activation': 'linear', 'lr': 0.38, 'shapes': 'funnel'}\n"
     ]
    },
    {
     "name": "stderr",
     "output_type": "stream",
     "text": [
      "\r",
      " 28%|██████████████████████▉                                                          | 85/300 [09:31<22:46,  6.36s/it]"
     ]
    },
    {
     "name": "stdout",
     "output_type": "stream",
     "text": [
      "{'activation': 'relu', 'batch_size': 26, 'dropout': 0.4, 'epochs': 500, 'first_neuron': 10, 'grid_downsample': 0.8, 'hidden_layers': 3, 'kernel_initializer': 'he_normal', 'last_activation': 'linear', 'lr': 0.22000000000000003, 'shapes': 'funnel'}\n"
     ]
    },
    {
     "name": "stderr",
     "output_type": "stream",
     "text": [
      "\r",
      " 29%|███████████████████████▏                                                         | 86/300 [09:36<21:01,  5.90s/it]"
     ]
    },
    {
     "name": "stdout",
     "output_type": "stream",
     "text": [
      "{'activation': 'relu', 'batch_size': 18, 'dropout': 0.4, 'epochs': 500, 'first_neuron': 20, 'grid_downsample': 0.8, 'hidden_layers': 3, 'kernel_initializer': 'he_normal', 'last_activation': 'linear', 'lr': 0.30000000000000004, 'shapes': 'funnel'}\n"
     ]
    },
    {
     "name": "stderr",
     "output_type": "stream",
     "text": [
      "\r",
      " 29%|███████████████████████▍                                                         | 87/300 [09:42<21:42,  6.11s/it]"
     ]
    },
    {
     "name": "stdout",
     "output_type": "stream",
     "text": [
      "{'activation': 'relu', 'batch_size': 22, 'dropout': 0.2, 'epochs': 500, 'first_neuron': 20, 'grid_downsample': 0.8, 'hidden_layers': 1, 'kernel_initializer': 'he_normal', 'last_activation': 'linear', 'lr': 0.14, 'shapes': 'funnel'}\n"
     ]
    },
    {
     "name": "stderr",
     "output_type": "stream",
     "text": [
      "\r",
      " 29%|███████████████████████▊                                                         | 88/300 [09:49<21:54,  6.20s/it]"
     ]
    },
    {
     "name": "stdout",
     "output_type": "stream",
     "text": [
      "{'activation': 'relu', 'batch_size': 22, 'dropout': 0.1, 'epochs': 500, 'first_neuron': 20, 'grid_downsample': 0.8, 'hidden_layers': 3, 'kernel_initializer': 'he_normal', 'last_activation': 'linear', 'lr': 0.1, 'shapes': 'funnel'}\n"
     ]
    },
    {
     "name": "stderr",
     "output_type": "stream",
     "text": [
      "\r",
      " 30%|████████████████████████                                                         | 89/300 [09:55<21:41,  6.17s/it]"
     ]
    },
    {
     "name": "stdout",
     "output_type": "stream",
     "text": [
      "{'activation': 'relu', 'batch_size': 22, 'dropout': 0.4, 'epochs': 500, 'first_neuron': 20, 'grid_downsample': 0.8, 'hidden_layers': 3, 'kernel_initializer': 'he_normal', 'last_activation': 'linear', 'lr': 0.22000000000000003, 'shapes': 'brick'}\n"
     ]
    },
    {
     "name": "stderr",
     "output_type": "stream",
     "text": [
      "\r",
      " 30%|████████████████████████▎                                                        | 90/300 [10:00<20:56,  5.98s/it]"
     ]
    },
    {
     "name": "stdout",
     "output_type": "stream",
     "text": [
      "{'activation': 'relu', 'batch_size': 14, 'dropout': 0.30000000000000004, 'epochs': 500, 'first_neuron': 20, 'grid_downsample': 0.8, 'hidden_layers': 2, 'kernel_initializer': 'he_normal', 'last_activation': 'linear', 'lr': 0.1, 'shapes': 'funnel'}\n"
     ]
    },
    {
     "name": "stderr",
     "output_type": "stream",
     "text": [
      "\r",
      " 30%|████████████████████████▌                                                        | 91/300 [10:08<22:29,  6.46s/it]"
     ]
    },
    {
     "name": "stdout",
     "output_type": "stream",
     "text": [
      "{'activation': 'relu', 'batch_size': 14, 'dropout': 0.0, 'epochs': 500, 'first_neuron': 10, 'grid_downsample': 0.8, 'hidden_layers': 1, 'kernel_initializer': 'he_normal', 'last_activation': 'linear', 'lr': 0.14, 'shapes': 'brick'}\n"
     ]
    },
    {
     "name": "stderr",
     "output_type": "stream",
     "text": [
      "\r",
      " 31%|████████████████████████▊                                                        | 92/300 [10:15<23:11,  6.69s/it]"
     ]
    },
    {
     "name": "stdout",
     "output_type": "stream",
     "text": [
      "{'activation': 'relu', 'batch_size': 10, 'dropout': 0.1, 'epochs': 500, 'first_neuron': 20, 'grid_downsample': 0.8, 'hidden_layers': 3, 'kernel_initializer': 'he_normal', 'last_activation': 'linear', 'lr': 0.4600000000000001, 'shapes': 'brick'}\n"
     ]
    },
    {
     "name": "stderr",
     "output_type": "stream",
     "text": [
      "\r",
      " 31%|█████████████████████████                                                        | 93/300 [10:24<25:37,  7.43s/it]"
     ]
    },
    {
     "name": "stdout",
     "output_type": "stream",
     "text": [
      "{'activation': 'relu', 'batch_size': 26, 'dropout': 0.30000000000000004, 'epochs': 500, 'first_neuron': 10, 'grid_downsample': 0.8, 'hidden_layers': 1, 'kernel_initializer': 'he_normal', 'last_activation': 'linear', 'lr': 0.26, 'shapes': 'brick'}\n"
     ]
    },
    {
     "name": "stderr",
     "output_type": "stream",
     "text": [
      "\r",
      " 31%|█████████████████████████▍                                                       | 94/300 [10:29<22:37,  6.59s/it]"
     ]
    },
    {
     "name": "stdout",
     "output_type": "stream",
     "text": [
      "{'activation': 'relu', 'batch_size': 22, 'dropout': 0.4, 'epochs': 500, 'first_neuron': 20, 'grid_downsample': 0.8, 'hidden_layers': 3, 'kernel_initializer': 'he_normal', 'last_activation': 'linear', 'lr': 0.42000000000000004, 'shapes': 'funnel'}\n"
     ]
    },
    {
     "name": "stderr",
     "output_type": "stream",
     "text": [
      "\r",
      " 32%|█████████████████████████▋                                                       | 95/300 [10:34<21:31,  6.30s/it]"
     ]
    },
    {
     "name": "stdout",
     "output_type": "stream",
     "text": [
      "{'activation': 'relu', 'batch_size': 18, 'dropout': 0.1, 'epochs': 500, 'first_neuron': 10, 'grid_downsample': 0.8, 'hidden_layers': 1, 'kernel_initializer': 'he_normal', 'last_activation': 'linear', 'lr': 0.4600000000000001, 'shapes': 'brick'}\n"
     ]
    },
    {
     "name": "stderr",
     "output_type": "stream",
     "text": [
      "\r",
      " 32%|█████████████████████████▉                                                       | 96/300 [10:40<21:12,  6.24s/it]"
     ]
    },
    {
     "name": "stdout",
     "output_type": "stream",
     "text": [
      "{'activation': 'relu', 'batch_size': 14, 'dropout': 0.0, 'epochs': 500, 'first_neuron': 20, 'grid_downsample': 0.8, 'hidden_layers': 1, 'kernel_initializer': 'he_normal', 'last_activation': 'linear', 'lr': 0.38, 'shapes': 'brick'}\n"
     ]
    },
    {
     "name": "stderr",
     "output_type": "stream",
     "text": [
      "\r",
      " 32%|██████████████████████████▏                                                      | 97/300 [10:48<22:08,  6.55s/it]"
     ]
    },
    {
     "name": "stdout",
     "output_type": "stream",
     "text": [
      "{'activation': 'relu', 'batch_size': 10, 'dropout': 0.1, 'epochs': 500, 'first_neuron': 20, 'grid_downsample': 0.8, 'hidden_layers': 3, 'kernel_initializer': 'he_normal', 'last_activation': 'linear', 'lr': 0.14, 'shapes': 'funnel'}\n"
     ]
    },
    {
     "name": "stderr",
     "output_type": "stream",
     "text": [
      "\r",
      " 33%|██████████████████████████▍                                                      | 98/300 [10:57<24:49,  7.37s/it]"
     ]
    },
    {
     "name": "stdout",
     "output_type": "stream",
     "text": [
      "{'activation': 'relu', 'batch_size': 14, 'dropout': 0.4, 'epochs': 500, 'first_neuron': 10, 'grid_downsample': 0.8, 'hidden_layers': 3, 'kernel_initializer': 'he_normal', 'last_activation': 'linear', 'lr': 0.22000000000000003, 'shapes': 'funnel'}\n"
     ]
    },
    {
     "name": "stderr",
     "output_type": "stream",
     "text": [
      "\r",
      " 33%|██████████████████████████▋                                                      | 99/300 [11:05<24:56,  7.45s/it]"
     ]
    },
    {
     "name": "stdout",
     "output_type": "stream",
     "text": [
      "{'activation': 'relu', 'batch_size': 26, 'dropout': 0.4, 'epochs': 500, 'first_neuron': 10, 'grid_downsample': 0.8, 'hidden_layers': 1, 'kernel_initializer': 'he_normal', 'last_activation': 'linear', 'lr': 0.3400000000000001, 'shapes': 'brick'}\n"
     ]
    },
    {
     "name": "stderr",
     "output_type": "stream",
     "text": [
      "\r",
      " 33%|██████████████████████████▋                                                     | 100/300 [11:10<22:13,  6.67s/it]"
     ]
    },
    {
     "name": "stdout",
     "output_type": "stream",
     "text": [
      "{'activation': 'relu', 'batch_size': 26, 'dropout': 0.30000000000000004, 'epochs': 500, 'first_neuron': 20, 'grid_downsample': 0.8, 'hidden_layers': 2, 'kernel_initializer': 'he_normal', 'last_activation': 'linear', 'lr': 0.30000000000000004, 'shapes': 'brick'}\n"
     ]
    },
    {
     "name": "stderr",
     "output_type": "stream",
     "text": [
      "\r",
      " 34%|██████████████████████████▉                                                     | 101/300 [11:14<20:13,  6.10s/it]"
     ]
    },
    {
     "name": "stdout",
     "output_type": "stream",
     "text": [
      "{'activation': 'relu', 'batch_size': 10, 'dropout': 0.4, 'epochs': 500, 'first_neuron': 10, 'grid_downsample': 0.8, 'hidden_layers': 1, 'kernel_initializer': 'he_normal', 'last_activation': 'linear', 'lr': 0.38, 'shapes': 'funnel'}\n"
     ]
    },
    {
     "name": "stderr",
     "output_type": "stream",
     "text": [
      "\r",
      " 34%|███████████████████████████▏                                                    | 102/300 [11:24<23:19,  7.07s/it]"
     ]
    },
    {
     "name": "stdout",
     "output_type": "stream",
     "text": [
      "{'activation': 'relu', 'batch_size': 26, 'dropout': 0.4, 'epochs': 500, 'first_neuron': 20, 'grid_downsample': 0.8, 'hidden_layers': 1, 'kernel_initializer': 'he_normal', 'last_activation': 'linear', 'lr': 0.1, 'shapes': 'brick'}\n"
     ]
    },
    {
     "name": "stderr",
     "output_type": "stream",
     "text": [
      "\r",
      " 34%|███████████████████████████▍                                                    | 103/300 [11:28<20:52,  6.36s/it]"
     ]
    },
    {
     "name": "stdout",
     "output_type": "stream",
     "text": [
      "{'activation': 'relu', 'batch_size': 10, 'dropout': 0.1, 'epochs': 500, 'first_neuron': 20, 'grid_downsample': 0.8, 'hidden_layers': 2, 'kernel_initializer': 'he_normal', 'last_activation': 'linear', 'lr': 0.22000000000000003, 'shapes': 'funnel'}\n"
     ]
    },
    {
     "name": "stderr",
     "output_type": "stream",
     "text": [
      "\r",
      " 35%|███████████████████████████▋                                                    | 104/300 [11:37<23:29,  7.19s/it]"
     ]
    },
    {
     "name": "stdout",
     "output_type": "stream",
     "text": [
      "{'activation': 'relu', 'batch_size': 26, 'dropout': 0.0, 'epochs': 500, 'first_neuron': 10, 'grid_downsample': 0.8, 'hidden_layers': 2, 'kernel_initializer': 'he_normal', 'last_activation': 'linear', 'lr': 0.4600000000000001, 'shapes': 'brick'}\n"
     ]
    },
    {
     "name": "stderr",
     "output_type": "stream",
     "text": [
      "\r",
      " 35%|████████████████████████████                                                    | 105/300 [11:42<21:04,  6.48s/it]"
     ]
    },
    {
     "name": "stdout",
     "output_type": "stream",
     "text": [
      "{'activation': 'relu', 'batch_size': 14, 'dropout': 0.2, 'epochs': 500, 'first_neuron': 10, 'grid_downsample': 0.8, 'hidden_layers': 3, 'kernel_initializer': 'he_normal', 'last_activation': 'linear', 'lr': 0.42000000000000004, 'shapes': 'funnel'}\n"
     ]
    },
    {
     "name": "stderr",
     "output_type": "stream",
     "text": [
      "\r",
      " 35%|████████████████████████████▎                                                   | 106/300 [11:50<22:14,  6.88s/it]"
     ]
    },
    {
     "name": "stdout",
     "output_type": "stream",
     "text": [
      "{'activation': 'relu', 'batch_size': 18, 'dropout': 0.0, 'epochs': 500, 'first_neuron': 20, 'grid_downsample': 0.8, 'hidden_layers': 1, 'kernel_initializer': 'he_normal', 'last_activation': 'linear', 'lr': 0.26, 'shapes': 'funnel'}\n"
     ]
    },
    {
     "name": "stderr",
     "output_type": "stream",
     "text": [
      "\r",
      " 36%|████████████████████████████▌                                                   | 107/300 [11:57<21:56,  6.82s/it]"
     ]
    },
    {
     "name": "stdout",
     "output_type": "stream",
     "text": [
      "{'activation': 'relu', 'batch_size': 22, 'dropout': 0.2, 'epochs': 500, 'first_neuron': 20, 'grid_downsample': 0.8, 'hidden_layers': 3, 'kernel_initializer': 'he_normal', 'last_activation': 'linear', 'lr': 0.26, 'shapes': 'brick'}\n"
     ]
    },
    {
     "name": "stderr",
     "output_type": "stream",
     "text": [
      "\r",
      " 36%|████████████████████████████▊                                                   | 108/300 [12:02<20:35,  6.44s/it]"
     ]
    },
    {
     "name": "stdout",
     "output_type": "stream",
     "text": [
      "{'activation': 'relu', 'batch_size': 26, 'dropout': 0.1, 'epochs': 500, 'first_neuron': 10, 'grid_downsample': 0.8, 'hidden_layers': 2, 'kernel_initializer': 'he_normal', 'last_activation': 'linear', 'lr': 0.18000000000000002, 'shapes': 'brick'}\n"
     ]
    },
    {
     "name": "stderr",
     "output_type": "stream",
     "text": [
      "\r",
      " 36%|█████████████████████████████                                                   | 109/300 [12:07<18:49,  5.92s/it]"
     ]
    },
    {
     "name": "stdout",
     "output_type": "stream",
     "text": [
      "{'activation': 'relu', 'batch_size': 14, 'dropout': 0.2, 'epochs': 500, 'first_neuron': 10, 'grid_downsample': 0.8, 'hidden_layers': 3, 'kernel_initializer': 'he_normal', 'last_activation': 'linear', 'lr': 0.22000000000000003, 'shapes': 'brick'}\n"
     ]
    },
    {
     "name": "stderr",
     "output_type": "stream",
     "text": [
      "\r",
      " 37%|█████████████████████████████▎                                                  | 110/300 [12:15<20:23,  6.44s/it]"
     ]
    },
    {
     "name": "stdout",
     "output_type": "stream",
     "text": [
      "{'activation': 'relu', 'batch_size': 26, 'dropout': 0.2, 'epochs': 500, 'first_neuron': 10, 'grid_downsample': 0.8, 'hidden_layers': 2, 'kernel_initializer': 'he_normal', 'last_activation': 'linear', 'lr': 0.18000000000000002, 'shapes': 'funnel'}\n"
     ]
    },
    {
     "name": "stderr",
     "output_type": "stream",
     "text": [
      "\r",
      " 37%|█████████████████████████████▌                                                  | 111/300 [12:19<18:35,  5.90s/it]"
     ]
    },
    {
     "name": "stdout",
     "output_type": "stream",
     "text": [
      "{'activation': 'relu', 'batch_size': 26, 'dropout': 0.4, 'epochs': 500, 'first_neuron': 20, 'grid_downsample': 0.8, 'hidden_layers': 2, 'kernel_initializer': 'he_normal', 'last_activation': 'linear', 'lr': 0.4600000000000001, 'shapes': 'brick'}\n"
     ]
    },
    {
     "name": "stderr",
     "output_type": "stream",
     "text": [
      "\r",
      " 37%|█████████████████████████████▊                                                  | 112/300 [12:24<17:29,  5.58s/it]"
     ]
    },
    {
     "name": "stdout",
     "output_type": "stream",
     "text": [
      "{'activation': 'relu', 'batch_size': 22, 'dropout': 0.4, 'epochs': 500, 'first_neuron': 10, 'grid_downsample': 0.8, 'hidden_layers': 3, 'kernel_initializer': 'he_normal', 'last_activation': 'linear', 'lr': 0.22000000000000003, 'shapes': 'funnel'}\n"
     ]
    },
    {
     "name": "stderr",
     "output_type": "stream",
     "text": [
      "\r",
      " 38%|██████████████████████████████▏                                                 | 113/300 [12:30<17:17,  5.55s/it]"
     ]
    },
    {
     "name": "stdout",
     "output_type": "stream",
     "text": [
      "{'activation': 'relu', 'batch_size': 18, 'dropout': 0.2, 'epochs': 500, 'first_neuron': 10, 'grid_downsample': 0.8, 'hidden_layers': 2, 'kernel_initializer': 'he_normal', 'last_activation': 'linear', 'lr': 0.14, 'shapes': 'funnel'}\n"
     ]
    },
    {
     "name": "stderr",
     "output_type": "stream",
     "text": [
      "\r",
      " 38%|██████████████████████████████▍                                                 | 114/300 [12:36<17:59,  5.80s/it]"
     ]
    },
    {
     "name": "stdout",
     "output_type": "stream",
     "text": [
      "{'activation': 'relu', 'batch_size': 18, 'dropout': 0.1, 'epochs': 500, 'first_neuron': 10, 'grid_downsample': 0.8, 'hidden_layers': 3, 'kernel_initializer': 'he_normal', 'last_activation': 'linear', 'lr': 0.22000000000000003, 'shapes': 'funnel'}\n"
     ]
    },
    {
     "name": "stderr",
     "output_type": "stream",
     "text": [
      "\r",
      " 38%|██████████████████████████████▋                                                 | 115/300 [12:42<18:18,  5.94s/it]"
     ]
    },
    {
     "name": "stdout",
     "output_type": "stream",
     "text": [
      "{'activation': 'relu', 'batch_size': 22, 'dropout': 0.0, 'epochs': 500, 'first_neuron': 20, 'grid_downsample': 0.8, 'hidden_layers': 1, 'kernel_initializer': 'he_normal', 'last_activation': 'linear', 'lr': 0.22000000000000003, 'shapes': 'brick'}\n"
     ]
    },
    {
     "name": "stderr",
     "output_type": "stream",
     "text": [
      "\r",
      " 39%|██████████████████████████████▉                                                 | 116/300 [12:48<17:38,  5.75s/it]"
     ]
    },
    {
     "name": "stdout",
     "output_type": "stream",
     "text": [
      "{'activation': 'relu', 'batch_size': 10, 'dropout': 0.0, 'epochs': 500, 'first_neuron': 10, 'grid_downsample': 0.8, 'hidden_layers': 3, 'kernel_initializer': 'he_normal', 'last_activation': 'linear', 'lr': 0.30000000000000004, 'shapes': 'funnel'}\n"
     ]
    },
    {
     "name": "stderr",
     "output_type": "stream",
     "text": [
      "\r",
      " 39%|███████████████████████████████▏                                                | 117/300 [12:56<20:19,  6.67s/it]"
     ]
    },
    {
     "name": "stdout",
     "output_type": "stream",
     "text": [
      "{'activation': 'relu', 'batch_size': 26, 'dropout': 0.30000000000000004, 'epochs': 500, 'first_neuron': 20, 'grid_downsample': 0.8, 'hidden_layers': 1, 'kernel_initializer': 'he_normal', 'last_activation': 'linear', 'lr': 0.18000000000000002, 'shapes': 'brick'}\n"
     ]
    },
    {
     "name": "stderr",
     "output_type": "stream",
     "text": [
      "\r",
      " 39%|███████████████████████████████▍                                                | 118/300 [13:02<19:07,  6.30s/it]"
     ]
    },
    {
     "name": "stdout",
     "output_type": "stream",
     "text": [
      "{'activation': 'relu', 'batch_size': 10, 'dropout': 0.30000000000000004, 'epochs': 500, 'first_neuron': 20, 'grid_downsample': 0.8, 'hidden_layers': 3, 'kernel_initializer': 'he_normal', 'last_activation': 'linear', 'lr': 0.22000000000000003, 'shapes': 'funnel'}\n"
     ]
    },
    {
     "name": "stderr",
     "output_type": "stream",
     "text": [
      "\r",
      " 40%|███████████████████████████████▋                                                | 119/300 [13:11<21:48,  7.23s/it]"
     ]
    },
    {
     "name": "stdout",
     "output_type": "stream",
     "text": [
      "{'activation': 'relu', 'batch_size': 22, 'dropout': 0.1, 'epochs': 500, 'first_neuron': 10, 'grid_downsample': 0.8, 'hidden_layers': 2, 'kernel_initializer': 'he_normal', 'last_activation': 'linear', 'lr': 0.22000000000000003, 'shapes': 'funnel'}\n"
     ]
    },
    {
     "name": "stderr",
     "output_type": "stream",
     "text": [
      "\r",
      " 40%|████████████████████████████████                                                | 120/300 [13:17<20:03,  6.68s/it]"
     ]
    },
    {
     "name": "stdout",
     "output_type": "stream",
     "text": [
      "{'activation': 'relu', 'batch_size': 22, 'dropout': 0.2, 'epochs': 500, 'first_neuron': 20, 'grid_downsample': 0.8, 'hidden_layers': 3, 'kernel_initializer': 'he_normal', 'last_activation': 'linear', 'lr': 0.30000000000000004, 'shapes': 'funnel'}\n"
     ]
    },
    {
     "name": "stderr",
     "output_type": "stream",
     "text": [
      "\r",
      " 40%|████████████████████████████████▎                                               | 121/300 [13:22<18:57,  6.36s/it]"
     ]
    },
    {
     "name": "stdout",
     "output_type": "stream",
     "text": [
      "{'activation': 'relu', 'batch_size': 10, 'dropout': 0.4, 'epochs': 500, 'first_neuron': 10, 'grid_downsample': 0.8, 'hidden_layers': 1, 'kernel_initializer': 'he_normal', 'last_activation': 'linear', 'lr': 0.22000000000000003, 'shapes': 'funnel'}\n"
     ]
    },
    {
     "name": "stderr",
     "output_type": "stream",
     "text": [
      "\r",
      " 41%|████████████████████████████████▌                                               | 122/300 [13:32<21:32,  7.26s/it]"
     ]
    },
    {
     "name": "stdout",
     "output_type": "stream",
     "text": [
      "{'activation': 'relu', 'batch_size': 26, 'dropout': 0.4, 'epochs': 500, 'first_neuron': 20, 'grid_downsample': 0.8, 'hidden_layers': 1, 'kernel_initializer': 'he_normal', 'last_activation': 'linear', 'lr': 0.26, 'shapes': 'funnel'}\n"
     ]
    },
    {
     "name": "stderr",
     "output_type": "stream",
     "text": [
      "\r",
      " 41%|████████████████████████████████▊                                               | 123/300 [13:36<19:06,  6.48s/it]"
     ]
    },
    {
     "name": "stdout",
     "output_type": "stream",
     "text": [
      "{'activation': 'relu', 'batch_size': 26, 'dropout': 0.0, 'epochs': 500, 'first_neuron': 10, 'grid_downsample': 0.8, 'hidden_layers': 2, 'kernel_initializer': 'he_normal', 'last_activation': 'linear', 'lr': 0.4600000000000001, 'shapes': 'funnel'}\n"
     ]
    },
    {
     "name": "stderr",
     "output_type": "stream",
     "text": [
      "\r",
      " 41%|█████████████████████████████████                                               | 124/300 [13:41<17:23,  5.93s/it]"
     ]
    },
    {
     "name": "stdout",
     "output_type": "stream",
     "text": [
      "{'activation': 'relu', 'batch_size': 14, 'dropout': 0.2, 'epochs': 500, 'first_neuron': 10, 'grid_downsample': 0.8, 'hidden_layers': 1, 'kernel_initializer': 'he_normal', 'last_activation': 'linear', 'lr': 0.42000000000000004, 'shapes': 'brick'}\n"
     ]
    },
    {
     "name": "stderr",
     "output_type": "stream",
     "text": [
      "\r",
      " 42%|█████████████████████████████████▎                                              | 125/300 [13:48<18:40,  6.40s/it]"
     ]
    },
    {
     "name": "stdout",
     "output_type": "stream",
     "text": [
      "{'activation': 'relu', 'batch_size': 10, 'dropout': 0.1, 'epochs': 500, 'first_neuron': 10, 'grid_downsample': 0.8, 'hidden_layers': 3, 'kernel_initializer': 'he_normal', 'last_activation': 'linear', 'lr': 0.4600000000000001, 'shapes': 'funnel'}\n"
     ]
    },
    {
     "name": "stderr",
     "output_type": "stream",
     "text": [
      "\r",
      " 42%|█████████████████████████████████▌                                              | 126/300 [13:58<21:10,  7.30s/it]"
     ]
    },
    {
     "name": "stdout",
     "output_type": "stream",
     "text": [
      "{'activation': 'relu', 'batch_size': 18, 'dropout': 0.30000000000000004, 'epochs': 500, 'first_neuron': 10, 'grid_downsample': 0.8, 'hidden_layers': 2, 'kernel_initializer': 'he_normal', 'last_activation': 'linear', 'lr': 0.42000000000000004, 'shapes': 'brick'}\n"
     ]
    },
    {
     "name": "stderr",
     "output_type": "stream",
     "text": [
      "\r",
      " 42%|█████████████████████████████████▊                                              | 127/300 [14:04<20:18,  7.04s/it]"
     ]
    },
    {
     "name": "stdout",
     "output_type": "stream",
     "text": [
      "{'activation': 'relu', 'batch_size': 26, 'dropout': 0.4, 'epochs': 500, 'first_neuron': 20, 'grid_downsample': 0.8, 'hidden_layers': 2, 'kernel_initializer': 'he_normal', 'last_activation': 'linear', 'lr': 0.26, 'shapes': 'funnel'}\n"
     ]
    },
    {
     "name": "stderr",
     "output_type": "stream",
     "text": [
      "\r",
      " 43%|██████████████████████████████████▏                                             | 128/300 [14:09<18:11,  6.35s/it]"
     ]
    },
    {
     "name": "stdout",
     "output_type": "stream",
     "text": [
      "{'activation': 'relu', 'batch_size': 10, 'dropout': 0.30000000000000004, 'epochs': 500, 'first_neuron': 20, 'grid_downsample': 0.8, 'hidden_layers': 1, 'kernel_initializer': 'he_normal', 'last_activation': 'linear', 'lr': 0.22000000000000003, 'shapes': 'brick'}\n"
     ]
    },
    {
     "name": "stderr",
     "output_type": "stream",
     "text": [
      "\r",
      " 43%|██████████████████████████████████▍                                             | 129/300 [14:18<20:36,  7.23s/it]"
     ]
    },
    {
     "name": "stdout",
     "output_type": "stream",
     "text": [
      "{'activation': 'relu', 'batch_size': 18, 'dropout': 0.30000000000000004, 'epochs': 500, 'first_neuron': 20, 'grid_downsample': 0.8, 'hidden_layers': 2, 'kernel_initializer': 'he_normal', 'last_activation': 'linear', 'lr': 0.1, 'shapes': 'brick'}\n"
     ]
    },
    {
     "name": "stderr",
     "output_type": "stream",
     "text": [
      "\r",
      " 43%|██████████████████████████████████▋                                             | 130/300 [14:25<19:56,  7.04s/it]"
     ]
    },
    {
     "name": "stdout",
     "output_type": "stream",
     "text": [
      "{'activation': 'relu', 'batch_size': 26, 'dropout': 0.30000000000000004, 'epochs': 500, 'first_neuron': 10, 'grid_downsample': 0.8, 'hidden_layers': 1, 'kernel_initializer': 'he_normal', 'last_activation': 'linear', 'lr': 0.42000000000000004, 'shapes': 'funnel'}\n"
     ]
    },
    {
     "name": "stderr",
     "output_type": "stream",
     "text": [
      "\r",
      " 44%|██████████████████████████████████▉                                             | 131/300 [14:30<17:47,  6.31s/it]"
     ]
    },
    {
     "name": "stdout",
     "output_type": "stream",
     "text": [
      "{'activation': 'relu', 'batch_size': 26, 'dropout': 0.4, 'epochs': 500, 'first_neuron': 10, 'grid_downsample': 0.8, 'hidden_layers': 3, 'kernel_initializer': 'he_normal', 'last_activation': 'linear', 'lr': 0.1, 'shapes': 'funnel'}\n"
     ]
    },
    {
     "name": "stderr",
     "output_type": "stream",
     "text": [
      "\r",
      " 44%|███████████████████████████████████▏                                            | 132/300 [14:34<16:24,  5.86s/it]"
     ]
    },
    {
     "name": "stdout",
     "output_type": "stream",
     "text": [
      "{'activation': 'relu', 'batch_size': 14, 'dropout': 0.0, 'epochs': 500, 'first_neuron': 10, 'grid_downsample': 0.8, 'hidden_layers': 2, 'kernel_initializer': 'he_normal', 'last_activation': 'linear', 'lr': 0.1, 'shapes': 'brick'}\n"
     ]
    },
    {
     "name": "stderr",
     "output_type": "stream",
     "text": [
      "\r",
      " 44%|███████████████████████████████████▍                                            | 133/300 [14:42<17:39,  6.34s/it]"
     ]
    },
    {
     "name": "stdout",
     "output_type": "stream",
     "text": [
      "{'activation': 'relu', 'batch_size': 26, 'dropout': 0.1, 'epochs': 500, 'first_neuron': 10, 'grid_downsample': 0.8, 'hidden_layers': 1, 'kernel_initializer': 'he_normal', 'last_activation': 'linear', 'lr': 0.3400000000000001, 'shapes': 'funnel'}\n"
     ]
    },
    {
     "name": "stderr",
     "output_type": "stream",
     "text": [
      "\r",
      " 45%|███████████████████████████████████▋                                            | 134/300 [14:47<16:17,  5.89s/it]"
     ]
    },
    {
     "name": "stdout",
     "output_type": "stream",
     "text": [
      "{'activation': 'relu', 'batch_size': 26, 'dropout': 0.2, 'epochs': 500, 'first_neuron': 20, 'grid_downsample': 0.8, 'hidden_layers': 1, 'kernel_initializer': 'he_normal', 'last_activation': 'linear', 'lr': 0.14, 'shapes': 'brick'}\n"
     ]
    },
    {
     "name": "stderr",
     "output_type": "stream",
     "text": [
      "\r",
      " 45%|████████████████████████████████████                                            | 135/300 [14:52<15:22,  5.59s/it]"
     ]
    },
    {
     "name": "stdout",
     "output_type": "stream",
     "text": [
      "{'activation': 'relu', 'batch_size': 26, 'dropout': 0.1, 'epochs': 500, 'first_neuron': 20, 'grid_downsample': 0.8, 'hidden_layers': 3, 'kernel_initializer': 'he_normal', 'last_activation': 'linear', 'lr': 0.38, 'shapes': 'funnel'}\n"
     ]
    },
    {
     "name": "stderr",
     "output_type": "stream",
     "text": [
      "\r",
      " 45%|████████████████████████████████████▎                                           | 136/300 [14:56<14:35,  5.34s/it]"
     ]
    },
    {
     "name": "stdout",
     "output_type": "stream",
     "text": [
      "{'activation': 'relu', 'batch_size': 22, 'dropout': 0.1, 'epochs': 500, 'first_neuron': 10, 'grid_downsample': 0.8, 'hidden_layers': 2, 'kernel_initializer': 'he_normal', 'last_activation': 'linear', 'lr': 0.3400000000000001, 'shapes': 'brick'}\n"
     ]
    },
    {
     "name": "stderr",
     "output_type": "stream",
     "text": [
      "\r",
      " 46%|████████████████████████████████████▌                                           | 137/300 [15:02<14:51,  5.47s/it]"
     ]
    },
    {
     "name": "stdout",
     "output_type": "stream",
     "text": [
      "{'activation': 'relu', 'batch_size': 22, 'dropout': 0.30000000000000004, 'epochs': 500, 'first_neuron': 20, 'grid_downsample': 0.8, 'hidden_layers': 1, 'kernel_initializer': 'he_normal', 'last_activation': 'linear', 'lr': 0.3400000000000001, 'shapes': 'brick'}\n"
     ]
    },
    {
     "name": "stderr",
     "output_type": "stream",
     "text": [
      "\r",
      " 46%|████████████████████████████████████▊                                           | 138/300 [15:08<14:51,  5.51s/it]"
     ]
    },
    {
     "name": "stdout",
     "output_type": "stream",
     "text": [
      "{'activation': 'relu', 'batch_size': 10, 'dropout': 0.1, 'epochs': 500, 'first_neuron': 10, 'grid_downsample': 0.8, 'hidden_layers': 2, 'kernel_initializer': 'he_normal', 'last_activation': 'linear', 'lr': 0.4600000000000001, 'shapes': 'funnel'}\n"
     ]
    },
    {
     "name": "stderr",
     "output_type": "stream",
     "text": [
      "\r",
      " 46%|█████████████████████████████████████                                           | 139/300 [15:17<17:57,  6.69s/it]"
     ]
    },
    {
     "name": "stdout",
     "output_type": "stream",
     "text": [
      "{'activation': 'relu', 'batch_size': 26, 'dropout': 0.30000000000000004, 'epochs': 500, 'first_neuron': 20, 'grid_downsample': 0.8, 'hidden_layers': 3, 'kernel_initializer': 'he_normal', 'last_activation': 'linear', 'lr': 0.30000000000000004, 'shapes': 'brick'}\n"
     ]
    },
    {
     "name": "stderr",
     "output_type": "stream",
     "text": [
      "\r",
      " 47%|█████████████████████████████████████▎                                          | 140/300 [15:22<16:12,  6.08s/it]"
     ]
    },
    {
     "name": "stdout",
     "output_type": "stream",
     "text": [
      "{'activation': 'relu', 'batch_size': 22, 'dropout': 0.0, 'epochs': 500, 'first_neuron': 10, 'grid_downsample': 0.8, 'hidden_layers': 2, 'kernel_initializer': 'he_normal', 'last_activation': 'linear', 'lr': 0.14, 'shapes': 'funnel'}\n"
     ]
    },
    {
     "name": "stderr",
     "output_type": "stream",
     "text": [
      "\r",
      " 47%|█████████████████████████████████████▌                                          | 141/300 [15:27<15:34,  5.88s/it]"
     ]
    },
    {
     "name": "stdout",
     "output_type": "stream",
     "text": [
      "{'activation': 'relu', 'batch_size': 14, 'dropout': 0.0, 'epochs': 500, 'first_neuron': 10, 'grid_downsample': 0.8, 'hidden_layers': 3, 'kernel_initializer': 'he_normal', 'last_activation': 'linear', 'lr': 0.4600000000000001, 'shapes': 'funnel'}\n"
     ]
    },
    {
     "name": "stderr",
     "output_type": "stream",
     "text": [
      "\r",
      " 47%|█████████████████████████████████████▊                                          | 142/300 [15:35<16:46,  6.37s/it]"
     ]
    },
    {
     "name": "stdout",
     "output_type": "stream",
     "text": [
      "{'activation': 'relu', 'batch_size': 10, 'dropout': 0.1, 'epochs': 500, 'first_neuron': 20, 'grid_downsample': 0.8, 'hidden_layers': 2, 'kernel_initializer': 'he_normal', 'last_activation': 'linear', 'lr': 0.14, 'shapes': 'brick'}\n"
     ]
    },
    {
     "name": "stderr",
     "output_type": "stream",
     "text": [
      "\r",
      " 48%|██████████████████████████████████████▏                                         | 143/300 [15:44<19:05,  7.30s/it]"
     ]
    },
    {
     "name": "stdout",
     "output_type": "stream",
     "text": [
      "{'activation': 'relu', 'batch_size': 22, 'dropout': 0.1, 'epochs': 500, 'first_neuron': 10, 'grid_downsample': 0.8, 'hidden_layers': 2, 'kernel_initializer': 'he_normal', 'last_activation': 'linear', 'lr': 0.1, 'shapes': 'brick'}\n"
     ]
    },
    {
     "name": "stderr",
     "output_type": "stream",
     "text": [
      "\r",
      " 48%|██████████████████████████████████████▍                                         | 144/300 [15:50<17:46,  6.84s/it]"
     ]
    },
    {
     "name": "stdout",
     "output_type": "stream",
     "text": [
      "{'activation': 'relu', 'batch_size': 10, 'dropout': 0.1, 'epochs': 500, 'first_neuron': 20, 'grid_downsample': 0.8, 'hidden_layers': 1, 'kernel_initializer': 'he_normal', 'last_activation': 'linear', 'lr': 0.3400000000000001, 'shapes': 'brick'}\n"
     ]
    },
    {
     "name": "stderr",
     "output_type": "stream",
     "text": [
      "\r",
      " 48%|██████████████████████████████████████▋                                         | 145/300 [15:59<19:28,  7.54s/it]"
     ]
    },
    {
     "name": "stdout",
     "output_type": "stream",
     "text": [
      "{'activation': 'relu', 'batch_size': 14, 'dropout': 0.1, 'epochs': 500, 'first_neuron': 20, 'grid_downsample': 0.8, 'hidden_layers': 2, 'kernel_initializer': 'he_normal', 'last_activation': 'linear', 'lr': 0.30000000000000004, 'shapes': 'funnel'}\n"
     ]
    },
    {
     "name": "stderr",
     "output_type": "stream",
     "text": [
      "\r",
      " 49%|██████████████████████████████████████▉                                         | 146/300 [16:07<19:25,  7.57s/it]"
     ]
    },
    {
     "name": "stdout",
     "output_type": "stream",
     "text": [
      "{'activation': 'relu', 'batch_size': 14, 'dropout': 0.30000000000000004, 'epochs': 500, 'first_neuron': 10, 'grid_downsample': 0.8, 'hidden_layers': 3, 'kernel_initializer': 'he_normal', 'last_activation': 'linear', 'lr': 0.4600000000000001, 'shapes': 'funnel'}\n"
     ]
    },
    {
     "name": "stderr",
     "output_type": "stream",
     "text": [
      "\r",
      " 49%|███████████████████████████████████████▏                                        | 147/300 [16:14<19:22,  7.60s/it]"
     ]
    },
    {
     "name": "stdout",
     "output_type": "stream",
     "text": [
      "{'activation': 'relu', 'batch_size': 14, 'dropout': 0.0, 'epochs': 500, 'first_neuron': 10, 'grid_downsample': 0.8, 'hidden_layers': 3, 'kernel_initializer': 'he_normal', 'last_activation': 'linear', 'lr': 0.18000000000000002, 'shapes': 'brick'}\n"
     ]
    },
    {
     "name": "stderr",
     "output_type": "stream",
     "text": [
      "\r",
      " 49%|███████████████████████████████████████▍                                        | 148/300 [16:22<18:57,  7.49s/it]"
     ]
    },
    {
     "name": "stdout",
     "output_type": "stream",
     "text": [
      "{'activation': 'relu', 'batch_size': 10, 'dropout': 0.30000000000000004, 'epochs': 500, 'first_neuron': 10, 'grid_downsample': 0.8, 'hidden_layers': 2, 'kernel_initializer': 'he_normal', 'last_activation': 'linear', 'lr': 0.22000000000000003, 'shapes': 'brick'}\n"
     ]
    },
    {
     "name": "stderr",
     "output_type": "stream",
     "text": [
      "\r",
      " 50%|███████████████████████████████████████▋                                        | 149/300 [16:31<20:04,  7.98s/it]"
     ]
    },
    {
     "name": "stdout",
     "output_type": "stream",
     "text": [
      "{'activation': 'relu', 'batch_size': 10, 'dropout': 0.4, 'epochs': 500, 'first_neuron': 20, 'grid_downsample': 0.8, 'hidden_layers': 2, 'kernel_initializer': 'he_normal', 'last_activation': 'linear', 'lr': 0.3400000000000001, 'shapes': 'funnel'}\n"
     ]
    },
    {
     "name": "stderr",
     "output_type": "stream",
     "text": [
      "\r",
      " 50%|████████████████████████████████████████                                        | 150/300 [16:40<21:02,  8.42s/it]"
     ]
    },
    {
     "name": "stdout",
     "output_type": "stream",
     "text": [
      "{'activation': 'relu', 'batch_size': 14, 'dropout': 0.2, 'epochs': 500, 'first_neuron': 10, 'grid_downsample': 0.8, 'hidden_layers': 2, 'kernel_initializer': 'he_normal', 'last_activation': 'linear', 'lr': 0.22000000000000003, 'shapes': 'funnel'}\n"
     ]
    },
    {
     "name": "stderr",
     "output_type": "stream",
     "text": [
      "\r",
      " 50%|████████████████████████████████████████▎                                       | 151/300 [16:48<20:14,  8.15s/it]"
     ]
    },
    {
     "name": "stdout",
     "output_type": "stream",
     "text": [
      "{'activation': 'relu', 'batch_size': 26, 'dropout': 0.1, 'epochs': 500, 'first_neuron': 20, 'grid_downsample': 0.8, 'hidden_layers': 3, 'kernel_initializer': 'he_normal', 'last_activation': 'linear', 'lr': 0.22000000000000003, 'shapes': 'funnel'}\n"
     ]
    },
    {
     "name": "stderr",
     "output_type": "stream",
     "text": [
      "\r",
      " 51%|████████████████████████████████████████▌                                       | 152/300 [16:53<17:40,  7.17s/it]"
     ]
    },
    {
     "name": "stdout",
     "output_type": "stream",
     "text": [
      "{'activation': 'relu', 'batch_size': 10, 'dropout': 0.30000000000000004, 'epochs': 500, 'first_neuron': 10, 'grid_downsample': 0.8, 'hidden_layers': 1, 'kernel_initializer': 'he_normal', 'last_activation': 'linear', 'lr': 0.26, 'shapes': 'funnel'}\n"
     ]
    },
    {
     "name": "stderr",
     "output_type": "stream",
     "text": [
      "\r",
      " 51%|████████████████████████████████████████▊                                       | 153/300 [17:02<19:09,  7.82s/it]"
     ]
    },
    {
     "name": "stdout",
     "output_type": "stream",
     "text": [
      "{'activation': 'relu', 'batch_size': 10, 'dropout': 0.4, 'epochs': 500, 'first_neuron': 10, 'grid_downsample': 0.8, 'hidden_layers': 2, 'kernel_initializer': 'he_normal', 'last_activation': 'linear', 'lr': 0.14, 'shapes': 'funnel'}\n"
     ]
    },
    {
     "name": "stderr",
     "output_type": "stream",
     "text": [
      "\r",
      " 51%|█████████████████████████████████████████                                       | 154/300 [17:11<20:13,  8.31s/it]"
     ]
    },
    {
     "name": "stdout",
     "output_type": "stream",
     "text": [
      "{'activation': 'relu', 'batch_size': 14, 'dropout': 0.30000000000000004, 'epochs': 500, 'first_neuron': 20, 'grid_downsample': 0.8, 'hidden_layers': 1, 'kernel_initializer': 'he_normal', 'last_activation': 'linear', 'lr': 0.30000000000000004, 'shapes': 'brick'}\n"
     ]
    },
    {
     "name": "stderr",
     "output_type": "stream",
     "text": [
      "\r",
      " 52%|█████████████████████████████████████████▎                                      | 155/300 [17:19<19:55,  8.25s/it]"
     ]
    },
    {
     "name": "stdout",
     "output_type": "stream",
     "text": [
      "{'activation': 'relu', 'batch_size': 10, 'dropout': 0.2, 'epochs': 500, 'first_neuron': 10, 'grid_downsample': 0.8, 'hidden_layers': 2, 'kernel_initializer': 'he_normal', 'last_activation': 'linear', 'lr': 0.3400000000000001, 'shapes': 'funnel'}\n"
     ]
    },
    {
     "name": "stderr",
     "output_type": "stream",
     "text": [
      "\r",
      " 52%|█████████████████████████████████████████▌                                      | 156/300 [17:29<20:39,  8.61s/it]"
     ]
    },
    {
     "name": "stdout",
     "output_type": "stream",
     "text": [
      "{'activation': 'relu', 'batch_size': 26, 'dropout': 0.30000000000000004, 'epochs': 500, 'first_neuron': 10, 'grid_downsample': 0.8, 'hidden_layers': 3, 'kernel_initializer': 'he_normal', 'last_activation': 'linear', 'lr': 0.42000000000000004, 'shapes': 'brick'}\n"
     ]
    },
    {
     "name": "stderr",
     "output_type": "stream",
     "text": [
      "\r",
      " 52%|█████████████████████████████████████████▊                                      | 157/300 [17:34<17:41,  7.42s/it]"
     ]
    },
    {
     "name": "stdout",
     "output_type": "stream",
     "text": [
      "{'activation': 'relu', 'batch_size': 18, 'dropout': 0.30000000000000004, 'epochs': 500, 'first_neuron': 20, 'grid_downsample': 0.8, 'hidden_layers': 2, 'kernel_initializer': 'he_normal', 'last_activation': 'linear', 'lr': 0.22000000000000003, 'shapes': 'brick'}\n"
     ]
    },
    {
     "name": "stderr",
     "output_type": "stream",
     "text": [
      "\r",
      " 53%|██████████████████████████████████████████▏                                     | 158/300 [17:40<16:50,  7.11s/it]"
     ]
    },
    {
     "name": "stdout",
     "output_type": "stream",
     "text": [
      "{'activation': 'relu', 'batch_size': 10, 'dropout': 0.1, 'epochs': 500, 'first_neuron': 10, 'grid_downsample': 0.8, 'hidden_layers': 2, 'kernel_initializer': 'he_normal', 'last_activation': 'linear', 'lr': 0.30000000000000004, 'shapes': 'brick'}\n"
     ]
    },
    {
     "name": "stderr",
     "output_type": "stream",
     "text": [
      "\r",
      " 53%|██████████████████████████████████████████▍                                     | 159/300 [17:49<18:15,  7.77s/it]"
     ]
    },
    {
     "name": "stdout",
     "output_type": "stream",
     "text": [
      "{'activation': 'relu', 'batch_size': 22, 'dropout': 0.30000000000000004, 'epochs': 500, 'first_neuron': 10, 'grid_downsample': 0.8, 'hidden_layers': 3, 'kernel_initializer': 'he_normal', 'last_activation': 'linear', 'lr': 0.38, 'shapes': 'brick'}\n"
     ]
    },
    {
     "name": "stderr",
     "output_type": "stream",
     "text": [
      "\r",
      " 53%|██████████████████████████████████████████▋                                     | 160/300 [17:55<16:35,  7.11s/it]"
     ]
    },
    {
     "name": "stdout",
     "output_type": "stream",
     "text": [
      "{'activation': 'relu', 'batch_size': 18, 'dropout': 0.4, 'epochs': 500, 'first_neuron': 20, 'grid_downsample': 0.8, 'hidden_layers': 1, 'kernel_initializer': 'he_normal', 'last_activation': 'linear', 'lr': 0.22000000000000003, 'shapes': 'brick'}\n"
     ]
    },
    {
     "name": "stderr",
     "output_type": "stream",
     "text": [
      "\r",
      " 54%|██████████████████████████████████████████▉                                     | 161/300 [18:01<15:51,  6.84s/it]"
     ]
    },
    {
     "name": "stdout",
     "output_type": "stream",
     "text": [
      "{'activation': 'relu', 'batch_size': 22, 'dropout': 0.1, 'epochs': 500, 'first_neuron': 10, 'grid_downsample': 0.8, 'hidden_layers': 2, 'kernel_initializer': 'he_normal', 'last_activation': 'linear', 'lr': 0.14, 'shapes': 'brick'}\n"
     ]
    },
    {
     "name": "stderr",
     "output_type": "stream",
     "text": [
      "\r",
      " 54%|███████████████████████████████████████████▏                                    | 162/300 [18:07<14:55,  6.49s/it]"
     ]
    },
    {
     "name": "stdout",
     "output_type": "stream",
     "text": [
      "{'activation': 'relu', 'batch_size': 22, 'dropout': 0.0, 'epochs': 500, 'first_neuron': 10, 'grid_downsample': 0.8, 'hidden_layers': 3, 'kernel_initializer': 'he_normal', 'last_activation': 'linear', 'lr': 0.18000000000000002, 'shapes': 'funnel'}\n"
     ]
    },
    {
     "name": "stderr",
     "output_type": "stream",
     "text": [
      "\r",
      " 54%|███████████████████████████████████████████▍                                    | 163/300 [18:12<13:58,  6.12s/it]"
     ]
    },
    {
     "name": "stdout",
     "output_type": "stream",
     "text": [
      "{'activation': 'relu', 'batch_size': 18, 'dropout': 0.1, 'epochs': 500, 'first_neuron': 20, 'grid_downsample': 0.8, 'hidden_layers': 2, 'kernel_initializer': 'he_normal', 'last_activation': 'linear', 'lr': 0.22000000000000003, 'shapes': 'funnel'}\n"
     ]
    },
    {
     "name": "stderr",
     "output_type": "stream",
     "text": [
      "\r",
      " 55%|███████████████████████████████████████████▋                                    | 164/300 [18:18<14:02,  6.19s/it]"
     ]
    },
    {
     "name": "stdout",
     "output_type": "stream",
     "text": [
      "{'activation': 'relu', 'batch_size': 26, 'dropout': 0.30000000000000004, 'epochs': 500, 'first_neuron': 20, 'grid_downsample': 0.8, 'hidden_layers': 2, 'kernel_initializer': 'he_normal', 'last_activation': 'linear', 'lr': 0.26, 'shapes': 'brick'}\n"
     ]
    },
    {
     "name": "stderr",
     "output_type": "stream",
     "text": [
      "\r",
      " 55%|████████████████████████████████████████████                                    | 165/300 [18:23<12:59,  5.78s/it]"
     ]
    },
    {
     "name": "stdout",
     "output_type": "stream",
     "text": [
      "{'activation': 'relu', 'batch_size': 22, 'dropout': 0.0, 'epochs': 500, 'first_neuron': 20, 'grid_downsample': 0.8, 'hidden_layers': 1, 'kernel_initializer': 'he_normal', 'last_activation': 'linear', 'lr': 0.1, 'shapes': 'brick'}\n"
     ]
    },
    {
     "name": "stderr",
     "output_type": "stream",
     "text": [
      "\r",
      " 55%|████████████████████████████████████████████▎                                   | 166/300 [18:28<12:35,  5.64s/it]"
     ]
    },
    {
     "name": "stdout",
     "output_type": "stream",
     "text": [
      "{'activation': 'relu', 'batch_size': 22, 'dropout': 0.2, 'epochs': 500, 'first_neuron': 20, 'grid_downsample': 0.8, 'hidden_layers': 3, 'kernel_initializer': 'he_normal', 'last_activation': 'linear', 'lr': 0.18000000000000002, 'shapes': 'brick'}\n"
     ]
    },
    {
     "name": "stderr",
     "output_type": "stream",
     "text": [
      "\r",
      " 56%|████████████████████████████████████████████▌                                   | 167/300 [18:34<12:28,  5.63s/it]"
     ]
    },
    {
     "name": "stdout",
     "output_type": "stream",
     "text": [
      "{'activation': 'relu', 'batch_size': 14, 'dropout': 0.1, 'epochs': 500, 'first_neuron': 20, 'grid_downsample': 0.8, 'hidden_layers': 1, 'kernel_initializer': 'he_normal', 'last_activation': 'linear', 'lr': 0.38, 'shapes': 'funnel'}\n"
     ]
    },
    {
     "name": "stderr",
     "output_type": "stream",
     "text": [
      "\r",
      " 56%|████████████████████████████████████████████▊                                   | 168/300 [18:42<13:41,  6.23s/it]"
     ]
    },
    {
     "name": "stdout",
     "output_type": "stream",
     "text": [
      "{'activation': 'relu', 'batch_size': 26, 'dropout': 0.0, 'epochs': 500, 'first_neuron': 20, 'grid_downsample': 0.8, 'hidden_layers': 2, 'kernel_initializer': 'he_normal', 'last_activation': 'linear', 'lr': 0.18000000000000002, 'shapes': 'brick'}\n"
     ]
    },
    {
     "name": "stderr",
     "output_type": "stream",
     "text": [
      "\r",
      " 56%|█████████████████████████████████████████████                                   | 169/300 [18:46<12:32,  5.74s/it]"
     ]
    },
    {
     "name": "stdout",
     "output_type": "stream",
     "text": [
      "{'activation': 'relu', 'batch_size': 22, 'dropout': 0.4, 'epochs': 500, 'first_neuron': 20, 'grid_downsample': 0.8, 'hidden_layers': 2, 'kernel_initializer': 'he_normal', 'last_activation': 'linear', 'lr': 0.38, 'shapes': 'brick'}\n"
     ]
    },
    {
     "name": "stderr",
     "output_type": "stream",
     "text": [
      "\r",
      " 57%|█████████████████████████████████████████████▎                                  | 170/300 [18:52<12:25,  5.74s/it]"
     ]
    },
    {
     "name": "stdout",
     "output_type": "stream",
     "text": [
      "{'activation': 'relu', 'batch_size': 14, 'dropout': 0.30000000000000004, 'epochs': 500, 'first_neuron': 20, 'grid_downsample': 0.8, 'hidden_layers': 1, 'kernel_initializer': 'he_normal', 'last_activation': 'linear', 'lr': 0.26, 'shapes': 'brick'}\n"
     ]
    },
    {
     "name": "stderr",
     "output_type": "stream",
     "text": [
      "\r",
      " 57%|█████████████████████████████████████████████▌                                  | 171/300 [19:00<13:30,  6.28s/it]"
     ]
    },
    {
     "name": "stdout",
     "output_type": "stream",
     "text": [
      "{'activation': 'relu', 'batch_size': 18, 'dropout': 0.4, 'epochs': 500, 'first_neuron': 10, 'grid_downsample': 0.8, 'hidden_layers': 2, 'kernel_initializer': 'he_normal', 'last_activation': 'linear', 'lr': 0.30000000000000004, 'shapes': 'funnel'}\n"
     ]
    },
    {
     "name": "stderr",
     "output_type": "stream",
     "text": [
      "\r",
      " 57%|█████████████████████████████████████████████▊                                  | 172/300 [19:06<13:43,  6.44s/it]"
     ]
    },
    {
     "name": "stdout",
     "output_type": "stream",
     "text": [
      "{'activation': 'relu', 'batch_size': 10, 'dropout': 0.4, 'epochs': 500, 'first_neuron': 20, 'grid_downsample': 0.8, 'hidden_layers': 3, 'kernel_initializer': 'he_normal', 'last_activation': 'linear', 'lr': 0.38, 'shapes': 'funnel'}\n"
     ]
    },
    {
     "name": "stderr",
     "output_type": "stream",
     "text": [
      "\r",
      " 58%|██████████████████████████████████████████████▏                                 | 173/300 [19:16<15:27,  7.30s/it]"
     ]
    },
    {
     "name": "stdout",
     "output_type": "stream",
     "text": [
      "{'activation': 'relu', 'batch_size': 14, 'dropout': 0.2, 'epochs': 500, 'first_neuron': 10, 'grid_downsample': 0.8, 'hidden_layers': 1, 'kernel_initializer': 'he_normal', 'last_activation': 'linear', 'lr': 0.38, 'shapes': 'brick'}\n"
     ]
    },
    {
     "name": "stderr",
     "output_type": "stream",
     "text": [
      "\r",
      " 58%|██████████████████████████████████████████████▍                                 | 174/300 [19:23<15:37,  7.44s/it]"
     ]
    },
    {
     "name": "stdout",
     "output_type": "stream",
     "text": [
      "{'activation': 'relu', 'batch_size': 18, 'dropout': 0.4, 'epochs': 500, 'first_neuron': 10, 'grid_downsample': 0.8, 'hidden_layers': 1, 'kernel_initializer': 'he_normal', 'last_activation': 'linear', 'lr': 0.30000000000000004, 'shapes': 'brick'}\n"
     ]
    },
    {
     "name": "stderr",
     "output_type": "stream",
     "text": [
      "\r",
      " 58%|██████████████████████████████████████████████▋                                 | 175/300 [19:30<14:50,  7.12s/it]"
     ]
    },
    {
     "name": "stdout",
     "output_type": "stream",
     "text": [
      "{'activation': 'relu', 'batch_size': 10, 'dropout': 0.2, 'epochs': 500, 'first_neuron': 20, 'grid_downsample': 0.8, 'hidden_layers': 1, 'kernel_initializer': 'he_normal', 'last_activation': 'linear', 'lr': 0.42000000000000004, 'shapes': 'funnel'}\n"
     ]
    },
    {
     "name": "stderr",
     "output_type": "stream",
     "text": [
      "\r",
      " 59%|██████████████████████████████████████████████▉                                 | 176/300 [19:39<15:59,  7.74s/it]"
     ]
    },
    {
     "name": "stdout",
     "output_type": "stream",
     "text": [
      "{'activation': 'relu', 'batch_size': 26, 'dropout': 0.0, 'epochs': 500, 'first_neuron': 10, 'grid_downsample': 0.8, 'hidden_layers': 3, 'kernel_initializer': 'he_normal', 'last_activation': 'linear', 'lr': 0.26, 'shapes': 'brick'}\n"
     ]
    },
    {
     "name": "stderr",
     "output_type": "stream",
     "text": [
      "\r",
      " 59%|███████████████████████████████████████████████▏                                | 177/300 [19:44<13:56,  6.80s/it]"
     ]
    },
    {
     "name": "stdout",
     "output_type": "stream",
     "text": [
      "{'activation': 'relu', 'batch_size': 14, 'dropout': 0.4, 'epochs': 500, 'first_neuron': 10, 'grid_downsample': 0.8, 'hidden_layers': 2, 'kernel_initializer': 'he_normal', 'last_activation': 'linear', 'lr': 0.1, 'shapes': 'funnel'}\n"
     ]
    },
    {
     "name": "stderr",
     "output_type": "stream",
     "text": [
      "\r",
      " 59%|███████████████████████████████████████████████▍                                | 178/300 [19:51<14:22,  7.07s/it]"
     ]
    },
    {
     "name": "stdout",
     "output_type": "stream",
     "text": [
      "{'activation': 'relu', 'batch_size': 18, 'dropout': 0.30000000000000004, 'epochs': 500, 'first_neuron': 20, 'grid_downsample': 0.8, 'hidden_layers': 2, 'kernel_initializer': 'he_normal', 'last_activation': 'linear', 'lr': 0.1, 'shapes': 'funnel'}\n"
     ]
    },
    {
     "name": "stderr",
     "output_type": "stream",
     "text": [
      "\r",
      " 60%|███████████████████████████████████████████████▋                                | 179/300 [19:58<13:53,  6.89s/it]"
     ]
    },
    {
     "name": "stdout",
     "output_type": "stream",
     "text": [
      "{'activation': 'relu', 'batch_size': 14, 'dropout': 0.30000000000000004, 'epochs': 500, 'first_neuron': 20, 'grid_downsample': 0.8, 'hidden_layers': 3, 'kernel_initializer': 'he_normal', 'last_activation': 'linear', 'lr': 0.22000000000000003, 'shapes': 'brick'}\n"
     ]
    },
    {
     "name": "stderr",
     "output_type": "stream",
     "text": [
      "\r",
      " 60%|████████████████████████████████████████████████                                | 180/300 [20:05<14:14,  7.12s/it]"
     ]
    },
    {
     "name": "stdout",
     "output_type": "stream",
     "text": [
      "{'activation': 'relu', 'batch_size': 26, 'dropout': 0.4, 'epochs': 500, 'first_neuron': 10, 'grid_downsample': 0.8, 'hidden_layers': 2, 'kernel_initializer': 'he_normal', 'last_activation': 'linear', 'lr': 0.30000000000000004, 'shapes': 'brick'}\n"
     ]
    },
    {
     "name": "stderr",
     "output_type": "stream",
     "text": [
      "\r",
      " 60%|████████████████████████████████████████████████▎                               | 181/300 [20:10<12:38,  6.37s/it]"
     ]
    },
    {
     "name": "stdout",
     "output_type": "stream",
     "text": [
      "{'activation': 'relu', 'batch_size': 10, 'dropout': 0.30000000000000004, 'epochs': 500, 'first_neuron': 10, 'grid_downsample': 0.8, 'hidden_layers': 2, 'kernel_initializer': 'he_normal', 'last_activation': 'linear', 'lr': 0.26, 'shapes': 'brick'}\n"
     ]
    },
    {
     "name": "stderr",
     "output_type": "stream",
     "text": [
      "\r",
      " 61%|████████████████████████████████████████████████▌                               | 182/300 [20:19<14:15,  7.25s/it]"
     ]
    },
    {
     "name": "stdout",
     "output_type": "stream",
     "text": [
      "{'activation': 'relu', 'batch_size': 14, 'dropout': 0.1, 'epochs': 500, 'first_neuron': 20, 'grid_downsample': 0.8, 'hidden_layers': 1, 'kernel_initializer': 'he_normal', 'last_activation': 'linear', 'lr': 0.1, 'shapes': 'brick'}\n"
     ]
    },
    {
     "name": "stderr",
     "output_type": "stream",
     "text": [
      "\r",
      " 61%|████████████████████████████████████████████████▊                               | 183/300 [20:27<14:18,  7.34s/it]"
     ]
    },
    {
     "name": "stdout",
     "output_type": "stream",
     "text": [
      "{'activation': 'relu', 'batch_size': 14, 'dropout': 0.2, 'epochs': 500, 'first_neuron': 20, 'grid_downsample': 0.8, 'hidden_layers': 2, 'kernel_initializer': 'he_normal', 'last_activation': 'linear', 'lr': 0.3400000000000001, 'shapes': 'brick'}\n"
     ]
    },
    {
     "name": "stderr",
     "output_type": "stream",
     "text": [
      "\r",
      " 61%|█████████████████████████████████████████████████                               | 184/300 [20:35<14:21,  7.42s/it]"
     ]
    },
    {
     "name": "stdout",
     "output_type": "stream",
     "text": [
      "{'activation': 'relu', 'batch_size': 10, 'dropout': 0.1, 'epochs': 500, 'first_neuron': 20, 'grid_downsample': 0.8, 'hidden_layers': 1, 'kernel_initializer': 'he_normal', 'last_activation': 'linear', 'lr': 0.3400000000000001, 'shapes': 'funnel'}\n"
     ]
    },
    {
     "name": "stderr",
     "output_type": "stream",
     "text": [
      "\r",
      " 62%|█████████████████████████████████████████████████▎                              | 185/300 [20:44<15:22,  8.02s/it]"
     ]
    },
    {
     "name": "stdout",
     "output_type": "stream",
     "text": [
      "{'activation': 'relu', 'batch_size': 18, 'dropout': 0.30000000000000004, 'epochs': 500, 'first_neuron': 10, 'grid_downsample': 0.8, 'hidden_layers': 2, 'kernel_initializer': 'he_normal', 'last_activation': 'linear', 'lr': 0.4600000000000001, 'shapes': 'funnel'}\n"
     ]
    },
    {
     "name": "stderr",
     "output_type": "stream",
     "text": [
      "\r",
      " 62%|█████████████████████████████████████████████████▌                              | 186/300 [20:50<14:19,  7.54s/it]"
     ]
    },
    {
     "name": "stdout",
     "output_type": "stream",
     "text": [
      "{'activation': 'relu', 'batch_size': 14, 'dropout': 0.4, 'epochs': 500, 'first_neuron': 10, 'grid_downsample': 0.8, 'hidden_layers': 2, 'kernel_initializer': 'he_normal', 'last_activation': 'linear', 'lr': 0.30000000000000004, 'shapes': 'funnel'}\n"
     ]
    },
    {
     "name": "stderr",
     "output_type": "stream",
     "text": [
      "\r",
      " 62%|█████████████████████████████████████████████████▊                              | 187/300 [20:58<14:11,  7.54s/it]"
     ]
    },
    {
     "name": "stdout",
     "output_type": "stream",
     "text": [
      "{'activation': 'relu', 'batch_size': 10, 'dropout': 0.0, 'epochs': 500, 'first_neuron': 10, 'grid_downsample': 0.8, 'hidden_layers': 1, 'kernel_initializer': 'he_normal', 'last_activation': 'linear', 'lr': 0.30000000000000004, 'shapes': 'funnel'}\n"
     ]
    },
    {
     "name": "stderr",
     "output_type": "stream",
     "text": [
      "\r",
      " 63%|██████████████████████████████████████████████████▏                             | 188/300 [21:07<15:05,  8.09s/it]"
     ]
    },
    {
     "name": "stdout",
     "output_type": "stream",
     "text": [
      "{'activation': 'relu', 'batch_size': 18, 'dropout': 0.0, 'epochs': 500, 'first_neuron': 10, 'grid_downsample': 0.8, 'hidden_layers': 3, 'kernel_initializer': 'he_normal', 'last_activation': 'linear', 'lr': 0.22000000000000003, 'shapes': 'funnel'}\n"
     ]
    },
    {
     "name": "stderr",
     "output_type": "stream",
     "text": [
      "\r",
      " 63%|██████████████████████████████████████████████████▍                             | 189/300 [21:13<13:55,  7.53s/it]"
     ]
    },
    {
     "name": "stdout",
     "output_type": "stream",
     "text": [
      "{'activation': 'relu', 'batch_size': 10, 'dropout': 0.1, 'epochs': 500, 'first_neuron': 10, 'grid_downsample': 0.8, 'hidden_layers': 2, 'kernel_initializer': 'he_normal', 'last_activation': 'linear', 'lr': 0.38, 'shapes': 'brick'}\n"
     ]
    },
    {
     "name": "stderr",
     "output_type": "stream",
     "text": [
      "\r",
      " 63%|██████████████████████████████████████████████████▋                             | 190/300 [21:23<14:39,  8.00s/it]"
     ]
    },
    {
     "name": "stdout",
     "output_type": "stream",
     "text": [
      "{'activation': 'relu', 'batch_size': 10, 'dropout': 0.0, 'epochs': 500, 'first_neuron': 20, 'grid_downsample': 0.8, 'hidden_layers': 3, 'kernel_initializer': 'he_normal', 'last_activation': 'linear', 'lr': 0.22000000000000003, 'shapes': 'brick'}\n"
     ]
    },
    {
     "name": "stderr",
     "output_type": "stream",
     "text": [
      "\r",
      " 64%|██████████████████████████████████████████████████▉                             | 191/300 [21:32<15:02,  8.28s/it]"
     ]
    },
    {
     "name": "stdout",
     "output_type": "stream",
     "text": [
      "{'activation': 'relu', 'batch_size': 22, 'dropout': 0.4, 'epochs': 500, 'first_neuron': 10, 'grid_downsample': 0.8, 'hidden_layers': 1, 'kernel_initializer': 'he_normal', 'last_activation': 'linear', 'lr': 0.22000000000000003, 'shapes': 'funnel'}\n"
     ]
    },
    {
     "name": "stderr",
     "output_type": "stream",
     "text": [
      "\r",
      " 64%|███████████████████████████████████████████████████▏                            | 192/300 [21:37<13:24,  7.45s/it]"
     ]
    },
    {
     "name": "stdout",
     "output_type": "stream",
     "text": [
      "{'activation': 'relu', 'batch_size': 18, 'dropout': 0.0, 'epochs': 500, 'first_neuron': 10, 'grid_downsample': 0.8, 'hidden_layers': 1, 'kernel_initializer': 'he_normal', 'last_activation': 'linear', 'lr': 0.22000000000000003, 'shapes': 'brick'}\n"
     ]
    },
    {
     "name": "stderr",
     "output_type": "stream",
     "text": [
      "\r",
      " 64%|███████████████████████████████████████████████████▍                            | 193/300 [21:43<12:32,  7.03s/it]"
     ]
    },
    {
     "name": "stdout",
     "output_type": "stream",
     "text": [
      "{'activation': 'relu', 'batch_size': 14, 'dropout': 0.2, 'epochs': 500, 'first_neuron': 20, 'grid_downsample': 0.8, 'hidden_layers': 3, 'kernel_initializer': 'he_normal', 'last_activation': 'linear', 'lr': 0.30000000000000004, 'shapes': 'brick'}\n"
     ]
    },
    {
     "name": "stderr",
     "output_type": "stream",
     "text": [
      "\r",
      " 65%|███████████████████████████████████████████████████▋                            | 194/300 [21:51<12:38,  7.16s/it]"
     ]
    },
    {
     "name": "stdout",
     "output_type": "stream",
     "text": [
      "{'activation': 'relu', 'batch_size': 18, 'dropout': 0.30000000000000004, 'epochs': 500, 'first_neuron': 20, 'grid_downsample': 0.8, 'hidden_layers': 2, 'kernel_initializer': 'he_normal', 'last_activation': 'linear', 'lr': 0.26, 'shapes': 'funnel'}\n"
     ]
    },
    {
     "name": "stderr",
     "output_type": "stream",
     "text": [
      "\r",
      " 65%|████████████████████████████████████████████████████                            | 195/300 [21:57<12:20,  7.05s/it]"
     ]
    },
    {
     "name": "stdout",
     "output_type": "stream",
     "text": [
      "{'activation': 'relu', 'batch_size': 10, 'dropout': 0.0, 'epochs': 500, 'first_neuron': 10, 'grid_downsample': 0.8, 'hidden_layers': 2, 'kernel_initializer': 'he_normal', 'last_activation': 'linear', 'lr': 0.4600000000000001, 'shapes': 'funnel'}\n"
     ]
    },
    {
     "name": "stderr",
     "output_type": "stream",
     "text": [
      "\r",
      " 65%|████████████████████████████████████████████████████▎                           | 196/300 [22:06<13:10,  7.60s/it]"
     ]
    },
    {
     "name": "stdout",
     "output_type": "stream",
     "text": [
      "{'activation': 'relu', 'batch_size': 26, 'dropout': 0.2, 'epochs': 500, 'first_neuron': 10, 'grid_downsample': 0.8, 'hidden_layers': 2, 'kernel_initializer': 'he_normal', 'last_activation': 'linear', 'lr': 0.42000000000000004, 'shapes': 'funnel'}\n"
     ]
    },
    {
     "name": "stderr",
     "output_type": "stream",
     "text": [
      "\r",
      " 66%|████████████████████████████████████████████████████▌                           | 197/300 [22:11<11:33,  6.73s/it]"
     ]
    },
    {
     "name": "stdout",
     "output_type": "stream",
     "text": [
      "{'activation': 'relu', 'batch_size': 10, 'dropout': 0.2, 'epochs': 500, 'first_neuron': 20, 'grid_downsample': 0.8, 'hidden_layers': 2, 'kernel_initializer': 'he_normal', 'last_activation': 'linear', 'lr': 0.22000000000000003, 'shapes': 'funnel'}\n"
     ]
    },
    {
     "name": "stderr",
     "output_type": "stream",
     "text": [
      "\r",
      " 66%|████████████████████████████████████████████████████▊                           | 198/300 [22:20<12:51,  7.56s/it]"
     ]
    },
    {
     "name": "stdout",
     "output_type": "stream",
     "text": [
      "{'activation': 'relu', 'batch_size': 14, 'dropout': 0.2, 'epochs': 500, 'first_neuron': 10, 'grid_downsample': 0.8, 'hidden_layers': 3, 'kernel_initializer': 'he_normal', 'last_activation': 'linear', 'lr': 0.4600000000000001, 'shapes': 'funnel'}\n"
     ]
    },
    {
     "name": "stderr",
     "output_type": "stream",
     "text": [
      "\r",
      " 66%|█████████████████████████████████████████████████████                           | 199/300 [22:28<12:47,  7.60s/it]"
     ]
    },
    {
     "name": "stdout",
     "output_type": "stream",
     "text": [
      "{'activation': 'relu', 'batch_size': 18, 'dropout': 0.0, 'epochs': 500, 'first_neuron': 10, 'grid_downsample': 0.8, 'hidden_layers': 2, 'kernel_initializer': 'he_normal', 'last_activation': 'linear', 'lr': 0.1, 'shapes': 'brick'}\n"
     ]
    },
    {
     "name": "stderr",
     "output_type": "stream",
     "text": [
      "\r",
      " 67%|█████████████████████████████████████████████████████▎                          | 200/300 [22:34<11:52,  7.13s/it]"
     ]
    },
    {
     "name": "stdout",
     "output_type": "stream",
     "text": [
      "{'activation': 'relu', 'batch_size': 26, 'dropout': 0.1, 'epochs': 500, 'first_neuron': 20, 'grid_downsample': 0.8, 'hidden_layers': 3, 'kernel_initializer': 'he_normal', 'last_activation': 'linear', 'lr': 0.4600000000000001, 'shapes': 'brick'}\n"
     ]
    },
    {
     "name": "stderr",
     "output_type": "stream",
     "text": [
      "\r",
      " 67%|█████████████████████████████████████████████████████▌                          | 201/300 [22:39<10:30,  6.37s/it]"
     ]
    },
    {
     "name": "stdout",
     "output_type": "stream",
     "text": [
      "{'activation': 'relu', 'batch_size': 26, 'dropout': 0.1, 'epochs': 500, 'first_neuron': 20, 'grid_downsample': 0.8, 'hidden_layers': 3, 'kernel_initializer': 'he_normal', 'last_activation': 'linear', 'lr': 0.3400000000000001, 'shapes': 'brick'}\n"
     ]
    },
    {
     "name": "stderr",
     "output_type": "stream",
     "text": [
      "\r",
      " 67%|█████████████████████████████████████████████████████▊                          | 202/300 [22:43<09:34,  5.86s/it]"
     ]
    },
    {
     "name": "stdout",
     "output_type": "stream",
     "text": [
      "{'activation': 'relu', 'batch_size': 26, 'dropout': 0.4, 'epochs': 500, 'first_neuron': 20, 'grid_downsample': 0.8, 'hidden_layers': 2, 'kernel_initializer': 'he_normal', 'last_activation': 'linear', 'lr': 0.30000000000000004, 'shapes': 'funnel'}\n"
     ]
    },
    {
     "name": "stderr",
     "output_type": "stream",
     "text": [
      "\r",
      " 68%|██████████████████████████████████████████████████████▏                         | 203/300 [22:48<08:51,  5.47s/it]"
     ]
    },
    {
     "name": "stdout",
     "output_type": "stream",
     "text": [
      "{'activation': 'relu', 'batch_size': 10, 'dropout': 0.0, 'epochs': 500, 'first_neuron': 20, 'grid_downsample': 0.8, 'hidden_layers': 2, 'kernel_initializer': 'he_normal', 'last_activation': 'linear', 'lr': 0.38, 'shapes': 'brick'}\n"
     ]
    },
    {
     "name": "stderr",
     "output_type": "stream",
     "text": [
      "\r",
      " 68%|██████████████████████████████████████████████████████▍                         | 204/300 [22:57<10:15,  6.41s/it]"
     ]
    },
    {
     "name": "stdout",
     "output_type": "stream",
     "text": [
      "{'activation': 'relu', 'batch_size': 10, 'dropout': 0.2, 'epochs': 500, 'first_neuron': 20, 'grid_downsample': 0.8, 'hidden_layers': 3, 'kernel_initializer': 'he_normal', 'last_activation': 'linear', 'lr': 0.38, 'shapes': 'funnel'}\n"
     ]
    },
    {
     "name": "stderr",
     "output_type": "stream",
     "text": [
      "\r",
      " 68%|██████████████████████████████████████████████████████▋                         | 205/300 [23:07<11:58,  7.57s/it]"
     ]
    },
    {
     "name": "stdout",
     "output_type": "stream",
     "text": [
      "{'activation': 'relu', 'batch_size': 22, 'dropout': 0.4, 'epochs': 500, 'first_neuron': 20, 'grid_downsample': 0.8, 'hidden_layers': 3, 'kernel_initializer': 'he_normal', 'last_activation': 'linear', 'lr': 0.42000000000000004, 'shapes': 'brick'}\n"
     ]
    },
    {
     "name": "stderr",
     "output_type": "stream",
     "text": [
      "\r",
      " 69%|██████████████████████████████████████████████████████▉                         | 206/300 [23:13<10:57,  7.00s/it]"
     ]
    },
    {
     "name": "stdout",
     "output_type": "stream",
     "text": [
      "{'activation': 'relu', 'batch_size': 18, 'dropout': 0.2, 'epochs': 500, 'first_neuron': 10, 'grid_downsample': 0.8, 'hidden_layers': 1, 'kernel_initializer': 'he_normal', 'last_activation': 'linear', 'lr': 0.18000000000000002, 'shapes': 'brick'}\n"
     ]
    },
    {
     "name": "stderr",
     "output_type": "stream",
     "text": [
      "\r",
      " 69%|███████████████████████████████████████████████████████▏                        | 207/300 [23:19<10:32,  6.81s/it]"
     ]
    },
    {
     "name": "stdout",
     "output_type": "stream",
     "text": [
      "{'activation': 'relu', 'batch_size': 18, 'dropout': 0.1, 'epochs': 500, 'first_neuron': 10, 'grid_downsample': 0.8, 'hidden_layers': 1, 'kernel_initializer': 'he_normal', 'last_activation': 'linear', 'lr': 0.22000000000000003, 'shapes': 'funnel'}\n"
     ]
    },
    {
     "name": "stderr",
     "output_type": "stream",
     "text": [
      "\r",
      " 69%|███████████████████████████████████████████████████████▍                        | 208/300 [23:25<10:14,  6.68s/it]"
     ]
    },
    {
     "name": "stdout",
     "output_type": "stream",
     "text": [
      "{'activation': 'relu', 'batch_size': 26, 'dropout': 0.2, 'epochs': 500, 'first_neuron': 20, 'grid_downsample': 0.8, 'hidden_layers': 3, 'kernel_initializer': 'he_normal', 'last_activation': 'linear', 'lr': 0.4600000000000001, 'shapes': 'funnel'}\n"
     ]
    },
    {
     "name": "stderr",
     "output_type": "stream",
     "text": [
      "\r",
      " 70%|███████████████████████████████████████████████████████▋                        | 209/300 [23:30<09:15,  6.10s/it]"
     ]
    },
    {
     "name": "stdout",
     "output_type": "stream",
     "text": [
      "{'activation': 'relu', 'batch_size': 22, 'dropout': 0.0, 'epochs': 500, 'first_neuron': 10, 'grid_downsample': 0.8, 'hidden_layers': 1, 'kernel_initializer': 'he_normal', 'last_activation': 'linear', 'lr': 0.4600000000000001, 'shapes': 'funnel'}\n"
     ]
    },
    {
     "name": "stderr",
     "output_type": "stream",
     "text": [
      "\r",
      " 70%|████████████████████████████████████████████████████████                        | 210/300 [23:36<08:52,  5.92s/it]"
     ]
    },
    {
     "name": "stdout",
     "output_type": "stream",
     "text": [
      "{'activation': 'relu', 'batch_size': 10, 'dropout': 0.1, 'epochs': 500, 'first_neuron': 10, 'grid_downsample': 0.8, 'hidden_layers': 1, 'kernel_initializer': 'he_normal', 'last_activation': 'linear', 'lr': 0.4600000000000001, 'shapes': 'brick'}\n"
     ]
    },
    {
     "name": "stderr",
     "output_type": "stream",
     "text": [
      "\r",
      " 70%|████████████████████████████████████████████████████████▎                       | 211/300 [23:45<10:13,  6.90s/it]"
     ]
    },
    {
     "name": "stdout",
     "output_type": "stream",
     "text": [
      "{'activation': 'relu', 'batch_size': 26, 'dropout': 0.4, 'epochs': 500, 'first_neuron': 20, 'grid_downsample': 0.8, 'hidden_layers': 3, 'kernel_initializer': 'he_normal', 'last_activation': 'linear', 'lr': 0.14, 'shapes': 'brick'}\n"
     ]
    },
    {
     "name": "stderr",
     "output_type": "stream",
     "text": [
      "\r",
      " 71%|████████████████████████████████████████████████████████▌                       | 212/300 [23:49<09:07,  6.23s/it]"
     ]
    },
    {
     "name": "stdout",
     "output_type": "stream",
     "text": [
      "{'activation': 'relu', 'batch_size': 14, 'dropout': 0.1, 'epochs': 500, 'first_neuron': 10, 'grid_downsample': 0.8, 'hidden_layers': 2, 'kernel_initializer': 'he_normal', 'last_activation': 'linear', 'lr': 0.38, 'shapes': 'brick'}\n"
     ]
    },
    {
     "name": "stderr",
     "output_type": "stream",
     "text": [
      "\r",
      " 71%|████████████████████████████████████████████████████████▊                       | 213/300 [23:57<09:33,  6.59s/it]"
     ]
    },
    {
     "name": "stdout",
     "output_type": "stream",
     "text": [
      "{'activation': 'relu', 'batch_size': 10, 'dropout': 0.2, 'epochs': 500, 'first_neuron': 20, 'grid_downsample': 0.8, 'hidden_layers': 3, 'kernel_initializer': 'he_normal', 'last_activation': 'linear', 'lr': 0.14, 'shapes': 'brick'}\n"
     ]
    },
    {
     "name": "stderr",
     "output_type": "stream",
     "text": [
      "\r",
      " 71%|█████████████████████████████████████████████████████████                       | 214/300 [24:06<10:38,  7.42s/it]"
     ]
    },
    {
     "name": "stdout",
     "output_type": "stream",
     "text": [
      "{'activation': 'relu', 'batch_size': 10, 'dropout': 0.0, 'epochs': 500, 'first_neuron': 20, 'grid_downsample': 0.8, 'hidden_layers': 2, 'kernel_initializer': 'he_normal', 'last_activation': 'linear', 'lr': 0.3400000000000001, 'shapes': 'funnel'}\n"
     ]
    },
    {
     "name": "stderr",
     "output_type": "stream",
     "text": [
      "\r",
      " 72%|█████████████████████████████████████████████████████████▎                      | 215/300 [24:16<11:31,  8.13s/it]"
     ]
    },
    {
     "name": "stdout",
     "output_type": "stream",
     "text": [
      "{'activation': 'relu', 'batch_size': 26, 'dropout': 0.30000000000000004, 'epochs': 500, 'first_neuron': 20, 'grid_downsample': 0.8, 'hidden_layers': 1, 'kernel_initializer': 'he_normal', 'last_activation': 'linear', 'lr': 0.4600000000000001, 'shapes': 'brick'}\n"
     ]
    },
    {
     "name": "stderr",
     "output_type": "stream",
     "text": [
      "\r",
      " 72%|█████████████████████████████████████████████████████████▌                      | 216/300 [24:21<09:57,  7.12s/it]"
     ]
    },
    {
     "name": "stdout",
     "output_type": "stream",
     "text": [
      "{'activation': 'relu', 'batch_size': 26, 'dropout': 0.1, 'epochs': 500, 'first_neuron': 10, 'grid_downsample': 0.8, 'hidden_layers': 1, 'kernel_initializer': 'he_normal', 'last_activation': 'linear', 'lr': 0.26, 'shapes': 'funnel'}\n"
     ]
    },
    {
     "name": "stderr",
     "output_type": "stream",
     "text": [
      "\r",
      " 72%|█████████████████████████████████████████████████████████▊                      | 217/300 [24:26<08:54,  6.44s/it]"
     ]
    },
    {
     "name": "stdout",
     "output_type": "stream",
     "text": [
      "{'activation': 'relu', 'batch_size': 18, 'dropout': 0.2, 'epochs': 500, 'first_neuron': 10, 'grid_downsample': 0.8, 'hidden_layers': 1, 'kernel_initializer': 'he_normal', 'last_activation': 'linear', 'lr': 0.14, 'shapes': 'funnel'}\n"
     ]
    },
    {
     "name": "stderr",
     "output_type": "stream",
     "text": [
      "\r",
      " 73%|██████████████████████████████████████████████████████████▏                     | 218/300 [24:32<08:46,  6.42s/it]"
     ]
    },
    {
     "name": "stdout",
     "output_type": "stream",
     "text": [
      "{'activation': 'relu', 'batch_size': 10, 'dropout': 0.4, 'epochs': 500, 'first_neuron': 20, 'grid_downsample': 0.8, 'hidden_layers': 3, 'kernel_initializer': 'he_normal', 'last_activation': 'linear', 'lr': 0.26, 'shapes': 'brick'}\n"
     ]
    },
    {
     "name": "stderr",
     "output_type": "stream",
     "text": [
      "\r",
      " 73%|██████████████████████████████████████████████████████████▍                     | 219/300 [24:41<09:47,  7.26s/it]"
     ]
    },
    {
     "name": "stdout",
     "output_type": "stream",
     "text": [
      "{'activation': 'relu', 'batch_size': 14, 'dropout': 0.0, 'epochs': 500, 'first_neuron': 10, 'grid_downsample': 0.8, 'hidden_layers': 3, 'kernel_initializer': 'he_normal', 'last_activation': 'linear', 'lr': 0.30000000000000004, 'shapes': 'funnel'}\n"
     ]
    },
    {
     "name": "stderr",
     "output_type": "stream",
     "text": [
      "\r",
      " 73%|██████████████████████████████████████████████████████████▋                     | 220/300 [24:49<09:46,  7.33s/it]"
     ]
    },
    {
     "name": "stdout",
     "output_type": "stream",
     "text": [
      "{'activation': 'relu', 'batch_size': 26, 'dropout': 0.30000000000000004, 'epochs': 500, 'first_neuron': 20, 'grid_downsample': 0.8, 'hidden_layers': 2, 'kernel_initializer': 'he_normal', 'last_activation': 'linear', 'lr': 0.38, 'shapes': 'brick'}\n"
     ]
    },
    {
     "name": "stderr",
     "output_type": "stream",
     "text": [
      "\r",
      " 74%|██████████████████████████████████████████████████████████▉                     | 221/300 [24:53<08:36,  6.54s/it]"
     ]
    },
    {
     "name": "stdout",
     "output_type": "stream",
     "text": [
      "{'activation': 'relu', 'batch_size': 10, 'dropout': 0.0, 'epochs': 500, 'first_neuron': 10, 'grid_downsample': 0.8, 'hidden_layers': 1, 'kernel_initializer': 'he_normal', 'last_activation': 'linear', 'lr': 0.3400000000000001, 'shapes': 'funnel'}\n"
     ]
    },
    {
     "name": "stderr",
     "output_type": "stream",
     "text": [
      "\r",
      " 74%|███████████████████████████████████████████████████████████▏                    | 222/300 [25:02<09:25,  7.24s/it]"
     ]
    },
    {
     "name": "stdout",
     "output_type": "stream",
     "text": [
      "{'activation': 'relu', 'batch_size': 26, 'dropout': 0.30000000000000004, 'epochs': 500, 'first_neuron': 10, 'grid_downsample': 0.8, 'hidden_layers': 2, 'kernel_initializer': 'he_normal', 'last_activation': 'linear', 'lr': 0.38, 'shapes': 'funnel'}\n"
     ]
    },
    {
     "name": "stderr",
     "output_type": "stream",
     "text": [
      "\r",
      " 74%|███████████████████████████████████████████████████████████▍                    | 223/300 [25:07<08:24,  6.55s/it]"
     ]
    },
    {
     "name": "stdout",
     "output_type": "stream",
     "text": [
      "{'activation': 'relu', 'batch_size': 10, 'dropout': 0.0, 'epochs': 500, 'first_neuron': 10, 'grid_downsample': 0.8, 'hidden_layers': 3, 'kernel_initializer': 'he_normal', 'last_activation': 'linear', 'lr': 0.38, 'shapes': 'funnel'}\n"
     ]
    },
    {
     "name": "stderr",
     "output_type": "stream",
     "text": [
      "\r",
      " 75%|███████████████████████████████████████████████████████████▋                    | 224/300 [25:16<09:11,  7.25s/it]"
     ]
    },
    {
     "name": "stdout",
     "output_type": "stream",
     "text": [
      "{'activation': 'relu', 'batch_size': 26, 'dropout': 0.4, 'epochs': 500, 'first_neuron': 10, 'grid_downsample': 0.8, 'hidden_layers': 1, 'kernel_initializer': 'he_normal', 'last_activation': 'linear', 'lr': 0.1, 'shapes': 'funnel'}\n"
     ]
    },
    {
     "name": "stderr",
     "output_type": "stream",
     "text": [
      "\r",
      " 75%|████████████████████████████████████████████████████████████                    | 225/300 [25:21<08:06,  6.48s/it]"
     ]
    },
    {
     "name": "stdout",
     "output_type": "stream",
     "text": [
      "{'activation': 'relu', 'batch_size': 18, 'dropout': 0.0, 'epochs': 500, 'first_neuron': 20, 'grid_downsample': 0.8, 'hidden_layers': 3, 'kernel_initializer': 'he_normal', 'last_activation': 'linear', 'lr': 0.26, 'shapes': 'funnel'}\n"
     ]
    },
    {
     "name": "stderr",
     "output_type": "stream",
     "text": [
      "\r",
      " 75%|████████████████████████████████████████████████████████████▎                   | 226/300 [25:27<07:51,  6.37s/it]"
     ]
    },
    {
     "name": "stdout",
     "output_type": "stream",
     "text": [
      "{'activation': 'relu', 'batch_size': 22, 'dropout': 0.2, 'epochs': 500, 'first_neuron': 10, 'grid_downsample': 0.8, 'hidden_layers': 2, 'kernel_initializer': 'he_normal', 'last_activation': 'linear', 'lr': 0.4600000000000001, 'shapes': 'brick'}\n"
     ]
    },
    {
     "name": "stderr",
     "output_type": "stream",
     "text": [
      "\r",
      " 76%|████████████████████████████████████████████████████████████▌                   | 227/300 [25:32<07:27,  6.13s/it]"
     ]
    },
    {
     "name": "stdout",
     "output_type": "stream",
     "text": [
      "{'activation': 'relu', 'batch_size': 18, 'dropout': 0.30000000000000004, 'epochs': 500, 'first_neuron': 20, 'grid_downsample': 0.8, 'hidden_layers': 1, 'kernel_initializer': 'he_normal', 'last_activation': 'linear', 'lr': 0.14, 'shapes': 'funnel'}\n"
     ]
    },
    {
     "name": "stderr",
     "output_type": "stream",
     "text": [
      "\r",
      " 76%|████████████████████████████████████████████████████████████▊                   | 228/300 [25:39<07:35,  6.33s/it]"
     ]
    },
    {
     "name": "stdout",
     "output_type": "stream",
     "text": [
      "{'activation': 'relu', 'batch_size': 14, 'dropout': 0.0, 'epochs': 500, 'first_neuron': 20, 'grid_downsample': 0.8, 'hidden_layers': 3, 'kernel_initializer': 'he_normal', 'last_activation': 'linear', 'lr': 0.38, 'shapes': 'brick'}\n"
     ]
    },
    {
     "name": "stderr",
     "output_type": "stream",
     "text": [
      "\r",
      " 76%|█████████████████████████████████████████████████████████████                   | 229/300 [25:47<08:04,  6.82s/it]"
     ]
    },
    {
     "name": "stdout",
     "output_type": "stream",
     "text": [
      "{'activation': 'relu', 'batch_size': 18, 'dropout': 0.2, 'epochs': 500, 'first_neuron': 20, 'grid_downsample': 0.8, 'hidden_layers': 3, 'kernel_initializer': 'he_normal', 'last_activation': 'linear', 'lr': 0.4600000000000001, 'shapes': 'brick'}\n"
     ]
    },
    {
     "name": "stderr",
     "output_type": "stream",
     "text": [
      "\r",
      " 77%|█████████████████████████████████████████████████████████████▎                  | 230/300 [25:53<07:44,  6.64s/it]"
     ]
    },
    {
     "name": "stdout",
     "output_type": "stream",
     "text": [
      "{'activation': 'relu', 'batch_size': 18, 'dropout': 0.30000000000000004, 'epochs': 500, 'first_neuron': 10, 'grid_downsample': 0.8, 'hidden_layers': 1, 'kernel_initializer': 'he_normal', 'last_activation': 'linear', 'lr': 0.18000000000000002, 'shapes': 'funnel'}\n"
     ]
    },
    {
     "name": "stderr",
     "output_type": "stream",
     "text": [
      "\r",
      " 77%|█████████████████████████████████████████████████████████████▌                  | 231/300 [26:00<07:29,  6.52s/it]"
     ]
    },
    {
     "name": "stdout",
     "output_type": "stream",
     "text": [
      "{'activation': 'relu', 'batch_size': 26, 'dropout': 0.4, 'epochs': 500, 'first_neuron': 20, 'grid_downsample': 0.8, 'hidden_layers': 3, 'kernel_initializer': 'he_normal', 'last_activation': 'linear', 'lr': 0.14, 'shapes': 'funnel'}\n"
     ]
    },
    {
     "name": "stderr",
     "output_type": "stream",
     "text": [
      "\r",
      " 77%|█████████████████████████████████████████████████████████████▊                  | 232/300 [26:04<06:48,  6.01s/it]"
     ]
    },
    {
     "name": "stdout",
     "output_type": "stream",
     "text": [
      "{'activation': 'relu', 'batch_size': 22, 'dropout': 0.0, 'epochs': 500, 'first_neuron': 10, 'grid_downsample': 0.8, 'hidden_layers': 2, 'kernel_initializer': 'he_normal', 'last_activation': 'linear', 'lr': 0.26, 'shapes': 'funnel'}\n"
     ]
    },
    {
     "name": "stderr",
     "output_type": "stream",
     "text": [
      "\r",
      " 78%|██████████████████████████████████████████████████████████████▏                 | 233/300 [26:10<06:33,  5.87s/it]"
     ]
    },
    {
     "name": "stdout",
     "output_type": "stream",
     "text": [
      "{'activation': 'relu', 'batch_size': 14, 'dropout': 0.1, 'epochs': 500, 'first_neuron': 20, 'grid_downsample': 0.8, 'hidden_layers': 2, 'kernel_initializer': 'he_normal', 'last_activation': 'linear', 'lr': 0.1, 'shapes': 'brick'}\n"
     ]
    },
    {
     "name": "stderr",
     "output_type": "stream",
     "text": [
      "\r",
      " 78%|██████████████████████████████████████████████████████████████▍                 | 234/300 [26:18<07:02,  6.40s/it]"
     ]
    },
    {
     "name": "stdout",
     "output_type": "stream",
     "text": [
      "{'activation': 'relu', 'batch_size': 14, 'dropout': 0.2, 'epochs': 500, 'first_neuron': 10, 'grid_downsample': 0.8, 'hidden_layers': 2, 'kernel_initializer': 'he_normal', 'last_activation': 'linear', 'lr': 0.30000000000000004, 'shapes': 'brick'}\n"
     ]
    },
    {
     "name": "stderr",
     "output_type": "stream",
     "text": [
      "\r",
      " 78%|██████████████████████████████████████████████████████████████▋                 | 235/300 [26:25<07:20,  6.78s/it]"
     ]
    },
    {
     "name": "stdout",
     "output_type": "stream",
     "text": [
      "{'activation': 'relu', 'batch_size': 26, 'dropout': 0.0, 'epochs': 500, 'first_neuron': 20, 'grid_downsample': 0.8, 'hidden_layers': 1, 'kernel_initializer': 'he_normal', 'last_activation': 'linear', 'lr': 0.1, 'shapes': 'funnel'}\n"
     ]
    },
    {
     "name": "stderr",
     "output_type": "stream",
     "text": [
      "\r",
      " 79%|██████████████████████████████████████████████████████████████▉                 | 236/300 [26:30<06:33,  6.15s/it]"
     ]
    },
    {
     "name": "stdout",
     "output_type": "stream",
     "text": [
      "{'activation': 'relu', 'batch_size': 22, 'dropout': 0.4, 'epochs': 500, 'first_neuron': 20, 'grid_downsample': 0.8, 'hidden_layers': 2, 'kernel_initializer': 'he_normal', 'last_activation': 'linear', 'lr': 0.1, 'shapes': 'funnel'}\n"
     ]
    },
    {
     "name": "stderr",
     "output_type": "stream",
     "text": [
      "\r",
      " 79%|███████████████████████████████████████████████████████████████▏                | 237/300 [26:36<06:16,  5.98s/it]"
     ]
    },
    {
     "name": "stdout",
     "output_type": "stream",
     "text": [
      "{'activation': 'relu', 'batch_size': 22, 'dropout': 0.30000000000000004, 'epochs': 500, 'first_neuron': 20, 'grid_downsample': 0.8, 'hidden_layers': 2, 'kernel_initializer': 'he_normal', 'last_activation': 'linear', 'lr': 0.30000000000000004, 'shapes': 'funnel'}\n"
     ]
    },
    {
     "name": "stderr",
     "output_type": "stream",
     "text": [
      "\r",
      " 79%|███████████████████████████████████████████████████████████████▍                | 238/300 [26:41<06:03,  5.86s/it]"
     ]
    },
    {
     "name": "stdout",
     "output_type": "stream",
     "text": [
      "{'activation': 'relu', 'batch_size': 14, 'dropout': 0.4, 'epochs': 500, 'first_neuron': 10, 'grid_downsample': 0.8, 'hidden_layers': 2, 'kernel_initializer': 'he_normal', 'last_activation': 'linear', 'lr': 0.26, 'shapes': 'funnel'}\n"
     ]
    },
    {
     "name": "stderr",
     "output_type": "stream",
     "text": [
      "\r",
      " 80%|███████████████████████████████████████████████████████████████▋                | 239/300 [26:49<06:29,  6.38s/it]"
     ]
    },
    {
     "name": "stdout",
     "output_type": "stream",
     "text": [
      "{'activation': 'relu', 'batch_size': 10, 'dropout': 0.2, 'epochs': 500, 'first_neuron': 10, 'grid_downsample': 0.8, 'hidden_layers': 3, 'kernel_initializer': 'he_normal', 'last_activation': 'linear', 'lr': 0.4600000000000001, 'shapes': 'funnel'}\n"
     ]
    },
    {
     "name": "stderr",
     "output_type": "stream",
     "text": [
      "\r",
      " 80%|████████████████████████████████████████████████████████████████                | 240/300 [26:58<07:19,  7.32s/it]"
     ]
    },
    {
     "name": "stdout",
     "output_type": "stream",
     "text": [
      "{'activation': 'relu', 'batch_size': 26, 'dropout': 0.1, 'epochs': 500, 'first_neuron': 10, 'grid_downsample': 0.8, 'hidden_layers': 3, 'kernel_initializer': 'he_normal', 'last_activation': 'linear', 'lr': 0.1, 'shapes': 'funnel'}\n"
     ]
    },
    {
     "name": "stderr",
     "output_type": "stream",
     "text": [
      "\r",
      " 80%|████████████████████████████████████████████████████████████████▎               | 241/300 [27:03<06:26,  6.56s/it]"
     ]
    },
    {
     "name": "stdout",
     "output_type": "stream",
     "text": [
      "{'activation': 'relu', 'batch_size': 22, 'dropout': 0.0, 'epochs': 500, 'first_neuron': 20, 'grid_downsample': 0.8, 'hidden_layers': 1, 'kernel_initializer': 'he_normal', 'last_activation': 'linear', 'lr': 0.3400000000000001, 'shapes': 'funnel'}\n"
     ]
    },
    {
     "name": "stderr",
     "output_type": "stream",
     "text": [
      "\r",
      " 81%|████████████████████████████████████████████████████████████████▌               | 242/300 [27:09<06:14,  6.45s/it]"
     ]
    },
    {
     "name": "stdout",
     "output_type": "stream",
     "text": [
      "{'activation': 'relu', 'batch_size': 26, 'dropout': 0.1, 'epochs': 500, 'first_neuron': 20, 'grid_downsample': 0.8, 'hidden_layers': 1, 'kernel_initializer': 'he_normal', 'last_activation': 'linear', 'lr': 0.3400000000000001, 'shapes': 'brick'}\n"
     ]
    },
    {
     "name": "stderr",
     "output_type": "stream",
     "text": [
      "\r",
      " 81%|████████████████████████████████████████████████████████████████▊               | 243/300 [27:14<05:36,  5.90s/it]"
     ]
    },
    {
     "name": "stdout",
     "output_type": "stream",
     "text": [
      "{'activation': 'relu', 'batch_size': 10, 'dropout': 0.4, 'epochs': 500, 'first_neuron': 20, 'grid_downsample': 0.8, 'hidden_layers': 1, 'kernel_initializer': 'he_normal', 'last_activation': 'linear', 'lr': 0.42000000000000004, 'shapes': 'funnel'}\n"
     ]
    },
    {
     "name": "stderr",
     "output_type": "stream",
     "text": [
      "\r",
      " 81%|█████████████████████████████████████████████████████████████████               | 244/300 [27:23<06:27,  6.91s/it]"
     ]
    },
    {
     "name": "stdout",
     "output_type": "stream",
     "text": [
      "{'activation': 'relu', 'batch_size': 22, 'dropout': 0.4, 'epochs': 500, 'first_neuron': 20, 'grid_downsample': 0.8, 'hidden_layers': 3, 'kernel_initializer': 'he_normal', 'last_activation': 'linear', 'lr': 0.38, 'shapes': 'brick'}\n"
     ]
    },
    {
     "name": "stderr",
     "output_type": "stream",
     "text": [
      "\r",
      " 82%|█████████████████████████████████████████████████████████████████▎              | 245/300 [27:28<05:54,  6.45s/it]"
     ]
    },
    {
     "name": "stdout",
     "output_type": "stream",
     "text": [
      "{'activation': 'relu', 'batch_size': 22, 'dropout': 0.4, 'epochs': 500, 'first_neuron': 20, 'grid_downsample': 0.8, 'hidden_layers': 3, 'kernel_initializer': 'he_normal', 'last_activation': 'linear', 'lr': 0.3400000000000001, 'shapes': 'funnel'}\n"
     ]
    },
    {
     "name": "stderr",
     "output_type": "stream",
     "text": [
      "\r",
      " 82%|█████████████████████████████████████████████████████████████████▌              | 246/300 [27:34<05:35,  6.21s/it]"
     ]
    },
    {
     "name": "stdout",
     "output_type": "stream",
     "text": [
      "{'activation': 'relu', 'batch_size': 22, 'dropout': 0.2, 'epochs': 500, 'first_neuron': 10, 'grid_downsample': 0.8, 'hidden_layers': 2, 'kernel_initializer': 'he_normal', 'last_activation': 'linear', 'lr': 0.22000000000000003, 'shapes': 'brick'}\n"
     ]
    },
    {
     "name": "stderr",
     "output_type": "stream",
     "text": [
      "\r",
      " 82%|█████████████████████████████████████████████████████████████████▊              | 247/300 [27:40<05:20,  6.05s/it]"
     ]
    },
    {
     "name": "stdout",
     "output_type": "stream",
     "text": [
      "{'activation': 'relu', 'batch_size': 10, 'dropout': 0.30000000000000004, 'epochs': 500, 'first_neuron': 20, 'grid_downsample': 0.8, 'hidden_layers': 2, 'kernel_initializer': 'he_normal', 'last_activation': 'linear', 'lr': 0.38, 'shapes': 'brick'}\n"
     ]
    },
    {
     "name": "stderr",
     "output_type": "stream",
     "text": [
      "\r",
      " 83%|██████████████████████████████████████████████████████████████████▏             | 248/300 [27:49<06:05,  7.04s/it]"
     ]
    },
    {
     "name": "stdout",
     "output_type": "stream",
     "text": [
      "{'activation': 'relu', 'batch_size': 18, 'dropout': 0.0, 'epochs': 500, 'first_neuron': 10, 'grid_downsample': 0.8, 'hidden_layers': 2, 'kernel_initializer': 'he_normal', 'last_activation': 'linear', 'lr': 0.3400000000000001, 'shapes': 'brick'}\n"
     ]
    },
    {
     "name": "stderr",
     "output_type": "stream",
     "text": [
      "\r",
      " 83%|██████████████████████████████████████████████████████████████████▍             | 249/300 [27:56<05:51,  6.89s/it]"
     ]
    },
    {
     "name": "stdout",
     "output_type": "stream",
     "text": [
      "{'activation': 'relu', 'batch_size': 10, 'dropout': 0.4, 'epochs': 500, 'first_neuron': 10, 'grid_downsample': 0.8, 'hidden_layers': 2, 'kernel_initializer': 'he_normal', 'last_activation': 'linear', 'lr': 0.38, 'shapes': 'funnel'}\n"
     ]
    },
    {
     "name": "stderr",
     "output_type": "stream",
     "text": [
      "\r",
      " 83%|██████████████████████████████████████████████████████████████████▋             | 250/300 [28:05<06:19,  7.59s/it]"
     ]
    },
    {
     "name": "stdout",
     "output_type": "stream",
     "text": [
      "{'activation': 'relu', 'batch_size': 10, 'dropout': 0.30000000000000004, 'epochs': 500, 'first_neuron': 20, 'grid_downsample': 0.8, 'hidden_layers': 2, 'kernel_initializer': 'he_normal', 'last_activation': 'linear', 'lr': 0.38, 'shapes': 'funnel'}\n"
     ]
    },
    {
     "name": "stderr",
     "output_type": "stream",
     "text": [
      "\r",
      " 84%|██████████████████████████████████████████████████████████████████▉             | 251/300 [28:14<06:38,  8.14s/it]"
     ]
    },
    {
     "name": "stdout",
     "output_type": "stream",
     "text": [
      "{'activation': 'relu', 'batch_size': 22, 'dropout': 0.4, 'epochs': 500, 'first_neuron': 20, 'grid_downsample': 0.8, 'hidden_layers': 2, 'kernel_initializer': 'he_normal', 'last_activation': 'linear', 'lr': 0.30000000000000004, 'shapes': 'funnel'}\n"
     ]
    },
    {
     "name": "stderr",
     "output_type": "stream",
     "text": [
      "\r",
      " 84%|███████████████████████████████████████████████████████████████████▏            | 252/300 [28:20<05:53,  7.37s/it]"
     ]
    },
    {
     "name": "stdout",
     "output_type": "stream",
     "text": [
      "{'activation': 'relu', 'batch_size': 26, 'dropout': 0.1, 'epochs': 500, 'first_neuron': 10, 'grid_downsample': 0.8, 'hidden_layers': 1, 'kernel_initializer': 'he_normal', 'last_activation': 'linear', 'lr': 0.14, 'shapes': 'funnel'}\n"
     ]
    },
    {
     "name": "stderr",
     "output_type": "stream",
     "text": [
      "\r",
      " 84%|███████████████████████████████████████████████████████████████████▍            | 253/300 [28:25<05:08,  6.57s/it]"
     ]
    },
    {
     "name": "stdout",
     "output_type": "stream",
     "text": [
      "{'activation': 'relu', 'batch_size': 14, 'dropout': 0.2, 'epochs': 500, 'first_neuron': 20, 'grid_downsample': 0.8, 'hidden_layers': 1, 'kernel_initializer': 'he_normal', 'last_activation': 'linear', 'lr': 0.3400000000000001, 'shapes': 'funnel'}\n"
     ]
    },
    {
     "name": "stderr",
     "output_type": "stream",
     "text": [
      "\r",
      " 85%|███████████████████████████████████████████████████████████████████▋            | 254/300 [28:32<05:15,  6.87s/it]"
     ]
    },
    {
     "name": "stdout",
     "output_type": "stream",
     "text": [
      "{'activation': 'relu', 'batch_size': 18, 'dropout': 0.30000000000000004, 'epochs': 500, 'first_neuron': 10, 'grid_downsample': 0.8, 'hidden_layers': 3, 'kernel_initializer': 'he_normal', 'last_activation': 'linear', 'lr': 0.30000000000000004, 'shapes': 'funnel'}\n"
     ]
    },
    {
     "name": "stderr",
     "output_type": "stream",
     "text": [
      "\r",
      " 85%|████████████████████████████████████████████████████████████████████            | 255/300 [28:38<04:59,  6.66s/it]"
     ]
    },
    {
     "name": "stdout",
     "output_type": "stream",
     "text": [
      "{'activation': 'relu', 'batch_size': 22, 'dropout': 0.0, 'epochs': 500, 'first_neuron': 20, 'grid_downsample': 0.8, 'hidden_layers': 1, 'kernel_initializer': 'he_normal', 'last_activation': 'linear', 'lr': 0.42000000000000004, 'shapes': 'funnel'}\n"
     ]
    },
    {
     "name": "stderr",
     "output_type": "stream",
     "text": [
      "\r",
      " 85%|████████████████████████████████████████████████████████████████████▎           | 256/300 [28:44<04:35,  6.25s/it]"
     ]
    },
    {
     "name": "stdout",
     "output_type": "stream",
     "text": [
      "{'activation': 'relu', 'batch_size': 18, 'dropout': 0.4, 'epochs': 500, 'first_neuron': 20, 'grid_downsample': 0.8, 'hidden_layers': 2, 'kernel_initializer': 'he_normal', 'last_activation': 'linear', 'lr': 0.1, 'shapes': 'funnel'}\n"
     ]
    },
    {
     "name": "stderr",
     "output_type": "stream",
     "text": [
      "\r",
      " 86%|████████████████████████████████████████████████████████████████████▌           | 257/300 [28:50<04:29,  6.28s/it]"
     ]
    },
    {
     "name": "stdout",
     "output_type": "stream",
     "text": [
      "{'activation': 'relu', 'batch_size': 26, 'dropout': 0.4, 'epochs': 500, 'first_neuron': 10, 'grid_downsample': 0.8, 'hidden_layers': 2, 'kernel_initializer': 'he_normal', 'last_activation': 'linear', 'lr': 0.1, 'shapes': 'funnel'}\n"
     ]
    },
    {
     "name": "stderr",
     "output_type": "stream",
     "text": [
      "\r",
      " 86%|████████████████████████████████████████████████████████████████████▊           | 258/300 [28:55<04:03,  5.80s/it]"
     ]
    },
    {
     "name": "stdout",
     "output_type": "stream",
     "text": [
      "{'activation': 'relu', 'batch_size': 18, 'dropout': 0.1, 'epochs': 500, 'first_neuron': 20, 'grid_downsample': 0.8, 'hidden_layers': 3, 'kernel_initializer': 'he_normal', 'last_activation': 'linear', 'lr': 0.4600000000000001, 'shapes': 'funnel'}\n"
     ]
    },
    {
     "name": "stderr",
     "output_type": "stream",
     "text": [
      "\r",
      " 86%|█████████████████████████████████████████████████████████████████████           | 259/300 [29:01<04:07,  6.03s/it]"
     ]
    },
    {
     "name": "stdout",
     "output_type": "stream",
     "text": [
      "{'activation': 'relu', 'batch_size': 10, 'dropout': 0.2, 'epochs': 500, 'first_neuron': 20, 'grid_downsample': 0.8, 'hidden_layers': 3, 'kernel_initializer': 'he_normal', 'last_activation': 'linear', 'lr': 0.4600000000000001, 'shapes': 'brick'}\n"
     ]
    },
    {
     "name": "stderr",
     "output_type": "stream",
     "text": [
      "\r",
      " 87%|█████████████████████████████████████████████████████████████████████▎          | 260/300 [29:11<04:42,  7.07s/it]"
     ]
    },
    {
     "name": "stdout",
     "output_type": "stream",
     "text": [
      "{'activation': 'relu', 'batch_size': 10, 'dropout': 0.2, 'epochs': 500, 'first_neuron': 10, 'grid_downsample': 0.8, 'hidden_layers': 3, 'kernel_initializer': 'he_normal', 'last_activation': 'linear', 'lr': 0.18000000000000002, 'shapes': 'brick'}\n"
     ]
    },
    {
     "name": "stderr",
     "output_type": "stream",
     "text": [
      "\r",
      " 87%|█████████████████████████████████████████████████████████████████████▌          | 261/300 [29:20<05:04,  7.81s/it]"
     ]
    },
    {
     "name": "stdout",
     "output_type": "stream",
     "text": [
      "{'activation': 'relu', 'batch_size': 10, 'dropout': 0.1, 'epochs': 500, 'first_neuron': 20, 'grid_downsample': 0.8, 'hidden_layers': 1, 'kernel_initializer': 'he_normal', 'last_activation': 'linear', 'lr': 0.30000000000000004, 'shapes': 'funnel'}\n"
     ]
    },
    {
     "name": "stderr",
     "output_type": "stream",
     "text": [
      "\r",
      " 87%|█████████████████████████████████████████████████████████████████████▊          | 262/300 [29:30<05:18,  8.37s/it]"
     ]
    },
    {
     "name": "stdout",
     "output_type": "stream",
     "text": [
      "{'activation': 'relu', 'batch_size': 22, 'dropout': 0.0, 'epochs': 500, 'first_neuron': 10, 'grid_downsample': 0.8, 'hidden_layers': 1, 'kernel_initializer': 'he_normal', 'last_activation': 'linear', 'lr': 0.26, 'shapes': 'brick'}\n"
     ]
    },
    {
     "name": "stderr",
     "output_type": "stream",
     "text": [
      "\r",
      " 88%|██████████████████████████████████████████████████████████████████████▏         | 263/300 [29:36<04:40,  7.57s/it]"
     ]
    },
    {
     "name": "stdout",
     "output_type": "stream",
     "text": [
      "{'activation': 'relu', 'batch_size': 18, 'dropout': 0.4, 'epochs': 500, 'first_neuron': 10, 'grid_downsample': 0.8, 'hidden_layers': 2, 'kernel_initializer': 'he_normal', 'last_activation': 'linear', 'lr': 0.18000000000000002, 'shapes': 'brick'}\n"
     ]
    },
    {
     "name": "stderr",
     "output_type": "stream",
     "text": [
      "\r",
      " 88%|██████████████████████████████████████████████████████████████████████▍         | 264/300 [29:42<04:19,  7.20s/it]"
     ]
    },
    {
     "name": "stdout",
     "output_type": "stream",
     "text": [
      "{'activation': 'relu', 'batch_size': 10, 'dropout': 0.0, 'epochs': 500, 'first_neuron': 20, 'grid_downsample': 0.8, 'hidden_layers': 2, 'kernel_initializer': 'he_normal', 'last_activation': 'linear', 'lr': 0.1, 'shapes': 'funnel'}\n"
     ]
    },
    {
     "name": "stderr",
     "output_type": "stream",
     "text": [
      "\r",
      " 88%|██████████████████████████████████████████████████████████████████████▋         | 265/300 [29:51<04:29,  7.69s/it]"
     ]
    },
    {
     "name": "stdout",
     "output_type": "stream",
     "text": [
      "{'activation': 'relu', 'batch_size': 14, 'dropout': 0.0, 'epochs': 500, 'first_neuron': 10, 'grid_downsample': 0.8, 'hidden_layers': 2, 'kernel_initializer': 'he_normal', 'last_activation': 'linear', 'lr': 0.3400000000000001, 'shapes': 'brick'}\n"
     ]
    },
    {
     "name": "stderr",
     "output_type": "stream",
     "text": [
      "\r",
      " 89%|██████████████████████████████████████████████████████████████████████▉         | 266/300 [29:58<04:16,  7.54s/it]"
     ]
    },
    {
     "name": "stdout",
     "output_type": "stream",
     "text": [
      "{'activation': 'relu', 'batch_size': 22, 'dropout': 0.1, 'epochs': 500, 'first_neuron': 10, 'grid_downsample': 0.8, 'hidden_layers': 3, 'kernel_initializer': 'he_normal', 'last_activation': 'linear', 'lr': 0.26, 'shapes': 'brick'}\n"
     ]
    },
    {
     "name": "stderr",
     "output_type": "stream",
     "text": [
      "\r",
      " 89%|███████████████████████████████████████████████████████████████████████▏        | 267/300 [30:04<03:55,  7.15s/it]"
     ]
    },
    {
     "name": "stdout",
     "output_type": "stream",
     "text": [
      "{'activation': 'relu', 'batch_size': 10, 'dropout': 0.30000000000000004, 'epochs': 500, 'first_neuron': 20, 'grid_downsample': 0.8, 'hidden_layers': 1, 'kernel_initializer': 'he_normal', 'last_activation': 'linear', 'lr': 0.38, 'shapes': 'funnel'}\n"
     ]
    },
    {
     "name": "stderr",
     "output_type": "stream",
     "text": [
      "\r",
      " 89%|███████████████████████████████████████████████████████████████████████▍        | 268/300 [30:14<04:12,  7.89s/it]"
     ]
    },
    {
     "name": "stdout",
     "output_type": "stream",
     "text": [
      "{'activation': 'relu', 'batch_size': 26, 'dropout': 0.30000000000000004, 'epochs': 500, 'first_neuron': 20, 'grid_downsample': 0.8, 'hidden_layers': 1, 'kernel_initializer': 'he_normal', 'last_activation': 'linear', 'lr': 0.14, 'shapes': 'brick'}\n"
     ]
    },
    {
     "name": "stderr",
     "output_type": "stream",
     "text": [
      "\r",
      " 90%|███████████████████████████████████████████████████████████████████████▋        | 269/300 [30:19<03:35,  6.95s/it]"
     ]
    },
    {
     "name": "stdout",
     "output_type": "stream",
     "text": [
      "{'activation': 'relu', 'batch_size': 10, 'dropout': 0.30000000000000004, 'epochs': 500, 'first_neuron': 10, 'grid_downsample': 0.8, 'hidden_layers': 1, 'kernel_initializer': 'he_normal', 'last_activation': 'linear', 'lr': 0.14, 'shapes': 'brick'}\n"
     ]
    },
    {
     "name": "stderr",
     "output_type": "stream",
     "text": [
      "\r",
      " 90%|████████████████████████████████████████████████████████████████████████        | 270/300 [30:28<03:51,  7.71s/it]"
     ]
    },
    {
     "name": "stdout",
     "output_type": "stream",
     "text": [
      "{'activation': 'relu', 'batch_size': 18, 'dropout': 0.0, 'epochs': 500, 'first_neuron': 10, 'grid_downsample': 0.8, 'hidden_layers': 1, 'kernel_initializer': 'he_normal', 'last_activation': 'linear', 'lr': 0.14, 'shapes': 'funnel'}\n"
     ]
    },
    {
     "name": "stderr",
     "output_type": "stream",
     "text": [
      "\r",
      " 90%|████████████████████████████████████████████████████████████████████████▎       | 271/300 [30:34<03:28,  7.19s/it]"
     ]
    },
    {
     "name": "stdout",
     "output_type": "stream",
     "text": [
      "{'activation': 'relu', 'batch_size': 26, 'dropout': 0.2, 'epochs': 500, 'first_neuron': 20, 'grid_downsample': 0.8, 'hidden_layers': 3, 'kernel_initializer': 'he_normal', 'last_activation': 'linear', 'lr': 0.42000000000000004, 'shapes': 'brick'}\n"
     ]
    },
    {
     "name": "stderr",
     "output_type": "stream",
     "text": [
      "\r",
      " 91%|████████████████████████████████████████████████████████████████████████▌       | 272/300 [30:39<03:00,  6.46s/it]"
     ]
    },
    {
     "name": "stdout",
     "output_type": "stream",
     "text": [
      "{'activation': 'relu', 'batch_size': 10, 'dropout': 0.30000000000000004, 'epochs': 500, 'first_neuron': 10, 'grid_downsample': 0.8, 'hidden_layers': 2, 'kernel_initializer': 'he_normal', 'last_activation': 'linear', 'lr': 0.30000000000000004, 'shapes': 'funnel'}\n"
     ]
    },
    {
     "name": "stderr",
     "output_type": "stream",
     "text": [
      "\r",
      " 91%|████████████████████████████████████████████████████████████████████████▊       | 273/300 [30:48<03:14,  7.22s/it]"
     ]
    },
    {
     "name": "stdout",
     "output_type": "stream",
     "text": [
      "{'activation': 'relu', 'batch_size': 22, 'dropout': 0.30000000000000004, 'epochs': 500, 'first_neuron': 20, 'grid_downsample': 0.8, 'hidden_layers': 3, 'kernel_initializer': 'he_normal', 'last_activation': 'linear', 'lr': 0.3400000000000001, 'shapes': 'funnel'}\n"
     ]
    },
    {
     "name": "stderr",
     "output_type": "stream",
     "text": [
      "\r",
      " 91%|█████████████████████████████████████████████████████████████████████████       | 274/300 [30:53<02:53,  6.69s/it]"
     ]
    },
    {
     "name": "stdout",
     "output_type": "stream",
     "text": [
      "{'activation': 'relu', 'batch_size': 22, 'dropout': 0.4, 'epochs': 500, 'first_neuron': 10, 'grid_downsample': 0.8, 'hidden_layers': 3, 'kernel_initializer': 'he_normal', 'last_activation': 'linear', 'lr': 0.1, 'shapes': 'funnel'}\n"
     ]
    },
    {
     "name": "stderr",
     "output_type": "stream",
     "text": [
      "\r",
      " 92%|█████████████████████████████████████████████████████████████████████████▎      | 275/300 [30:59<02:38,  6.34s/it]"
     ]
    },
    {
     "name": "stdout",
     "output_type": "stream",
     "text": [
      "{'activation': 'relu', 'batch_size': 10, 'dropout': 0.4, 'epochs': 500, 'first_neuron': 20, 'grid_downsample': 0.8, 'hidden_layers': 2, 'kernel_initializer': 'he_normal', 'last_activation': 'linear', 'lr': 0.38, 'shapes': 'funnel'}\n"
     ]
    },
    {
     "name": "stderr",
     "output_type": "stream",
     "text": [
      "\r",
      " 92%|█████████████████████████████████████████████████████████████████████████▌      | 276/300 [31:08<02:55,  7.30s/it]"
     ]
    },
    {
     "name": "stdout",
     "output_type": "stream",
     "text": [
      "{'activation': 'relu', 'batch_size': 22, 'dropout': 0.30000000000000004, 'epochs': 500, 'first_neuron': 20, 'grid_downsample': 0.8, 'hidden_layers': 3, 'kernel_initializer': 'he_normal', 'last_activation': 'linear', 'lr': 0.30000000000000004, 'shapes': 'funnel'}\n"
     ]
    },
    {
     "name": "stderr",
     "output_type": "stream",
     "text": [
      "\r",
      " 92%|█████████████████████████████████████████████████████████████████████████▊      | 277/300 [31:14<02:36,  6.79s/it]"
     ]
    },
    {
     "name": "stdout",
     "output_type": "stream",
     "text": [
      "{'activation': 'relu', 'batch_size': 22, 'dropout': 0.4, 'epochs': 500, 'first_neuron': 20, 'grid_downsample': 0.8, 'hidden_layers': 3, 'kernel_initializer': 'he_normal', 'last_activation': 'linear', 'lr': 0.3400000000000001, 'shapes': 'brick'}\n"
     ]
    },
    {
     "name": "stderr",
     "output_type": "stream",
     "text": [
      "\r",
      " 93%|██████████████████████████████████████████████████████████████████████████▏     | 278/300 [31:20<02:21,  6.44s/it]"
     ]
    },
    {
     "name": "stdout",
     "output_type": "stream",
     "text": [
      "{'activation': 'relu', 'batch_size': 14, 'dropout': 0.0, 'epochs': 500, 'first_neuron': 10, 'grid_downsample': 0.8, 'hidden_layers': 1, 'kernel_initializer': 'he_normal', 'last_activation': 'linear', 'lr': 0.1, 'shapes': 'brick'}\n"
     ]
    },
    {
     "name": "stderr",
     "output_type": "stream",
     "text": [
      "\r",
      " 93%|██████████████████████████████████████████████████████████████████████████▍     | 279/300 [31:27<02:23,  6.82s/it]"
     ]
    },
    {
     "name": "stdout",
     "output_type": "stream",
     "text": [
      "{'activation': 'relu', 'batch_size': 14, 'dropout': 0.0, 'epochs': 500, 'first_neuron': 20, 'grid_downsample': 0.8, 'hidden_layers': 2, 'kernel_initializer': 'he_normal', 'last_activation': 'linear', 'lr': 0.42000000000000004, 'shapes': 'funnel'}\n"
     ]
    },
    {
     "name": "stderr",
     "output_type": "stream",
     "text": [
      "\r",
      " 93%|██████████████████████████████████████████████████████████████████████████▋     | 280/300 [31:35<02:19,  6.96s/it]"
     ]
    },
    {
     "name": "stdout",
     "output_type": "stream",
     "text": [
      "{'activation': 'relu', 'batch_size': 18, 'dropout': 0.2, 'epochs': 500, 'first_neuron': 10, 'grid_downsample': 0.8, 'hidden_layers': 2, 'kernel_initializer': 'he_normal', 'last_activation': 'linear', 'lr': 0.22000000000000003, 'shapes': 'brick'}\n"
     ]
    },
    {
     "name": "stderr",
     "output_type": "stream",
     "text": [
      "\r",
      " 94%|██████████████████████████████████████████████████████████████████████████▉     | 281/300 [31:42<02:16,  7.20s/it]"
     ]
    },
    {
     "name": "stdout",
     "output_type": "stream",
     "text": [
      "{'activation': 'relu', 'batch_size': 22, 'dropout': 0.4, 'epochs': 500, 'first_neuron': 10, 'grid_downsample': 0.8, 'hidden_layers': 2, 'kernel_initializer': 'he_normal', 'last_activation': 'linear', 'lr': 0.42000000000000004, 'shapes': 'funnel'}\n"
     ]
    },
    {
     "name": "stderr",
     "output_type": "stream",
     "text": [
      "\r",
      " 94%|███████████████████████████████████████████████████████████████████████████▏    | 282/300 [31:48<02:02,  6.83s/it]"
     ]
    },
    {
     "name": "stdout",
     "output_type": "stream",
     "text": [
      "{'activation': 'relu', 'batch_size': 18, 'dropout': 0.2, 'epochs': 500, 'first_neuron': 20, 'grid_downsample': 0.8, 'hidden_layers': 3, 'kernel_initializer': 'he_normal', 'last_activation': 'linear', 'lr': 0.38, 'shapes': 'brick'}\n"
     ]
    },
    {
     "name": "stderr",
     "output_type": "stream",
     "text": [
      "\r",
      " 94%|███████████████████████████████████████████████████████████████████████████▍    | 283/300 [32:00<02:21,  8.34s/it]"
     ]
    },
    {
     "name": "stdout",
     "output_type": "stream",
     "text": [
      "{'activation': 'relu', 'batch_size': 26, 'dropout': 0.4, 'epochs': 500, 'first_neuron': 10, 'grid_downsample': 0.8, 'hidden_layers': 3, 'kernel_initializer': 'he_normal', 'last_activation': 'linear', 'lr': 0.30000000000000004, 'shapes': 'brick'}\n"
     ]
    },
    {
     "name": "stderr",
     "output_type": "stream",
     "text": [
      "\r",
      " 95%|█████████████████████████████████████████████████████████████████████    | 284/300 [8:25:31<37:54:22, 8528.94s/it]"
     ]
    },
    {
     "name": "stdout",
     "output_type": "stream",
     "text": [
      "{'activation': 'relu', 'batch_size': 26, 'dropout': 0.4, 'epochs': 500, 'first_neuron': 20, 'grid_downsample': 0.8, 'hidden_layers': 3, 'kernel_initializer': 'he_normal', 'last_activation': 'linear', 'lr': 0.22000000000000003, 'shapes': 'brick'}\n"
     ]
    },
    {
     "name": "stderr",
     "output_type": "stream",
     "text": [
      "\r",
      " 95%|█████████████████████████████████████████████████████████████████████▎   | 285/300 [8:25:39<24:53:11, 5972.78s/it]"
     ]
    },
    {
     "name": "stdout",
     "output_type": "stream",
     "text": [
      "{'activation': 'relu', 'batch_size': 26, 'dropout': 0.2, 'epochs': 500, 'first_neuron': 10, 'grid_downsample': 0.8, 'hidden_layers': 1, 'kernel_initializer': 'he_normal', 'last_activation': 'linear', 'lr': 0.18000000000000002, 'shapes': 'brick'}\n"
     ]
    },
    {
     "name": "stderr",
     "output_type": "stream",
     "text": [
      "\r",
      " 95%|█████████████████████████████████████████████████████████████████████▌   | 286/300 [8:25:46<16:16:01, 4182.98s/it]"
     ]
    },
    {
     "name": "stdout",
     "output_type": "stream",
     "text": [
      "{'activation': 'relu', 'batch_size': 22, 'dropout': 0.1, 'epochs': 500, 'first_neuron': 20, 'grid_downsample': 0.8, 'hidden_layers': 1, 'kernel_initializer': 'he_normal', 'last_activation': 'linear', 'lr': 0.18000000000000002, 'shapes': 'brick'}\n"
     ]
    },
    {
     "name": "stderr",
     "output_type": "stream",
     "text": [
      "\r",
      " 96%|█████████████████████████████████████████████████████████████████████▊   | 287/300 [8:25:53<10:34:53, 2930.30s/it]"
     ]
    },
    {
     "name": "stdout",
     "output_type": "stream",
     "text": [
      "{'activation': 'relu', 'batch_size': 18, 'dropout': 0.1, 'epochs': 500, 'first_neuron': 10, 'grid_downsample': 0.8, 'hidden_layers': 1, 'kernel_initializer': 'he_normal', 'last_activation': 'linear', 'lr': 0.14, 'shapes': 'funnel'}\n"
     ]
    },
    {
     "name": "stderr",
     "output_type": "stream",
     "text": [
      "\r",
      " 96%|███████████████████████████████████████████████████████████████████████   | 288/300 [8:26:01<6:50:41, 2053.49s/it]"
     ]
    },
    {
     "name": "stdout",
     "output_type": "stream",
     "text": [
      "{'activation': 'relu', 'batch_size': 10, 'dropout': 0.30000000000000004, 'epochs': 500, 'first_neuron': 20, 'grid_downsample': 0.8, 'hidden_layers': 3, 'kernel_initializer': 'he_normal', 'last_activation': 'linear', 'lr': 0.38, 'shapes': 'funnel'}\n"
     ]
    },
    {
     "name": "stderr",
     "output_type": "stream",
     "text": [
      "\r",
      " 96%|███████████████████████████████████████████████████████████████████████▎  | 289/300 [8:26:11<4:24:07, 1440.66s/it]"
     ]
    },
    {
     "name": "stdout",
     "output_type": "stream",
     "text": [
      "{'activation': 'relu', 'batch_size': 26, 'dropout': 0.2, 'epochs': 500, 'first_neuron': 20, 'grid_downsample': 0.8, 'hidden_layers': 3, 'kernel_initializer': 'he_normal', 'last_activation': 'linear', 'lr': 0.4600000000000001, 'shapes': 'brick'}\n"
     ]
    },
    {
     "name": "stderr",
     "output_type": "stream",
     "text": [
      "\r",
      " 97%|███████████████████████████████████████████████████████████████████████▌  | 290/300 [8:26:16<2:48:19, 1009.93s/it]"
     ]
    },
    {
     "name": "stdout",
     "output_type": "stream",
     "text": [
      "{'activation': 'relu', 'batch_size': 22, 'dropout': 0.1, 'epochs': 500, 'first_neuron': 10, 'grid_downsample': 0.8, 'hidden_layers': 1, 'kernel_initializer': 'he_normal', 'last_activation': 'linear', 'lr': 0.3400000000000001, 'shapes': 'funnel'}\n"
     ]
    },
    {
     "name": "stderr",
     "output_type": "stream",
     "text": [
      "\r",
      " 97%|████████████████████████████████████████████████████████████████████████▊  | 291/300 [8:26:23<1:46:19, 708.87s/it]"
     ]
    },
    {
     "name": "stdout",
     "output_type": "stream",
     "text": [
      "{'activation': 'relu', 'batch_size': 14, 'dropout': 0.4, 'epochs': 500, 'first_neuron': 20, 'grid_downsample': 0.8, 'hidden_layers': 1, 'kernel_initializer': 'he_normal', 'last_activation': 'linear', 'lr': 0.3400000000000001, 'shapes': 'funnel'}\n"
     ]
    },
    {
     "name": "stderr",
     "output_type": "stream",
     "text": [
      "\r",
      " 97%|█████████████████████████████████████████████████████████████████████████  | 292/300 [8:26:31<1:06:29, 498.63s/it]"
     ]
    },
    {
     "name": "stdout",
     "output_type": "stream",
     "text": [
      "{'activation': 'relu', 'batch_size': 14, 'dropout': 0.2, 'epochs': 500, 'first_neuron': 20, 'grid_downsample': 0.8, 'hidden_layers': 2, 'kernel_initializer': 'he_normal', 'last_activation': 'linear', 'lr': 0.26, 'shapes': 'funnel'}\n"
     ]
    },
    {
     "name": "stderr",
     "output_type": "stream",
     "text": [
      "\r",
      " 98%|███████████████████████████████████████████████████████████████████████████▏ | 293/300 [8:26:39<40:59, 351.43s/it]"
     ]
    },
    {
     "name": "stdout",
     "output_type": "stream",
     "text": [
      "{'activation': 'relu', 'batch_size': 18, 'dropout': 0.1, 'epochs': 500, 'first_neuron': 20, 'grid_downsample': 0.8, 'hidden_layers': 3, 'kernel_initializer': 'he_normal', 'last_activation': 'linear', 'lr': 0.22000000000000003, 'shapes': 'brick'}\n"
     ]
    },
    {
     "name": "stderr",
     "output_type": "stream",
     "text": [
      "\r",
      " 98%|███████████████████████████████████████████████████████████████████████████▍ | 294/300 [8:26:45<24:47, 247.89s/it]"
     ]
    },
    {
     "name": "stdout",
     "output_type": "stream",
     "text": [
      "{'activation': 'relu', 'batch_size': 14, 'dropout': 0.2, 'epochs': 500, 'first_neuron': 20, 'grid_downsample': 0.8, 'hidden_layers': 2, 'kernel_initializer': 'he_normal', 'last_activation': 'linear', 'lr': 0.42000000000000004, 'shapes': 'funnel'}\n"
     ]
    },
    {
     "name": "stderr",
     "output_type": "stream",
     "text": [
      "\r",
      " 98%|███████████████████████████████████████████████████████████████████████████▋ | 295/300 [8:26:53<14:39, 175.94s/it]"
     ]
    },
    {
     "name": "stdout",
     "output_type": "stream",
     "text": [
      "{'activation': 'relu', 'batch_size': 10, 'dropout': 0.1, 'epochs': 500, 'first_neuron': 10, 'grid_downsample': 0.8, 'hidden_layers': 2, 'kernel_initializer': 'he_normal', 'last_activation': 'linear', 'lr': 0.14, 'shapes': 'funnel'}\n"
     ]
    },
    {
     "name": "stderr",
     "output_type": "stream",
     "text": [
      "\r",
      " 99%|███████████████████████████████████████████████████████████████████████████▉ | 296/300 [8:27:03<08:24, 126.16s/it]"
     ]
    },
    {
     "name": "stdout",
     "output_type": "stream",
     "text": [
      "{'activation': 'relu', 'batch_size': 10, 'dropout': 0.0, 'epochs': 500, 'first_neuron': 10, 'grid_downsample': 0.8, 'hidden_layers': 3, 'kernel_initializer': 'he_normal', 'last_activation': 'linear', 'lr': 0.4600000000000001, 'shapes': 'brick'}\n"
     ]
    },
    {
     "name": "stderr",
     "output_type": "stream",
     "text": [
      "\r",
      " 99%|█████████████████████████████████████████████████████████████████████████████▏| 297/300 [8:27:13<04:33, 91.16s/it]"
     ]
    },
    {
     "name": "stdout",
     "output_type": "stream",
     "text": [
      "{'activation': 'relu', 'batch_size': 14, 'dropout': 0.2, 'epochs': 500, 'first_neuron': 20, 'grid_downsample': 0.8, 'hidden_layers': 2, 'kernel_initializer': 'he_normal', 'last_activation': 'linear', 'lr': 0.1, 'shapes': 'brick'}\n"
     ]
    },
    {
     "name": "stderr",
     "output_type": "stream",
     "text": [
      "\r",
      " 99%|█████████████████████████████████████████████████████████████████████████████▍| 298/300 [8:27:21<02:12, 66.35s/it]"
     ]
    },
    {
     "name": "stdout",
     "output_type": "stream",
     "text": [
      "{'activation': 'relu', 'batch_size': 22, 'dropout': 0.2, 'epochs': 500, 'first_neuron': 10, 'grid_downsample': 0.8, 'hidden_layers': 2, 'kernel_initializer': 'he_normal', 'last_activation': 'linear', 'lr': 0.38, 'shapes': 'funnel'}\n"
     ]
    },
    {
     "name": "stderr",
     "output_type": "stream",
     "text": [
      "\r",
      "100%|█████████████████████████████████████████████████████████████████████████████▋| 299/300 [8:27:28<00:48, 48.57s/it]"
     ]
    },
    {
     "name": "stdout",
     "output_type": "stream",
     "text": [
      "{'activation': 'relu', 'batch_size': 10, 'dropout': 0.30000000000000004, 'epochs': 500, 'first_neuron': 20, 'grid_downsample': 0.8, 'hidden_layers': 3, 'kernel_initializer': 'he_normal', 'last_activation': 'linear', 'lr': 0.14, 'shapes': 'brick'}\n"
     ]
    },
    {
     "name": "stderr",
     "output_type": "stream",
     "text": [
      "100%|█████████████████████████████████████████████████████████████████████████████| 300/300 [8:27:39<00:00, 101.53s/it]\n"
     ]
    }
   ],
   "source": [
    "#scan is the same as model.fit!\n",
    "\n",
    "t = talos.Scan(x=X_train,y=Y_train,\n",
    "               x_val=X_val,y_val=Y_val,\n",
    "                model=stock_prediction_model,\n",
    "                params=p,\n",
    "                print_params=True,\n",
    "                experiment_name='stock_exp',\n",
    "                fraction_limit=0.1)  #look to 10% of different configurations based on parameters! (for real app use 1)"
   ]
  },
  {
   "cell_type": "code",
   "execution_count": 42,
   "metadata": {},
   "outputs": [
    {
     "data": {
      "text/html": [
       "<div>\n",
       "<style scoped>\n",
       "    .dataframe tbody tr th:only-of-type {\n",
       "        vertical-align: middle;\n",
       "    }\n",
       "\n",
       "    .dataframe tbody tr th {\n",
       "        vertical-align: top;\n",
       "    }\n",
       "\n",
       "    .dataframe thead th {\n",
       "        text-align: right;\n",
       "    }\n",
       "</style>\n",
       "<table border=\"1\" class=\"dataframe\">\n",
       "  <thead>\n",
       "    <tr style=\"text-align: right;\">\n",
       "      <th></th>\n",
       "      <th>round_epochs</th>\n",
       "      <th>loss</th>\n",
       "      <th>mean_absolute_percentage_error</th>\n",
       "      <th>val_loss</th>\n",
       "      <th>val_mean_absolute_percentage_error</th>\n",
       "      <th>activation</th>\n",
       "      <th>batch_size</th>\n",
       "      <th>dropout</th>\n",
       "      <th>epochs</th>\n",
       "      <th>first_neuron</th>\n",
       "      <th>grid_downsample</th>\n",
       "      <th>hidden_layers</th>\n",
       "      <th>kernel_initializer</th>\n",
       "      <th>last_activation</th>\n",
       "      <th>lr</th>\n",
       "      <th>shapes</th>\n",
       "    </tr>\n",
       "  </thead>\n",
       "  <tbody>\n",
       "    <tr>\n",
       "      <th>0</th>\n",
       "      <td>500</td>\n",
       "      <td>286.532064</td>\n",
       "      <td>46.568283</td>\n",
       "      <td>12474.604683</td>\n",
       "      <td>25.691498</td>\n",
       "      <td>relu</td>\n",
       "      <td>10</td>\n",
       "      <td>0.4</td>\n",
       "      <td>500</td>\n",
       "      <td>20</td>\n",
       "      <td>0.8</td>\n",
       "      <td>3</td>\n",
       "      <td>he_normal</td>\n",
       "      <td>linear</td>\n",
       "      <td>0.42</td>\n",
       "      <td>brick</td>\n",
       "    </tr>\n",
       "    <tr>\n",
       "      <th>1</th>\n",
       "      <td>500</td>\n",
       "      <td>12.263673</td>\n",
       "      <td>25.649231</td>\n",
       "      <td>12330.183594</td>\n",
       "      <td>25.722467</td>\n",
       "      <td>relu</td>\n",
       "      <td>22</td>\n",
       "      <td>0.0</td>\n",
       "      <td>500</td>\n",
       "      <td>20</td>\n",
       "      <td>0.8</td>\n",
       "      <td>2</td>\n",
       "      <td>he_normal</td>\n",
       "      <td>linear</td>\n",
       "      <td>0.14</td>\n",
       "      <td>brick</td>\n",
       "    </tr>\n",
       "    <tr>\n",
       "      <th>2</th>\n",
       "      <td>500</td>\n",
       "      <td>10.348792</td>\n",
       "      <td>23.622347</td>\n",
       "      <td>11856.778320</td>\n",
       "      <td>27.799829</td>\n",
       "      <td>relu</td>\n",
       "      <td>22</td>\n",
       "      <td>0.0</td>\n",
       "      <td>500</td>\n",
       "      <td>20</td>\n",
       "      <td>0.8</td>\n",
       "      <td>1</td>\n",
       "      <td>he_normal</td>\n",
       "      <td>linear</td>\n",
       "      <td>0.14</td>\n",
       "      <td>funnel</td>\n",
       "    </tr>\n",
       "    <tr>\n",
       "      <th>3</th>\n",
       "      <td>500</td>\n",
       "      <td>5.168297</td>\n",
       "      <td>24.661718</td>\n",
       "      <td>13928.830914</td>\n",
       "      <td>16.668598</td>\n",
       "      <td>relu</td>\n",
       "      <td>14</td>\n",
       "      <td>0.0</td>\n",
       "      <td>500</td>\n",
       "      <td>20</td>\n",
       "      <td>0.8</td>\n",
       "      <td>3</td>\n",
       "      <td>he_normal</td>\n",
       "      <td>linear</td>\n",
       "      <td>0.38</td>\n",
       "      <td>funnel</td>\n",
       "    </tr>\n",
       "    <tr>\n",
       "      <th>4</th>\n",
       "      <td>500</td>\n",
       "      <td>717.188433</td>\n",
       "      <td>63.251259</td>\n",
       "      <td>12356.857422</td>\n",
       "      <td>50.234596</td>\n",
       "      <td>relu</td>\n",
       "      <td>26</td>\n",
       "      <td>0.4</td>\n",
       "      <td>500</td>\n",
       "      <td>10</td>\n",
       "      <td>0.8</td>\n",
       "      <td>1</td>\n",
       "      <td>he_normal</td>\n",
       "      <td>linear</td>\n",
       "      <td>0.26</td>\n",
       "      <td>funnel</td>\n",
       "    </tr>\n",
       "  </tbody>\n",
       "</table>\n",
       "</div>"
      ],
      "text/plain": [
       "   round_epochs        loss  mean_absolute_percentage_error      val_loss  \\\n",
       "0           500  286.532064                       46.568283  12474.604683   \n",
       "1           500   12.263673                       25.649231  12330.183594   \n",
       "2           500   10.348792                       23.622347  11856.778320   \n",
       "3           500    5.168297                       24.661718  13928.830914   \n",
       "4           500  717.188433                       63.251259  12356.857422   \n",
       "\n",
       "   val_mean_absolute_percentage_error activation  batch_size  dropout  epochs  \\\n",
       "0                           25.691498       relu          10      0.4     500   \n",
       "1                           25.722467       relu          22      0.0     500   \n",
       "2                           27.799829       relu          22      0.0     500   \n",
       "3                           16.668598       relu          14      0.0     500   \n",
       "4                           50.234596       relu          26      0.4     500   \n",
       "\n",
       "   first_neuron  grid_downsample  hidden_layers kernel_initializer  \\\n",
       "0            20              0.8              3          he_normal   \n",
       "1            20              0.8              2          he_normal   \n",
       "2            20              0.8              1          he_normal   \n",
       "3            20              0.8              3          he_normal   \n",
       "4            10              0.8              1          he_normal   \n",
       "\n",
       "  last_activation    lr  shapes  \n",
       "0          linear  0.42   brick  \n",
       "1          linear  0.14   brick  \n",
       "2          linear  0.14  funnel  \n",
       "3          linear  0.38  funnel  \n",
       "4          linear  0.26  funnel  "
      ]
     },
     "execution_count": 42,
     "metadata": {},
     "output_type": "execute_result"
    }
   ],
   "source": [
    "# accessing the results data frame\n",
    "t.data.head()"
   ]
  },
  {
   "cell_type": "code",
   "execution_count": 43,
   "metadata": {},
   "outputs": [
    {
     "data": {
      "text/plain": [
       "experiment_name               stock_exp\n",
       "random_method          uniform_mersenne\n",
       "reduction_method                   None\n",
       "reduction_interval                   50\n",
       "reduction_window                     20\n",
       "reduction_threshold                 0.2\n",
       "reduction_metric                val_acc\n",
       "complete_time            10/30/20/07:19\n",
       "x_shape                       (156, 16)\n",
       "y_shape                          (156,)\n",
       "dtype: object"
      ]
     },
     "execution_count": 43,
     "metadata": {},
     "output_type": "execute_result"
    }
   ],
   "source": [
    "# access the summary details\n",
    "t.details"
   ]
  },
  {
   "cell_type": "code",
   "execution_count": 44,
   "metadata": {},
   "outputs": [],
   "source": [
    "# use Scan object as input\n",
    "analyze_object = talos.Analyze(t)"
   ]
  },
  {
   "cell_type": "code",
   "execution_count": 45,
   "metadata": {},
   "outputs": [
    {
     "data": {
      "text/html": [
       "<div>\n",
       "<style scoped>\n",
       "    .dataframe tbody tr th:only-of-type {\n",
       "        vertical-align: middle;\n",
       "    }\n",
       "\n",
       "    .dataframe tbody tr th {\n",
       "        vertical-align: top;\n",
       "    }\n",
       "\n",
       "    .dataframe thead th {\n",
       "        text-align: right;\n",
       "    }\n",
       "</style>\n",
       "<table border=\"1\" class=\"dataframe\">\n",
       "  <thead>\n",
       "    <tr style=\"text-align: right;\">\n",
       "      <th></th>\n",
       "      <th>round_epochs</th>\n",
       "      <th>loss</th>\n",
       "      <th>mean_absolute_percentage_error</th>\n",
       "      <th>val_loss</th>\n",
       "      <th>val_mean_absolute_percentage_error</th>\n",
       "      <th>activation</th>\n",
       "      <th>batch_size</th>\n",
       "      <th>dropout</th>\n",
       "      <th>epochs</th>\n",
       "      <th>first_neuron</th>\n",
       "      <th>grid_downsample</th>\n",
       "      <th>hidden_layers</th>\n",
       "      <th>kernel_initializer</th>\n",
       "      <th>last_activation</th>\n",
       "      <th>lr</th>\n",
       "      <th>shapes</th>\n",
       "    </tr>\n",
       "  </thead>\n",
       "  <tbody>\n",
       "    <tr>\n",
       "      <th>0</th>\n",
       "      <td>500</td>\n",
       "      <td>286.532064</td>\n",
       "      <td>46.568283</td>\n",
       "      <td>12474.604683</td>\n",
       "      <td>25.691498</td>\n",
       "      <td>relu</td>\n",
       "      <td>10</td>\n",
       "      <td>0.4</td>\n",
       "      <td>500</td>\n",
       "      <td>20</td>\n",
       "      <td>0.8</td>\n",
       "      <td>3</td>\n",
       "      <td>he_normal</td>\n",
       "      <td>linear</td>\n",
       "      <td>0.42</td>\n",
       "      <td>brick</td>\n",
       "    </tr>\n",
       "    <tr>\n",
       "      <th>1</th>\n",
       "      <td>500</td>\n",
       "      <td>12.263673</td>\n",
       "      <td>25.649231</td>\n",
       "      <td>12330.183594</td>\n",
       "      <td>25.722467</td>\n",
       "      <td>relu</td>\n",
       "      <td>22</td>\n",
       "      <td>0.0</td>\n",
       "      <td>500</td>\n",
       "      <td>20</td>\n",
       "      <td>0.8</td>\n",
       "      <td>2</td>\n",
       "      <td>he_normal</td>\n",
       "      <td>linear</td>\n",
       "      <td>0.14</td>\n",
       "      <td>brick</td>\n",
       "    </tr>\n",
       "    <tr>\n",
       "      <th>2</th>\n",
       "      <td>500</td>\n",
       "      <td>10.348792</td>\n",
       "      <td>23.622347</td>\n",
       "      <td>11856.778320</td>\n",
       "      <td>27.799829</td>\n",
       "      <td>relu</td>\n",
       "      <td>22</td>\n",
       "      <td>0.0</td>\n",
       "      <td>500</td>\n",
       "      <td>20</td>\n",
       "      <td>0.8</td>\n",
       "      <td>1</td>\n",
       "      <td>he_normal</td>\n",
       "      <td>linear</td>\n",
       "      <td>0.14</td>\n",
       "      <td>funnel</td>\n",
       "    </tr>\n",
       "    <tr>\n",
       "      <th>3</th>\n",
       "      <td>500</td>\n",
       "      <td>5.168297</td>\n",
       "      <td>24.661718</td>\n",
       "      <td>13928.830914</td>\n",
       "      <td>16.668598</td>\n",
       "      <td>relu</td>\n",
       "      <td>14</td>\n",
       "      <td>0.0</td>\n",
       "      <td>500</td>\n",
       "      <td>20</td>\n",
       "      <td>0.8</td>\n",
       "      <td>3</td>\n",
       "      <td>he_normal</td>\n",
       "      <td>linear</td>\n",
       "      <td>0.38</td>\n",
       "      <td>funnel</td>\n",
       "    </tr>\n",
       "    <tr>\n",
       "      <th>4</th>\n",
       "      <td>500</td>\n",
       "      <td>717.188433</td>\n",
       "      <td>63.251259</td>\n",
       "      <td>12356.857422</td>\n",
       "      <td>50.234596</td>\n",
       "      <td>relu</td>\n",
       "      <td>26</td>\n",
       "      <td>0.4</td>\n",
       "      <td>500</td>\n",
       "      <td>10</td>\n",
       "      <td>0.8</td>\n",
       "      <td>1</td>\n",
       "      <td>he_normal</td>\n",
       "      <td>linear</td>\n",
       "      <td>0.26</td>\n",
       "      <td>funnel</td>\n",
       "    </tr>\n",
       "  </tbody>\n",
       "</table>\n",
       "</div>"
      ],
      "text/plain": [
       "   round_epochs        loss  mean_absolute_percentage_error      val_loss  \\\n",
       "0           500  286.532064                       46.568283  12474.604683   \n",
       "1           500   12.263673                       25.649231  12330.183594   \n",
       "2           500   10.348792                       23.622347  11856.778320   \n",
       "3           500    5.168297                       24.661718  13928.830914   \n",
       "4           500  717.188433                       63.251259  12356.857422   \n",
       "\n",
       "   val_mean_absolute_percentage_error activation  batch_size  dropout  epochs  \\\n",
       "0                           25.691498       relu          10      0.4     500   \n",
       "1                           25.722467       relu          22      0.0     500   \n",
       "2                           27.799829       relu          22      0.0     500   \n",
       "3                           16.668598       relu          14      0.0     500   \n",
       "4                           50.234596       relu          26      0.4     500   \n",
       "\n",
       "   first_neuron  grid_downsample  hidden_layers kernel_initializer  \\\n",
       "0            20              0.8              3          he_normal   \n",
       "1            20              0.8              2          he_normal   \n",
       "2            20              0.8              1          he_normal   \n",
       "3            20              0.8              3          he_normal   \n",
       "4            10              0.8              1          he_normal   \n",
       "\n",
       "  last_activation    lr  shapes  \n",
       "0          linear  0.42   brick  \n",
       "1          linear  0.14   brick  \n",
       "2          linear  0.14  funnel  \n",
       "3          linear  0.38  funnel  \n",
       "4          linear  0.26  funnel  "
      ]
     },
     "execution_count": 45,
     "metadata": {},
     "output_type": "execute_result"
    }
   ],
   "source": [
    "# access the dataframe with the results\n",
    "analyze_object.data.head()"
   ]
  },
  {
   "cell_type": "code",
   "execution_count": 46,
   "metadata": {},
   "outputs": [
    {
     "data": {
      "text/plain": [
       "300"
      ]
     },
     "execution_count": 46,
     "metadata": {},
     "output_type": "execute_result"
    }
   ],
   "source": [
    "# get the number of rounds in the Scan\n",
    "analyze_object.rounds()"
   ]
  },
  {
   "cell_type": "code",
   "execution_count": 47,
   "metadata": {},
   "outputs": [
    {
     "data": {
      "text/plain": [
       "11.740041732788086"
      ]
     },
     "execution_count": 47,
     "metadata": {},
     "output_type": "execute_result"
    }
   ],
   "source": [
    "# get the highest result for any metric\n",
    "analyze_object.low('val_mean_absolute_percentage_error')"
   ]
  },
  {
   "cell_type": "code",
   "execution_count": 48,
   "metadata": {},
   "outputs": [
    {
     "data": {
      "text/html": [
       "<div>\n",
       "<style scoped>\n",
       "    .dataframe tbody tr th:only-of-type {\n",
       "        vertical-align: middle;\n",
       "    }\n",
       "\n",
       "    .dataframe tbody tr th {\n",
       "        vertical-align: top;\n",
       "    }\n",
       "\n",
       "    .dataframe thead th {\n",
       "        text-align: right;\n",
       "    }\n",
       "</style>\n",
       "<table border=\"1\" class=\"dataframe\">\n",
       "  <thead>\n",
       "    <tr style=\"text-align: right;\">\n",
       "      <th></th>\n",
       "      <th>round_epochs</th>\n",
       "      <th>loss</th>\n",
       "      <th>mean_absolute_percentage_error</th>\n",
       "      <th>val_loss</th>\n",
       "      <th>val_mean_absolute_percentage_error</th>\n",
       "      <th>activation</th>\n",
       "      <th>batch_size</th>\n",
       "      <th>dropout</th>\n",
       "      <th>epochs</th>\n",
       "      <th>first_neuron</th>\n",
       "      <th>grid_downsample</th>\n",
       "      <th>hidden_layers</th>\n",
       "      <th>kernel_initializer</th>\n",
       "      <th>last_activation</th>\n",
       "      <th>lr</th>\n",
       "      <th>shapes</th>\n",
       "    </tr>\n",
       "  </thead>\n",
       "  <tbody>\n",
       "  </tbody>\n",
       "</table>\n",
       "</div>"
      ],
      "text/plain": [
       "Empty DataFrame\n",
       "Columns: [round_epochs, loss, mean_absolute_percentage_error, val_loss, val_mean_absolute_percentage_error, activation, batch_size, dropout, epochs, first_neuron, grid_downsample, hidden_layers, kernel_initializer, last_activation, lr, shapes]\n",
       "Index: []"
      ]
     },
     "execution_count": 48,
     "metadata": {},
     "output_type": "execute_result"
    }
   ],
   "source": [
    "analyze_object.data[analyze_object.data.val_mean_absolute_percentage_error==11.134002685546875]"
   ]
  },
  {
   "cell_type": "code",
   "execution_count": 49,
   "metadata": {},
   "outputs": [
    {
     "data": {
      "text/plain": [
       "round_epochs                                500\n",
       "loss                                    107.699\n",
       "mean_absolute_percentage_error          48.4227\n",
       "val_loss                                11763.4\n",
       "val_mean_absolute_percentage_error      39.0342\n",
       "activation                                 relu\n",
       "batch_size                                   26\n",
       "dropout                                     0.1\n",
       "epochs                                      500\n",
       "first_neuron                                 20\n",
       "grid_downsample                             0.8\n",
       "hidden_layers                                 2\n",
       "kernel_initializer                    he_normal\n",
       "last_activation                          linear\n",
       "lr                                         0.38\n",
       "shapes                                   funnel\n",
       "Name: 39, dtype: object"
      ]
     },
     "execution_count": 49,
     "metadata": {},
     "output_type": "execute_result"
    }
   ],
   "source": [
    "analyze_object.data.iloc[39,:]"
   ]
  },
  {
   "cell_type": "code",
   "execution_count": 74,
   "metadata": {},
   "outputs": [
    {
     "data": {
      "image/png": "[encoded data removed]",
      "text/plain": [
       "<Figure size 720x475.2 with 1 Axes>"
      ]
     },
     "metadata": {},
     "output_type": "display_data"
    }
   ],
   "source": [
    "# a regression plot for two dimensions \n",
    "analyze_object.plot_regs('val_mean_absolute_percentage_error', 'val_loss')"
   ]
  },
  {
   "cell_type": "code",
   "execution_count": 50,
   "metadata": {},
   "outputs": [
    {
     "data": {
      "image/png": "[encoded data removed]",
      "text/plain": [
       "<Figure size 864x475.2 with 1 Axes>"
      ]
     },
     "metadata": {},
     "output_type": "display_data"
    }
   ],
   "source": [
    "# line plot\n",
    "analyze_object.plot_line('val_mean_absolute_percentage_error')"
   ]
  },
  {
   "cell_type": "code",
   "execution_count": 76,
   "metadata": {},
   "outputs": [
    {
     "data": {
      "image/png": "[encoded data removed]",
      "text/plain": [
       "<Figure size 720x720 with 2 Axes>"
      ]
     },
     "metadata": {},
     "output_type": "display_data"
    }
   ],
   "source": [
    "# heatmap correlation\n",
    "analyze_object.plot_corr('val_mean_absolute_percentage_error', ['val_mean_absolute_percentage_error', 'loss', 'val_loss','mean_absolute_percentage_error'])"
   ]
  },
  {
   "cell_type": "code",
   "execution_count": 51,
   "metadata": {},
   "outputs": [
    {
     "data": {
      "image/png": "[encoded data removed]",
      "text/plain": [
       "<Figure size 1238x864 with 10 Axes>"
      ]
     },
     "metadata": {},
     "output_type": "display_data"
    }
   ],
   "source": [
    "# a four dimensional bar grid\n",
    "analyze_object.plot_bars('batch_size', 'val_mean_absolute_percentage_error', 'first_neuron', 'lr')"
   ]
  },
  {
   "cell_type": "markdown",
   "metadata": {},
   "source": [
    "## Generating predictions by using the trained model"
   ]
  },
  {
   "cell_type": "markdown",
   "metadata": {},
   "source": [
    "'''Best model doesnt working, check later'''"
   ]
  },
  {
   "cell_type": "code",
   "execution_count": 52,
   "metadata": {},
   "outputs": [
    {
     "ename": "ValueError",
     "evalue": "('Invalid `distribution` argument: expected one of {\"normal\", \"uniform\"} but got', 'truncated_normal')",
     "output_type": "error",
     "traceback": [
      "\u001b[1;31m---------------------------------------------------------------------------\u001b[0m",
      "\u001b[1;31mValueError\u001b[0m                                Traceback (most recent call last)",
      "\u001b[1;32m<ipython-input-52-006c3154a7ba>\u001b[0m in \u001b[0;36m<module>\u001b[1;34m\u001b[0m\n\u001b[1;32m----> 1\u001b[1;33m \u001b[0mbest_model\u001b[0m \u001b[1;33m=\u001b[0m \u001b[0mt\u001b[0m\u001b[1;33m.\u001b[0m\u001b[0mbest_model\u001b[0m\u001b[1;33m(\u001b[0m\u001b[0mmetric\u001b[0m\u001b[1;33m=\u001b[0m\u001b[1;34m'val_mean_absolute_percentage_error'\u001b[0m\u001b[1;33m,\u001b[0m \u001b[0masc\u001b[0m\u001b[1;33m=\u001b[0m\u001b[1;32mTrue\u001b[0m\u001b[1;33m)\u001b[0m\u001b[1;33m\u001b[0m\u001b[1;33m\u001b[0m\u001b[0m\n\u001b[0m",
      "\u001b[1;32mc:\\users\\rahel\\appdata\\local\\programs\\python\\python36\\lib\\site-packages\\talos\\scan\\scan_addon.py\u001b[0m in \u001b[0;36mfunc_best_model\u001b[1;34m(scan_object, metric, asc)\u001b[0m\n\u001b[0;32m     12\u001b[0m     \u001b[1;32mfrom\u001b[0m \u001b[1;33m.\u001b[0m\u001b[1;33m.\u001b[0m\u001b[0mutils\u001b[0m\u001b[1;33m.\u001b[0m\u001b[0mbest_model\u001b[0m \u001b[1;32mimport\u001b[0m \u001b[0mbest_model\u001b[0m\u001b[1;33m,\u001b[0m \u001b[0mactivate_model\u001b[0m\u001b[1;33m\u001b[0m\u001b[1;33m\u001b[0m\u001b[0m\n\u001b[0;32m     13\u001b[0m     \u001b[0mmodel_no\u001b[0m \u001b[1;33m=\u001b[0m \u001b[0mbest_model\u001b[0m\u001b[1;33m(\u001b[0m\u001b[0mscan_object\u001b[0m\u001b[1;33m,\u001b[0m \u001b[0mmetric\u001b[0m\u001b[1;33m,\u001b[0m \u001b[0masc\u001b[0m\u001b[1;33m)\u001b[0m\u001b[1;33m\u001b[0m\u001b[1;33m\u001b[0m\u001b[0m\n\u001b[1;32m---> 14\u001b[1;33m     \u001b[0mout\u001b[0m \u001b[1;33m=\u001b[0m \u001b[0mactivate_model\u001b[0m\u001b[1;33m(\u001b[0m\u001b[0mscan_object\u001b[0m\u001b[1;33m,\u001b[0m \u001b[0mmodel_no\u001b[0m\u001b[1;33m)\u001b[0m\u001b[1;33m\u001b[0m\u001b[1;33m\u001b[0m\u001b[0m\n\u001b[0m\u001b[0;32m     15\u001b[0m \u001b[1;33m\u001b[0m\u001b[0m\n\u001b[0;32m     16\u001b[0m     \u001b[1;32mreturn\u001b[0m \u001b[0mout\u001b[0m\u001b[1;33m\u001b[0m\u001b[1;33m\u001b[0m\u001b[0m\n",
      "\u001b[1;32mc:\\users\\rahel\\appdata\\local\\programs\\python\\python36\\lib\\site-packages\\talos\\utils\\best_model.py\u001b[0m in \u001b[0;36mactivate_model\u001b[1;34m(self, model_id)\u001b[0m\n\u001b[0;32m     18\u001b[0m     \u001b[1;34m'''Loads the model from the json that is stored in the Scan object'''\u001b[0m\u001b[1;33m\u001b[0m\u001b[1;33m\u001b[0m\u001b[0m\n\u001b[0;32m     19\u001b[0m \u001b[1;33m\u001b[0m\u001b[0m\n\u001b[1;32m---> 20\u001b[1;33m     \u001b[0mmodel\u001b[0m \u001b[1;33m=\u001b[0m \u001b[0mmodel_from_json\u001b[0m\u001b[1;33m(\u001b[0m\u001b[0mself\u001b[0m\u001b[1;33m.\u001b[0m\u001b[0msaved_models\u001b[0m\u001b[1;33m[\u001b[0m\u001b[0mmodel_id\u001b[0m\u001b[1;33m]\u001b[0m\u001b[1;33m)\u001b[0m\u001b[1;33m\u001b[0m\u001b[1;33m\u001b[0m\u001b[0m\n\u001b[0m\u001b[0;32m     21\u001b[0m     \u001b[0mmodel\u001b[0m\u001b[1;33m.\u001b[0m\u001b[0mset_weights\u001b[0m\u001b[1;33m(\u001b[0m\u001b[0mself\u001b[0m\u001b[1;33m.\u001b[0m\u001b[0msaved_weights\u001b[0m\u001b[1;33m[\u001b[0m\u001b[0mmodel_id\u001b[0m\u001b[1;33m]\u001b[0m\u001b[1;33m)\u001b[0m\u001b[1;33m\u001b[0m\u001b[1;33m\u001b[0m\u001b[0m\n\u001b[0;32m     22\u001b[0m \u001b[1;33m\u001b[0m\u001b[0m\n",
      "\u001b[1;32mc:\\users\\rahel\\appdata\\local\\programs\\python\\python36\\lib\\site-packages\\keras\\engine\\saving.py\u001b[0m in \u001b[0;36mmodel_from_json\u001b[1;34m(json_string, custom_objects)\u001b[0m\n\u001b[0;32m    659\u001b[0m     \u001b[0mconfig\u001b[0m \u001b[1;33m=\u001b[0m \u001b[0mjson\u001b[0m\u001b[1;33m.\u001b[0m\u001b[0mloads\u001b[0m\u001b[1;33m(\u001b[0m\u001b[0mjson_string\u001b[0m\u001b[1;33m)\u001b[0m\u001b[1;33m\u001b[0m\u001b[1;33m\u001b[0m\u001b[0m\n\u001b[0;32m    660\u001b[0m     \u001b[1;32mfrom\u001b[0m \u001b[1;33m.\u001b[0m\u001b[1;33m.\u001b[0m\u001b[0mlayers\u001b[0m \u001b[1;32mimport\u001b[0m \u001b[0mdeserialize\u001b[0m\u001b[1;33m\u001b[0m\u001b[1;33m\u001b[0m\u001b[0m\n\u001b[1;32m--> 661\u001b[1;33m     \u001b[1;32mreturn\u001b[0m \u001b[0mdeserialize\u001b[0m\u001b[1;33m(\u001b[0m\u001b[0mconfig\u001b[0m\u001b[1;33m,\u001b[0m \u001b[0mcustom_objects\u001b[0m\u001b[1;33m=\u001b[0m\u001b[0mcustom_objects\u001b[0m\u001b[1;33m)\u001b[0m\u001b[1;33m\u001b[0m\u001b[1;33m\u001b[0m\u001b[0m\n\u001b[0m\u001b[0;32m    662\u001b[0m \u001b[1;33m\u001b[0m\u001b[0m\n\u001b[0;32m    663\u001b[0m \u001b[1;33m\u001b[0m\u001b[0m\n",
      "\u001b[1;32mc:\\users\\rahel\\appdata\\local\\programs\\python\\python36\\lib\\site-packages\\keras\\layers\\__init__.py\u001b[0m in \u001b[0;36mdeserialize\u001b[1;34m(config, custom_objects)\u001b[0m\n\u001b[0;32m    166\u001b[0m                                     \u001b[0mmodule_objects\u001b[0m\u001b[1;33m=\u001b[0m\u001b[0mglobs\u001b[0m\u001b[1;33m,\u001b[0m\u001b[1;33m\u001b[0m\u001b[1;33m\u001b[0m\u001b[0m\n\u001b[0;32m    167\u001b[0m                                     \u001b[0mcustom_objects\u001b[0m\u001b[1;33m=\u001b[0m\u001b[0mcustom_objects\u001b[0m\u001b[1;33m,\u001b[0m\u001b[1;33m\u001b[0m\u001b[1;33m\u001b[0m\u001b[0m\n\u001b[1;32m--> 168\u001b[1;33m                                     printable_module_name='layer')\n\u001b[0m",
      "\u001b[1;32mc:\\users\\rahel\\appdata\\local\\programs\\python\\python36\\lib\\site-packages\\keras\\utils\\generic_utils.py\u001b[0m in \u001b[0;36mdeserialize_keras_object\u001b[1;34m(identifier, module_objects, custom_objects, printable_module_name)\u001b[0m\n\u001b[0;32m    145\u001b[0m                     \u001b[0mconfig\u001b[0m\u001b[1;33m[\u001b[0m\u001b[1;34m'config'\u001b[0m\u001b[1;33m]\u001b[0m\u001b[1;33m,\u001b[0m\u001b[1;33m\u001b[0m\u001b[1;33m\u001b[0m\u001b[0m\n\u001b[0;32m    146\u001b[0m                     custom_objects=dict(list(_GLOBAL_CUSTOM_OBJECTS.items()) +\n\u001b[1;32m--> 147\u001b[1;33m                                         list(custom_objects.items())))\n\u001b[0m\u001b[0;32m    148\u001b[0m             \u001b[1;32mwith\u001b[0m \u001b[0mCustomObjectScope\u001b[0m\u001b[1;33m(\u001b[0m\u001b[0mcustom_objects\u001b[0m\u001b[1;33m)\u001b[0m\u001b[1;33m:\u001b[0m\u001b[1;33m\u001b[0m\u001b[1;33m\u001b[0m\u001b[0m\n\u001b[0;32m    149\u001b[0m                 \u001b[1;32mreturn\u001b[0m \u001b[0mcls\u001b[0m\u001b[1;33m.\u001b[0m\u001b[0mfrom_config\u001b[0m\u001b[1;33m(\u001b[0m\u001b[0mconfig\u001b[0m\u001b[1;33m[\u001b[0m\u001b[1;34m'config'\u001b[0m\u001b[1;33m]\u001b[0m\u001b[1;33m)\u001b[0m\u001b[1;33m\u001b[0m\u001b[1;33m\u001b[0m\u001b[0m\n",
      "\u001b[1;32mc:\\users\\rahel\\appdata\\local\\programs\\python\\python36\\lib\\site-packages\\keras\\engine\\sequential.py\u001b[0m in \u001b[0;36mfrom_config\u001b[1;34m(cls, config, custom_objects)\u001b[0m\n\u001b[0;32m    299\u001b[0m         \u001b[1;32mfor\u001b[0m \u001b[0mconf\u001b[0m \u001b[1;32min\u001b[0m \u001b[0mlayer_configs\u001b[0m\u001b[1;33m:\u001b[0m\u001b[1;33m\u001b[0m\u001b[1;33m\u001b[0m\u001b[0m\n\u001b[0;32m    300\u001b[0m             layer = layer_module.deserialize(conf,\n\u001b[1;32m--> 301\u001b[1;33m                                              custom_objects=custom_objects)\n\u001b[0m\u001b[0;32m    302\u001b[0m             \u001b[0mmodel\u001b[0m\u001b[1;33m.\u001b[0m\u001b[0madd\u001b[0m\u001b[1;33m(\u001b[0m\u001b[0mlayer\u001b[0m\u001b[1;33m)\u001b[0m\u001b[1;33m\u001b[0m\u001b[1;33m\u001b[0m\u001b[0m\n\u001b[0;32m    303\u001b[0m         \u001b[1;32mif\u001b[0m \u001b[1;32mnot\u001b[0m \u001b[0mmodel\u001b[0m\u001b[1;33m.\u001b[0m\u001b[0minputs\u001b[0m \u001b[1;32mand\u001b[0m \u001b[0mbuild_input_shape\u001b[0m\u001b[1;33m:\u001b[0m\u001b[1;33m\u001b[0m\u001b[1;33m\u001b[0m\u001b[0m\n",
      "\u001b[1;32mc:\\users\\rahel\\appdata\\local\\programs\\python\\python36\\lib\\site-packages\\keras\\layers\\__init__.py\u001b[0m in \u001b[0;36mdeserialize\u001b[1;34m(config, custom_objects)\u001b[0m\n\u001b[0;32m    166\u001b[0m                                     \u001b[0mmodule_objects\u001b[0m\u001b[1;33m=\u001b[0m\u001b[0mglobs\u001b[0m\u001b[1;33m,\u001b[0m\u001b[1;33m\u001b[0m\u001b[1;33m\u001b[0m\u001b[0m\n\u001b[0;32m    167\u001b[0m                                     \u001b[0mcustom_objects\u001b[0m\u001b[1;33m=\u001b[0m\u001b[0mcustom_objects\u001b[0m\u001b[1;33m,\u001b[0m\u001b[1;33m\u001b[0m\u001b[1;33m\u001b[0m\u001b[0m\n\u001b[1;32m--> 168\u001b[1;33m                                     printable_module_name='layer')\n\u001b[0m",
      "\u001b[1;32mc:\\users\\rahel\\appdata\\local\\programs\\python\\python36\\lib\\site-packages\\keras\\utils\\generic_utils.py\u001b[0m in \u001b[0;36mdeserialize_keras_object\u001b[1;34m(identifier, module_objects, custom_objects, printable_module_name)\u001b[0m\n\u001b[0;32m    147\u001b[0m                                         list(custom_objects.items())))\n\u001b[0;32m    148\u001b[0m             \u001b[1;32mwith\u001b[0m \u001b[0mCustomObjectScope\u001b[0m\u001b[1;33m(\u001b[0m\u001b[0mcustom_objects\u001b[0m\u001b[1;33m)\u001b[0m\u001b[1;33m:\u001b[0m\u001b[1;33m\u001b[0m\u001b[1;33m\u001b[0m\u001b[0m\n\u001b[1;32m--> 149\u001b[1;33m                 \u001b[1;32mreturn\u001b[0m \u001b[0mcls\u001b[0m\u001b[1;33m.\u001b[0m\u001b[0mfrom_config\u001b[0m\u001b[1;33m(\u001b[0m\u001b[0mconfig\u001b[0m\u001b[1;33m[\u001b[0m\u001b[1;34m'config'\u001b[0m\u001b[1;33m]\u001b[0m\u001b[1;33m)\u001b[0m\u001b[1;33m\u001b[0m\u001b[1;33m\u001b[0m\u001b[0m\n\u001b[0m\u001b[0;32m    150\u001b[0m         \u001b[1;32melse\u001b[0m\u001b[1;33m:\u001b[0m\u001b[1;33m\u001b[0m\u001b[1;33m\u001b[0m\u001b[0m\n\u001b[0;32m    151\u001b[0m             \u001b[1;31m# Then `cls` may be a function returning a class.\u001b[0m\u001b[1;33m\u001b[0m\u001b[1;33m\u001b[0m\u001b[1;33m\u001b[0m\u001b[0m\n",
      "\u001b[1;32mc:\\users\\rahel\\appdata\\local\\programs\\python\\python36\\lib\\site-packages\\keras\\engine\\base_layer.py\u001b[0m in \u001b[0;36mfrom_config\u001b[1;34m(cls, config)\u001b[0m\n\u001b[0;32m   1177\u001b[0m             \u001b[0mA\u001b[0m \u001b[0mlayer\u001b[0m \u001b[0minstance\u001b[0m\u001b[1;33m.\u001b[0m\u001b[1;33m\u001b[0m\u001b[1;33m\u001b[0m\u001b[0m\n\u001b[0;32m   1178\u001b[0m         \"\"\"\n\u001b[1;32m-> 1179\u001b[1;33m         \u001b[1;32mreturn\u001b[0m \u001b[0mcls\u001b[0m\u001b[1;33m(\u001b[0m\u001b[1;33m**\u001b[0m\u001b[0mconfig\u001b[0m\u001b[1;33m)\u001b[0m\u001b[1;33m\u001b[0m\u001b[1;33m\u001b[0m\u001b[0m\n\u001b[0m\u001b[0;32m   1180\u001b[0m \u001b[1;33m\u001b[0m\u001b[0m\n\u001b[0;32m   1181\u001b[0m     \u001b[1;32mdef\u001b[0m \u001b[0mcount_params\u001b[0m\u001b[1;33m(\u001b[0m\u001b[0mself\u001b[0m\u001b[1;33m)\u001b[0m\u001b[1;33m:\u001b[0m\u001b[1;33m\u001b[0m\u001b[1;33m\u001b[0m\u001b[0m\n",
      "\u001b[1;32mc:\\users\\rahel\\appdata\\local\\programs\\python\\python36\\lib\\site-packages\\keras\\legacy\\interfaces.py\u001b[0m in \u001b[0;36mwrapper\u001b[1;34m(*args, **kwargs)\u001b[0m\n\u001b[0;32m     89\u001b[0m                 warnings.warn('Update your `' + object_name + '` call to the ' +\n\u001b[0;32m     90\u001b[0m                               'Keras 2 API: ' + signature, stacklevel=2)\n\u001b[1;32m---> 91\u001b[1;33m             \u001b[1;32mreturn\u001b[0m \u001b[0mfunc\u001b[0m\u001b[1;33m(\u001b[0m\u001b[1;33m*\u001b[0m\u001b[0margs\u001b[0m\u001b[1;33m,\u001b[0m \u001b[1;33m**\u001b[0m\u001b[0mkwargs\u001b[0m\u001b[1;33m)\u001b[0m\u001b[1;33m\u001b[0m\u001b[1;33m\u001b[0m\u001b[0m\n\u001b[0m\u001b[0;32m     92\u001b[0m         \u001b[0mwrapper\u001b[0m\u001b[1;33m.\u001b[0m\u001b[0m_original_function\u001b[0m \u001b[1;33m=\u001b[0m \u001b[0mfunc\u001b[0m\u001b[1;33m\u001b[0m\u001b[1;33m\u001b[0m\u001b[0m\n\u001b[0;32m     93\u001b[0m         \u001b[1;32mreturn\u001b[0m \u001b[0mwrapper\u001b[0m\u001b[1;33m\u001b[0m\u001b[1;33m\u001b[0m\u001b[0m\n",
      "\u001b[1;32mc:\\users\\rahel\\appdata\\local\\programs\\python\\python36\\lib\\site-packages\\keras\\layers\\core.py\u001b[0m in \u001b[0;36m__init__\u001b[1;34m(self, units, activation, use_bias, kernel_initializer, bias_initializer, kernel_regularizer, bias_regularizer, activity_regularizer, kernel_constraint, bias_constraint, **kwargs)\u001b[0m\n\u001b[0;32m    875\u001b[0m         \u001b[0mself\u001b[0m\u001b[1;33m.\u001b[0m\u001b[0mactivation\u001b[0m \u001b[1;33m=\u001b[0m \u001b[0mactivations\u001b[0m\u001b[1;33m.\u001b[0m\u001b[0mget\u001b[0m\u001b[1;33m(\u001b[0m\u001b[0mactivation\u001b[0m\u001b[1;33m)\u001b[0m\u001b[1;33m\u001b[0m\u001b[1;33m\u001b[0m\u001b[0m\n\u001b[0;32m    876\u001b[0m         \u001b[0mself\u001b[0m\u001b[1;33m.\u001b[0m\u001b[0muse_bias\u001b[0m \u001b[1;33m=\u001b[0m \u001b[0muse_bias\u001b[0m\u001b[1;33m\u001b[0m\u001b[1;33m\u001b[0m\u001b[0m\n\u001b[1;32m--> 877\u001b[1;33m         \u001b[0mself\u001b[0m\u001b[1;33m.\u001b[0m\u001b[0mkernel_initializer\u001b[0m \u001b[1;33m=\u001b[0m \u001b[0minitializers\u001b[0m\u001b[1;33m.\u001b[0m\u001b[0mget\u001b[0m\u001b[1;33m(\u001b[0m\u001b[0mkernel_initializer\u001b[0m\u001b[1;33m)\u001b[0m\u001b[1;33m\u001b[0m\u001b[1;33m\u001b[0m\u001b[0m\n\u001b[0m\u001b[0;32m    878\u001b[0m         \u001b[0mself\u001b[0m\u001b[1;33m.\u001b[0m\u001b[0mbias_initializer\u001b[0m \u001b[1;33m=\u001b[0m \u001b[0minitializers\u001b[0m\u001b[1;33m.\u001b[0m\u001b[0mget\u001b[0m\u001b[1;33m(\u001b[0m\u001b[0mbias_initializer\u001b[0m\u001b[1;33m)\u001b[0m\u001b[1;33m\u001b[0m\u001b[1;33m\u001b[0m\u001b[0m\n\u001b[0;32m    879\u001b[0m         \u001b[0mself\u001b[0m\u001b[1;33m.\u001b[0m\u001b[0mkernel_regularizer\u001b[0m \u001b[1;33m=\u001b[0m \u001b[0mregularizers\u001b[0m\u001b[1;33m.\u001b[0m\u001b[0mget\u001b[0m\u001b[1;33m(\u001b[0m\u001b[0mkernel_regularizer\u001b[0m\u001b[1;33m)\u001b[0m\u001b[1;33m\u001b[0m\u001b[1;33m\u001b[0m\u001b[0m\n",
      "\u001b[1;32mc:\\users\\rahel\\appdata\\local\\programs\\python\\python36\\lib\\site-packages\\keras\\initializers.py\u001b[0m in \u001b[0;36mget\u001b[1;34m(identifier)\u001b[0m\n\u001b[0;32m    513\u001b[0m \u001b[1;32mdef\u001b[0m \u001b[0mget\u001b[0m\u001b[1;33m(\u001b[0m\u001b[0midentifier\u001b[0m\u001b[1;33m)\u001b[0m\u001b[1;33m:\u001b[0m\u001b[1;33m\u001b[0m\u001b[1;33m\u001b[0m\u001b[0m\n\u001b[0;32m    514\u001b[0m     \u001b[1;32mif\u001b[0m \u001b[0misinstance\u001b[0m\u001b[1;33m(\u001b[0m\u001b[0midentifier\u001b[0m\u001b[1;33m,\u001b[0m \u001b[0mdict\u001b[0m\u001b[1;33m)\u001b[0m\u001b[1;33m:\u001b[0m\u001b[1;33m\u001b[0m\u001b[1;33m\u001b[0m\u001b[0m\n\u001b[1;32m--> 515\u001b[1;33m         \u001b[1;32mreturn\u001b[0m \u001b[0mdeserialize\u001b[0m\u001b[1;33m(\u001b[0m\u001b[0midentifier\u001b[0m\u001b[1;33m)\u001b[0m\u001b[1;33m\u001b[0m\u001b[1;33m\u001b[0m\u001b[0m\n\u001b[0m\u001b[0;32m    516\u001b[0m     \u001b[1;32melif\u001b[0m \u001b[0misinstance\u001b[0m\u001b[1;33m(\u001b[0m\u001b[0midentifier\u001b[0m\u001b[1;33m,\u001b[0m \u001b[0msix\u001b[0m\u001b[1;33m.\u001b[0m\u001b[0mstring_types\u001b[0m\u001b[1;33m)\u001b[0m\u001b[1;33m:\u001b[0m\u001b[1;33m\u001b[0m\u001b[1;33m\u001b[0m\u001b[0m\n\u001b[0;32m    517\u001b[0m         \u001b[0mconfig\u001b[0m \u001b[1;33m=\u001b[0m \u001b[1;33m{\u001b[0m\u001b[1;34m'class_name'\u001b[0m\u001b[1;33m:\u001b[0m \u001b[0mstr\u001b[0m\u001b[1;33m(\u001b[0m\u001b[0midentifier\u001b[0m\u001b[1;33m)\u001b[0m\u001b[1;33m,\u001b[0m \u001b[1;34m'config'\u001b[0m\u001b[1;33m:\u001b[0m \u001b[1;33m{\u001b[0m\u001b[1;33m}\u001b[0m\u001b[1;33m}\u001b[0m\u001b[1;33m\u001b[0m\u001b[1;33m\u001b[0m\u001b[0m\n",
      "\u001b[1;32mc:\\users\\rahel\\appdata\\local\\programs\\python\\python36\\lib\\site-packages\\keras\\initializers.py\u001b[0m in \u001b[0;36mdeserialize\u001b[1;34m(config, custom_objects)\u001b[0m\n\u001b[0;32m    508\u001b[0m                                     \u001b[0mmodule_objects\u001b[0m\u001b[1;33m=\u001b[0m\u001b[0mglobals\u001b[0m\u001b[1;33m(\u001b[0m\u001b[1;33m)\u001b[0m\u001b[1;33m,\u001b[0m\u001b[1;33m\u001b[0m\u001b[1;33m\u001b[0m\u001b[0m\n\u001b[0;32m    509\u001b[0m                                     \u001b[0mcustom_objects\u001b[0m\u001b[1;33m=\u001b[0m\u001b[0mcustom_objects\u001b[0m\u001b[1;33m,\u001b[0m\u001b[1;33m\u001b[0m\u001b[1;33m\u001b[0m\u001b[0m\n\u001b[1;32m--> 510\u001b[1;33m                                     printable_module_name='initializer')\n\u001b[0m\u001b[0;32m    511\u001b[0m \u001b[1;33m\u001b[0m\u001b[0m\n\u001b[0;32m    512\u001b[0m \u001b[1;33m\u001b[0m\u001b[0m\n",
      "\u001b[1;32mc:\\users\\rahel\\appdata\\local\\programs\\python\\python36\\lib\\site-packages\\keras\\utils\\generic_utils.py\u001b[0m in \u001b[0;36mdeserialize_keras_object\u001b[1;34m(identifier, module_objects, custom_objects, printable_module_name)\u001b[0m\n\u001b[0;32m    147\u001b[0m                                         list(custom_objects.items())))\n\u001b[0;32m    148\u001b[0m             \u001b[1;32mwith\u001b[0m \u001b[0mCustomObjectScope\u001b[0m\u001b[1;33m(\u001b[0m\u001b[0mcustom_objects\u001b[0m\u001b[1;33m)\u001b[0m\u001b[1;33m:\u001b[0m\u001b[1;33m\u001b[0m\u001b[1;33m\u001b[0m\u001b[0m\n\u001b[1;32m--> 149\u001b[1;33m                 \u001b[1;32mreturn\u001b[0m \u001b[0mcls\u001b[0m\u001b[1;33m.\u001b[0m\u001b[0mfrom_config\u001b[0m\u001b[1;33m(\u001b[0m\u001b[0mconfig\u001b[0m\u001b[1;33m[\u001b[0m\u001b[1;34m'config'\u001b[0m\u001b[1;33m]\u001b[0m\u001b[1;33m)\u001b[0m\u001b[1;33m\u001b[0m\u001b[1;33m\u001b[0m\u001b[0m\n\u001b[0m\u001b[0;32m    150\u001b[0m         \u001b[1;32melse\u001b[0m\u001b[1;33m:\u001b[0m\u001b[1;33m\u001b[0m\u001b[1;33m\u001b[0m\u001b[0m\n\u001b[0;32m    151\u001b[0m             \u001b[1;31m# Then `cls` may be a function returning a class.\u001b[0m\u001b[1;33m\u001b[0m\u001b[1;33m\u001b[0m\u001b[1;33m\u001b[0m\u001b[0m\n",
      "\u001b[1;32mc:\\users\\rahel\\appdata\\local\\programs\\python\\python36\\lib\\site-packages\\keras\\initializers.py\u001b[0m in \u001b[0;36mfrom_config\u001b[1;34m(cls, config)\u001b[0m\n\u001b[0;32m     28\u001b[0m             \u001b[1;31m# may contain an unused `dtype` argument.\u001b[0m\u001b[1;33m\u001b[0m\u001b[1;33m\u001b[0m\u001b[1;33m\u001b[0m\u001b[0m\n\u001b[0;32m     29\u001b[0m             \u001b[0mconfig\u001b[0m\u001b[1;33m.\u001b[0m\u001b[0mpop\u001b[0m\u001b[1;33m(\u001b[0m\u001b[1;34m'dtype'\u001b[0m\u001b[1;33m)\u001b[0m\u001b[1;33m\u001b[0m\u001b[1;33m\u001b[0m\u001b[0m\n\u001b[1;32m---> 30\u001b[1;33m         \u001b[1;32mreturn\u001b[0m \u001b[0mcls\u001b[0m\u001b[1;33m(\u001b[0m\u001b[1;33m**\u001b[0m\u001b[0mconfig\u001b[0m\u001b[1;33m)\u001b[0m\u001b[1;33m\u001b[0m\u001b[1;33m\u001b[0m\u001b[0m\n\u001b[0m\u001b[0;32m     31\u001b[0m \u001b[1;33m\u001b[0m\u001b[0m\n\u001b[0;32m     32\u001b[0m \u001b[1;33m\u001b[0m\u001b[0m\n",
      "\u001b[1;32mc:\\users\\rahel\\appdata\\local\\programs\\python\\python36\\lib\\site-packages\\keras\\initializers.py\u001b[0m in \u001b[0;36m__init__\u001b[1;34m(self, scale, mode, distribution, seed)\u001b[0m\n\u001b[0;32m    202\u001b[0m             raise ValueError('Invalid `distribution` argument: '\n\u001b[0;32m    203\u001b[0m                              \u001b[1;34m'expected one of {\"normal\", \"uniform\"} '\u001b[0m\u001b[1;33m\u001b[0m\u001b[1;33m\u001b[0m\u001b[0m\n\u001b[1;32m--> 204\u001b[1;33m                              'but got', distribution)\n\u001b[0m\u001b[0;32m    205\u001b[0m         \u001b[0mself\u001b[0m\u001b[1;33m.\u001b[0m\u001b[0mscale\u001b[0m \u001b[1;33m=\u001b[0m \u001b[0mscale\u001b[0m\u001b[1;33m\u001b[0m\u001b[1;33m\u001b[0m\u001b[0m\n\u001b[0;32m    206\u001b[0m         \u001b[0mself\u001b[0m\u001b[1;33m.\u001b[0m\u001b[0mmode\u001b[0m \u001b[1;33m=\u001b[0m \u001b[0mmode\u001b[0m\u001b[1;33m\u001b[0m\u001b[1;33m\u001b[0m\u001b[0m\n",
      "\u001b[1;31mValueError\u001b[0m: ('Invalid `distribution` argument: expected one of {\"normal\", \"uniform\"} but got', 'truncated_normal')"
     ]
    }
   ],
   "source": [
    "best_model = t.best_model(metric='val_mean_absolute_percentage_error', asc=True)"
   ]
  },
  {
   "cell_type": "code",
   "execution_count": 100,
   "metadata": {},
   "outputs": [
    {
     "name": "stdout",
     "output_type": "stream",
     "text": [
      "Model: \"sequential\"\n",
      "_________________________________________________________________\n",
      "Layer (type)                 Output Shape              Param #   \n",
      "=================================================================\n",
      "dense (Dense)                (None, 10)                170       \n",
      "_________________________________________________________________\n",
      "dropout (Dropout)            (None, 10)                0         \n",
      "_________________________________________________________________\n",
      "dense_1 (Dense)              (None, 6)                 66        \n",
      "_________________________________________________________________\n",
      "dropout_1 (Dropout)          (None, 6)                 0         \n",
      "_________________________________________________________________\n",
      "dense_2 (Dense)              (None, 2)                 14        \n",
      "_________________________________________________________________\n",
      "dropout_2 (Dropout)          (None, 2)                 0         \n",
      "_________________________________________________________________\n",
      "dense_3 (Dense)              (None, 1)                 3         \n",
      "=================================================================\n",
      "Total params: 253\n",
      "Trainable params: 253\n",
      "Non-trainable params: 0\n",
      "_________________________________________________________________\n"
     ]
    }
   ],
   "source": [
    "best_model.summary()"
   ]
  },
  {
   "cell_type": "code",
   "execution_count": 80,
   "metadata": {},
   "outputs": [],
   "source": [
    "import numpy as np\n",
    "from sklearn.utils import check_array\n",
    "\n",
    "def mean_absolute_percentage_error(y_true, y_pred): \n",
    "    \"\"\"\n",
    "    measures mape score\n",
    "    \"\"\"\n",
    "\n",
    "#     y_true, y_pred = check_array(y_true, y_pred)\n",
    "    return np.mean(np.abs((y_true - y_pred) / y_true)) * 100"
   ]
  },
  {
   "cell_type": "code",
   "execution_count": 114,
   "metadata": {},
   "outputs": [
    {
     "data": {
      "text/plain": [
       "17.185139097920306"
      ]
     },
     "execution_count": 114,
     "metadata": {},
     "output_type": "execute_result"
    }
   ],
   "source": [
    "mean_absolute_percentage_error(Y_test, best_model.predict(X_test)[:,-1])"
   ]
  }
 ],
 "metadata": {
  "kernelspec": {
   "display_name": "Python 3",
   "language": "python",
   "name": "python3"
  },
  "language_info": {
   "codemirror_mode": {
    "name": "ipython",
    "version": 3
   },
   "file_extension": ".py",
   "mimetype": "text/x-python",
   "name": "python",
   "nbconvert_exporter": "python",
   "pygments_lexer": "ipython3",
   "version": "3.6.8"
  }
 },
 "nbformat": 4,
 "nbformat_minor": 2
}
